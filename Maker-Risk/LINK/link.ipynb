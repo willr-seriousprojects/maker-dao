{
 "cells": [
  {
   "cell_type": "markdown",
   "metadata": {},
   "source": [
    "# Experimentations (not serious)"
   ]
  },
  {
   "cell_type": "code",
   "execution_count": null,
   "metadata": {
    "tags": [
     "outputPrepend"
    ]
   },
   "outputs": [],
   "source": [
    "import requests\n",
    "\n",
    "def main():\n",
    "    resp = requests.get(\"https://api.cryptowat.ch/markets/kraken/btcusd/orderbook\")\n",
    "    orderbook = resp.json()['result']\n",
    "    print (orderbook)\n",
    "\n",
    "if __name__ == '__main__':\n",
    "    main()"
   ]
  },
  {
   "cell_type": "code",
   "execution_count": null,
   "metadata": {
    "tags": []
   },
   "outputs": [],
   "source": [
    "pd.DataFrame()"
   ]
  },
  {
   "cell_type": "code",
   "execution_count": null,
   "metadata": {
    "tags": []
   },
   "outputs": [],
   "source": [
    "import requests\n",
    "import pandas as pd\n",
    "\n",
    "def main():\n",
    "    resp = requests.get(\"https://api.coingecko.com/api/v3/coins/link/market_chart/range?vs_currency=usd&from=1575158400&to=1575244800\")\n",
    "    data = resp.json()\n",
    "    df = pd.DataFrame(data, columns=['Time','Open', 'High','Low','Close'])\n",
    "    df['Time'] = pd.to_datetime(df['Time'],infer_datetime_format=True)\n",
    "    df.set_index('Time', inplace=True)\n",
    "    return df\n",
    "\n",
    "if __name__ == '__main__':\n",
    "    main()\n"
   ]
  },
  {
   "cell_type": "code",
   "execution_count": null,
   "metadata": {},
   "outputs": [],
   "source": [
    "main()"
   ]
  },
  {
   "cell_type": "code",
   "execution_count": null,
   "metadata": {},
   "outputs": [],
   "source": [
    "resp = requests.get(\"https://api.coingecko.com/api/v3/coins/link/market_chart/range?vs_currency=usd&from=1575158400&to=1575244800\")\n",
    "data = resp.json()['prices'][0]\n",
    "df = pd.DataFrame(data)\n",
    "df"
   ]
  },
  {
   "cell_type": "code",
   "execution_count": null,
   "metadata": {},
   "outputs": [],
   "source": [
    "import json\n",
    "\n",
    "url = 'https://api.cryptowat.ch/markets/binance/btceur/ohlc'\n",
    "resp = requests.get(url)\n",
    "resp.raise_for_status()\n",
    "data = json.loads(resp.content)\n",
    "data\n",
    "#df = pd.DataFrame(data['result']['3600'])\n",
    "#df.head()\n"
   ]
  },
  {
   "cell_type": "code",
   "execution_count": null,
   "metadata": {},
   "outputs": [],
   "source": [
    "import requests\n",
    "from pandas.io.json import json_normalize\n",
    "import pandas as pd \n",
    "\n",
    "url = \"https://api.coingecko.com/api/v3/coins/link/market_chart/range?vs_currency=usd&from=1575158400&to=1575244800\"\n",
    "#url = 'https://api.coingecko.com/api/v3/coins/link/market_chart?vs_currency=usd&days=200'\n",
    "resp = requests.get(url)\n",
    "resp.json()"
   ]
  },
  {
   "cell_type": "code",
   "execution_count": null,
   "metadata": {},
   "outputs": [],
   "source": [
    "https://api.coingecko.com/api/v3/coins/link/ohlc?vs_currency=usd&days=1"
   ]
  },
  {
   "cell_type": "code",
   "execution_count": null,
   "metadata": {
    "tags": []
   },
   "outputs": [],
   "source": [
    "url = \"https://api.coingecko.com/api/v3/coins/list\"\n",
    "    # get data from endpoint and load json content\n",
    "resp = requests.get(url)\n",
    "    # parse json into py dict\n",
    "resp.json()\n",
    "#resp = json.loads(r.content)\n",
    "\n"
   ]
  },
  {
   "cell_type": "code",
   "execution_count": null,
   "metadata": {},
   "outputs": [],
   "source": [
    "    url = \"https://api.coingecko.com/api/v3/coins/link/market_chart/range?vs_currency=usd&from=1532995200&to=1596067200\"\n",
    "    # get data from endpoint and load json content\n",
    "    resp = requests.get(url)\n",
    "    resp.raise_for_status()\n",
    "    # parse json into py dict\n",
    "    resp = json.loads(resp.content)\n",
    "    type(resp)"
   ]
  },
  {
   "cell_type": "code",
   "execution_count": null,
   "metadata": {
    "tags": []
   },
   "outputs": [],
   "source": [
    "import requests\n",
    "\n",
    "def main():\n",
    "    resp = requests.get(\"https://api.cryptowat.ch/markets/kraken/btcusd/ohlc\")\n",
    "    orderbook = resp.json()['result']\n",
    "    print (orderbook)\n",
    "\n",
    "if __name__ == '__main__':\n",
    "    main()\n"
   ]
  },
  {
   "cell_type": "code",
   "execution_count": null,
   "metadata": {},
   "outputs": [],
   "source": [
    "df['prices'].plot(figsize=(15,7))"
   ]
  },
  {
   "cell_type": "code",
   "execution_count": null,
   "metadata": {
    "tags": []
   },
   "outputs": [],
   "source": [
    "two_years = (pd.Timestamp.now() - pd.offsets.Day(730))\n",
    "print(two_years)\n",
    "print(pd.Timestamp.now())"
   ]
  },
  {
   "cell_type": "code",
   "execution_count": null,
   "metadata": {
    "tags": []
   },
   "outputs": [],
   "source": [
    "before = '2018-07-31'\n",
    "after = '2020-07-30'\n",
    "\n",
    "print(str(int(pd.Timestamp(before).timestamp())))\n",
    "print(str(int(pd.Timestamp(after).timestamp())))"
   ]
  },
  {
   "cell_type": "code",
   "execution_count": null,
   "metadata": {},
   "outputs": [],
   "source": [
    "main().head()"
   ]
  },
  {
   "cell_type": "code",
   "execution_count": null,
   "metadata": {},
   "outputs": [],
   "source": [
    "df['prices'].head()"
   ]
  },
  {
   "cell_type": "code",
   "execution_count": null,
   "metadata": {},
   "outputs": [],
   "source": [
    "def get_historic_price(symbol, exchange='bitfinex', after='2018-09-01'):\n",
    "    url = 'https://api.cryptowat.ch/markets/{exchange}/{symbol}usd/ohlc'.format(\n",
    "        symbol=symbol, exchange=exchange)\n",
    "    resp = requests.get(url, params={\n",
    "        'periods': '3600',\n",
    "        'after': str(int(pd.Timestamp(after).timestamp()))\n",
    "    })\n",
    "    resp.raise_for_status()\n",
    "    data = resp.json()\n",
    "    df = pd.DataFrame(data['result']['3600'], columns=[\n",
    "        'CloseTime', 'OpenPrice', 'HighPrice', 'LowPrice', 'ClosePrice', 'Volume', 'NA'\n",
    "    ])\n",
    "    df['CloseTime'] = pd.to_datetime(df['CloseTime'], unit='s')\n",
    "    df.set_index('CloseTime', inplace=True)\n",
    "    return df"
   ]
  },
  {
   "cell_type": "code",
   "execution_count": null,
   "metadata": {},
   "outputs": [],
   "source": [
    "# https://defiexplore.com/api/all-vauls\n",
    "# ALL VAULTS HISTORICAL DATA (NEEDS WORK)\n",
    "\n",
    "import requests\n",
    "import pandas as pd\n",
    "\n",
    "def get_liquidations():\n",
    "    url = \"https://defiexplore.com/api/all-vaults\"\n",
    "        # get data from endpoint and load json content\n",
    "    resp = requests.get(url)\n",
    "    # resp.raise_for_status()\n",
    "        # parse json into py dict\n",
    "        # this is a list\n",
    "    resp = json.loads(resp.content)\n",
    "    # # df expects list\n",
    "    df = pd.DataFrame(resp)\n",
    "    df.set_index('timestamp', inplace=True)\n",
    "    return df"
   ]
  },
  {
   "cell_type": "code",
   "execution_count": null,
   "metadata": {},
   "outputs": [],
   "source": [
    "https://defiexplore.com/api/cdps/10775"
   ]
  },
  {
   "cell_type": "code",
   "execution_count": 85,
   "metadata": {},
   "outputs": [],
   "source": [
    "# Coingecko\n",
    "# Get full list of coins\n",
    "\n",
    "def get_coinlist():\n",
    "    url = \"https://api.coinpaprika.com/v1/coins/link-chainlink/exchanges\"\n",
    "        # get data from endpoint and load json content\n",
    "    resp = requests.get(url)\n",
    "    resp.raise_for_status()\n",
    "        # parse json into py dict\n",
    "        # this is a list\n",
    "    resp = json.loads(resp.content)\n",
    "    df = json_normalize(resp)\n",
    "    # df expects list\n",
    "    return df"
   ]
  },
  {
   "cell_type": "code",
   "execution_count": 86,
   "metadata": {},
   "outputs": [
    {
     "output_type": "execute_result",
     "data": {
      "text/plain": "    adjusted_volume_24h_share  \\\n0                   34.813800   \n1                   18.963875   \n2                    6.220566   \n3                    5.631119   \n4                    4.180749   \n5                    3.988561   \n6                    3.764400   \n7                    3.564035   \n8                    2.812382   \n9                    2.689671   \n10                   2.294344   \n11                   1.289259   \n12                   1.114269   \n13                   1.100252   \n14                   1.086329   \n15                   0.837968   \n16                   0.827193   \n17                   0.820889   \n18                   0.608572   \n19                   0.573843   \n20                   0.283516   \n21                   0.267335   \n22                   0.260778   \n23                   0.256197   \n24                   0.236500   \n25                   0.167807   \n26                   0.150021   \n27                   0.136259   \n28                   0.120555   \n29                   0.112375   \n..                        ...   \n37                   0.043357   \n38                   0.041492   \n39                   0.035835   \n40                   0.027430   \n41                   0.026249   \n42                   0.025922   \n43                   0.024705   \n44                   0.023974   \n45                   0.017921   \n46                   0.012869   \n47                   0.012562   \n48                   0.012407   \n49                   0.009953   \n50                   0.006891   \n51                   0.006280   \n52                   0.005498   \n53                   0.005125   \n54                   0.004290   \n55                   0.003127   \n56                   0.002693   \n57                   0.002060   \n58                   0.001289   \n59                   0.001041   \n60                   0.001019   \n61                   0.000867   \n62                   0.000298   \n63                   0.000055   \n64                   0.000040   \n65                   0.000007   \n66                   0.000005   \n\n                                                fiats                  id  \\\n0                                                  []              omgfin   \n1   [{'name': 'Euro', 'symbol': 'EUR'}, {'name': '...             binance   \n2   [{'name': 'US Dollars', 'symbol': 'USD'}, {'na...        coinbase-pro   \n3                                                  []               huobi   \n4                                                  []                bkex   \n5                                                  []                okex   \n6                                                  []               bibox   \n7                                                  []                abit   \n8                                                  []              vindax   \n9   [{'name': 'US Dollars', 'symbol': 'USD'}, {'na...          sistemkoin   \n10                                                 []            coinbene   \n11                                                 []              coinex   \n12                                                 []              bilaxy   \n13  [{'name': 'US Dollars', 'symbol': 'USD'}, {'na...              kraken   \n14                                                 []              bitrue   \n15                                                 []            rightbtc   \n16                                                 []                 exx   \n17     [{'name': 'South Korea Won', 'symbol': 'KRW'}]             bithumb   \n18                                                 []             latoken   \n19                                                 []              bitmax   \n20          [{'name': 'US Dollars', 'symbol': 'USD'}]          binance-us   \n21          [{'name': 'US Dollars', 'symbol': 'USD'}]             oceanex   \n22        [{'name': 'Turkish Lira', 'symbol': 'TRY'}]              paribu   \n23                                                 []                 mxc   \n24                                                 []            bitforex   \n25                                                 []  cryptocom-exchange   \n26                                                 []                hubi   \n27                [{'name': 'Euro', 'symbol': 'EUR'}]             folgory   \n28     [{'name': 'South Korea Won', 'symbol': 'KRW'}]     probit-exchange   \n29                                                 []            resfinex   \n..                                                ...                 ...   \n37                                                 []              fatbtc   \n38                                                 []             atomars   \n39  [{'name': 'US Dollars', 'symbol': 'USD'}, {'na...            bitasset   \n40        [{'name': 'Turkish Lira', 'symbol': 'TRY'}]           vebitcoin   \n41                                                 []              gateio   \n42           [{'name': 'Thai Baht', 'symbol': 'THB'}]              bitkub   \n43                                                 []              pionex   \n44                                                 []              hitbtc   \n45                                                 []             coin163   \n46                [{'name': 'Euro', 'symbol': 'EUR'}]           litebiteu   \n47                                                 []               catex   \n48         [{'name': 'Brazil Real', 'symbol': 'BRL'}]             novadax   \n49   [{'name': 'Indonesian Rupiah', 'symbol': 'IDR'}]             indodax   \n50                                                 []                coss   \n51                                                 []            tokenlon   \n52                [{'name': 'Euro', 'symbol': 'EUR'}]            eterbase   \n53                [{'name': 'Euro', 'symbol': 'EUR'}]            bitladon   \n54        [{'name': 'Polish Zloty', 'symbol': 'PLN'}]      kanga-exchange   \n55                                                 []              wazirx   \n56                                                 []             uniswap   \n57                                                 []       kyber-network   \n58  [{'name': 'US Dollars', 'symbol': 'USD'}, {'na...              bitbay   \n59                                                 []                idex   \n60                                                 []             veridex   \n61  [{'name': 'US Dollars', 'symbol': 'USD'}, {'na...            livecoin   \n62                                                 []                nash   \n63                [{'name': 'Euro', 'symbol': 'EUR'}]             zebitex   \n64                                                 []             coinall   \n65                                                 []                ddex   \n66                                                 []           bitfineon   \n\n                   name  \n0                Omgfin  \n1               Binance  \n2          Coinbase Pro  \n3                 Huobi  \n4                  Bkex  \n5                  OKEx  \n6                 Bibox  \n7                  ABIT  \n8                VinDAX  \n9            Sistemkoin  \n10             Coinbene  \n11               CoinEx  \n12               Bilaxy  \n13               Kraken  \n14               Bitrue  \n15             RightBTC  \n16                  EXX  \n17              Bithumb  \n18              LATOKEN  \n19               BitMax  \n20           Binance US  \n21              OceanEx  \n22               Paribu  \n23                  MXC  \n24             BitForex  \n25  Crypto.com Exchange  \n26                 Hubi  \n27              Folgory  \n28      ProBit Exchange  \n29             Resfinex  \n..                  ...  \n37               Fatbtc  \n38              ATOMARS  \n39             BitAsset  \n40            Vebitcoin  \n41              Gate.io  \n42               Bitkub  \n43               Pionex  \n44               HitBTC  \n45              Coin163  \n46           LiteBit.eu  \n47                Catex  \n48              NovaDAX  \n49              Indodax  \n50                 COSS  \n51             Tokenlon  \n52             Eterbase  \n53             Bitladon  \n54                Kanga  \n55               WazirX  \n56              Uniswap  \n57        Kyber Network  \n58               BitBay  \n59                 IDEX  \n60              Veridex  \n61             Livecoin  \n62                 Nash  \n63              ZEBITEX  \n64              Coinall  \n65                 DDEX  \n66            Bitfineon  \n\n[67 rows x 4 columns]",
      "text/html": "<div>\n<style scoped>\n    .dataframe tbody tr th:only-of-type {\n        vertical-align: middle;\n    }\n\n    .dataframe tbody tr th {\n        vertical-align: top;\n    }\n\n    .dataframe thead th {\n        text-align: right;\n    }\n</style>\n<table border=\"1\" class=\"dataframe\">\n  <thead>\n    <tr style=\"text-align: right;\">\n      <th></th>\n      <th>adjusted_volume_24h_share</th>\n      <th>fiats</th>\n      <th>id</th>\n      <th>name</th>\n    </tr>\n  </thead>\n  <tbody>\n    <tr>\n      <th>0</th>\n      <td>34.813800</td>\n      <td>[]</td>\n      <td>omgfin</td>\n      <td>Omgfin</td>\n    </tr>\n    <tr>\n      <th>1</th>\n      <td>18.963875</td>\n      <td>[{'name': 'Euro', 'symbol': 'EUR'}, {'name': '...</td>\n      <td>binance</td>\n      <td>Binance</td>\n    </tr>\n    <tr>\n      <th>2</th>\n      <td>6.220566</td>\n      <td>[{'name': 'US Dollars', 'symbol': 'USD'}, {'na...</td>\n      <td>coinbase-pro</td>\n      <td>Coinbase Pro</td>\n    </tr>\n    <tr>\n      <th>3</th>\n      <td>5.631119</td>\n      <td>[]</td>\n      <td>huobi</td>\n      <td>Huobi</td>\n    </tr>\n    <tr>\n      <th>4</th>\n      <td>4.180749</td>\n      <td>[]</td>\n      <td>bkex</td>\n      <td>Bkex</td>\n    </tr>\n    <tr>\n      <th>5</th>\n      <td>3.988561</td>\n      <td>[]</td>\n      <td>okex</td>\n      <td>OKEx</td>\n    </tr>\n    <tr>\n      <th>6</th>\n      <td>3.764400</td>\n      <td>[]</td>\n      <td>bibox</td>\n      <td>Bibox</td>\n    </tr>\n    <tr>\n      <th>7</th>\n      <td>3.564035</td>\n      <td>[]</td>\n      <td>abit</td>\n      <td>ABIT</td>\n    </tr>\n    <tr>\n      <th>8</th>\n      <td>2.812382</td>\n      <td>[]</td>\n      <td>vindax</td>\n      <td>VinDAX</td>\n    </tr>\n    <tr>\n      <th>9</th>\n      <td>2.689671</td>\n      <td>[{'name': 'US Dollars', 'symbol': 'USD'}, {'na...</td>\n      <td>sistemkoin</td>\n      <td>Sistemkoin</td>\n    </tr>\n    <tr>\n      <th>10</th>\n      <td>2.294344</td>\n      <td>[]</td>\n      <td>coinbene</td>\n      <td>Coinbene</td>\n    </tr>\n    <tr>\n      <th>11</th>\n      <td>1.289259</td>\n      <td>[]</td>\n      <td>coinex</td>\n      <td>CoinEx</td>\n    </tr>\n    <tr>\n      <th>12</th>\n      <td>1.114269</td>\n      <td>[]</td>\n      <td>bilaxy</td>\n      <td>Bilaxy</td>\n    </tr>\n    <tr>\n      <th>13</th>\n      <td>1.100252</td>\n      <td>[{'name': 'US Dollars', 'symbol': 'USD'}, {'na...</td>\n      <td>kraken</td>\n      <td>Kraken</td>\n    </tr>\n    <tr>\n      <th>14</th>\n      <td>1.086329</td>\n      <td>[]</td>\n      <td>bitrue</td>\n      <td>Bitrue</td>\n    </tr>\n    <tr>\n      <th>15</th>\n      <td>0.837968</td>\n      <td>[]</td>\n      <td>rightbtc</td>\n      <td>RightBTC</td>\n    </tr>\n    <tr>\n      <th>16</th>\n      <td>0.827193</td>\n      <td>[]</td>\n      <td>exx</td>\n      <td>EXX</td>\n    </tr>\n    <tr>\n      <th>17</th>\n      <td>0.820889</td>\n      <td>[{'name': 'South Korea Won', 'symbol': 'KRW'}]</td>\n      <td>bithumb</td>\n      <td>Bithumb</td>\n    </tr>\n    <tr>\n      <th>18</th>\n      <td>0.608572</td>\n      <td>[]</td>\n      <td>latoken</td>\n      <td>LATOKEN</td>\n    </tr>\n    <tr>\n      <th>19</th>\n      <td>0.573843</td>\n      <td>[]</td>\n      <td>bitmax</td>\n      <td>BitMax</td>\n    </tr>\n    <tr>\n      <th>20</th>\n      <td>0.283516</td>\n      <td>[{'name': 'US Dollars', 'symbol': 'USD'}]</td>\n      <td>binance-us</td>\n      <td>Binance US</td>\n    </tr>\n    <tr>\n      <th>21</th>\n      <td>0.267335</td>\n      <td>[{'name': 'US Dollars', 'symbol': 'USD'}]</td>\n      <td>oceanex</td>\n      <td>OceanEx</td>\n    </tr>\n    <tr>\n      <th>22</th>\n      <td>0.260778</td>\n      <td>[{'name': 'Turkish Lira', 'symbol': 'TRY'}]</td>\n      <td>paribu</td>\n      <td>Paribu</td>\n    </tr>\n    <tr>\n      <th>23</th>\n      <td>0.256197</td>\n      <td>[]</td>\n      <td>mxc</td>\n      <td>MXC</td>\n    </tr>\n    <tr>\n      <th>24</th>\n      <td>0.236500</td>\n      <td>[]</td>\n      <td>bitforex</td>\n      <td>BitForex</td>\n    </tr>\n    <tr>\n      <th>25</th>\n      <td>0.167807</td>\n      <td>[]</td>\n      <td>cryptocom-exchange</td>\n      <td>Crypto.com Exchange</td>\n    </tr>\n    <tr>\n      <th>26</th>\n      <td>0.150021</td>\n      <td>[]</td>\n      <td>hubi</td>\n      <td>Hubi</td>\n    </tr>\n    <tr>\n      <th>27</th>\n      <td>0.136259</td>\n      <td>[{'name': 'Euro', 'symbol': 'EUR'}]</td>\n      <td>folgory</td>\n      <td>Folgory</td>\n    </tr>\n    <tr>\n      <th>28</th>\n      <td>0.120555</td>\n      <td>[{'name': 'South Korea Won', 'symbol': 'KRW'}]</td>\n      <td>probit-exchange</td>\n      <td>ProBit Exchange</td>\n    </tr>\n    <tr>\n      <th>29</th>\n      <td>0.112375</td>\n      <td>[]</td>\n      <td>resfinex</td>\n      <td>Resfinex</td>\n    </tr>\n    <tr>\n      <th>...</th>\n      <td>...</td>\n      <td>...</td>\n      <td>...</td>\n      <td>...</td>\n    </tr>\n    <tr>\n      <th>37</th>\n      <td>0.043357</td>\n      <td>[]</td>\n      <td>fatbtc</td>\n      <td>Fatbtc</td>\n    </tr>\n    <tr>\n      <th>38</th>\n      <td>0.041492</td>\n      <td>[]</td>\n      <td>atomars</td>\n      <td>ATOMARS</td>\n    </tr>\n    <tr>\n      <th>39</th>\n      <td>0.035835</td>\n      <td>[{'name': 'US Dollars', 'symbol': 'USD'}, {'na...</td>\n      <td>bitasset</td>\n      <td>BitAsset</td>\n    </tr>\n    <tr>\n      <th>40</th>\n      <td>0.027430</td>\n      <td>[{'name': 'Turkish Lira', 'symbol': 'TRY'}]</td>\n      <td>vebitcoin</td>\n      <td>Vebitcoin</td>\n    </tr>\n    <tr>\n      <th>41</th>\n      <td>0.026249</td>\n      <td>[]</td>\n      <td>gateio</td>\n      <td>Gate.io</td>\n    </tr>\n    <tr>\n      <th>42</th>\n      <td>0.025922</td>\n      <td>[{'name': 'Thai Baht', 'symbol': 'THB'}]</td>\n      <td>bitkub</td>\n      <td>Bitkub</td>\n    </tr>\n    <tr>\n      <th>43</th>\n      <td>0.024705</td>\n      <td>[]</td>\n      <td>pionex</td>\n      <td>Pionex</td>\n    </tr>\n    <tr>\n      <th>44</th>\n      <td>0.023974</td>\n      <td>[]</td>\n      <td>hitbtc</td>\n      <td>HitBTC</td>\n    </tr>\n    <tr>\n      <th>45</th>\n      <td>0.017921</td>\n      <td>[]</td>\n      <td>coin163</td>\n      <td>Coin163</td>\n    </tr>\n    <tr>\n      <th>46</th>\n      <td>0.012869</td>\n      <td>[{'name': 'Euro', 'symbol': 'EUR'}]</td>\n      <td>litebiteu</td>\n      <td>LiteBit.eu</td>\n    </tr>\n    <tr>\n      <th>47</th>\n      <td>0.012562</td>\n      <td>[]</td>\n      <td>catex</td>\n      <td>Catex</td>\n    </tr>\n    <tr>\n      <th>48</th>\n      <td>0.012407</td>\n      <td>[{'name': 'Brazil Real', 'symbol': 'BRL'}]</td>\n      <td>novadax</td>\n      <td>NovaDAX</td>\n    </tr>\n    <tr>\n      <th>49</th>\n      <td>0.009953</td>\n      <td>[{'name': 'Indonesian Rupiah', 'symbol': 'IDR'}]</td>\n      <td>indodax</td>\n      <td>Indodax</td>\n    </tr>\n    <tr>\n      <th>50</th>\n      <td>0.006891</td>\n      <td>[]</td>\n      <td>coss</td>\n      <td>COSS</td>\n    </tr>\n    <tr>\n      <th>51</th>\n      <td>0.006280</td>\n      <td>[]</td>\n      <td>tokenlon</td>\n      <td>Tokenlon</td>\n    </tr>\n    <tr>\n      <th>52</th>\n      <td>0.005498</td>\n      <td>[{'name': 'Euro', 'symbol': 'EUR'}]</td>\n      <td>eterbase</td>\n      <td>Eterbase</td>\n    </tr>\n    <tr>\n      <th>53</th>\n      <td>0.005125</td>\n      <td>[{'name': 'Euro', 'symbol': 'EUR'}]</td>\n      <td>bitladon</td>\n      <td>Bitladon</td>\n    </tr>\n    <tr>\n      <th>54</th>\n      <td>0.004290</td>\n      <td>[{'name': 'Polish Zloty', 'symbol': 'PLN'}]</td>\n      <td>kanga-exchange</td>\n      <td>Kanga</td>\n    </tr>\n    <tr>\n      <th>55</th>\n      <td>0.003127</td>\n      <td>[]</td>\n      <td>wazirx</td>\n      <td>WazirX</td>\n    </tr>\n    <tr>\n      <th>56</th>\n      <td>0.002693</td>\n      <td>[]</td>\n      <td>uniswap</td>\n      <td>Uniswap</td>\n    </tr>\n    <tr>\n      <th>57</th>\n      <td>0.002060</td>\n      <td>[]</td>\n      <td>kyber-network</td>\n      <td>Kyber Network</td>\n    </tr>\n    <tr>\n      <th>58</th>\n      <td>0.001289</td>\n      <td>[{'name': 'US Dollars', 'symbol': 'USD'}, {'na...</td>\n      <td>bitbay</td>\n      <td>BitBay</td>\n    </tr>\n    <tr>\n      <th>59</th>\n      <td>0.001041</td>\n      <td>[]</td>\n      <td>idex</td>\n      <td>IDEX</td>\n    </tr>\n    <tr>\n      <th>60</th>\n      <td>0.001019</td>\n      <td>[]</td>\n      <td>veridex</td>\n      <td>Veridex</td>\n    </tr>\n    <tr>\n      <th>61</th>\n      <td>0.000867</td>\n      <td>[{'name': 'US Dollars', 'symbol': 'USD'}, {'na...</td>\n      <td>livecoin</td>\n      <td>Livecoin</td>\n    </tr>\n    <tr>\n      <th>62</th>\n      <td>0.000298</td>\n      <td>[]</td>\n      <td>nash</td>\n      <td>Nash</td>\n    </tr>\n    <tr>\n      <th>63</th>\n      <td>0.000055</td>\n      <td>[{'name': 'Euro', 'symbol': 'EUR'}]</td>\n      <td>zebitex</td>\n      <td>ZEBITEX</td>\n    </tr>\n    <tr>\n      <th>64</th>\n      <td>0.000040</td>\n      <td>[]</td>\n      <td>coinall</td>\n      <td>Coinall</td>\n    </tr>\n    <tr>\n      <th>65</th>\n      <td>0.000007</td>\n      <td>[]</td>\n      <td>ddex</td>\n      <td>DDEX</td>\n    </tr>\n    <tr>\n      <th>66</th>\n      <td>0.000005</td>\n      <td>[]</td>\n      <td>bitfineon</td>\n      <td>Bitfineon</td>\n    </tr>\n  </tbody>\n</table>\n<p>67 rows × 4 columns</p>\n</div>"
     },
     "metadata": {},
     "execution_count": 86
    }
   ],
   "source": [
    "get_coinlist()\n"
   ]
  },
  {
   "cell_type": "code",
   "execution_count": null,
   "metadata": {},
   "outputs": [],
   "source": [
    "import requests\n",
    "from pandas.io.json import json_normalize\n",
    "import pandas as pd \n",
    "import json\n",
    "\n",
    "#def get_markets_bycoin(asset,):\n",
    "\n",
    "url = \"https://api.coinpaprika.com/v1/coins/link-chainlink/markets\"\n",
    "        # get data from endpoint and load json content\n",
    "resp = requests.get(url)\n",
    "resp.raise_for_status()\n",
    "        # parse json into py dict\n",
    "        # this is a list\n",
    "resp = json.loads(resp.content)\n",
    "#type(resp)\n",
    "\n",
    "# creates df and flattens json\n",
    "df = json_normalize(resp)\n",
    "#df.head()\n",
    "df = df[['exchange_name','pair','quotes.USD.volume_24h','quote_currency_name']]"
   ]
  },
  {
   "cell_type": "code",
   "execution_count": null,
   "metadata": {},
   "outputs": [],
   "source": [
    "type(df)"
   ]
  },
  {
   "cell_type": "code",
   "execution_count": null,
   "metadata": {},
   "outputs": [],
   "source": [
    "# SUPER IMPORTANT\n",
    "# CODE TO flattening JSON objects of arbitrary structure\n",
    "# WORKS FOR ONE COLUMN, NOT ALL DATAFRAME\n",
    "def flatten_json(y):\n",
    "    out = {}\n",
    "\n",
    "    def flatten(x, name=''):\n",
    "        if type(x) is dict:\n",
    "            for a in x:\n",
    "                flatten(x[a], name + a + '_')\n",
    "        elif type(x) is list:\n",
    "            i = 0\n",
    "            for a in x:\n",
    "                flatten(a, name + str(i) + '_')\n",
    "                i += 1\n",
    "        else:\n",
    "            out[name[:-1]] = x\n",
    "\n",
    "    flatten(y)\n",
    "    return out"
   ]
  },
  {
   "cell_type": "code",
   "execution_count": null,
   "metadata": {},
   "outputs": [],
   "source": [
    "# THEN USE THIS \n",
    "# ONLY FOR ONE COLUMN\n",
    "flat = flatten_json(sample_object2)\n",
    "json_normalize(flat)"
   ]
  },
  {
   "cell_type": "markdown",
   "metadata": {},
   "source": [
    "---\n",
    "\n",
    "# FUNCTIONS TO FETCH DATA\n",
    "\n",
    "data sources:\n",
    "- santiment\n",
    "- coingecko\n",
    "- defiexplore\n"
   ]
  },
  {
   "cell_type": "markdown",
   "metadata": {},
   "source": [
    "## Santiment\n",
    "\n",
    "Used for: \n",
    "\n",
    "- token information \n",
    "- token distribution \n",
    "- daily asset pricing metrics\n",
    "- hourly asset pricing metrics \n",
    "- on-chain volumes \n",
    "- exchange volumes \n",
    "- exchange balances \n",
    "- on-chain trading activity\n",
    "\n",
    "Source data dictionaries and glossary:\n",
    "- https://github.com/santiment/sanpy#available-metrics\n",
    "- https://academy.santiment.net/sansheets/functions/\n",
    "- https://academy.santiment.net/glossary/ \n",
    "- https://academy.santiment.net/metrics/\n",
    "\n",
    "Data types: \n",
    "- time series: https://academy.santiment.net/metrics/details/data-type#timeseries-data\n",
    "- histogram/categorical: https://academy.santiment.net/metrics/details/data-type#histogram-data \n",
    "\n",
    "---\n",
    "\n",
    "search data and metadata"
   ]
  },
  {
   "cell_type": "code",
   "execution_count": null,
   "metadata": {},
   "outputs": [],
   "source": [
    "import san\n",
    "san.ApiConfig.api_key = 'xauqgnp4uvwk4u7c_a5x7oyk6zj5bcyzn'"
   ]
  },
  {
   "cell_type": "code",
   "execution_count": null,
   "metadata": {},
   "outputs": [],
   "source": [
    "# SEARCH AVAILABLE DATA FUNC\n",
    "\n",
    "# search for available metric in api, given slug (aka token) and search term\n",
    "def search_metric(slug,search_term):\n",
    "    metric_list = []\n",
    "    santiment = san.available_metrics_for_slug(slug)\n",
    "    for i in santiment:\n",
    "        if search_term in i:\n",
    "            metric_list.append(i)\n",
    "    return metric_list"
   ]
  },
  {
   "cell_type": "code",
   "execution_count": null,
   "metadata": {},
   "outputs": [],
   "source": [
    "# select data point to fetch\n",
    "# Running as single func (project, term)\n",
    "search_metric('chainlink','hold')"
   ]
  },
  {
   "cell_type": "code",
   "execution_count": null,
   "metadata": {},
   "outputs": [],
   "source": [
    "# check availability of data since\n",
    "san.available_metric_for_slug_since(metric='active_deposits', slug='chainlink')"
   ]
  },
  {
   "cell_type": "code",
   "execution_count": null,
   "metadata": {},
   "outputs": [],
   "source": [
    "# check query complexity\n",
    "def get_metric_complexity(request, from_date='2018-07-31', to_date='2020-07-30',interval='1h'):\n",
    "    df = san.metric_complexity(\n",
    "        f'{request}',\n",
    "        from_date=from_date,\n",
    "        to_date=to_date,\n",
    "        interval=interval\n",
    "    )\n",
    "    print(f'complexity score: {df}')\n",
    "    return f'Too complex for free plan: {df > 20000}' "
   ]
  },
  {
   "cell_type": "markdown",
   "metadata": {},
   "source": [
    "Time series data"
   ]
  },
  {
   "cell_type": "code",
   "execution_count": null,
   "metadata": {},
   "outputs": [],
   "source": [
    "# IMPORTANT TIME SERIES FUNCTION\n",
    "# interval - The interval of the returned data - an integer followed by one of: s, m, h, d or w\n",
    "\n",
    "# This allows to create a ts df for a given metric\n",
    "def get_metric_timeseries(request, asset,from_date='2018-07-31', to_date='2020-07-30',interval='1d'):\n",
    "    df = san.get(\n",
    "        f'{request}/{asset}',\n",
    "        from_date=from_date,\n",
    "        to_date=to_date,\n",
    "        interval=interval\n",
    "    )\n",
    "    # if no col named value, renaming ignored\n",
    "    df = df.rename(columns={'value':f'{asset}_{request}'})\n",
    "    return df"
   ]
  },
  {
   "cell_type": "code",
   "execution_count": null,
   "metadata": {},
   "outputs": [],
   "source": [
    "# IMPORTANT TIME SERIES DF JOIN FUNCTION\n",
    "\n",
    "# This can be improved to include more df (*args)\n",
    "# This allows to .join timeseries dfs on common index (datetime)\n",
    "def aggregate_timeseries_df(df,df1,df2):\n",
    "    # join df on indexes (datetime)\n",
    "    df = df.join(df1).join(df2)\n",
    "    return df"
   ]
  },
  {
   "cell_type": "code",
   "execution_count": null,
   "metadata": {},
   "outputs": [],
   "source": [
    "# IMPORTANT DIRECT CALL TO SANPY API\n",
    "\n",
    "san.get('ohlcv/chainlink').head()\n",
    "# ALTERNATIVE BUT SAME\n",
    "get_metric_timeseries('ohlcv','chainlink').head()"
   ]
  },
  {
   "cell_type": "code",
   "execution_count": null,
   "metadata": {},
   "outputs": [],
   "source": [
    "df = get_metric_timeseries('supply_on_exchanges','chainlink')\n",
    "df.dtypes"
   ]
  },
  {
   "cell_type": "code",
   "execution_count": null,
   "metadata": {},
   "outputs": [],
   "source": [
    "df.shape"
   ]
  },
  {
   "cell_type": "code",
   "execution_count": null,
   "metadata": {},
   "outputs": [],
   "source": [
    "df['chainlink_supply_on_exchanges'] = df['chainlink_supply_on_exchanges'].astype('int')\n",
    "df['chainlink_supply_on_exchanges'].plot(figsize=(15,7))"
   ]
  },
  {
   "cell_type": "markdown",
   "metadata": {},
   "source": [
    "non time series or histogram data"
   ]
  },
  {
   "cell_type": "code",
   "execution_count": null,
   "metadata": {},
   "outputs": [],
   "source": [
    "# FUNCTION FOR NON TIMESERIES REQUESTS\n",
    "\n",
    "def get_nonts_metric(request='projects',requestgroup='all'):\n",
    "    df = san.get(\n",
    "        f'{request}/{requestgroup}'\n",
    "    )\n",
    "    return df"
   ]
  },
  {
   "cell_type": "code",
   "execution_count": null,
   "metadata": {},
   "outputs": [],
   "source": [
    "# FUNCTION TO AGG NON TIMESERIES\n",
    "# This can be improved to include more df (*args)\n",
    "# This allows to .join timeseries dfs on common index (key)\n",
    "def aggregate_nonts_df(df,df1):\n",
    "    # join df on indexes (key column)\n",
    "    # add suffix if duplicate col names\n",
    "    df = df.join(df1, lsuffix='left')\n",
    "    return df"
   ]
  },
  {
   "cell_type": "markdown",
   "metadata": {},
   "source": [
    "## Cryptocompare\n",
    "\n",
    "Used for: \n",
    "\n",
    "\n",
    "\n",
    "## Coinpaprika \n",
    "\n",
    "Used for: \n",
    "- "
   ]
  },
  {
   "cell_type": "code",
   "execution_count": null,
   "metadata": {},
   "outputs": [],
   "source": []
  },
  {
   "cell_type": "markdown",
   "metadata": {},
   "source": [
    "## Coingecko\n",
    "\n",
    "Used for: \n",
    "\n",
    "token:\n",
    "- ohlcv daily of coins\n",
    "\n",
    "exchanges/markets:\n",
    "- list of all exchanges\n",
    "- list of exchanges/markets coin is listed\n",
    "- exchange volume by ticker or coin\n",
    "- exchange total volume historical\n"
   ]
  },
  {
   "cell_type": "code",
   "execution_count": null,
   "metadata": {
    "tags": []
   },
   "outputs": [],
   "source": [
    "# Coingecko\n",
    "# Get full list of coins\n",
    "\n",
    "def get_coinlist():\n",
    "    url = \"https://api.coingecko.com/api/v3/coins/list\"\n",
    "        # get data from endpoint and load json content\n",
    "    resp = requests.get(url)\n",
    "    resp.raise_for_status()\n",
    "        # parse json into py dict\n",
    "        # this is a list\n",
    "    resp = json.loads(resp.content)\n",
    "    # df expects list\n",
    "    df = pd.DataFrame(resp)\n",
    "    return df"
   ]
  },
  {
   "cell_type": "code",
   "execution_count": null,
   "metadata": {
    "tags": []
   },
   "outputs": [],
   "source": [
    "# THIS IS GOOD!\n",
    "# TRANSFORM INTO FUNCTION!\n",
    "# COINGECKO API\n",
    "# No need for apikeys \n",
    "\n",
    "import requests\n",
    "from pandas.io.json import json_normalize\n",
    "import pandas as pd \n",
    "import json\n",
    "\n",
    "def get_hist_price(symbol, currency='usd', start='1532995200', end='1596067200'):\n",
    "\n",
    "    # api url formatted\n",
    "    # symbol are {id} \n",
    "    url = \"https://api.coingecko.com/api/v3/coins/{symbol}/market_chart/range?vs_currency={currency}&from={start}&to={end}\".format(symbol=symbol,currency=currency,start=start, end=end)\n",
    "    # get data from endpoint and load json content\n",
    "    resp = requests.get(url)\n",
    "    resp.raise_for_status()\n",
    "    # parse json into py dict\n",
    "    resp = json.loads(resp.content)\n",
    "\n",
    "    # set df from json dict\n",
    "    # use list comprehension to iterate over dict\n",
    "    df = pd.DataFrame({\n",
    "        'dates':[x[0] for x in resp['prices']],\n",
    "        'prices': [x[1] for x in resp['prices']],\n",
    "        'market_caps': [x[1] for x in resp['market_caps']],\n",
    "        'total_volumes': [x[1] for x in resp['total_volumes']]\n",
    "    })\n",
    "    # change date format\n",
    "    df['dates'] = pd.to_datetime(df['dates'], unit='ms')\n",
    "    # set df index to date\n",
    "    df.set_index('dates', inplace=True)\n",
    "    return df"
   ]
  },
  {
   "cell_type": "code",
   "execution_count": null,
   "metadata": {},
   "outputs": [],
   "source": [
    "# df = get_coinlist()\n",
    "# df.loc[df['id'] == 'ethereum']"
   ]
  },
  {
   "cell_type": "code",
   "execution_count": null,
   "metadata": {
    "tags": []
   },
   "outputs": [],
   "source": [
    "# note: bitcoin not btc, ethereum not eth\n",
    "df = get_hist_price('ethereum')"
   ]
  },
  {
   "cell_type": "code",
   "execution_count": null,
   "metadata": {
    "tags": []
   },
   "outputs": [],
   "source": [
    "df.shape"
   ]
  },
  {
   "cell_type": "code",
   "execution_count": null,
   "metadata": {},
   "outputs": [],
   "source": []
  },
  {
   "cell_type": "code",
   "execution_count": null,
   "metadata": {},
   "outputs": [],
   "source": []
  },
  {
   "cell_type": "markdown",
   "metadata": {},
   "source": [
    "## Defiexplore\n",
    "\n",
    "Used for: \n",
    "- liquidations data\n",
    "- auctions data\n",
    "- vault history data\n",
    "\n",
    "Sources:\n",
    "- liquidations: https://defiexplore.com/api/auctions\n",
    "- all vaults: https://defiexplore.com/api/all-vaults"
   ]
  },
  {
   "cell_type": "code",
   "execution_count": null,
   "metadata": {},
   "outputs": [],
   "source": [
    "# GET LIQUIDATIONS DATA\n",
    "\n",
    "import requests\n",
    "import pandas as pd\n",
    "\n",
    "def get_liquidations():\n",
    "    url = \"https://defiexplore.com/api/auctions\"\n",
    "        # get data from endpoint and load json content\n",
    "    resp = requests.get(url)\n",
    "    # resp.raise_for_status()\n",
    "        # parse json into py dict\n",
    "        # this is a list\n",
    "    resp = json.loads(resp.content)\n",
    "    # # df expects list\n",
    "    df = pd.DataFrame(resp)\n",
    "    df.set_index('timestamp', inplace=True)\n",
    "    return df"
   ]
  },
  {
   "cell_type": "code",
   "execution_count": null,
   "metadata": {},
   "outputs": [],
   "source": [
    "# PLACEHOLDER FOR ALL-VAULTS DATA\n"
   ]
  },
  {
   "cell_type": "code",
   "execution_count": null,
   "metadata": {},
   "outputs": [],
   "source": [
    "liquidations = get_liquidations()\n",
    "liquidations['profit'].sum()"
   ]
  },
  {
   "cell_type": "code",
   "execution_count": null,
   "metadata": {},
   "outputs": [],
   "source": [
    "liquidations.dtypes.value_counts()"
   ]
  },
  {
   "cell_type": "code",
   "execution_count": null,
   "metadata": {
    "tags": []
   },
   "outputs": [],
   "source": [
    "liquidations.dtypes"
   ]
  },
  {
   "cell_type": "code",
   "execution_count": null,
   "metadata": {},
   "outputs": [],
   "source": []
  },
  {
   "cell_type": "markdown",
   "metadata": {},
   "source": [
    "---\n",
    "# STARTS HERE \n",
    "\n",
    "Datasets that need to be sourced: \n",
    "\n",
    "- asset price data \n",
    "- asset trading volume\n",
    "    - CEX exchanges \n",
    "    - DEX exchanges    \n",
    "- liquidity "
   ]
  },
  {
   "cell_type": "markdown",
   "metadata": {},
   "source": [
    "## Get the data\n",
    "\n",
    "- pricing\n",
    "- trading volumes"
   ]
  },
  {
   "cell_type": "markdown",
   "metadata": {},
   "source": [
    "### Daily data"
   ]
  },
  {
   "cell_type": "code",
   "execution_count": null,
   "metadata": {},
   "outputs": [],
   "source": [
    "df = get_metric_timeseries('ohlcv','chainlink')\n",
    "df.head()"
   ]
  },
  {
   "cell_type": "markdown",
   "metadata": {},
   "source": [
    "### Hourly data"
   ]
  },
  {
   "cell_type": "code",
   "execution_count": null,
   "metadata": {},
   "outputs": [],
   "source": [
    "df = get_metric_timeseries('price_usd','chainlink',interval='1h')\n",
    "df.head()"
   ]
  },
  {
   "cell_type": "code",
   "execution_count": null,
   "metadata": {},
   "outputs": [],
   "source": []
  },
  {
   "cell_type": "code",
   "execution_count": null,
   "metadata": {},
   "outputs": [],
   "source": []
  },
  {
   "cell_type": "code",
   "execution_count": null,
   "metadata": {},
   "outputs": [],
   "source": []
  },
  {
   "cell_type": "code",
   "execution_count": null,
   "metadata": {},
   "outputs": [],
   "source": []
  },
  {
   "cell_type": "code",
   "execution_count": null,
   "metadata": {},
   "outputs": [],
   "source": [
    "import requests\n",
    "import pandas as pd\n",
    "import matplotlib.pyplot as plt\n",
    "\n",
    "%matplotlib inline"
   ]
  },
  {
   "cell_type": "code",
   "execution_count": null,
   "metadata": {},
   "outputs": [],
   "source": [
    "def get_historic_price(symbol, exchange='bitfinex', after='2018-09-01'):\n",
    "    url = 'https://api.cryptowat.ch/markets/{exchange}/{symbol}eur/ohlc'.format(\n",
    "        symbol=symbol, exchange=exchange)\n",
    "    resp = requests.get(url, params={\n",
    "        'periods': '3600',\n",
    "        'after': str(int(pd.Timestamp(after).timestamp()))\n",
    "    })\n",
    "    resp.raise_for_status()\n",
    "    data = resp.json()\n",
    "    df = pd.DataFrame(data['result']['3600'], columns=[\n",
    "        'CloseTime', 'OpenPrice', 'HighPrice', 'LowPrice', 'ClosePrice', 'Volume', 'NA'\n",
    "    ])\n",
    "    df['CloseTime'] = pd.to_datetime(df['CloseTime'], unit='s')\n",
    "    df.set_index('CloseTime', inplace=True)\n",
    "    return df"
   ]
  },
  {
   "cell_type": "code",
   "execution_count": null,
   "metadata": {},
   "outputs": [],
   "source": [
    "two_years = (pd.Timestamp.now() - pd.offsets.Day(730))\n",
    "two_years"
   ]
  },
  {
   "cell_type": "code",
   "execution_count": null,
   "metadata": {
    "tags": []
   },
   "outputs": [],
   "source": [
    "link = get_historic_price('link', 'kraken', after=two_years)\n",
    "link.head()"
   ]
  },
  {
   "cell_type": "code",
   "execution_count": null,
   "metadata": {},
   "outputs": [],
   "source": [
    "link.describe()"
   ]
  },
  {
   "cell_type": "code",
   "execution_count": null,
   "metadata": {},
   "outputs": [],
   "source": [
    "link['ClosePrice'].plot(figsize=(15,7))"
   ]
  },
  {
   "cell_type": "code",
   "execution_count": null,
   "metadata": {},
   "outputs": [],
   "source": [
    "link['ClosePrice'].plot(kind='box', vert=False, figsize=(14,6))"
   ]
  },
  {
   "cell_type": "code",
   "execution_count": null,
   "metadata": {},
   "outputs": [],
   "source": [
    "# \n",
    "axy = link['ClosePrice'].plot(kind='density', figsize=(14,6))\n",
    "axy.axvline(link['ClosePrice'].mean(), color='red')\n",
    "axy.axvline(link['ClosePrice'].median(), color='green')"
   ]
  },
  {
   "cell_type": "code",
   "execution_count": null,
   "metadata": {},
   "outputs": [],
   "source": [
    "# Distribution since 2020-04\n",
    "link.loc[link.index > '2020-04-01 01:00:00']['ClosePrice'].plot(kind='density', figsize=(14,6))"
   ]
  },
  {
   "cell_type": "code",
   "execution_count": null,
   "metadata": {},
   "outputs": [],
   "source": [
    "corr = link[['OpenPrice','Volume','ClosePrice']].corr()\n",
    "corr"
   ]
  },
  {
   "cell_type": "code",
   "execution_count": null,
   "metadata": {},
   "outputs": [],
   "source": [
    "fig = plt.figure(figsize=(8,8))\n",
    "plt.matshow(corr, cmap='RdBu', fignum=fig.number)\n",
    "plt.xticks(range(len(corr.columns)), corr.columns, rotation='vertical');\n",
    "plt.yticks(range(len(corr.columns)), corr.columns);"
   ]
  },
  {
   "cell_type": "code",
   "execution_count": null,
   "metadata": {},
   "outputs": [],
   "source": [
    "requests.get?"
   ]
  },
  {
   "cell_type": "markdown",
   "metadata": {},
   "source": [
    "---\n",
    "\n",
    "# ANALYSIS\n"
   ]
  },
  {
   "cell_type": "markdown",
   "metadata": {},
   "source": [
    "## Auction liquidation data\n",
    "\n",
    "Only MCD data\n",
    "\n",
    "```\n",
    "- collateral    float64     collateral currency e.g. eth\n",
    "- debt          float64     DAI\n",
    "- profit        float64     DAI\n",
    "- soldColl      float64     collateral currency e.g. eth\n",
    "- soldFor       float64     DAI\n",
    "```"
   ]
  },
  {
   "cell_type": "code",
   "execution_count": null,
   "metadata": {},
   "outputs": [],
   "source": [
    "# global debt auction stats\n",
    "liquidations[['debt']].describe()"
   ]
  },
  {
   "cell_type": "code",
   "execution_count": null,
   "metadata": {
    "tags": []
   },
   "outputs": [],
   "source": [
    "liquidations.index.min()"
   ]
  },
  {
   "cell_type": "code",
   "execution_count": null,
   "metadata": {
    "tags": []
   },
   "outputs": [],
   "source": [
    "# debt auction stats by collateral\n",
    "print('Debt liquidation stats by collateral type')\n",
    "liquidations[['debt','cdpType']].groupby('cdpType').describe()"
   ]
  },
  {
   "cell_type": "code",
   "execution_count": null,
   "metadata": {},
   "outputs": [],
   "source": [
    "subset = liquidations.loc[liquidations['profit']< 0]\n",
    "subset['profit'].sum()"
   ]
  },
  {
   "cell_type": "code",
   "execution_count": null,
   "metadata": {},
   "outputs": [],
   "source": [
    "liquidations[['profit', 'debt']].plot(kind='density', figsize=(14,6))"
   ]
  },
  {
   "cell_type": "code",
   "execution_count": null,
   "metadata": {},
   "outputs": [],
   "source": [
    "# Groupby: cdptype debt median\n",
    "debt_liq = liquidations[['cdpType', 'debt']].groupby('cdpType').median().round(2)\n",
    "debt_liq\n",
    "fig, axes = plt.subplots(figsize=(7,5), dpi=100)\n",
    "plt.bar(debt_liq.index, height=debt_liq.debt)\n",
    "plt.title('Median Debt Liquidation by Collateral');"
   ]
  },
  {
   "cell_type": "code",
   "execution_count": null,
   "metadata": {},
   "outputs": [],
   "source": [
    "import matplotlib.pyplot as plt\n",
    "%matplotlib inline\n",
    "\n",
    "x1 = liquidations.loc[liquidations.cdpType == 'ETH', 'debt']\n",
    "# x2 = liquidations.loc[liquidations.cdpType == 'BAT', 'debt']\n",
    "# x3 = liquidations.loc[liquidations.cdpType == 'ZRX', 'debt']\n",
    "# x3 = liquidations.loc[liquidations.cdpType == 'WBTC', 'debt']\n",
    "# x3 = liquidations.loc[liquidations.cdpType == 'KNC', 'debt']\n",
    "\n",
    "kwargs = dict(alpha=0.5, bins=200)\n",
    "\n",
    "plt.hist(x1, **kwargs, color='g', label='ETH')\n",
    "# plt.hist(x2, **kwargs, color='b', label='BAT')\n",
    "# plt.hist(x3, **kwargs, color='r', label='ZRX')\n",
    "# plt.hist(x3, **kwargs, color='r', label='WBTC')\n",
    "# plt.hist(x3, **kwargs, color='r', label='KNC')\n",
    "plt.gca().set(title='Frequency Histogram of Collateral Debt Liquidation (DAI)', ylabel='Frequency')\n",
    "plt.xlim(-100,10000)\n",
    "plt.legend();"
   ]
  },
  {
   "cell_type": "code",
   "execution_count": null,
   "metadata": {},
   "outputs": [],
   "source": [
    "import seaborn as sns\n",
    "\n",
    "x1 = liquidations.loc[liquidations.cdpType=='ETH', ['debt']]\n",
    "x2 = liquidations.loc[liquidations.cdpType=='BAT', ['debt']]\n",
    "x3 = liquidations.loc[liquidations.cdpType=='WBTC', ['debt']]\n",
    "x4 = liquidations.loc[liquidations.cdpType=='KNC', ['debt']]\n",
    "\n",
    "\n",
    "# plot\n",
    "fig, axes = plt.subplots(1, 4, figsize=(25, 5), sharey=False, dpi=100)\n",
    "sns.distplot(x1 , color=\"dodgerblue\", ax=axes[0], axlabel='ETH')\n",
    "sns.distplot(x2 , color=\"deeppink\", ax=axes[1], axlabel='BAT')\n",
    "sns.distplot(x3 , color=\"gold\", ax=axes[2], axlabel='WBTC')\n",
    "sns.distplot(x4 , color=\"blue\", ax=axes[3], axlabel='KNC')\n",
    "\n",
    "plt.xlim(0,10000);"
   ]
  },
  {
   "cell_type": "code",
   "execution_count": null,
   "metadata": {},
   "outputs": [],
   "source": []
  },
  {
   "cell_type": "code",
   "execution_count": null,
   "metadata": {},
   "outputs": [],
   "source": []
  },
  {
   "cell_type": "code",
   "execution_count": null,
   "metadata": {},
   "outputs": [],
   "source": []
  },
  {
   "cell_type": "code",
   "execution_count": null,
   "metadata": {},
   "outputs": [],
   "source": []
  },
  {
   "cell_type": "code",
   "execution_count": null,
   "metadata": {},
   "outputs": [],
   "source": []
  },
  {
   "cell_type": "markdown",
   "metadata": {},
   "source": [
    "---\n",
    "---\n",
    "\n",
    "# FORUM ANALYSIS POST"
   ]
  },
  {
   "cell_type": "markdown",
   "metadata": {},
   "source": [
    "## Background\n",
    "\n",
    "### Protocol summary\n",
    "\n",
    "- whitepaper abstract\n",
    "- website overview\n",
    "\n",
    "### Token use\n",
    "\n",
    "- whitepaper token description\n",
    "- website token description\n",
    "\n",
    "### Governance \n",
    "\n",
    "- any information on governance?\n",
    "- from website"
   ]
  },
  {
   "cell_type": "markdown",
   "metadata": {},
   "source": [
    "## Token information\n",
    "\n",
    "### On-chain activity\n",
    "- https://academy.santiment.net/sansheets/functions/#san_active_deposits\n",
    "- https://academy.santiment.net/sansheets/functions/#san_active_addresses\n",
    "    - daily_active_addresses\n",
    "    - daily_active_deposits\n",
    "    - daily_transaction_volume \n",
    "    - daily_price\n",
    "    - ohlcv daily\n",
    "\n",
    "### Token allocation/distribution\n",
    "\n",
    "sources:\n",
    "- coingecko\n",
    "- santiment\n",
    "- etherscan\n",
    "\n",
    "data: \n",
    "- data\n",
    "    - initial_supply    \n",
    "    - current_token_supply\n",
    "    - circulating supply \n",
    "    - market cap\n",
    "    - daily_price\n",
    "    - implied market cap (?)\n",
    "\n",
    "circulating supply (definition by glassnode): \n",
    "```\n",
    "LINK’s circulating supply of 350,000,000, as reported by CoinMarketCap, only counts the tokens sold to the public in the ICO. \n",
    "After taking the team sell off into account, the actual circulating supply is closer to ~367,909,600.\n",
    "```\n",
    "\n",
    "### Asset price returns\n",
    "\n",
    "- santiment. raw data:\n",
    "    - daily_price\n",
    "    - daily_price\n",
    "\n",
    "Derived/Calculated variables from daily_price\n",
    "- asset_price_return_1m\n",
    "- asset_price_return_3m \n",
    "- asset_price_return_6m     \n",
    "- asset_price_return_12m\n",
    "- asset_price_return_24m            \n",
    "\n",
    "### Token ownership concentration (distribution)\n",
    "\n",
    "sources: \n",
    "- etherscan\n",
    "- santiment\n",
    "- glassnode\n",
    "\n",
    "data:\n",
    "- https://etherscan.io/token/tokenholderchart/0x514910771af9ca656af840dff83e8264ecf986ca?range=100 > top 100 address token ownership\n",
    "- https://academy.santiment.net/metrics/amount-in-top-holders/ > Token/Coin amount\n",
    "- https://academy.santiment.net/sansheets/functions/#san_top_holders_percent_of_total_supply\n",
    "- https://academy.santiment.net/metrics/top-holders/#top-holders-balance\n",
    "- https://academy.santiment.net/metrics/mean-coin-age/mean-coin-age-technical/#total-age\n",
    "    - holders_distribution_total > only paid plan\n",
    "    - amount_in_top_holders\n",
    "    - amount_in_exchange_top_holders\n",
    "    - age_distribution\n",
    "\n",
    "sansheets: \n",
    "- SAN_TOP_HOLDERS_PERCENT_OF_TOTAL_SUPPLY\n",
    "\n",
    "data > glassnode:\n",
    "- https://studio.glassnode.com/metrics?a=LINK&m=distribution.Balance1PctHolders\n",
    "- https://studio.glassnode.com/metrics?a=LINK&m=distribution.Gini > gini coeff for LINK\n",
    "    - Gini Coefficient\n",
    "    - 1% Richlist Balance\n",
    "\n",
    "articles:\n",
    "- https://medium.com/glassnode-insights/on-chain-distribution-analysis-of-chainlink-link-5ee7acb62f62\n",
    " \n",
    "\n",
    "### Treasury funds data?\n",
    "sources: \n",
    "- santiment\n",
    "- coindesk\n",
    "\n",
    "team addresses:\n",
    "- 0xe0362f7445e3203a496f6f8b3d51cbb413b69be2 — Current balance: 50,000,000 LINK\n",
    "- 0x75398564ce69b7498da10a11ab06fd8ff549001c — Current balance: 50,000,000 LINK\n",
    "- 0x5560d001f977df5e49ead7ab0bdd437c4ee3a99e — Current balance: 50,000,000 LINK\n",
    "- 0xdad22a85ef8310ef582b70e4051e543f3153e11f — Current balance: 46,500,000 LINK\n",
    "- 0xbe6977e08d4479c0a6777539ae0e8fa27be4e9d6 — Current balance: 50,000,000 LINK\n",
    "- 0xf37c348b7d19b17b29cd5cfa64cfa48e2d6eb8db — Current balance: 35,590,421.01 LINK\n",
    "\n",
    "data:\n",
    "- team address?\n",
    "- https://academy.santiment.net/sansheets/functions/#san_historical_balance\n",
    "    - historical_balance\n",
    "\n",
    "ICO distribution: 30 team/35 nodes/35 investors\n",
    "- https://etherscan.io/token/0x514910771af9ca656af840dff83e8264ecf986ca?a=0xf55037738604fddfc4043d12f25124e94d7d1780 > describes ICO distribution\n",
    "\n",
    "articles:\n",
    "- best article: https://medium.com/glassnode-insights/on-chain-distribution-analysis-of-chainlink-link-5ee7acb62f62\n",
    "- https://bravenewcoin.com/insights/celsius-network-partners-with-chainlink\n",
    "- https://www.coindesk.com/crypo-lender-celsius-taps-chainlinks-price-oracles-for-interest-rate-decentralization > move \"significant\" portion of crypto holdings under Celsius’ treasury management service. For interest accrual.\n",
    "- https://www.prnewswire.com/news-releases/celsius-network-and-chainlink-form-long-term-partnership-to-create-superior-financial-platform-through-decentralization-301031500.html\n",
    "\n",
    "### Token age\n",
    "- https://academy.santiment.net/sansheets/functions/#san_token_age_consumed\n",
    "- https://academy.santiment.net/sansheets/functions/#san_mean_age\n",
    "- https://academy.santiment.net/metrics/mean-coin-age/mean-coin-age-technical/#total-age\n",
    "    - age_consumed > Spikes are signal of a large amount of tokens moving after being idle\n",
    "    - mean_age \n"
   ]
  },
  {
   "cell_type": "code",
   "execution_count": null,
   "metadata": {},
   "outputs": [],
   "source": [
    "df.plot()"
   ]
  },
  {
   "cell_type": "code",
   "execution_count": null,
   "metadata": {},
   "outputs": [],
   "source": [
    "df = san.get('exchange_balance/chainlink')\n",
    "df.head()"
   ]
  },
  {
   "cell_type": "code",
   "execution_count": null,
   "metadata": {},
   "outputs": [],
   "source": [
    "search_metric('chainlink','exchange')"
   ]
  },
  {
   "cell_type": "code",
   "execution_count": null,
   "metadata": {},
   "outputs": [],
   "source": [
    "df"
   ]
  },
  {
   "cell_type": "code",
   "execution_count": null,
   "metadata": {},
   "outputs": [],
   "source": [
    "df = san.get(\n",
    "    \"historical_balance/chainlink\",\n",
    "    address=\"0xe0362f7445e3203a496f6f8b3d51cbb413b69be2\",\n",
    "    from_date=\"2018-04-18\",\n",
    "    to_date=\"2020-07-31\",\n",
    "    interval=\"1d\"\n",
    ")"
   ]
  },
  {
   "cell_type": "markdown",
   "metadata": {},
   "source": [
    "## Exchanges \n",
    "\n",
    "- https://academy.santiment.net/sansheets/functions/#san_exchange_balance\n",
    "- https://academy.santiment.net/sansheets/functions/#san_exchange_funds_flow\n",
    "- https://academy.santiment.net/sansheets/functions/#san_exchange_inflow\n",
    "- https://academy.santiment.net/sansheets/functions/#san_exchange_outflow \n",
    "\n",
    "Note : on-chain metrics\n",
    "- Liquidity\n",
    "    - percent_of_total_supply_on_exchanges\n",
    "    - supply_on_exchanges\n",
    "    - supply_outside_exchanges\n",
    "    - exchange_balance\n",
    "- Flows:\n",
    "    - exchange_inflow   \n",
    "    - exchange_outflow\n",
    "\n",
    "> Do flows correlate to pricing activity?\n",
    "\n",
    "### Centralised exchanges \n",
    "\n",
    "- list exchanges where token listed\n",
    "\n",
    "sources: \n",
    "- BraveNewCoin\n",
    "- Coinmarketcap\n",
    "- coingecko\n",
    "\n",
    "data:\n",
    "- \n",
    "- https://bravenewcoin.com/data-and-charts/assets/LINK/markets\n",
    "- \n",
    "\n",
    "articles\n",
    "\n",
    "\n",
    "### Decentralised exchanges \n",
    "\n",
    "### Liquidity pools"
   ]
  },
  {
   "cell_type": "markdown",
   "metadata": {},
   "source": [
    "## 3rd party lending platforms\n",
    "\n",
    "### Platforms\n",
    "\n",
    "sources: \n",
    "- coingecko\n",
    "- \n",
    "\n",
    "data: \n",
    "\n",
    "\n",
    "articles:\n",
    "- https://www.binance.com/en/support/articles/73a5d3352ae944fe8e899d2602bee27c > Binance leveraged LINK. Maybe in exchanges?\n",
    "\n",
    "### Interest rates\n",
    "\n",
    "https://public.tableau.com/profile/alethio.defi#!/vizhome/DeFiInterestRates/DeFiInterestRates\n",
    "\n",
    "### Borrowed volumes\n",
    "\n",
    "- https://public.tableau.com/profile/alethio.defi#!/vizhome/BorrowVolumeDashboard/BorrowVolumeonMajorLendingPlatforms\n",
    "    - daily borrrowed volumes (usd or eth) - time series\n",
    "    - daily cumul borrowed volumes (usd or eth) - time series\n",
    "    - daily # unique borrower - time series\n",
    "    - daily # of borrows - time series\n",
    "    - daily borrowed token value (usd or eth) by platform - by platform "
   ]
  },
  {
   "cell_type": "markdown",
   "metadata": {},
   "source": [
    "## Comparative analysis (link vs other collateral)\n",
    "\n",
    "> this is a bonus analysis to guide decision making \n",
    "\n",
    "### Correlation\n",
    "\n",
    "### Vaults debt/CR \n",
    "\n",
    "### Liquidations"
   ]
  },
  {
   "cell_type": "markdown",
   "metadata": {},
   "source": [
    "## Summary of Risks\n",
    "\n",
    "## Risk highlights\n",
    "\n",
    "A few notes: \n",
    "- token concentration risks \n",
    "- reduced supply of tokens through exchanges > risk for liquidity during keeper auctions\n",
    "\n",
    "## Other risks"
   ]
  }
 ],
 "metadata": {
  "kernelspec": {
   "display_name": "Python 3",
   "language": "python",
   "name": "python3"
  },
  "language_info": {
   "codemirror_mode": {
    "name": "ipython",
    "version": 3
   },
   "file_extension": ".py",
   "mimetype": "text/x-python",
   "name": "python",
   "nbconvert_exporter": "python",
   "pygments_lexer": "ipython3",
   "version": "3.7.2"
  }
 },
 "nbformat": 4,
 "nbformat_minor": 2
}