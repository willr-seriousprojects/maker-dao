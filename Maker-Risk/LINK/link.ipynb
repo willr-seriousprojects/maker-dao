{
 "cells": [
  {
   "cell_type": "markdown",
   "metadata": {},
   "source": [
    "# Experimentations (not serious)"
   ]
  },
  {
   "cell_type": "code",
   "execution_count": null,
   "metadata": {
    "tags": [
     "outputPrepend"
    ]
   },
   "outputs": [],
   "source": [
    "import requests\n",
    "\n",
    "def main():\n",
    "    resp = requests.get(\"https://api.cryptowat.ch/markets/kraken/btcusd/orderbook\")\n",
    "    orderbook = resp.json()['result']\n",
    "    print (orderbook)\n",
    "\n",
    "if __name__ == '__main__':\n",
    "    main()"
   ]
  },
  {
   "cell_type": "code",
   "execution_count": null,
   "metadata": {
    "tags": []
   },
   "outputs": [],
   "source": [
    "pd.DataFrame()"
   ]
  },
  {
   "cell_type": "code",
   "execution_count": null,
   "metadata": {
    "tags": []
   },
   "outputs": [],
   "source": [
    "import requests\n",
    "import pandas as pd\n",
    "\n",
    "def main():\n",
    "    resp = requests.get(\"https://api.coingecko.com/api/v3/coins/link/market_chart/range?vs_currency=usd&from=1575158400&to=1575244800\")\n",
    "    data = resp.json()\n",
    "    df = pd.DataFrame(data, columns=['Time','Open', 'High','Low','Close'])\n",
    "    df['Time'] = pd.to_datetime(df['Time'],infer_datetime_format=True)\n",
    "    df.set_index('Time', inplace=True)\n",
    "    return df\n",
    "\n",
    "if __name__ == '__main__':\n",
    "    main()\n"
   ]
  },
  {
   "cell_type": "code",
   "execution_count": null,
   "metadata": {},
   "outputs": [],
   "source": [
    "main()"
   ]
  },
  {
   "cell_type": "code",
   "execution_count": null,
   "metadata": {},
   "outputs": [],
   "source": [
    "resp = requests.get(\"https://api.coingecko.com/api/v3/coins/link/market_chart/range?vs_currency=usd&from=1575158400&to=1575244800\")\n",
    "data = resp.json()['prices'][0]\n",
    "df = pd.DataFrame(data)\n",
    "df"
   ]
  },
  {
   "cell_type": "code",
   "execution_count": null,
   "metadata": {},
   "outputs": [],
   "source": [
    "import json\n",
    "\n",
    "url = 'https://api.cryptowat.ch/markets/binance/btceur/ohlc'\n",
    "resp = requests.get(url)\n",
    "resp.raise_for_status()\n",
    "data = json.loads(resp.content)\n",
    "data\n",
    "#df = pd.DataFrame(data['result']['3600'])\n",
    "#df.head()\n"
   ]
  },
  {
   "cell_type": "code",
   "execution_count": null,
   "metadata": {},
   "outputs": [],
   "source": [
    "import requests\n",
    "from pandas.io.json import json_normalize\n",
    "import pandas as pd \n",
    "\n",
    "url = \"https://api.coingecko.com/api/v3/coins/link/market_chart/range?vs_currency=usd&from=1575158400&to=1575244800\"\n",
    "#url = 'https://api.coingecko.com/api/v3/coins/link/market_chart?vs_currency=usd&days=200'\n",
    "resp = requests.get(url)\n",
    "resp.json()"
   ]
  },
  {
   "cell_type": "code",
   "execution_count": null,
   "metadata": {},
   "outputs": [],
   "source": [
    "https://api.coingecko.com/api/v3/coins/link/ohlc?vs_currency=usd&days=1"
   ]
  },
  {
   "cell_type": "code",
   "execution_count": null,
   "metadata": {
    "tags": []
   },
   "outputs": [],
   "source": [
    "url = \"https://api.coingecko.com/api/v3/coins/list\"\n",
    "    # get data from endpoint and load json content\n",
    "resp = requests.get(url)\n",
    "    # parse json into py dict\n",
    "resp.json()\n",
    "#resp = json.loads(r.content)\n",
    "\n"
   ]
  },
  {
   "cell_type": "code",
   "execution_count": null,
   "metadata": {},
   "outputs": [],
   "source": [
    "    url = \"https://api.coingecko.com/api/v3/coins/link/market_chart/range?vs_currency=usd&from=1532995200&to=1596067200\"\n",
    "    # get data from endpoint and load json content\n",
    "    resp = requests.get(url)\n",
    "    resp.raise_for_status()\n",
    "    # parse json into py dict\n",
    "    resp = json.loads(resp.content)\n",
    "    type(resp)"
   ]
  },
  {
   "cell_type": "code",
   "execution_count": null,
   "metadata": {
    "tags": []
   },
   "outputs": [],
   "source": [
    "import requests\n",
    "\n",
    "def main():\n",
    "    resp = requests.get(\"https://api.cryptowat.ch/markets/kraken/btcusd/ohlc\")\n",
    "    orderbook = resp.json()['result']\n",
    "    print (orderbook)\n",
    "\n",
    "if __name__ == '__main__':\n",
    "    main()\n"
   ]
  },
  {
   "cell_type": "code",
   "execution_count": null,
   "metadata": {},
   "outputs": [],
   "source": [
    "df['prices'].plot(figsize=(15,7))"
   ]
  },
  {
   "cell_type": "code",
   "execution_count": null,
   "metadata": {
    "tags": []
   },
   "outputs": [],
   "source": [
    "two_years = (pd.Timestamp.now() - pd.offsets.Day(730))\n",
    "print(two_years)\n",
    "print(pd.Timestamp.now())"
   ]
  },
  {
   "cell_type": "code",
   "execution_count": null,
   "metadata": {
    "tags": []
   },
   "outputs": [],
   "source": [
    "before = '2018-07-31'\n",
    "after = '2020-07-30'\n",
    "\n",
    "print(str(int(pd.Timestamp(before).timestamp())))\n",
    "print(str(int(pd.Timestamp(after).timestamp())))"
   ]
  },
  {
   "cell_type": "code",
   "execution_count": null,
   "metadata": {},
   "outputs": [],
   "source": [
    "main().head()"
   ]
  },
  {
   "cell_type": "code",
   "execution_count": null,
   "metadata": {},
   "outputs": [],
   "source": [
    "df['prices'].head()"
   ]
  },
  {
   "cell_type": "code",
   "execution_count": null,
   "metadata": {},
   "outputs": [],
   "source": [
    "def get_historic_price(symbol, exchange='bitfinex', after='2018-09-01'):\n",
    "    url = 'https://api.cryptowat.ch/markets/{exchange}/{symbol}usd/ohlc'.format(\n",
    "        symbol=symbol, exchange=exchange)\n",
    "    resp = requests.get(url, params={\n",
    "        'periods': '3600',\n",
    "        'after': str(int(pd.Timestamp(after).timestamp()))\n",
    "    })\n",
    "    resp.raise_for_status()\n",
    "    data = resp.json()\n",
    "    df = pd.DataFrame(data['result']['3600'], columns=[\n",
    "        'CloseTime', 'OpenPrice', 'HighPrice', 'LowPrice', 'ClosePrice', 'Volume', 'NA'\n",
    "    ])\n",
    "    df['CloseTime'] = pd.to_datetime(df['CloseTime'], unit='s')\n",
    "    df.set_index('CloseTime', inplace=True)\n",
    "    return df"
   ]
  },
  {
   "cell_type": "code",
   "execution_count": null,
   "metadata": {},
   "outputs": [],
   "source": [
    "# https://defiexplore.com/api/all-vauls\n",
    "# ALL VAULTS HISTORICAL DATA (NEEDS WORK)\n",
    "\n",
    "import requests\n",
    "import pandas as pd\n",
    "\n",
    "def get_liquidations():\n",
    "    url = \"https://defiexplore.com/api/all-vaults\"\n",
    "        # get data from endpoint and load json content\n",
    "    resp = requests.get(url)\n",
    "    # resp.raise_for_status()\n",
    "        # parse json into py dict\n",
    "        # this is a list\n",
    "    resp = json.loads(resp.content)\n",
    "    # # df expects list\n",
    "    df = pd.DataFrame(resp)\n",
    "    df.set_index('timestamp', inplace=True)\n",
    "    return df"
   ]
  },
  {
   "cell_type": "code",
   "execution_count": null,
   "metadata": {},
   "outputs": [],
   "source": [
    "https://defiexplore.com/api/cdps/10775"
   ]
  },
  {
   "cell_type": "markdown",
   "metadata": {},
   "source": [
    "Useful messari API:\n",
    "\n",
    "- https://data.messari.io/api/v1/assets/btc/metrics/market-data\n",
    "- https://data.messari.io/api/v1/assets/metrics = metric definitions for timeseries data"
   ]
  },
  {
   "cell_type": "code",
   "execution_count": null,
   "metadata": {
    "tags": []
   },
   "outputs": [],
   "source": [
    "# THIS IS TO SEARCH MESSARI TIMESERIES \n",
    "# METRIC IDS and definitions\n",
    "\n",
    "import json\n",
    "url = \"https://data.messari.io/api/v1/assets/metrics\"\n",
    "        # get data from endpoint and load json content\n",
    "resp = requests.get(url)\n",
    "resp.raise_for_status()\n",
    "        # parse json into py dict\n",
    "        # this is a list\n",
    "resp = json.loads(resp.content)\n",
    "df = json_normalize(resp, record_path=[['data','metrics']],meta=['status'],errors='ignore')\n",
    "data = dict(df)\n",
    "df = pd.DataFrame(data)\n",
    "\n",
    "df[['description','metric_id','values_schema']]"
   ]
  },
  {
   "cell_type": "code",
   "execution_count": null,
   "metadata": {},
   "outputs": [],
   "source": [
    "# FUNCTION TO GET MESSARI TIMESERIES \n",
    "\n",
    "def get_messari_timeseries(request, asset, from_date='2018-07-31', to_date='2020-07-30',interval='1d' ):\n",
    "    url = \"https://data.messari.io/api/v1/assets/{asset}/metrics/{request}/time-series?start={from_date}&end={to_date}&interval=1d\".format(\n",
    "        asset=asset,request=request,from_date=from_date, to_date=to_date)\n",
    "        # get data from endpoint and load json content\n",
    "    resp = requests.get(url)\n",
    "    # resp.raise_for_status()\n",
    "        # parse json into py dict\n",
    "        # this is a list\n",
    "    resp = json.loads(resp.content)['data']['values']\n",
    "    # # df expects list\n",
    "    df = pd.DataFrame(resp, columns=['datetime',f'{asset}_{request}'])\n",
    "    # change date format\n",
    "    df['datetime'] = pd.to_datetime(df['datetime'], unit='ms')\n",
    "    # set df index to date\n",
    "    df.set_index('datetime', inplace=True)\n",
    "    return df\n"
   ]
  },
  {
   "cell_type": "code",
   "execution_count": null,
   "metadata": {},
   "outputs": [],
   "source": [
    "get_messari_timeseries('real.vol','btc').tail()"
   ]
  },
  {
   "cell_type": "code",
   "execution_count": null,
   "metadata": {},
   "outputs": [],
   "source": [
    "\n",
    "\n",
    "def get_listexchange_bycoin():\n",
    "    url = \"https://api.coinpaprika.com/v1/coins/link-chainlink/exchanges\"\n",
    "        # get data from endpoint and load json content\n",
    "    resp = requests.get(url)\n",
    "    resp.raise_for_status()\n",
    "        # parse json into py dict\n",
    "        # this is a list\n",
    "    resp = json.loads(resp.content)\n",
    "    df = json_normalize(resp)\n",
    "    # df expects list\n",
    "    return df"
   ]
  },
  {
   "cell_type": "code",
   "execution_count": null,
   "metadata": {},
   "outputs": [],
   "source": [
    "get_coinlist().head()"
   ]
  },
  {
   "cell_type": "code",
   "execution_count": null,
   "metadata": {},
   "outputs": [],
   "source": [
    "url = 'https://min-api.cryptocompare.com/data/exchange/histoday?tsym=USD&limit=10'\n",
    "        # get data from endpoint and load json content\n",
    "resp = requests.get(url)\n",
    "resp.raise_for_status()\n",
    "        # parse json into py dict\n",
    "        # this is a list\n",
    "resp = json.loads(resp.content)['Data']\n",
    "#type(resp)\n",
    "\n",
    "# creates df and flattens json\n",
    "df = pd.DataFrame(resp)\n",
    "df.head()"
   ]
  },
  {
   "cell_type": "code",
   "execution_count": null,
   "metadata": {
    "tags": []
   },
   "outputs": [],
   "source": [
    "df.info()"
   ]
  },
  {
   "cell_type": "code",
   "execution_count": null,
   "metadata": {},
   "outputs": [],
   "source": [
    "import requests\n",
    "from pandas.io.json import json_normalize\n",
    "import pandas as pd \n",
    "import json\n",
    "\n",
    "#def get_markets_bycoin(asset,):\n",
    "\n",
    "url = \"https://api.coinpaprika.com/v1/coins/link-chainlink/markets\"\n",
    "        # get data from endpoint and load json content\n",
    "resp = requests.get(url)\n",
    "resp.raise_for_status()\n",
    "        # parse json into py dict\n",
    "        # this is a list\n",
    "resp = json.loads(resp.content)\n",
    "#type(resp)\n",
    "\n",
    "# creates df and flattens json\n",
    "df = json_normalize(resp)\n",
    "#df.head()\n",
    "df = df[['exchange_name','pair','quotes.USD.volume_24h','quote_currency_name']]"
   ]
  },
  {
   "cell_type": "code",
   "execution_count": null,
   "metadata": {},
   "outputs": [],
   "source": [
    "df.head()"
   ]
  },
  {
   "cell_type": "code",
   "execution_count": null,
   "metadata": {
    "tags": []
   },
   "outputs": [],
   "source": [
    "# df.head()\n",
    "pair = df[['exchange_name','pair','quotes.USD.volume_24h','adjusted_volume_24h_share']].groupby(by='pair')\n",
    "pair.first()"
   ]
  },
  {
   "cell_type": "code",
   "execution_count": null,
   "metadata": {},
   "outputs": [],
   "source": [
    "type(df)"
   ]
  },
  {
   "cell_type": "code",
   "execution_count": null,
   "metadata": {},
   "outputs": [],
   "source": [
    "# SUPER IMPORTANT\n",
    "# CODE TO flattening JSON objects of arbitrary structure\n",
    "# WORKS FOR ONE COLUMN, NOT ALL DATAFRAME\n",
    "def flatten_json(y):\n",
    "    out = {}\n",
    "\n",
    "    def flatten(x, name=''):\n",
    "        if type(x) is dict:\n",
    "            for a in x:\n",
    "                flatten(x[a], name + a + '_')\n",
    "        elif type(x) is list:\n",
    "            i = 0\n",
    "            for a in x:\n",
    "                flatten(a, name + str(i) + '_')\n",
    "                i += 1\n",
    "        else:\n",
    "            out[name[:-1]] = x\n",
    "\n",
    "    flatten(y)\n",
    "    return out"
   ]
  },
  {
   "cell_type": "code",
   "execution_count": null,
   "metadata": {},
   "outputs": [],
   "source": [
    "# THEN USE THIS \n",
    "# ONLY FOR ONE COLUMN\n",
    "flat = flatten_json(sample_object2)\n",
    "json_normalize(flat)"
   ]
  },
  {
   "cell_type": "markdown",
   "metadata": {},
   "source": [
    "---\n",
    "\n",
    "---\n",
    "\n",
    "# FUNCTIONS TO FETCH DATA\n",
    "\n",
    "data sources:\n",
    "- santiment\n",
    "- coingecko\n",
    "- defiexplore\n",
    "- 0xtracker\n",
    "- uniswap\n",
    "- kyber\n",
    "- alethio\n",
    "- glassnode\n",
    "- coinmetrics\n",
    "\n",
    "**@todo to be added:** \n",
    "- defipulse data aggregator\n",
    "- blocklytics\n",
    "- messari\n",
    "- loanscan - defi rates\n",
    "- **aave - liquidations**\n",
    "\n",
    "top data sources: for high grade analysis\n",
    "- santiment\n",
    "- glassnode\n",
    "- coinmetrics\n",
    "- defipulse = gas and defi metrics\n",
    "- codefi (future)\n",
    "\n",
    "to explore: \n",
    "- nomics\n",
    "- bitquery/bloxy.info\n"
   ]
  },
  {
   "cell_type": "code",
   "execution_count": null,
   "metadata": {},
   "outputs": [],
   "source": [
    "# IMPORT ALL PACKAGES\n",
    "import requests\n",
    "from pandas.io.json import json_normalize\n",
    "import pandas as pd \n",
    "import json\n",
    "import seaborn as sns\n",
    "import matplotlib.pyplot as plt\n",
    "\n",
    "%matplotlib inline"
   ]
  },
  {
   "cell_type": "markdown",
   "metadata": {},
   "source": [
    "## Santiment\n",
    "\n",
    "Used for: \n",
    "\n",
    "- token information \n",
    "- token distribution \n",
    "- daily asset pricing metrics\n",
    "- hourly asset pricing metrics \n",
    "- on-chain volumes \n",
    "- exchange volumes \n",
    "- exchange balances \n",
    "- on-chain trading activity\n",
    "\n",
    "Source data dictionaries and glossary:\n",
    "- https://github.com/santiment/sanpy#available-metrics\n",
    "- https://academy.santiment.net/sansheets/functions/\n",
    "- https://academy.santiment.net/glossary/ \n",
    "- https://academy.santiment.net/metrics/\n",
    "\n",
    "Data types: \n",
    "- time series: https://academy.santiment.net/metrics/details/data-type#timeseries-data\n",
    "- histogram/categorical: https://academy.santiment.net/metrics/details/data-type#histogram-data \n",
    "\n",
    "---\n",
    "\n",
    "search data and metadata"
   ]
  },
  {
   "cell_type": "code",
   "execution_count": null,
   "metadata": {},
   "outputs": [],
   "source": [
    "import san\n",
    "san.ApiConfig.api_key = 'xauqgnp4uvwk4u7c_a5x7oyk6zj5bcyzn'"
   ]
  },
  {
   "cell_type": "code",
   "execution_count": null,
   "metadata": {},
   "outputs": [],
   "source": [
    "# SEARCH AVAILABLE DATA FUNC\n",
    "\n",
    "# search for available metric in api, given slug (aka token) and search term\n",
    "def search_metric(slug,search_term):\n",
    "    metric_list = []\n",
    "    santiment = san.available_metrics_for_slug(slug)\n",
    "    for i in santiment:\n",
    "        if search_term in i:\n",
    "            metric_list.append(i)\n",
    "    print('source: santiment')\n",
    "    return metric_list"
   ]
  },
  {
   "cell_type": "code",
   "execution_count": null,
   "metadata": {
    "tags": []
   },
   "outputs": [],
   "source": [
    "# select data point to fetch\n",
    "# Running as single func (project, term)\n",
    "search_metric('chainlink','hold')"
   ]
  },
  {
   "cell_type": "code",
   "execution_count": null,
   "metadata": {},
   "outputs": [],
   "source": [
    "# check availability of data since\n",
    "san.available_metric_for_slug_since(metric='active_deposits', slug='chainlink')"
   ]
  },
  {
   "cell_type": "code",
   "execution_count": null,
   "metadata": {},
   "outputs": [],
   "source": [
    "# check query complexity\n",
    "def get_metric_complexity(request, from_date='2018-07-31', to_date='2020-07-30',interval='1h'):\n",
    "    df = san.metric_complexity(\n",
    "        f'{request}',\n",
    "        from_date=from_date,\n",
    "        to_date=to_date,\n",
    "        interval=interval\n",
    "    )\n",
    "    print('source: santiment')\n",
    "    print(f'complexity score: {df}')\n",
    "    return f'Too complex for free plan: {df > 20000}' "
   ]
  },
  {
   "cell_type": "markdown",
   "metadata": {},
   "source": [
    "Time series data"
   ]
  },
  {
   "cell_type": "code",
   "execution_count": null,
   "metadata": {},
   "outputs": [],
   "source": [
    "# IMPORTANT TIME SERIES FUNCTION\n",
    "# interval - The interval of the returned data - an integer followed by one of: s, m, h, d or w\n",
    "\n",
    "# This allows to create a ts df for a given metric\n",
    "def get_metric_timeseries(request, asset,from_date='2018-07-31', to_date='2020-07-30',interval='1d'):\n",
    "    df = san.get(\n",
    "        f'{request}/{asset}',\n",
    "        from_date=from_date,\n",
    "        to_date=to_date,\n",
    "        interval=interval\n",
    "    )\n",
    "    # if no col named value, renaming ignored\n",
    "    df = df.rename(columns={'value':f'{asset}_{request}'})\n",
    "    # print data source\n",
    "    print(f'source: santiment') \n",
    "    return df"
   ]
  },
  {
   "cell_type": "code",
   "execution_count": null,
   "metadata": {},
   "outputs": [],
   "source": [
    "# IMPORTANT TIME SERIES DF JOIN FUNCTION\n",
    "\n",
    "# This can be improved to include more df (*args)\n",
    "# This allows to .join timeseries dfs on common index (datetime)\n",
    "def aggregate_timeseries_df(df,df1,df2):\n",
    "    # join df on indexes (datetime)\n",
    "    df = df.join(df1).join(df2)\n",
    "    return df"
   ]
  },
  {
   "cell_type": "code",
   "execution_count": null,
   "metadata": {
    "tags": []
   },
   "outputs": [],
   "source": [
    "# IMPORTANT DIRECT CALL TO SANPY API\n",
    "\n",
    "san.get('ohlcv/chainlink').head()\n",
    "# ALTERNATIVE BUT SAME\n",
    "get_metric_timeseries('ohlcv','chainlink').head()"
   ]
  },
  {
   "cell_type": "code",
   "execution_count": null,
   "metadata": {},
   "outputs": [],
   "source": [
    "df = get_metric_timeseries('supply_on_exchanges','chainlink')\n",
    "df.dtypes"
   ]
  },
  {
   "cell_type": "code",
   "execution_count": null,
   "metadata": {},
   "outputs": [],
   "source": [
    "df['chainlink_supply_on_exchanges'] = df['chainlink_supply_on_exchanges'].astype('int')\n",
    "df['chainlink_supply_on_exchanges'].plot(figsize=(15,7))"
   ]
  },
  {
   "cell_type": "markdown",
   "metadata": {},
   "source": [
    "non time series or histogram data"
   ]
  },
  {
   "cell_type": "code",
   "execution_count": null,
   "metadata": {},
   "outputs": [],
   "source": [
    "# FUNCTION FOR NON TIMESERIES REQUESTS\n",
    "# Static\n",
    "def get_nonts_metric(request='projects',requestgroup='all'):\n",
    "    df = san.get(\n",
    "        f'{request}/{requestgroup}'\n",
    "    )\n",
    "    return df"
   ]
  },
  {
   "cell_type": "code",
   "execution_count": null,
   "metadata": {},
   "outputs": [],
   "source": [
    "# FUNCTION TO AGG NON TIMESERIES\n",
    "# This can be improved to include more df (*args)\n",
    "# This allows to .join timeseries dfs on common index (key)\n",
    "def aggregate_nonts_df(df,df1):\n",
    "    # join df on indexes (key column)\n",
    "    # add suffix if duplicate col names\n",
    "    df = df.join(df1, lsuffix='left')\n",
    "    return df"
   ]
  },
  {
   "cell_type": "markdown",
   "metadata": {},
   "source": [
    "## Messari API\n",
    "\n",
    "Used for: \n",
    "- trading real volume \n",
    "- "
   ]
  },
  {
   "cell_type": "code",
   "execution_count": 604,
   "metadata": {},
   "outputs": [],
   "source": [
    "url = 'https://data.messari.io/api/v1/assets/metrics'\n",
    "resp = requests.get(url)\n",
    "        # get data from endpoint and load json content\n",
    "resp.raise_for_status()\n",
    "        # parse json into py dict\n",
    "        # this is a list\n",
    "resp = json.loads(resp.content)['data']['metrics']\n",
    "    # df expects list\n",
    "df = pd.DataFrame(resp)\n",
    "# df = json_normalize(resp)\n",
    "df = df[['metric_id','description','minimum_interval','values_schema']]\n",
    "df.set_index('metric_id', inplace=True)\n",
    "\n",
    "    # df = pd.DataFrame(resp, columns=['datetime',f'{metricid}'])\n",
    "    # df['datetime'] = pd.to_datetime(df['datetime'], unit='ms')\n",
    "    # df.set_index('datetime', inplace=True)"
   ]
  },
  {
   "cell_type": "code",
   "execution_count": 605,
   "metadata": {},
   "outputs": [
    {
     "output_type": "execute_result",
     "data": {
      "text/plain": "                                                             description  \\\nmetric_id                                                                  \ntxn.vol                The sum USD value of all native units transfer...   \nexch.flow.in.usd.incl  The sum USD value sent to exchanges that inter...   \nreddit.subscribers     The number of subscribers on the asset's prima...   \nmcap.dom               The marketcap dominance is the asset's percent...   \ndaily.vol              The annualized standard-deviation of daily ret...   \n\n                      minimum_interval  \\\nmetric_id                                \ntxn.vol                             1d   \nexch.flow.in.usd.incl               1d   \nreddit.subscribers                  1h   \nmcap.dom                            1d   \ndaily.vol                           1d   \n\n                                                           values_schema  \nmetric_id                                                                 \ntxn.vol                {'transaction_volume_usd': 'The sum USD value ...  \nexch.flow.in.usd.incl  {'flow_in_usd': 'The sum USD value sent to exc...  \nreddit.subscribers     {'subscribers': ' The number of subscribers on...  \nmcap.dom               {'marketcap_dominance': 'The marketcap dominan...  \ndaily.vol              {'volatility_30d': 'The asset's volatility cal...  ",
      "text/html": "<div>\n<style scoped>\n    .dataframe tbody tr th:only-of-type {\n        vertical-align: middle;\n    }\n\n    .dataframe tbody tr th {\n        vertical-align: top;\n    }\n\n    .dataframe thead th {\n        text-align: right;\n    }\n</style>\n<table border=\"1\" class=\"dataframe\">\n  <thead>\n    <tr style=\"text-align: right;\">\n      <th></th>\n      <th>description</th>\n      <th>minimum_interval</th>\n      <th>values_schema</th>\n    </tr>\n    <tr>\n      <th>metric_id</th>\n      <th></th>\n      <th></th>\n      <th></th>\n    </tr>\n  </thead>\n  <tbody>\n    <tr>\n      <th>txn.vol</th>\n      <td>The sum USD value of all native units transfer...</td>\n      <td>1d</td>\n      <td>{'transaction_volume_usd': 'The sum USD value ...</td>\n    </tr>\n    <tr>\n      <th>exch.flow.in.usd.incl</th>\n      <td>The sum USD value sent to exchanges that inter...</td>\n      <td>1d</td>\n      <td>{'flow_in_usd': 'The sum USD value sent to exc...</td>\n    </tr>\n    <tr>\n      <th>reddit.subscribers</th>\n      <td>The number of subscribers on the asset's prima...</td>\n      <td>1h</td>\n      <td>{'subscribers': ' The number of subscribers on...</td>\n    </tr>\n    <tr>\n      <th>mcap.dom</th>\n      <td>The marketcap dominance is the asset's percent...</td>\n      <td>1d</td>\n      <td>{'marketcap_dominance': 'The marketcap dominan...</td>\n    </tr>\n    <tr>\n      <th>daily.vol</th>\n      <td>The annualized standard-deviation of daily ret...</td>\n      <td>1d</td>\n      <td>{'volatility_30d': 'The asset's volatility cal...</td>\n    </tr>\n  </tbody>\n</table>\n</div>"
     },
     "metadata": {},
     "execution_count": 605
    }
   ],
   "source": [
    "df.head()"
   ]
  },
  {
   "cell_type": "code",
   "execution_count": 599,
   "metadata": {},
   "outputs": [],
   "source": [
    "# Function to get all messari timeseries data\n",
    "# Required args: assetkey (e.g. chainlink), metricid\n",
    "# If more than one col value this may break!\n",
    "\n",
    "# documentation: https://messari.io/api/docs#operation/Get%20Asset%20timeseries\n",
    "# args: start (YYYY-MM-DD), end (YYYY-MM-DD)\n",
    "# interval \"1m\" \"5m\" \"15m\" \"30m\" \"1h\" \"1d\" \"1w\"\n",
    "\n",
    "def get_messari_ts(assetkey, metricid,interval='1d', start='2018-07-31', end='2020-07-31'):\n",
    "    url = 'https://data.messari.io/api/v1/assets/{assetkey}/metrics/{metricid}/time-series'.format(assetkey=assetkey, metricid=metricid)\n",
    "    resp = requests.get(url, params={\n",
    "        'start': f'{start}',\n",
    "        'end': f'{end}',\n",
    "        'interval':f'{interval}'\n",
    "    })\n",
    "        # get data from endpoint and load json content\n",
    "    resp.raise_for_status()\n",
    "        # parse json into py dict\n",
    "        # this is a list\n",
    "    resp = json.loads(resp.content)['data']['values']\n",
    "    # df expects list\n",
    "    df = pd.DataFrame(resp, columns=['datetime',f'{metricid}'])\n",
    "    df['datetime'] = pd.to_datetime(df['datetime'], unit='ms')\n",
    "    df.set_index('datetime', inplace=True)\n",
    "    return df"
   ]
  },
  {
   "cell_type": "code",
   "execution_count": 583,
   "metadata": {},
   "outputs": [],
   "source": [
    "df = get_messari_ts('chainlink','real.vol',end='2020-08-12')"
   ]
  },
  {
   "cell_type": "code",
   "execution_count": 588,
   "metadata": {
    "tags": []
   },
   "outputs": [],
   "source": [
    "df['real.vol'] = df['real.vol'].astype('int')\n"
   ]
  },
  {
   "cell_type": "code",
   "execution_count": 591,
   "metadata": {},
   "outputs": [
    {
     "output_type": "execute_result",
     "data": {
      "text/plain": "             real.vol\ndatetime             \n2020-08-07  320038225\n2020-08-08  898969171\n2020-08-09  957986378\n2020-08-10  683262983\n2020-08-11  108424366",
      "text/html": "<div>\n<style scoped>\n    .dataframe tbody tr th:only-of-type {\n        vertical-align: middle;\n    }\n\n    .dataframe tbody tr th {\n        vertical-align: top;\n    }\n\n    .dataframe thead th {\n        text-align: right;\n    }\n</style>\n<table border=\"1\" class=\"dataframe\">\n  <thead>\n    <tr style=\"text-align: right;\">\n      <th></th>\n      <th>real.vol</th>\n    </tr>\n    <tr>\n      <th>datetime</th>\n      <th></th>\n    </tr>\n  </thead>\n  <tbody>\n    <tr>\n      <th>2020-08-07</th>\n      <td>320038225</td>\n    </tr>\n    <tr>\n      <th>2020-08-08</th>\n      <td>898969171</td>\n    </tr>\n    <tr>\n      <th>2020-08-09</th>\n      <td>957986378</td>\n    </tr>\n    <tr>\n      <th>2020-08-10</th>\n      <td>683262983</td>\n    </tr>\n    <tr>\n      <th>2020-08-11</th>\n      <td>108424366</td>\n    </tr>\n  </tbody>\n</table>\n</div>"
     },
     "metadata": {},
     "execution_count": 591
    }
   ],
   "source": [
    "df.tail()"
   ]
  },
  {
   "cell_type": "markdown",
   "metadata": {},
   "source": [
    "--- \n",
    "\n",
    "## Coinpaprika \n",
    "\n",
    "Used for: \n",
    "- \n",
    "\n",
    "## Cryptocompare\n",
    "\n",
    "Used for: \n",
    "- https://min-api.cryptocompare.com/documentation?key=Historical&cat=dataExchangeSymbolHistoday\n",
    "- https://min-api.cryptocompare.com/documentation?key=Historical&cat=dataExchangeSymbolHistohour\n",
    "- daily_ohlcv\n",
    "- hourly_ohlcv\n",
    "- daily_trading_volume_by_exchange (and token pair)\n",
    "- hourly-trading_volume_by_exchange (and token pair)"
   ]
  },
  {
   "cell_type": "code",
   "execution_count": 606,
   "metadata": {},
   "outputs": [],
   "source": [
    "# documentation: https://min-api.cryptocompare.com/documentation?key=Historical&cat=dataHistoday\n",
    "# documentation: https://min-api.cryptocompare.com/documentation?key=Historical&cat=dataHistohour\n",
    "# Get open, high, low, close, volumefrom and volumeto from the daily/hourly historical data. \n",
    "# arg: symbol (crypto), to_currency (e.g usd), limit=2000 max, before: end date ts\n",
    "# period: ohlcv either \"histoday\" (default) or \"histohour\".\n",
    "\n",
    "def get_ohlcv_dayorhour(symbol, to_currency, period='histoday',limit=2000, before='2020-07-31'):\n",
    "    url = 'https://min-api.cryptocompare.com/data/v2/{period}?fsym={symbol}&tsym={to_currency}'.format(\n",
    "        symbol=symbol,to_currency=to_currency,period=period)\n",
    "        # get data from endpoint and load json content\n",
    "    resp = requests.get(url, params={\n",
    "        'limit': f'{limit}',\n",
    "        'toTs': str(int(pd.Timestamp(before).timestamp()))\n",
    "    })\n",
    "    resp.raise_for_status()\n",
    "        # parse json into py dict\n",
    "        # this is a list\n",
    "    resp = json.loads(resp.content)['Data']['Data']\n",
    "    # df expects list\n",
    "    df = pd.DataFrame(resp)\n",
    "    df['time'] = pd.to_datetime(df['time'], unit='s')\n",
    "    df.set_index('time', inplace=True)\n",
    "    # print data source\n",
    "    url = url.split('.')[1]\n",
    "    print(f'source: {url}') \n",
    "    return df[['open','close','high','low','volumefrom','volumeto']]"
   ]
  },
  {
   "cell_type": "code",
   "execution_count": 607,
   "metadata": {
    "tags": []
   },
   "outputs": [
    {
     "output_type": "stream",
     "name": "stdout",
     "text": "source: cryptocompare\nsource: cryptocompare\n"
    }
   ],
   "source": [
    "# Example get ohlcv\n",
    "df = get_ohlcv_dayorhour('LINK','USD')\n",
    "df_hour = get_ohlcv_dayorhour('LINK','USD',period='histohour')"
   ]
  },
  {
   "cell_type": "code",
   "execution_count": null,
   "metadata": {},
   "outputs": [],
   "source": [
    "# documentation: https://min-api.cryptocompare.com/documentation?key=Historical&cat=dataExchangeSymbolHistoday\n",
    "# documentation: https://min-api.cryptocompare.com/documentation?key=Historical&cat=dataExchangeSymbolHistohour\n",
    "# Get volume total for trading pair from each exchange from the daily/hourly historical data. \n",
    "# arg: symbol (crypto), to_currency (e.g usd), limit=2000 max, before: end date ts\n",
    "# period: ohlcv either \"histoday\" (default) or \"histohour\".\n",
    "\n",
    "def get_exchangevol_dayorhour(symbol, to_currency, exchange,period='histoday',limit=2000, before='2020-07-31'):\n",
    "    url = 'https://min-api.cryptocompare.com/data/exchange/symbol/{period}?fsym={symbol}&tsym={to_currency}'.format(\n",
    "        symbol=symbol,to_currency=to_currency,period=period\n",
    "    )\n",
    "    resp = requests.get(url, params={\n",
    "        'e': f'{exchange}',\n",
    "        'limit': f'{limit}',\n",
    "        'toTs': str(int(pd.Timestamp(before).timestamp()))\n",
    "    })\n",
    "        # get data from endpoint and load json content\n",
    "    resp.raise_for_status()\n",
    "        # parse json into py dict\n",
    "        # this is a list\n",
    "    resp = json.loads(resp.content)['Data']\n",
    "    # df expects list\n",
    "    df = pd.DataFrame(resp)\n",
    "    df['time'] = pd.to_datetime(df['time'], unit='s')\n",
    "    df.set_index('time', inplace=True)\n",
    "    # print data source\n",
    "    url = url.split('.')[1]\n",
    "    print(f'source: {url}')  \n",
    "    return df "
   ]
  },
  {
   "cell_type": "code",
   "execution_count": null,
   "metadata": {
    "tags": []
   },
   "outputs": [],
   "source": [
    "df = get_exchangevol_dayorhour('LINK','USD','Binance',before='2020-07-31')\n",
    "df_hour = get_exchangevol_dayorhour('LINK','USD','Binance',period='histohour',before='2020-07-31')"
   ]
  },
  {
   "cell_type": "code",
   "execution_count": null,
   "metadata": {
    "tags": []
   },
   "outputs": [],
   "source": [
    "get_exchangevol_dayorhour('LINK','USD','Binance',before='2020-07-31').head()"
   ]
  },
  {
   "cell_type": "code",
   "execution_count": 562,
   "metadata": {
    "tags": []
   },
   "outputs": [
    {
     "output_type": "stream",
     "name": "stdout",
     "text": "source: cryptocompare\n"
    },
    {
     "output_type": "execute_result",
     "data": {
      "text/plain": "            volumefrom  volumeto  volumetotal\ntime                                         \n2020-07-27      5.6580         0       5.6580\n2020-07-28      1.3360         0       1.3360\n2020-07-29      0.6121         0       0.6121\n2020-07-30      0.7578         0       0.7578\n2020-07-31      0.8157         0       0.8157",
      "text/html": "<div>\n<style scoped>\n    .dataframe tbody tr th:only-of-type {\n        vertical-align: middle;\n    }\n\n    .dataframe tbody tr th {\n        vertical-align: top;\n    }\n\n    .dataframe thead th {\n        text-align: right;\n    }\n</style>\n<table border=\"1\" class=\"dataframe\">\n  <thead>\n    <tr style=\"text-align: right;\">\n      <th></th>\n      <th>volumefrom</th>\n      <th>volumeto</th>\n      <th>volumetotal</th>\n    </tr>\n    <tr>\n      <th>time</th>\n      <th></th>\n      <th></th>\n      <th></th>\n    </tr>\n  </thead>\n  <tbody>\n    <tr>\n      <th>2020-07-27</th>\n      <td>5.6580</td>\n      <td>0</td>\n      <td>5.6580</td>\n    </tr>\n    <tr>\n      <th>2020-07-28</th>\n      <td>1.3360</td>\n      <td>0</td>\n      <td>1.3360</td>\n    </tr>\n    <tr>\n      <th>2020-07-29</th>\n      <td>0.6121</td>\n      <td>0</td>\n      <td>0.6121</td>\n    </tr>\n    <tr>\n      <th>2020-07-30</th>\n      <td>0.7578</td>\n      <td>0</td>\n      <td>0.7578</td>\n    </tr>\n    <tr>\n      <th>2020-07-31</th>\n      <td>0.8157</td>\n      <td>0</td>\n      <td>0.8157</td>\n    </tr>\n  </tbody>\n</table>\n</div>"
     },
     "metadata": {},
     "execution_count": 562
    }
   ],
   "source": [
    "df = get_exchangevol_dayorhour('LINK','BTC','uniswap',before='2020-07-31')\n",
    "df.tail()"
   ]
  },
  {
   "cell_type": "code",
   "execution_count": null,
   "metadata": {},
   "outputs": [],
   "source": [
    "# documentation: https://min-api.cryptocompare.com/documentation?key=Toplists&cat=topPairsEndpoint\n",
    "# Get top pairs by volume for a coin\n",
    "# arg: e.g. \n",
    "def get_toppairs_vol(symbol, limit=10):\n",
    "    url = 'https://min-api.cryptocompare.com/data/top/pairs?fsym={symbol}&limit={limit}'.format(\n",
    "        symbol=symbol,limit=limit)\n",
    "        # get data from endpoint and load json content\n",
    "    resp = requests.get(url)\n",
    "    resp.raise_for_status()\n",
    "        # parse json into py dict\n",
    "        # this is a list\n",
    "    resp = json.loads(resp.content)['Data']\n",
    "    # df expects list\n",
    "    df = pd.DataFrame(resp)\n",
    "    df['lastUpdateTs'] = pd.to_datetime(df['lastUpdateTs'], unit='s')\n",
    "    # print data source\n",
    "    url = url.split('.')[1]\n",
    "    print(f'source: {url}') \n",
    "    return df[['fromSymbol','toSymbol','volume24h','lastUpdateTs']]"
   ]
  },
  {
   "cell_type": "code",
   "execution_count": null,
   "metadata": {
    "tags": []
   },
   "outputs": [],
   "source": [
    "get_toppairs_vol('LINK')"
   ]
  },
  {
   "cell_type": "code",
   "execution_count": null,
   "metadata": {},
   "outputs": [],
   "source": [
    "api_key = '83e625a6bc3dbda445bd3b9001ba7d6f63ffafc91f75763f4a9b993bb1e2514d'"
   ]
  },
  {
   "cell_type": "code",
   "execution_count": null,
   "metadata": {},
   "outputs": [],
   "source": [
    "# Get cryptocompare symbol trading pairs by exchange\n",
    "# documentation: https://min-api.cryptocompare.com/documentation?key=PairMapping&cat=pairMappingMappedSymbolEndpoint\n",
    "# NEEDS API_KEY\n",
    "\n",
    "def get_cc_pairbyexchange(symbol,api_key=api_key):\n",
    "    url = 'https://min-api.cryptocompare.com/data/v2/pair/mapping/fsym?fsym={symbol}&api_key={api_key}'.format(symbol=symbol,api_key=api_key)\n",
    "        # get data from endpoint and load json content\n",
    "    resp = requests.get(url)\n",
    "    resp.raise_for_status()\n",
    "        # parse json into py dict\n",
    "        # this is a list\n",
    "    resp = json.loads(resp.content)['Data']['current']\n",
    "    # df expects list\n",
    "    df = pd.DataFrame(resp)\n",
    "    df['last_update'] = pd.to_datetime(df['last_update'], unit='s')\n",
    "    # print data source\n",
    "    url = url.split('.')[1]\n",
    "    print(f'source: {url}')    \n",
    "    return df#[['fromSymbol','toSymbol','volume24h','lastUpdateTs']]b"
   ]
  },
  {
   "cell_type": "code",
   "execution_count": null,
   "metadata": {
    "tags": []
   },
   "outputs": [],
   "source": [
    "df = get_cc_pairbyexchange('LINK')\n",
    "df.head()"
   ]
  },
  {
   "cell_type": "markdown",
   "metadata": {},
   "source": [
    "---\n",
    "\n",
    "## Coingecko\n",
    "\n",
    "Used for: \n",
    "\n",
    "token:\n",
    "- ohlcv daily of coins\n",
    "\n",
    "exchanges/markets:\n",
    "- list of all exchanges\n",
    "- list of exchanges/markets coin is listed\n",
    "- exchange volume by ticker or coin\n",
    "- exchange total volume historical\n"
   ]
  },
  {
   "cell_type": "code",
   "execution_count": null,
   "metadata": {},
   "outputs": [],
   "source": [
    "# Static\n",
    "# Returns the coin pairs, exchanges where coin traded and last volumes\n",
    "# check get_coin_list() for ids\n",
    "def get_markets_bycoin(asset,exchange_id=''):\n",
    "    url = 'https://api.coingecko.com/api/v3/coins/{asset}/tickers'.format(asset=asset)\n",
    "    resp = requests.get(url, params={\n",
    "        'id': f'{asset}',\n",
    "        'exchange_ids': f'{exchange_id}'\n",
    "    })    \n",
    "    resp.raise_for_status()\n",
    "            # parse json into py dict\n",
    "            # this is a list\n",
    "    resp = json.loads(resp.content)['tickers']\n",
    "        # df expects list\n",
    "    df = json_normalize(resp)\n",
    "    # print data source\n",
    "    url = url.split('.')[1]\n",
    "    print(f'source: {url}')  \n",
    "    return df[['coin_id','base','target','market.name','volume','trust_score']]\n",
    "# df[['base','target','trust_score','volume']].head()"
   ]
  },
  {
   "cell_type": "code",
   "execution_count": null,
   "metadata": {
    "tags": []
   },
   "outputs": [],
   "source": [
    "df = get_markets_bycoin('chainlink')\n",
    "df.head()"
   ]
  },
  {
   "cell_type": "code",
   "execution_count": null,
   "metadata": {},
   "outputs": [],
   "source": [
    "# Documentation: https://www.coingecko.com/en/api/coins/markets\n",
    "# Get overview market information about token \n",
    "# args: asset (e.g.'chainlink'), currency (output in 'usd' by default)\n",
    "\n",
    "def get_coin_info(asset, currency='usd',):\n",
    "    url = 'https://api.coingecko.com/api/v3/coins/markets?vs_currency={currency}&ids={asset}'.format(asset=asset,currency=currency)\n",
    "    resp = requests.get(url, params={\n",
    "        'vs_currency': f'{currency}',\n",
    "        'ids': f'{asset}'\n",
    "    })    \n",
    "    resp.raise_for_status()\n",
    "            # parse json into py dict\n",
    "            # this is a list\n",
    "    resp = json.loads(resp.content)\n",
    "        # df expects list\n",
    "    df = json_normalize(resp)\n",
    "    # print data source\n",
    "    url = url.split('.')[1]\n",
    "    print(f'source: {url}')  \n",
    "    return df"
   ]
  },
  {
   "cell_type": "code",
   "execution_count": null,
   "metadata": {
    "tags": []
   },
   "outputs": [],
   "source": [
    "df = get_coin_info('chainlink')\n",
    "df = df[['id','total_supply','circulating_supply','current_price','market_cap','market_cap_rank','total_volume','ath','atl']]\n",
    "df.info()"
   ]
  },
  {
   "cell_type": "code",
   "execution_count": null,
   "metadata": {},
   "outputs": [],
   "source": [
    "# Static\n",
    "# Coingecko\n",
    "# Get full list of coins or full list of exchanges\n",
    "# arg: \"exchanges\" OR \"coins\" \n",
    "\n",
    "def get_exchange_or_coinslist(exchanges_coins):\n",
    "    url = \"https://api.coingecko.com/api/v3/{exchanges_coins}/list\".format(exchanges_coins=exchanges_coins)\n",
    "        # get data from endpoint and load json content\n",
    "    resp = requests.get(url)\n",
    "    resp.raise_for_status()\n",
    "        # parse json into py dict\n",
    "        # this is a list\n",
    "    resp = json.loads(resp.content)\n",
    "    # df expects list\n",
    "    df = pd.DataFrame(resp)\n",
    "    # print data source\n",
    "    url = url.split('.')[1]\n",
    "    print(f'source: {url}')  \n",
    "    return df"
   ]
  },
  {
   "cell_type": "markdown",
   "metadata": {},
   "source": [
    "timeseries"
   ]
  },
  {
   "cell_type": "code",
   "execution_count": 559,
   "metadata": {
    "tags": []
   },
   "outputs": [],
   "source": [
    "# Timeseries\n",
    "# THIS IS GOOD!\n",
    "# TRANSFORM INTO FUNCTION!\n",
    "# COINGECKO API\n",
    "# No need for apikeys \n",
    "\n",
    "import requests\n",
    "from pandas.io.json import json_normalize\n",
    "import pandas as pd \n",
    "import json\n",
    "\n",
    "def get_hist_price(symbol, currency='usd', start='2018-07-30', end='2020-07-30'):\n",
    "\n",
    "    # api url formatted\n",
    "    # symbol are {id} \n",
    "    url = \"https://api.coingecko.com/api/v3/coins/{symbol}/market_chart/range?vs_currency={currency}&from={start}&      to={end}\".format(symbol=symbol,currency=currency,start=start, end=end)\n",
    "    # get data from endpoint and load json content\n",
    "    resp = requests.get(url, params={\n",
    "        # handle unix timestamps\n",
    "        'from': str(int(pd.Timestamp(start).timestamp())),\n",
    "        'to': str(int(pd.Timestamp(end).timestamp()))\n",
    "        })\n",
    "    resp.raise_for_status()\n",
    "    # parse json into py dict\n",
    "    resp = json.loads(resp.content)\n",
    "\n",
    "    # set df from json dict\n",
    "    # use list comprehension to iterate over dict\n",
    "    df = pd.DataFrame({\n",
    "        'dates':[x[0] for x in resp['prices']],\n",
    "        'prices': [x[1] for x in resp['prices']],\n",
    "        'market_caps': [x[1] for x in resp['market_caps']],\n",
    "        'total_volumes': [x[1] for x in resp['total_volumes']]\n",
    "    })\n",
    "    # change date format\n",
    "    df['dates'] = pd.to_datetime(df['dates'], unit='ms')\n",
    "    # set df index to date\n",
    "    df.set_index('dates', inplace=True)\n",
    "    # print data source\n",
    "    url = url.split('.')[1]\n",
    "    print(f'source: {url}')  \n",
    "    return df"
   ]
  },
  {
   "cell_type": "code",
   "execution_count": 561,
   "metadata": {
    "tags": []
   },
   "outputs": [
    {
     "output_type": "stream",
     "name": "stdout",
     "text": "source: coingecko\n"
    },
    {
     "output_type": "execute_result",
     "data": {
      "text/plain": "              prices   market_caps  total_volumes\ndates                                            \n2020-07-26  7.669293  2.929743e+09   5.512752e+08\n2020-07-27  7.508402  2.868281e+09   6.857111e+08\n2020-07-28  7.067344  2.699793e+09   9.283412e+08\n2020-07-29  7.204811  2.749422e+09   5.898602e+08\n2020-07-30  7.099912  2.712234e+09   5.601898e+08",
      "text/html": "<div>\n<style scoped>\n    .dataframe tbody tr th:only-of-type {\n        vertical-align: middle;\n    }\n\n    .dataframe tbody tr th {\n        vertical-align: top;\n    }\n\n    .dataframe thead th {\n        text-align: right;\n    }\n</style>\n<table border=\"1\" class=\"dataframe\">\n  <thead>\n    <tr style=\"text-align: right;\">\n      <th></th>\n      <th>prices</th>\n      <th>market_caps</th>\n      <th>total_volumes</th>\n    </tr>\n    <tr>\n      <th>dates</th>\n      <th></th>\n      <th></th>\n      <th></th>\n    </tr>\n  </thead>\n  <tbody>\n    <tr>\n      <th>2020-07-26</th>\n      <td>7.669293</td>\n      <td>2.929743e+09</td>\n      <td>5.512752e+08</td>\n    </tr>\n    <tr>\n      <th>2020-07-27</th>\n      <td>7.508402</td>\n      <td>2.868281e+09</td>\n      <td>6.857111e+08</td>\n    </tr>\n    <tr>\n      <th>2020-07-28</th>\n      <td>7.067344</td>\n      <td>2.699793e+09</td>\n      <td>9.283412e+08</td>\n    </tr>\n    <tr>\n      <th>2020-07-29</th>\n      <td>7.204811</td>\n      <td>2.749422e+09</td>\n      <td>5.898602e+08</td>\n    </tr>\n    <tr>\n      <th>2020-07-30</th>\n      <td>7.099912</td>\n      <td>2.712234e+09</td>\n      <td>5.601898e+08</td>\n    </tr>\n  </tbody>\n</table>\n</div>"
     },
     "metadata": {},
     "execution_count": 561
    }
   ],
   "source": [
    "get_hist_price('chainlink').tail()"
   ]
  },
  {
   "cell_type": "code",
   "execution_count": null,
   "metadata": {},
   "outputs": [],
   "source": [
    "# search id and symbol at coingecko\n",
    "df = get_coinlist()\n",
    "df.loc[df['id'] == 'chainlink']"
   ]
  },
  {
   "cell_type": "code",
   "execution_count": null,
   "metadata": {
    "tags": []
   },
   "outputs": [],
   "source": [
    "# uses coingecko coin id\n",
    "# note: bitcoin not btc, ethereum not eth\n",
    "df = get_hist_price('ethereum')"
   ]
  },
  {
   "cell_type": "code",
   "execution_count": null,
   "metadata": {
    "tags": []
   },
   "outputs": [],
   "source": [
    "df.shape"
   ]
  },
  {
   "cell_type": "markdown",
   "metadata": {},
   "source": [
    "---\n",
    "\n",
    "## Defiexplore\n",
    "\n",
    "Used for: \n",
    "- liquidations data\n",
    "- auctions data\n",
    "- vault history data\n",
    "\n",
    "Sources:\n",
    "- liquidations: https://defiexplore.com/api/auctions\n",
    "- all vaults: https://defiexplore.com/api/all-vaults"
   ]
  },
  {
   "cell_type": "code",
   "execution_count": null,
   "metadata": {},
   "outputs": [],
   "source": [
    "# GET LIQUIDATIONS DATA\n",
    "\n",
    "import requests\n",
    "import pandas as pd\n",
    "\n",
    "def get_liquidations():\n",
    "    url = \"https://defiexplore.com/api/auctions\"\n",
    "        # get data from endpoint and load json content\n",
    "    resp = requests.get(url)\n",
    "    # resp.raise_for_status()\n",
    "        # parse json into py dict\n",
    "        # this is a list\n",
    "    resp = json.loads(resp.content)\n",
    "    # # df expects list\n",
    "    df = pd.DataFrame(resp)\n",
    "    # df index\n",
    "    df.set_index('timestamp', inplace=True)\n",
    "    # print data source\n",
    "    url = url.split('.')[0]\n",
    "    print(f'source: {url}')  \n",
    "    return df"
   ]
  },
  {
   "cell_type": "code",
   "execution_count": null,
   "metadata": {
    "tags": []
   },
   "outputs": [],
   "source": [
    "# PLACEHOLDER FOR ALL-VAULTS DATA\n",
    "get_liquidations().head()"
   ]
  },
  {
   "cell_type": "code",
   "execution_count": null,
   "metadata": {},
   "outputs": [],
   "source": [
    "liquidations = get_liquidations()\n",
    "liquidations['profit'].sum()"
   ]
  },
  {
   "cell_type": "code",
   "execution_count": null,
   "metadata": {},
   "outputs": [],
   "source": [
    "liquidations.dtypes.value_counts()"
   ]
  },
  {
   "cell_type": "code",
   "execution_count": null,
   "metadata": {
    "tags": []
   },
   "outputs": [],
   "source": [
    "liquidations.dtypes"
   ]
  },
  {
   "cell_type": "markdown",
   "metadata": {},
   "source": [
    "---\n",
    "\n",
    "## On-chain DEX\n",
    "\n",
    "Sources: \n",
    "- blocklytics\n",
    "- 0xtracker\n",
    "- uniswap\n",
    "- kyber\n"
   ]
  },
  {
   "cell_type": "code",
   "execution_count": null,
   "metadata": {},
   "outputs": [],
   "source": [
    "# get volume from 0x tracker on token\n",
    "# 0x514910771af9ca656af840dff83e8264ecf986ca = link\n",
    "\n",
    "def get_0x_tokenvolume(token_add, granularity='day', period='all'):\n",
    "    url = 'https://api.0xtracker.com/metrics/token'\n",
    "    resp = requests.get(url, params={\n",
    "        'granularity': 'day',\n",
    "        'token': f'{token_add}',\n",
    "        'period': 'all'\n",
    "    })\n",
    "        # resp.raise_for_status()\n",
    "            # parse json into py dict\n",
    "            # this is a list\n",
    "    resp = json.loads(resp.content)\n",
    "        # # df expects list\n",
    "    df = json_normalize(resp)\n",
    "    df.set_index('date', inplace=True)\n",
    "    \n",
    "    # print data source\n",
    "    url = url.split('.')[1]\n",
    "    print(f'source: {url}')\n",
    "    return df"
   ]
  },
  {
   "cell_type": "code",
   "execution_count": null,
   "metadata": {
    "tags": []
   },
   "outputs": [],
   "source": [
    "df = get_0x_tokenvolume('0x514910771af9ca656af840dff83e8264ecf986ca')\n",
    "df.tail()"
   ]
  },
  {
   "cell_type": "markdown",
   "metadata": {},
   "source": [
    "---\n",
    "\n",
    "## Coinmetrics\n",
    "\n",
    "Used for: \n",
    "- lots of summary stats\n",
    "- csv formatted data (API also available but requires PRO key)\n",
    "\n",
    "Documentation:\n",
    "- https://github.com/coinmetrics-io?language=python\n",
    "- https://coinmetrics.io/tools/\n",
    "- https://docs.coinmetrics.io/info/assets/link > free vs pro tiers\n",
    "- https://docs.coinmetrics.io/info/metrics > full data dictionary\n"
   ]
  },
  {
   "cell_type": "code",
   "execution_count": null,
   "metadata": {},
   "outputs": [],
   "source": [
    "# Get all the data dictionary and definitions\n",
    "# for metrics file\n",
    "df = pd.read_csv('data/coinmetrics_info.csv',\n",
    "                 na_values=['', '?', '-'],\n",
    "                 parse_dates=[0],\n",
    "                 index_col=[0])                 \n",
    "df.tail(5) "
   ]
  },
  {
   "cell_type": "code",
   "execution_count": null,
   "metadata": {},
   "outputs": [],
   "source": [
    "# summary stats from coinmetrics\n",
    "df = pd.read_csv('data/coinmetrics_link.csv',\n",
    "                 na_values=['', '?', '-'],\n",
    "                 parse_dates=[0],\n",
    "                 index_col=[0])                 \n",
    "df.tail(5) "
   ]
  },
  {
   "cell_type": "markdown",
   "metadata": {},
   "source": [
    "---\n",
    "\n",
    "## Alethio\n",
    "\n",
    "Used for: **DEFI products and rates**\n",
    "- Defi stats (snapshot and timeseries)\n",
    "- daily_earn_apr (by platform and token)\n",
    "- daily_borrow_apr (by platform and token)\n",
    "- daily_outstanding_debt\n",
    "- daily_supply\n"
   ]
  },
  {
   "cell_type": "code",
   "execution_count": null,
   "metadata": {
    "tags": []
   },
   "outputs": [],
   "source": [
    "before = '2018-07-30'\n",
    "after = '2020-08-05'\n",
    "\n",
    "print(str(int(pd.Timestamp(before).timestamp())))\n",
    "print(str(int(pd.Timestamp(after).timestamp())))"
   ]
  },
  {
   "cell_type": "markdown",
   "metadata": {},
   "source": [
    "Snapshot of rates"
   ]
  },
  {
   "cell_type": "code",
   "execution_count": null,
   "metadata": {},
   "outputs": [],
   "source": [
    "# documentation: https://consensys.github.io/codefi-data-fundamental-api-redoc/#tag/DeFi/paths/~1v0~1defi~1snapshot/get\n",
    "\n",
    "def get_defi_rates_snap():\n",
    "    url = 'https://api.aleth.io/v0/defi/snapshot'\n",
    "    resp = requests.get(url)\n",
    "\n",
    "    resp = requests.get(url) \n",
    "    resp.raise_for_status()\n",
    "\n",
    "    resp = json.loads(resp.content)['data']\n",
    "            # # df expects list\n",
    "    df = json_normalize(resp)\n",
    "    df.set_index('protocol',inplace=True)\n",
    "    df = df.drop('timestamp',axis='columns')\n",
    "    # print data source\n",
    "    url = url.split('.')[1]\n",
    "    print(f'source: {url}')\n",
    "    return df "
   ]
  },
  {
   "cell_type": "code",
   "execution_count": null,
   "metadata": {
    "tags": []
   },
   "outputs": [],
   "source": [
    "# Example\n",
    "get_defi_rates_snap().head()"
   ]
  },
  {
   "cell_type": "markdown",
   "metadata": {},
   "source": [
    "Timeseries data: APR rates / collateral ratios / debt / supply"
   ]
  },
  {
   "cell_type": "code",
   "execution_count": null,
   "metadata": {
    "tags": []
   },
   "outputs": [],
   "source": [
    "# documentation: https://docs.aleth.io/api#tag/DeFi/paths/~1v0~1defi~1history/get\n",
    "# documentation (new): https://consensys.github.io/codefi-data-fundamental-api-redoc/#tag/DeFi/paths/~1v0~1defi~1history/get\n",
    "# protocols: \"maker\" \"mcd\" \"compound\" \"dydx\" \"bzx\" \"ddex\" \"aave\" \"lendf\"\n",
    "# assets: \"eth\" \"dai\" \"sai\" \"usdc\" \"bat\" \"zrx\" \"rep\" \"wbtc\" \"knc\" \"link\" \"usdt\" \"susd\" \"snx\" \"mkr\" \"lend\" \"mana\" \"imbtc\" \"usdx\" \"tusd\"\n",
    "# metric: \"earn_apr\" \"borrow_apr\" (by default both)\n",
    "# granularity: 24 (default: daily)\n",
    "\n",
    "def get_defi_ratehist(protocol, asset, after='2018-07-30', before=''):\n",
    "    url = 'https://api.aleth.io/v0/defi/history'\n",
    "    resp = requests.get(url)\n",
    "\n",
    "    resp = requests.get(url, params={\n",
    "        'after': str(int(pd.Timestamp(after).timestamp())),\n",
    "        'assets':[f'{asset}'],\n",
    "        # 'metrics': ['borrow_apr'],\n",
    "        'protocols':f'{protocol}'\t\n",
    "    })\n",
    "    resp.raise_for_status()\n",
    "            # parse json into py dict\n",
    "            # this is a list\n",
    "    resp = json.loads(resp.content)['data']\n",
    "        # # df expects list\n",
    "    resp = json_normalize(resp)['points']\n",
    "    \n",
    "    # dataframe split earn \n",
    "    df = pd.DataFrame(resp[0],columns=['timestamp',f'{protocol}_earn_apr'])\n",
    "    df['timestamp'] = pd.to_datetime(df['timestamp'],unit='s')\n",
    "    df.set_index('timestamp', inplace=True)\n",
    "    \n",
    "    # dataframe split borrow\n",
    "    df1 = pd.DataFrame(resp[1],columns=['timestamp',f'{protocol}_borrow_apr'])\n",
    "    df1['timestamp'] = pd.to_datetime(df1['timestamp'],unit='s')\n",
    "    df1.set_index('timestamp', inplace=True)\n",
    "    \n",
    "    # get df timeseries\n",
    "    df2 = df.join(df1)\n",
    "    \n",
    "    # print data source\n",
    "    url = url.split('.')[1]\n",
    "    print(f'source: {url}')\n",
    "    return df2"
   ]
  },
  {
   "cell_type": "code",
   "execution_count": null,
   "metadata": {
    "tags": []
   },
   "outputs": [],
   "source": [
    "get_defi_ratehist('aave','link').head()"
   ]
  },
  {
   "cell_type": "code",
   "execution_count": null,
   "metadata": {},
   "outputs": [],
   "source": [
    "# documentation: https://docs.aleth.io/#tag/DeFi/paths/~1v0~1defi~1stats/get\n",
    "# documentation(new): https://consensys.github.io/codefi-data-fundamental-api-redoc/#tag/DeFi/paths/~1v0~1defi~1stats/get\n",
    "# metrics: \"collateral_ratio\" \"outstanding_debt\" \"supply_volume\"\n",
    "# protocol: \"maker\" \"mcd\" \"compound\" \"dydx\" \"bzx\" \"ddex\" \"aave\" \"lendf\"\n",
    "# granularity: default 24 (daily)\n",
    "# assets: \"eth\" \"dai\" \"sai\" \"usdc\" \"bat\" \"zrx\" \"rep\" \"wbtc\" \"knc\" \"link\" \"usdt\" \"susd\" \"snx\" \"mkr\" \"lend\" \"mana\" \"imbtc\" \"usdx\" \"tusd\"\n",
    "\n",
    "def get_defi_protocol_statshist(protocol, asset, after='2018-07-30', before=''):\n",
    "    url = 'https://api.aleth.io/v0/defi/stats'\n",
    "    resp = requests.get(url)\n",
    "\n",
    "    resp = requests.get(url, params={\n",
    "        'after': str(int(pd.Timestamp(after).timestamp())),\n",
    "        'assets':[f'{asset}'],\n",
    "        # 'metrics': ['collateral_ratio', 'outstanding_debt', 'supply_volume'],\n",
    "        'protocols':f'{protocol}'\t\n",
    "    })\n",
    "    resp.raise_for_status()\n",
    "            # parse json into py dict\n",
    "            # this is a list\n",
    "    resp = json.loads(resp.content)['data']\n",
    "        # # df expects list\n",
    "    resp_cr = json_normalize(resp)['collateral_ratio']\n",
    "    resp_debt = json_normalize(resp)['outstanding_debt']\n",
    "    resp_vol = json_normalize(resp)['supply_volume']\n",
    "    \n",
    "    # dataframe split cr \n",
    "    df = pd.DataFrame(resp_cr[0],columns=['timestamp',f'{protocol}_{asset}_col_ratio'])\n",
    "    df['timestamp'] = pd.to_datetime(df['timestamp'],unit='s')\n",
    "    df.set_index('timestamp', inplace=True)\n",
    "    \n",
    "    # dataframe split debt\n",
    "    df1 = pd.DataFrame(resp_debt[0],columns=['timestamp',f'{protocol}_{asset}_outst_debt'])\n",
    "    df1['timestamp'] = pd.to_datetime(df1['timestamp'],unit='s')\n",
    "    df1.set_index('timestamp', inplace=True)\n",
    "    \n",
    "    # dataframe split supply vol\n",
    "    df2 = pd.DataFrame(resp_vol[0],columns=['timestamp',f'{protocol}_{asset}_supp_vol'])\n",
    "    df2['timestamp'] = pd.to_datetime(df2['timestamp'],unit='s')\n",
    "    df2.set_index('timestamp', inplace=True)\n",
    "\n",
    "    # get df join timeseries\n",
    "    df2 = df.join(df1).join(df2)\n",
    "    # print data source\n",
    "    url = url.split('.')[1]\n",
    "    print(f'source: {url}')\n",
    "    return df2"
   ]
  },
  {
   "cell_type": "code",
   "execution_count": null,
   "metadata": {
    "tags": []
   },
   "outputs": [],
   "source": [
    "# Example\n",
    "get_defi_protocol_statshist('aave','link').tail()"
   ]
  },
  {
   "cell_type": "markdown",
   "metadata": {},
   "source": [
    "### MISSING \n",
    "\n",
    "- liquidations/defaults from aave\n",
    "- liquidations/defaults from bzx\n"
   ]
  },
  {
   "cell_type": "code",
   "execution_count": null,
   "metadata": {},
   "outputs": [],
   "source": []
  },
  {
   "cell_type": "markdown",
   "metadata": {},
   "source": [
    "## Glassnode\n",
    "\n",
    "data in json or api:\n",
    "- daily_new_addresses (by token)\n",
    "\n"
   ]
  },
  {
   "cell_type": "code",
   "execution_count": null,
   "metadata": {
    "tags": []
   },
   "outputs": [],
   "source": [
    "file = '/Users/william/Scio/maker-dao/Maker-Risk/LINK/data/new-addresses.json'\n",
    "df = pd.read_json (file)\n",
    "df.tail()"
   ]
  },
  {
   "cell_type": "code",
   "execution_count": null,
   "metadata": {},
   "outputs": [],
   "source": []
  },
  {
   "cell_type": "markdown",
   "metadata": {},
   "source": [
    "---\n",
    "# STARTS HERE \n",
    "\n",
    "Datasets that need to be sourced: \n",
    "\n",
    "- asset price data \n",
    "- asset trading volume\n",
    "    - CEX exchanges \n",
    "    - DEX exchanges    \n",
    "- liquidity "
   ]
  },
  {
   "cell_type": "markdown",
   "metadata": {},
   "source": [
    "## Get the data\n",
    "\n",
    "- pricing\n",
    "- trading volumes"
   ]
  },
  {
   "cell_type": "markdown",
   "metadata": {},
   "source": [
    "### Static data"
   ]
  },
  {
   "cell_type": "code",
   "execution_count": null,
   "metadata": {},
   "outputs": [],
   "source": [
    "# List of coin ids or exchange ids\n",
    "# args: \"exchanges\" or \"coins\"\n",
    "# coingecko ref table\n",
    "get_exchange_or_coinslist('coins').head()"
   ]
  },
  {
   "cell_type": "code",
   "execution_count": null,
   "metadata": {},
   "outputs": [],
   "source": [
    "# Static: latest listed exchanges/pairs/volume by token\n",
    "# calculate share of vol by exchange (all pairs)\n",
    "# calculate share of vol by trading pair\n",
    "df = get_markets_bycoin('chainlink')"
   ]
  },
  {
   "cell_type": "code",
   "execution_count": null,
   "metadata": {},
   "outputs": [],
   "source": [
    "# Static: general token market info\n",
    "# coingecko\n",
    "df = get_coin_info('chainlink')\n",
    "df = df[['id','total_supply','circulating_supply','current_price','market_cap','market_cap_rank','total_volume','ath','atl']]\n",
    "df.info()"
   ]
  },
  {
   "cell_type": "code",
   "execution_count": null,
   "metadata": {},
   "outputs": [],
   "source": [
    "# For visual clarity, pivot table\n",
    "# pivot table\n",
    "df = df.melt()\n",
    "df.set_index('variable', inplace=True)\n",
    "df"
   ]
  },
  {
   "cell_type": "markdown",
   "metadata": {},
   "source": [
    "### Daily data"
   ]
  },
  {
   "cell_type": "markdown",
   "metadata": {},
   "source": [
    "CEX price and trading volume"
   ]
  },
  {
   "cell_type": "code",
   "execution_count": null,
   "metadata": {},
   "outputs": [],
   "source": [
    "# from santiment\n",
    "df = get_metric_timeseries('ohlcv','chainlink')\n",
    "df.head()"
   ]
  },
  {
   "cell_type": "code",
   "execution_count": null,
   "metadata": {},
   "outputs": [],
   "source": [
    "# cryptocompare\n",
    "# Example get ohlcv\n",
    "df = get_ohlcv_dayorhour('LINK','USD')"
   ]
  },
  {
   "cell_type": "code",
   "execution_count": null,
   "metadata": {},
   "outputs": [],
   "source": []
  },
  {
   "cell_type": "markdown",
   "metadata": {},
   "source": [
    "DEX"
   ]
  },
  {
   "cell_type": "code",
   "execution_count": null,
   "metadata": {},
   "outputs": [],
   "source": [
    "# 0x tracker volume\n",
    "# link address = 0x514910771af9ca656af840dff83e8264ecf986ca\n",
    "df = get_0x_tokenvolume('0x514910771af9ca656af840dff83e8264ecf986ca')\n",
    "df.tail()"
   ]
  },
  {
   "cell_type": "code",
   "execution_count": null,
   "metadata": {},
   "outputs": [],
   "source": [
    "# uniswap trading volume "
   ]
  },
  {
   "cell_type": "code",
   "execution_count": null,
   "metadata": {},
   "outputs": [],
   "source": [
    "# "
   ]
  },
  {
   "cell_type": "markdown",
   "metadata": {},
   "source": [
    "Defi lending"
   ]
  },
  {
   "cell_type": "code",
   "execution_count": null,
   "metadata": {},
   "outputs": [],
   "source": [
    "# from alethio/codefi\n",
    "# snapshot view defi rates\n",
    "df = get_defi_rates_snap()\n",
    "df.loc[df['asset'] == 'link']"
   ]
  },
  {
   "cell_type": "code",
   "execution_count": null,
   "metadata": {},
   "outputs": [],
   "source": [
    "# from alethio/codefi\n",
    "# hist view of rates\n",
    "# bzx, aave\n",
    "df = get_defi_earnborrow('aave','link')\n",
    "df1 = get_defi_earnborrow('bzx','link')\n",
    "df = df.join(df1)\n",
    "df = df.apply(pd.to_numeric, errors='coerce')"
   ]
  },
  {
   "cell_type": "code",
   "execution_count": null,
   "metadata": {},
   "outputs": [],
   "source": [
    "# from alethio/codefi\n",
    "# hist view of CR/vol/outst_debt\n",
    "# bzx, aave - link\n",
    "df = get_defi_protocol_statshist('aave','link')\n",
    "# df = df.apply(pd.to_numeric, errors='coerce')"
   ]
  },
  {
   "cell_type": "code",
   "execution_count": null,
   "metadata": {},
   "outputs": [],
   "source": [
    "pd.to_numeric(df['aave_link_supp_vol'],errors='coerce').astype('int').plot()"
   ]
  },
  {
   "cell_type": "markdown",
   "metadata": {},
   "source": [
    "Defi liquidations/defaults volume\n",
    "\n",
    "> missing at the moment\n"
   ]
  },
  {
   "cell_type": "markdown",
   "metadata": {},
   "source": [
    "### Hourly data"
   ]
  },
  {
   "cell_type": "code",
   "execution_count": null,
   "metadata": {},
   "outputs": [],
   "source": [
    "# santiment\n",
    "df = get_metric_timeseries('price_usd','chainlink',interval='1h')\n",
    "df.head()"
   ]
  },
  {
   "cell_type": "code",
   "execution_count": null,
   "metadata": {},
   "outputs": [],
   "source": [
    "# cryptocompare\n",
    "# Example get ohlcv\n",
    "df_hour = get_ohlcv_dayorhour('LINK','USD',period='histohour')"
   ]
  },
  {
   "cell_type": "code",
   "execution_count": null,
   "metadata": {},
   "outputs": [],
   "source": []
  },
  {
   "cell_type": "code",
   "execution_count": null,
   "metadata": {},
   "outputs": [],
   "source": []
  },
  {
   "cell_type": "markdown",
   "metadata": {},
   "source": [
    "--- \n",
    "\n",
    "## Join the data\n",
    "\n",
    "- timeseries data"
   ]
  },
  {
   "cell_type": "code",
   "execution_count": null,
   "metadata": {},
   "outputs": [],
   "source": []
  },
  {
   "cell_type": "code",
   "execution_count": null,
   "metadata": {},
   "outputs": [],
   "source": []
  },
  {
   "cell_type": "code",
   "execution_count": null,
   "metadata": {},
   "outputs": [],
   "source": []
  },
  {
   "cell_type": "markdown",
   "metadata": {},
   "source": [
    "---\n",
    "## Clean data"
   ]
  },
  {
   "cell_type": "code",
   "execution_count": null,
   "metadata": {},
   "outputs": [],
   "source": []
  },
  {
   "cell_type": "code",
   "execution_count": null,
   "metadata": {},
   "outputs": [],
   "source": []
  },
  {
   "cell_type": "code",
   "execution_count": null,
   "metadata": {},
   "outputs": [],
   "source": []
  },
  {
   "cell_type": "code",
   "execution_count": null,
   "metadata": {},
   "outputs": [],
   "source": []
  },
  {
   "cell_type": "markdown",
   "metadata": {},
   "source": [
    "---\n",
    "\n",
    "## Analyse data\n"
   ]
  },
  {
   "cell_type": "code",
   "execution_count": null,
   "metadata": {},
   "outputs": [],
   "source": []
  },
  {
   "cell_type": "code",
   "execution_count": null,
   "metadata": {},
   "outputs": [],
   "source": []
  },
  {
   "cell_type": "code",
   "execution_count": null,
   "metadata": {},
   "outputs": [],
   "source": []
  },
  {
   "cell_type": "code",
   "execution_count": null,
   "metadata": {},
   "outputs": [],
   "source": []
  },
  {
   "cell_type": "markdown",
   "metadata": {},
   "source": [
    "---\n",
    "\n",
    "## Experimentations"
   ]
  },
  {
   "cell_type": "code",
   "execution_count": null,
   "metadata": {},
   "outputs": [],
   "source": [
    "import requests\n",
    "import pandas as pd\n",
    "import matplotlib.pyplot as plt\n",
    "\n",
    "%matplotlib inline"
   ]
  },
  {
   "cell_type": "code",
   "execution_count": null,
   "metadata": {},
   "outputs": [],
   "source": [
    "def get_historic_price(symbol, exchange='bitfinex', after='2018-09-01'):\n",
    "    url = 'https://api.cryptowat.ch/markets/{exchange}/{symbol}eur/ohlc'.format(\n",
    "        symbol=symbol, exchange=exchange)\n",
    "    resp = requests.get(url, params={\n",
    "        'periods': '3600',\n",
    "        'after': str(int(pd.Timestamp(after).timestamp()))\n",
    "    })\n",
    "    resp.raise_for_status()\n",
    "    data = resp.json()\n",
    "    df = pd.DataFrame(data['result']['3600'], columns=[\n",
    "        'CloseTime', 'OpenPrice', 'HighPrice', 'LowPrice', 'ClosePrice', 'Volume', 'NA'\n",
    "    ])\n",
    "    df['CloseTime'] = pd.to_datetime(df['CloseTime'], unit='s')\n",
    "    df.set_index('CloseTime', inplace=True)\n",
    "    return df"
   ]
  },
  {
   "cell_type": "code",
   "execution_count": null,
   "metadata": {},
   "outputs": [],
   "source": [
    "two_years = (pd.Timestamp.now() - pd.offsets.Day(730))\n",
    "two_years"
   ]
  },
  {
   "cell_type": "code",
   "execution_count": null,
   "metadata": {
    "tags": []
   },
   "outputs": [],
   "source": [
    "link = get_historic_price('link', 'kraken', after=two_years)\n",
    "link.head()"
   ]
  },
  {
   "cell_type": "code",
   "execution_count": null,
   "metadata": {},
   "outputs": [],
   "source": [
    "link.describe()"
   ]
  },
  {
   "cell_type": "code",
   "execution_count": null,
   "metadata": {},
   "outputs": [],
   "source": [
    "link['ClosePrice'].plot(figsize=(15,7))"
   ]
  },
  {
   "cell_type": "code",
   "execution_count": null,
   "metadata": {},
   "outputs": [],
   "source": [
    "link['ClosePrice'].plot(kind='box', vert=False, figsize=(14,6))"
   ]
  },
  {
   "cell_type": "code",
   "execution_count": null,
   "metadata": {},
   "outputs": [],
   "source": [
    "# \n",
    "axy = link['ClosePrice'].plot(kind='density', figsize=(14,6))\n",
    "axy.axvline(link['ClosePrice'].mean(), color='red')\n",
    "axy.axvline(link['ClosePrice'].median(), color='green')"
   ]
  },
  {
   "cell_type": "code",
   "execution_count": null,
   "metadata": {},
   "outputs": [],
   "source": [
    "# Distribution since 2020-04\n",
    "link.loc[link.index > '2020-04-01 01:00:00']['ClosePrice'].plot(kind='density', figsize=(14,6))"
   ]
  },
  {
   "cell_type": "code",
   "execution_count": null,
   "metadata": {},
   "outputs": [],
   "source": [
    "corr = link[['OpenPrice','Volume','ClosePrice']].corr()\n",
    "corr"
   ]
  },
  {
   "cell_type": "code",
   "execution_count": null,
   "metadata": {},
   "outputs": [],
   "source": [
    "fig = plt.figure(figsize=(8,8))\n",
    "plt.matshow(corr, cmap='RdBu', fignum=fig.number)\n",
    "plt.xticks(range(len(corr.columns)), corr.columns, rotation='vertical');\n",
    "plt.yticks(range(len(corr.columns)), corr.columns);"
   ]
  },
  {
   "cell_type": "code",
   "execution_count": null,
   "metadata": {},
   "outputs": [],
   "source": [
    "requests.get?"
   ]
  },
  {
   "cell_type": "markdown",
   "metadata": {},
   "source": [
    "---\n",
    "\n",
    "# ANALYSIS\n"
   ]
  },
  {
   "cell_type": "markdown",
   "metadata": {},
   "source": [
    "## Auction liquidation data\n",
    "\n",
    "Only MCD data\n",
    "\n",
    "```\n",
    "- collateral    float64     collateral currency e.g. eth\n",
    "- debt          float64     DAI\n",
    "- profit        float64     DAI\n",
    "- soldColl      float64     collateral currency e.g. eth\n",
    "- soldFor       float64     DAI\n",
    "```"
   ]
  },
  {
   "cell_type": "code",
   "execution_count": null,
   "metadata": {},
   "outputs": [],
   "source": [
    "# global debt auction stats\n",
    "liquidations[['debt']].describe()"
   ]
  },
  {
   "cell_type": "code",
   "execution_count": null,
   "metadata": {
    "tags": []
   },
   "outputs": [],
   "source": [
    "liquidations.index.min()"
   ]
  },
  {
   "cell_type": "code",
   "execution_count": null,
   "metadata": {
    "tags": []
   },
   "outputs": [],
   "source": [
    "# debt auction stats by collateral\n",
    "print('Debt liquidation stats by collateral type')\n",
    "liquidations[['debt','cdpType']].groupby('cdpType').describe()"
   ]
  },
  {
   "cell_type": "code",
   "execution_count": null,
   "metadata": {},
   "outputs": [],
   "source": [
    "subset = liquidations.loc[liquidations['profit']< 0]\n",
    "subset['profit'].sum()"
   ]
  },
  {
   "cell_type": "code",
   "execution_count": null,
   "metadata": {},
   "outputs": [],
   "source": [
    "liquidations[['profit', 'debt']].plot(kind='density', figsize=(14,6))"
   ]
  },
  {
   "cell_type": "code",
   "execution_count": null,
   "metadata": {},
   "outputs": [],
   "source": [
    "# Groupby: cdptype debt median\n",
    "debt_liq = liquidations[['cdpType', 'debt']].groupby('cdpType').median().round(2)\n",
    "debt_liq\n",
    "fig, axes = plt.subplots(figsize=(7,5), dpi=100)\n",
    "plt.bar(debt_liq.index, height=debt_liq.debt)\n",
    "plt.title('Median Debt Liquidation by Collateral');"
   ]
  },
  {
   "cell_type": "code",
   "execution_count": null,
   "metadata": {},
   "outputs": [],
   "source": [
    "import matplotlib.pyplot as plt\n",
    "%matplotlib inline\n",
    "\n",
    "x1 = liquidations.loc[liquidations.cdpType == 'ETH', 'debt']\n",
    "# x2 = liquidations.loc[liquidations.cdpType == 'BAT', 'debt']\n",
    "# x3 = liquidations.loc[liquidations.cdpType == 'ZRX', 'debt']\n",
    "# x3 = liquidations.loc[liquidations.cdpType == 'WBTC', 'debt']\n",
    "# x3 = liquidations.loc[liquidations.cdpType == 'KNC', 'debt']\n",
    "\n",
    "kwargs = dict(alpha=0.5, bins=200)\n",
    "\n",
    "plt.hist(x1, **kwargs, color='g', label='ETH')\n",
    "# plt.hist(x2, **kwargs, color='b', label='BAT')\n",
    "# plt.hist(x3, **kwargs, color='r', label='ZRX')\n",
    "# plt.hist(x3, **kwargs, color='r', label='WBTC')\n",
    "# plt.hist(x3, **kwargs, color='r', label='KNC')\n",
    "plt.gca().set(title='Frequency Histogram of Collateral Debt Liquidation (DAI)', ylabel='Frequency')\n",
    "plt.xlim(-100,10000)\n",
    "plt.legend();"
   ]
  },
  {
   "cell_type": "code",
   "execution_count": null,
   "metadata": {},
   "outputs": [],
   "source": [
    "import seaborn as sns\n",
    "\n",
    "x1 = liquidations.loc[liquidations.cdpType=='ETH', ['debt']]\n",
    "x2 = liquidations.loc[liquidations.cdpType=='BAT', ['debt']]\n",
    "x3 = liquidations.loc[liquidations.cdpType=='WBTC', ['debt']]\n",
    "x4 = liquidations.loc[liquidations.cdpType=='KNC', ['debt']]\n",
    "\n",
    "\n",
    "# plot\n",
    "fig, axes = plt.subplots(1, 4, figsize=(25, 5), sharey=False, dpi=100)\n",
    "sns.distplot(x1 , color=\"dodgerblue\", ax=axes[0], axlabel='ETH')\n",
    "sns.distplot(x2 , color=\"deeppink\", ax=axes[1], axlabel='BAT')\n",
    "sns.distplot(x3 , color=\"gold\", ax=axes[2], axlabel='WBTC')\n",
    "sns.distplot(x4 , color=\"blue\", ax=axes[3], axlabel='KNC')\n",
    "\n",
    "plt.xlim(0,10000);"
   ]
  },
  {
   "cell_type": "code",
   "execution_count": null,
   "metadata": {},
   "outputs": [],
   "source": []
  },
  {
   "cell_type": "code",
   "execution_count": null,
   "metadata": {},
   "outputs": [],
   "source": []
  },
  {
   "cell_type": "code",
   "execution_count": null,
   "metadata": {},
   "outputs": [],
   "source": []
  },
  {
   "cell_type": "code",
   "execution_count": null,
   "metadata": {},
   "outputs": [],
   "source": []
  },
  {
   "cell_type": "code",
   "execution_count": null,
   "metadata": {},
   "outputs": [],
   "source": []
  },
  {
   "cell_type": "markdown",
   "metadata": {},
   "source": [
    "---\n",
    "---\n",
    "\n",
    "# FORUM ANALYSIS POST"
   ]
  },
  {
   "cell_type": "markdown",
   "metadata": {},
   "source": [
    "## Background\n",
    "\n",
    "### Protocol summary\n",
    "\n",
    "- whitepaper abstract\n",
    "- website overview\n",
    "\n",
    "### Token use\n",
    "\n",
    "- whitepaper token description\n",
    "- website token description\n",
    "\n",
    "### Governance \n",
    "\n",
    "- any information on governance?\n",
    "- from website"
   ]
  },
  {
   "cell_type": "markdown",
   "metadata": {},
   "source": [
    "## Token information\n",
    "\n",
    "### On-chain activity\n",
    "- https://academy.santiment.net/sansheets/functions/#san_active_deposits\n",
    "- https://academy.santiment.net/sansheets/functions/#san_active_addresses\n",
    "- https://studio.glassnode.com/metrics?a=LINK&category=Network%20Stats&m=addresses.NewNonZeroCount\n",
    "    - daily_active_addresses\n",
    "    - daily_active_deposits\n",
    "    - daily_transaction_volume \n",
    "    - daily_price\n",
    "    - ohlcv daily\n",
    "    - daily_new_unique_addresses\n",
    "\n",
    "### Token allocation/distribution\n",
    "\n",
    "sources:\n",
    "- coingecko\n",
    "- santiment\n",
    "- etherscan\n",
    "\n",
    "data: \n",
    "- data\n",
    "    - initial_supply    \n",
    "    - current_token_supply\n",
    "    - circulating supply \n",
    "    - market cap\n",
    "    - daily_price\n",
    "    - implied market cap (?)\n",
    "\n",
    "circulating supply (definition by glassnode): \n",
    "```\n",
    "LINK’s circulating supply of 350,000,000, as reported by CoinMarketCap, only counts the tokens sold to the public in the ICO. \n",
    "\n",
    "After taking the team sell off into account, the actual circulating supply is closer to ~367,909,600.\n",
    "```\n",
    "\n",
    "### Asset price returns\n",
    "\n",
    "- santiment. raw data:\n",
    "    - daily_price\n",
    "    - daily_price\n",
    "\n",
    "Derived/Calculated variables from daily_price\n",
    "- asset_price_return_1m\n",
    "- asset_price_return_3m \n",
    "- asset_price_return_6m     \n",
    "- asset_price_return_12m\n",
    "- asset_price_return_24m\n",
    "\n",
    "Other derived from daily_price:\n",
    "- 200MA_asset_price (EMA)\n",
    "- 50MA_asset_price (EMA)\n",
    "\n",
    "article\n",
    "- https://bravenewcoin.com/insights/chainlink-price-analysis-strong-fundamental-metrics-support-price-gains\n",
    "\n",
    "### Token ownership concentration (distribution)\n",
    "\n",
    "sources: \n",
    "- etherscan\n",
    "- santiment\n",
    "- glassnode\n",
    "\n",
    "data:\n",
    "- https://etherscan.io/token/tokenholderchart/0x514910771af9ca656af840dff83e8264ecf986ca?range=100 > top 100 address token ownership\n",
    "- https://academy.santiment.net/metrics/amount-in-top-holders/ > Token/Coin amount\n",
    "- https://academy.santiment.net/sansheets/functions/#san_top_holders_percent_of_total_supply\n",
    "- https://academy.santiment.net/metrics/top-holders/#top-holders-balance\n",
    "- https://academy.santiment.net/metrics/mean-coin-age/mean-coin-age-technical/#total-age\n",
    "    - holders_distribution_total > only paid plan\n",
    "    - amount_in_top_holders\n",
    "    - amount_in_exchange_top_holders\n",
    "    - age_distribution\n",
    "\n",
    "sansheets: \n",
    "- SAN_TOP_HOLDERS_PERCENT_OF_TOTAL_SUPPLY\n",
    "\n",
    "data > glassnode:\n",
    "- https://studio.glassnode.com/metrics?a=LINK&m=distribution.Balance1PctHolders\n",
    "- https://studio.glassnode.com/metrics?a=LINK&m=distribution.Gini > gini coeff for LINK\n",
    "    - Gini Coefficient\n",
    "    - 1% Richlist Balance\n",
    "\n",
    "articles:\n",
    "- https://medium.com/glassnode-insights/on-chain-distribution-analysis-of-chainlink-link-5ee7acb62f62\n",
    " \n",
    "\n",
    "### Treasury funds data?\n",
    "sources: \n",
    "- santiment\n",
    "- coindesk\n",
    "\n",
    "team addresses:\n",
    "- 0xe0362f7445e3203a496f6f8b3d51cbb413b69be2 — Current balance: 50,000,000 LINK\n",
    "- 0x75398564ce69b7498da10a11ab06fd8ff549001c — Current balance: 50,000,000 LINK\n",
    "- 0x5560d001f977df5e49ead7ab0bdd437c4ee3a99e — Current balance: 50,000,000 LINK\n",
    "- 0xdad22a85ef8310ef582b70e4051e543f3153e11f — Current balance: 46,500,000 LINK\n",
    "- 0xbe6977e08d4479c0a6777539ae0e8fa27be4e9d6 — Current balance: 50,000,000 LINK\n",
    "- 0xf37c348b7d19b17b29cd5cfa64cfa48e2d6eb8db — Current balance: 35,590,421.01 LINK\n",
    "\n",
    "data:\n",
    "- team address?\n",
    "- https://academy.santiment.net/sansheets/functions/#san_historical_balance\n",
    "    - historical_balance\n",
    "\n",
    "ICO distribution: 30 team/35 nodes/35 investors\n",
    "- https://etherscan.io/token/0x514910771af9ca656af840dff83e8264ecf986ca?a=0xf55037738604fddfc4043d12f25124e94d7d1780 > describes ICO distribution\n",
    "\n",
    "articles:\n",
    "- best article: https://medium.com/glassnode-insights/on-chain-distribution-analysis-of-chainlink-link-5ee7acb62f62\n",
    "- https://bravenewcoin.com/insights/celsius-network-partners-with-chainlink\n",
    "- https://www.coindesk.com/crypo-lender-celsius-taps-chainlinks-price-oracles-for-interest-rate-decentralization > move \"significant\" portion of crypto holdings under Celsius’ treasury management service. For interest accrual.\n",
    "- https://www.prnewswire.com/news-releases/celsius-network-and-chainlink-form-long-term-partnership-to-create-superior-financial-platform-through-decentralization-301031500.html\n",
    "- https://bravenewcoin.com/insights/chainlink-price-analysis-strong-fundamental-metrics-support-price-gains\n",
    "\n",
    "### Token age\n",
    "- https://academy.santiment.net/sansheets/functions/#san_token_age_consumed\n",
    "- https://academy.santiment.net/sansheets/functions/#san_mean_age\n",
    "- https://academy.santiment.net/metrics/mean-coin-age/mean-coin-age-technical/#total-age\n",
    "    - age_consumed > Spikes are signal of a large amount of tokens moving after being idle\n",
    "    - mean_age \n"
   ]
  },
  {
   "cell_type": "code",
   "execution_count": null,
   "metadata": {},
   "outputs": [],
   "source": [
    "df.plot()"
   ]
  },
  {
   "cell_type": "code",
   "execution_count": null,
   "metadata": {},
   "outputs": [],
   "source": [
    "    # - percent_of_total_supply_on_exchanges\n",
    "    # - supply_on_exchanges\n",
    "df = san.get('price/chainlink')\n",
    "df.head()"
   ]
  },
  {
   "cell_type": "code",
   "execution_count": null,
   "metadata": {},
   "outputs": [],
   "source": [
    "search_metric('chainlink','exchange')"
   ]
  },
  {
   "cell_type": "code",
   "execution_count": null,
   "metadata": {},
   "outputs": [],
   "source": [
    "df"
   ]
  },
  {
   "cell_type": "code",
   "execution_count": null,
   "metadata": {},
   "outputs": [],
   "source": [
    "df = san.get(\n",
    "    \"historical_balance/chainlink\",\n",
    "    address=\"0xe0362f7445e3203a496f6f8b3d51cbb413b69be2\",\n",
    "    from_date=\"2018-04-18\",\n",
    "    to_date=\"2020-07-31\",\n",
    "    interval=\"1d\"\n",
    ")"
   ]
  },
  {
   "cell_type": "markdown",
   "metadata": {},
   "source": [
    "## Exchanges \n",
    "\n",
    "- https://academy.santiment.net/sansheets/functions/#san_exchange_balance\n",
    "- https://academy.santiment.net/sansheets/functions/#san_exchange_funds_flow\n",
    "- https://academy.santiment.net/sansheets/functions/#san_exchange_inflow\n",
    "- https://academy.santiment.net/sansheets/functions/#san_exchange_outflow \n",
    "- https://academy.santiment.net/metrics/supply-on-or-outside-exchanges/#measuring-unit\n",
    "\n",
    "Note : on-chain metrics\n",
    "- Liquidity\n",
    "    - percent_of_total_supply_on_exchanges\n",
    "    - supply_on_exchanges\n",
    "    - supply_outside_exchanges\n",
    "    - exchange_balance\n",
    "- Flows:\n",
    "    - exchange_inflow   \n",
    "    - exchange_outflow\n",
    "\n",
    "> Do flows correlate to pricing activity?\n",
    "\n",
    "### Centralised exchanges \n",
    "\n",
    "- list exchanges where token listed\n",
    "- trading volume on **real exchanges** only (see messari definition)\n",
    "\n",
    "sources: \n",
    "- BraveNewCoin\n",
    "- Coinmarketcap\n",
    "- coingecko\n",
    "- messari\n",
    "\n",
    "data:\n",
    "- https://www.coingecko.com/en/coins/chainlink#markets\n",
    "- https://bravenewcoin.com/data-and-charts/assets/LINK/markets\n",
    "\n",
    "List exchanges, pair, volumes\n",
    "- exchange_name\n",
    "- trading_pair e.g. LINK/USD \n",
    "- trading_volume\n",
    "\n",
    "Tokens on exchanges\n",
    "- https://studio.glassnode.com/metrics?a=LINK&m=distribution.BalanceExchanges\n",
    "- https://studio.glassnode.com/metrics?a=BTC&m=distribution.BalanceExchangesAll\n",
    "- https://academy.santiment.net/metrics/supply-on-or-outside-exchanges/#measuring-unit\n",
    "    - daily_exchange_balance_all (of token)\n",
    "    - daily_exchange_balance_stacked (of token by exchange)\n",
    "    - percent_of_total_supply_on_exchanges\n",
    "\n",
    "- Derived metrics:\n",
    "    - percent_of_circulating_supply_on_exchanges > calc: supply_on_exchanges / circulating_supply\n",
    "\n",
    "Note: only addresses known to belong to exchanges\n",
    "\n",
    "\n",
    "Trading: on-chain \n",
    "- https://academy.santiment.net/sansheets/functions/#san_transaction_volume\n",
    "    - daily_transaction_volume (in token) > on-chain transaction volume\n",
    "\n",
    "Trading: exchange (volume by pair: USD/USDC/BTC/ETH)\n",
    "- https://min-api.cryptocompare.com/documentation?key=Historical&cat=dataExchangeSymbolHistoday\n",
    "- https://min-api.cryptocompare.com/documentation?key=Historical&cat=dataExchangeSymbolHistohour\n",
    "    - daily-trading_volume_by_exchange (and token pair)\n",
    "    - hourly-trading_volume_by_exchange (and token pair)\n",
    "\n",
    "- Derived metric:\n",
    "    - Rolling 30d avg volume > calc: \n",
    "\n",
    "#### Derived metric > **token velocity**\n",
    "- https://academy.santiment.net/sansheets/functions/#san_daily_closing_marketcap\n",
    "- https://academy.santiment.net/sansheets/functions/#san_daily_closing_price\n",
    "- daily_closing_price_usd\n",
    "- daily_closing_marketcap_usd\n",
    "- daily_transaction_volume\n",
    "    - transaction_volume (in usd) / market_cap > calc: (transaction_volume * closing_price) / closing_marketcap\n",
    "    \n",
    "Velocity definition (glassnode):\n",
    "```\n",
    "Velocity is a measure of how quickly units are circulating in the network and is calculated by dividing the on-chain transaction volume (in USD) by the market cap, i.e. the inverse of the NVT ratio.\n",
    "``` \n",
    "\n",
    "articles:\n",
    "- https://messari.io/article/messari-proprietary-methods > method for centralised exchange **real volume** and **exchange selection**\n",
    "\n",
    "\n",
    "### Decentralised exchanges \n",
    "\n",
    "List of decentralised exchanges with LINK\n",
    "\n",
    "sources:\n",
    "- etherscan\n",
    "- messari\n",
    "- coingecko\n",
    "\n",
    "data: \n",
    "- https://etherscan.io/stat/dextracker\n",
    "- https://etherscan.io/dextracker\n",
    "- https://messari.io/asset/chainlink/metrics\n",
    "    - Transaction Volume (24H, USD) e.g. $551,657,069.67\n",
    "    - Median Transaction Volume (USD) e.g. $1,286.96\n",
    "\n",
    "Pools:\n",
    "- https://uniswap.info/token/0x514910771af9ca656af840dff83e8264ecf986ca\n",
    "    - Transaction_volume 24h (usd)\n",
    "    - Transaction_count 24h\n",
    "    - Total_liquidity\n",
    "\n",
    "0x:\n",
    "- https://api.0xtracker.com/tokens/:address\n",
    "    - tradeCount\t\n",
    "    - tradeVolume.USD\t\n",
    "    - tradeVolume.token\n",
    "\n",
    "\n",
    "articles: \n",
    "- 2019 report on DEXes: https://medium.com/alethio/dex-in-the-2019-a-recap-by-numbers-96d506ba1cb8\n",
    "- 2019: trade volume on exchages (all) https://public.tableau.com/profile/alethio#!/vizhome/DEXTradesHistory/Dashboard1\n",
    "- https://messari.io/resource/decentralized-exchanges > dex resources\n",
    "- https://github.com/econoar/ethhub/blob/master/built-on-ethereum/decentralized-exchanges/README.md > types of DEXs\n",
    "\n",
    "types: \n",
    "- offchain order book (e.g 0x, etherdelta, loopring...)\n",
    "- p2p (airswap, republic protocol)\n",
    "- pool based (e.g. kyber, bancor, uniswap) \n",
    "\n",
    "### Liquidity pools (e.g.)\n",
    "\n"
   ]
  },
  {
   "cell_type": "markdown",
   "metadata": {},
   "source": [
    "## 3rd party lending platforms\n",
    "\n",
    "### Platforms\n",
    "\n",
    "sources: \n",
    "- coingecko\n",
    "- defiscore\n",
    "- loanscan\n",
    "- alethio api\n",
    "\n",
    "data: \n",
    "\n",
    "\n",
    "articles:\n",
    "- https://www.binance.com/en/support/articles/73a5d3352ae944fe8e899d2602bee27c > Binance leveraged LINK. Maybe in exchanges?\n",
    "\n",
    "### Interest rates\n",
    "\n",
    "sources: \n",
    "- alethio api\n",
    "\n",
    "data: \n",
    "- https://public.tableau.com/profile/alethio.defi#!/vizhome/DeFiInterestRates/DeFiInterestRates\n",
    "- static view    \n",
    "    - borrow_apr (by protocol/platform)\n",
    "    - earn_apr (by protocol/platform)\n",
    "- timeseries view:\n",
    "    - daily_borrow_apr (by protocol/platform)\n",
    "    - daily_earn_apr (by protocol/platform)\n",
    "\n",
    "articles:\n",
    "\n",
    "### Borrowed volumes\n",
    "\n",
    "- https://public.tableau.com/profile/alethio.defi#!/vizhome/BorrowVolumeDashboard/BorrowVolumeonMajorLendingPlatforms\n",
    "    - daily borrrowed volumes (usd or eth) - time series\n",
    "    - daily cumul borrowed volumes (usd or eth) - time series\n",
    "    - daily # unique borrower - time series\n",
    "    - daily # of borrows - time series\n",
    "    - daily borrowed token value (usd or eth) by platform - by platform \n",
    "\n",
    "### Outstanding debt and coll ratio \n",
    "\n",
    "\n",
    "\n",
    "### Liquidation/default volumes\n",
    "\n"
   ]
  },
  {
   "cell_type": "markdown",
   "metadata": {},
   "source": [
    "## Node operators \n",
    "\n",
    "- https://public.tableau.com/profile/cryptospong3#!/vizhome/ChainlinkContractTransactionCounts/Sheet1"
   ]
  },
  {
   "cell_type": "markdown",
   "metadata": {},
   "source": [
    "## Comparative analysis (link vs other collateral)\n",
    "\n",
    "> this is a bonus analysis to guide decision making \n",
    "\n",
    "### Correlation\n",
    "\n",
    "### Vaults debt/CR \n",
    "\n",
    "### Liquidations"
   ]
  },
  {
   "cell_type": "markdown",
   "metadata": {},
   "source": [
    "## Summary of Risks\n",
    "\n",
    "## Risk highlights\n",
    "\n",
    "A few notes: \n",
    "- token concentration risks \n",
    "- team frequent offload of tokens (500K). Unclear if due to operations/treasury reasons for growth or lack of trust in fundamentals of asset price (or opportunistic approach).  \n",
    "- reduced supply of tokens through exchanges > risk for liquidity during keeper auctions\n",
    "- concentration of trading activity in centralised exchanges e.g. Binance\n",
    "\n",
    "## Other risks"
   ]
  }
 ],
 "metadata": {
  "kernelspec": {
   "display_name": "Python 3.7.2 64-bit ('base': conda)",
   "language": "python",
   "name": "python_defaultSpec_1596961055512"
  },
  "language_info": {
   "codemirror_mode": {
    "name": "ipython",
    "version": 3
   },
   "file_extension": ".py",
   "mimetype": "text/x-python",
   "name": "python",
   "nbconvert_exporter": "python",
   "pygments_lexer": "ipython3",
   "version": "3.7.2-final"
  }
 },
 "nbformat": 4,
 "nbformat_minor": 2
}