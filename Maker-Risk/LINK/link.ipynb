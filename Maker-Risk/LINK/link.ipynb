{
 "cells": [
  {
   "cell_type": "markdown",
   "metadata": {},
   "source": [
    "# Experimentations (not serious)"
   ]
  },
  {
   "cell_type": "code",
   "execution_count": null,
   "metadata": {
    "tags": [
     "outputPrepend"
    ]
   },
   "outputs": [],
   "source": [
    "import requests\n",
    "\n",
    "def main():\n",
    "    resp = requests.get(\"https://api.cryptowat.ch/markets/kraken/btcusd/orderbook\")\n",
    "    orderbook = resp.json()['result']\n",
    "    print (orderbook)\n",
    "\n",
    "if __name__ == '__main__':\n",
    "    main()"
   ]
  },
  {
   "cell_type": "code",
   "execution_count": null,
   "metadata": {
    "tags": []
   },
   "outputs": [],
   "source": [
    "import requests\n",
    "import pandas as pd\n",
    "\n",
    "def main():\n",
    "    resp = requests.get(\"https://api.coingecko.com/api/v3/coins/link/market_chart/range?vs_currency=usd&from=1575158400&to=1575244800\")\n",
    "    data = resp.json()\n",
    "    df = pd.DataFrame(data, columns=['Time','Open', 'High','Low','Close'])\n",
    "    df['Time'] = pd.to_datetime(df['Time'],infer_datetime_format=True)\n",
    "    df.set_index('Time', inplace=True)\n",
    "    return df\n",
    "\n",
    "if __name__ == '__main__':\n",
    "    main()\n"
   ]
  },
  {
   "cell_type": "code",
   "execution_count": null,
   "metadata": {},
   "outputs": [],
   "source": [
    "main()"
   ]
  },
  {
   "cell_type": "code",
   "execution_count": null,
   "metadata": {},
   "outputs": [],
   "source": [
    "resp = requests.get(\"https://api.coingecko.com/api/v3/coins/link/market_chart/range?vs_currency=usd&from=1575158400&to=1575244800\")\n",
    "data = resp.json()['prices'][0]\n",
    "df = pd.DataFrame(data)\n",
    "df"
   ]
  },
  {
   "cell_type": "code",
   "execution_count": null,
   "metadata": {},
   "outputs": [],
   "source": [
    "import json\n",
    "\n",
    "url = 'https://api.cryptowat.ch/markets/binance/btceur/ohlc'\n",
    "resp = requests.get(url)\n",
    "resp.raise_for_status()\n",
    "data = json.loads(resp.content)\n",
    "data\n",
    "#df = pd.DataFrame(data['result']['3600'])\n",
    "#df.head()\n"
   ]
  },
  {
   "cell_type": "code",
   "execution_count": null,
   "metadata": {},
   "outputs": [],
   "source": [
    "import requests\n",
    "from pandas.io.json import json_normalize\n",
    "import pandas as pd \n",
    "\n",
    "url = \"https://api.coingecko.com/api/v3/coins/link/market_chart/range?vs_currency=usd&from=1575158400&to=1575244800\"\n",
    "#url = 'https://api.coingecko.com/api/v3/coins/link/market_chart?vs_currency=usd&days=200'\n",
    "resp = requests.get(url)\n",
    "resp.json()"
   ]
  },
  {
   "cell_type": "code",
   "execution_count": null,
   "metadata": {},
   "outputs": [],
   "source": [
    "    url = \"https://api.coingecko.com/api/v3/coins/link/market_chart/range?vs_currency=usd&from=1532995200&to=1596067200\"\n",
    "    # get data from endpoint and load json content\n",
    "    resp = requests.get(url)\n",
    "    resp.raise_for_status()\n",
    "    # parse json into py dict\n",
    "    resp = json.loads(resp.content)\n",
    "    type(resp)"
   ]
  },
  {
   "cell_type": "code",
   "execution_count": null,
   "metadata": {
    "tags": []
   },
   "outputs": [],
   "source": [
    "import requests\n",
    "\n",
    "def main():\n",
    "    resp = requests.get(\"https://api.cryptowat.ch/markets/kraken/btcusd/ohlc\")\n",
    "    orderbook = resp.json()['result']\n",
    "    print (orderbook)\n",
    "\n",
    "if __name__ == '__main__':\n",
    "    main()\n"
   ]
  },
  {
   "cell_type": "code",
   "execution_count": null,
   "metadata": {
    "tags": []
   },
   "outputs": [],
   "source": [
    "two_years = (pd.Timestamp.now() - pd.offsets.Day(730))\n",
    "print(two_years)\n",
    "print(pd.Timestamp.now())"
   ]
  },
  {
   "cell_type": "code",
   "execution_count": null,
   "metadata": {
    "tags": []
   },
   "outputs": [],
   "source": [
    "before = '2018-07-31'\n",
    "after = '2020-07-30'\n",
    "\n",
    "print(str(int(pd.Timestamp(before).timestamp())))\n",
    "print(str(int(pd.Timestamp(after).timestamp())))"
   ]
  },
  {
   "cell_type": "code",
   "execution_count": null,
   "metadata": {},
   "outputs": [],
   "source": [
    "def get_historic_price(symbol, exchange='bitfinex', after='2018-09-01'):\n",
    "    url = 'https://api.cryptowat.ch/markets/{exchange}/{symbol}usd/ohlc'.format(\n",
    "        symbol=symbol, exchange=exchange)\n",
    "    resp = requests.get(url, params={\n",
    "        'periods': '3600',\n",
    "        'after': str(int(pd.Timestamp(after).timestamp()))\n",
    "    })\n",
    "    resp.raise_for_status()\n",
    "    data = resp.json()\n",
    "    df = pd.DataFrame(data['result']['3600'], columns=[\n",
    "        'CloseTime', 'OpenPrice', 'HighPrice', 'LowPrice', 'ClosePrice', 'Volume', 'NA'\n",
    "    ])\n",
    "    df['CloseTime'] = pd.to_datetime(df['CloseTime'], unit='s')\n",
    "    df.set_index('CloseTime', inplace=True)\n",
    "    return df"
   ]
  },
  {
   "cell_type": "code",
   "execution_count": null,
   "metadata": {},
   "outputs": [],
   "source": [
    "# https://defiexplore.com/api/all-vauls\n",
    "# ALL VAULTS HISTORICAL DATA (NEEDS WORK)\n",
    "\n",
    "import requests\n",
    "import pandas as pd\n",
    "\n",
    "def get_liquidations():\n",
    "    url = \"https://defiexplore.com/api/all-vaults\"\n",
    "        # get data from endpoint and load json content\n",
    "    resp = requests.get(url)\n",
    "    # resp.raise_for_status()\n",
    "        # parse json into py dict\n",
    "        # this is a list\n",
    "    resp = json.loads(resp.content)\n",
    "    # # df expects list\n",
    "    df = pd.DataFrame(resp)\n",
    "    df.set_index('timestamp', inplace=True)\n",
    "    return df"
   ]
  },
  {
   "cell_type": "code",
   "execution_count": null,
   "metadata": {},
   "outputs": [],
   "source": [
    "https://defiexplore.com/api/cdps/10775"
   ]
  },
  {
   "cell_type": "markdown",
   "metadata": {},
   "source": [
    "Useful messari API:\n",
    "\n",
    "- https://data.messari.io/api/v1/assets/btc/metrics/market-data\n",
    "- https://data.messari.io/api/v1/assets/metrics = metric definitions for timeseries data"
   ]
  },
  {
   "cell_type": "code",
   "execution_count": null,
   "metadata": {
    "tags": []
   },
   "outputs": [],
   "source": [
    "# THIS IS TO SEARCH MESSARI TIMESERIES \n",
    "# METRIC IDS and definitions\n",
    "\n",
    "import json\n",
    "url = \"https://data.messari.io/api/v1/assets/metrics\"\n",
    "        # get data from endpoint and load json content\n",
    "resp = requests.get(url)\n",
    "resp.raise_for_status()\n",
    "        # parse json into py dict\n",
    "        # this is a list\n",
    "resp = json.loads(resp.content)\n",
    "df = json_normalize(resp, record_path=[['data','metrics']],meta=['status'],errors='ignore')\n",
    "data = dict(df)\n",
    "df = pd.DataFrame(data)\n",
    "\n",
    "df[['description','metric_id','values_schema']]"
   ]
  },
  {
   "cell_type": "code",
   "execution_count": null,
   "metadata": {},
   "outputs": [],
   "source": [
    "# FUNCTION TO GET MESSARI TIMESERIES \n",
    "\n",
    "def get_messari_timeseries(request, asset, from_date='2018-07-31', to_date='2020-07-30',interval='1d' ):\n",
    "    url = \"https://data.messari.io/api/v1/assets/{asset}/metrics/{request}/time-series?start={from_date}&end={to_date}&interval=1d\".format(\n",
    "        asset=asset,request=request,from_date=from_date, to_date=to_date)\n",
    "        # get data from endpoint and load json content\n",
    "    resp = requests.get(url)\n",
    "    # resp.raise_for_status()\n",
    "        # parse json into py dict\n",
    "        # this is a list\n",
    "    resp = json.loads(resp.content)['data']['values']\n",
    "    # # df expects list\n",
    "    df = pd.DataFrame(resp, columns=['datetime',f'{asset}_{request}'])\n",
    "    # change date format\n",
    "    df['datetime'] = pd.to_datetime(df['datetime'], unit='ms')\n",
    "    # set df index to date\n",
    "    df.set_index('datetime', inplace=True)\n",
    "    return df\n"
   ]
  },
  {
   "cell_type": "code",
   "execution_count": null,
   "metadata": {},
   "outputs": [],
   "source": [
    "get_messari_timeseries('real.vol','btc').tail()"
   ]
  },
  {
   "cell_type": "code",
   "execution_count": null,
   "metadata": {},
   "outputs": [],
   "source": [
    "\n",
    "\n",
    "def get_listexchange_bycoin():\n",
    "    url = \"https://api.coinpaprika.com/v1/coins/link-chainlink/exchanges\"\n",
    "        # get data from endpoint and load json content\n",
    "    resp = requests.get(url)\n",
    "    resp.raise_for_status()\n",
    "        # parse json into py dict\n",
    "        # this is a list\n",
    "    resp = json.loads(resp.content)\n",
    "    df = json_normalize(resp)\n",
    "    # df expects list\n",
    "    return df"
   ]
  },
  {
   "cell_type": "code",
   "execution_count": null,
   "metadata": {},
   "outputs": [],
   "source": [
    "get_coinlist().head()"
   ]
  },
  {
   "cell_type": "code",
   "execution_count": null,
   "metadata": {},
   "outputs": [],
   "source": [
    "url = 'https://min-api.cryptocompare.com/data/exchange/histoday?tsym=USD&limit=10'\n",
    "        # get data from endpoint and load json content\n",
    "resp = requests.get(url)\n",
    "resp.raise_for_status()\n",
    "        # parse json into py dict\n",
    "        # this is a list\n",
    "resp = json.loads(resp.content)['Data']\n",
    "#type(resp)\n",
    "\n",
    "# creates df and flattens json\n",
    "df = pd.DataFrame(resp)\n",
    "df.head()"
   ]
  },
  {
   "cell_type": "code",
   "execution_count": null,
   "metadata": {
    "tags": []
   },
   "outputs": [],
   "source": [
    "df.info()"
   ]
  },
  {
   "cell_type": "code",
   "execution_count": null,
   "metadata": {},
   "outputs": [],
   "source": [
    "import requests\n",
    "from pandas.io.json import json_normalize\n",
    "import pandas as pd \n",
    "import json\n",
    "\n",
    "#def get_markets_bycoin(asset,):\n",
    "\n",
    "url = \"https://api.coinpaprika.com/v1/coins/link-chainlink/markets\"\n",
    "        # get data from endpoint and load json content\n",
    "resp = requests.get(url)\n",
    "resp.raise_for_status()\n",
    "        # parse json into py dict\n",
    "        # this is a list\n",
    "resp = json.loads(resp.content)\n",
    "#type(resp)\n",
    "\n",
    "# creates df and flattens json\n",
    "df = json_normalize(resp)\n",
    "#df.head()\n",
    "df = df[['exchange_name','pair','quotes.USD.volume_24h','quote_currency_name']]"
   ]
  },
  {
   "cell_type": "code",
   "execution_count": null,
   "metadata": {},
   "outputs": [],
   "source": [
    "df.head()"
   ]
  },
  {
   "cell_type": "code",
   "execution_count": null,
   "metadata": {
    "tags": []
   },
   "outputs": [],
   "source": [
    "# df.head()\n",
    "pair = df[['exchange_name','pair','quotes.USD.volume_24h','adjusted_volume_24h_share']].groupby(by='pair')\n",
    "pair.first()"
   ]
  },
  {
   "cell_type": "code",
   "execution_count": null,
   "metadata": {},
   "outputs": [],
   "source": [
    "type(df)"
   ]
  },
  {
   "cell_type": "code",
   "execution_count": null,
   "metadata": {},
   "outputs": [],
   "source": [
    "# SUPER IMPORTANT\n",
    "# CODE TO flattening JSON objects of arbitrary structure\n",
    "# WORKS FOR ONE COLUMN, NOT ALL DATAFRAME\n",
    "def flatten_json(y):\n",
    "    out = {}\n",
    "\n",
    "    def flatten(x, name=''):\n",
    "        if type(x) is dict:\n",
    "            for a in x:\n",
    "                flatten(x[a], name + a + '_')\n",
    "        elif type(x) is list:\n",
    "            i = 0\n",
    "            for a in x:\n",
    "                flatten(a, name + str(i) + '_')\n",
    "                i += 1\n",
    "        else:\n",
    "            out[name[:-1]] = x\n",
    "\n",
    "    flatten(y)\n",
    "    return out"
   ]
  },
  {
   "cell_type": "code",
   "execution_count": null,
   "metadata": {},
   "outputs": [],
   "source": [
    "# THEN USE THIS \n",
    "# ONLY FOR ONE COLUMN\n",
    "flat = flatten_json(sample_object2)\n",
    "json_normalize(flat)"
   ]
  },
  {
   "cell_type": "markdown",
   "metadata": {},
   "source": [
    "---\n",
    "\n",
    "---\n",
    "\n",
    "# FUNCTIONS TO FETCH DATA\n",
    "\n",
    "data sources:\n",
    "- santiment\n",
    "- coingecko\n",
    "- defiexplore\n",
    "- 0xtracker\n",
    "- uniswap\n",
    "- kyber\n",
    "- alethio\n",
    "- glassnode\n",
    "- coinmetrics\n",
    "\n",
    "**@todo to be added:** \n",
    "- defipulse data aggregator\n",
    "- blocklytics\n",
    "- messari\n",
    "- loanscan - defi rates\n",
    "- **aave - liquidations**\n",
    "\n",
    "top data sources: for high grade analysis\n",
    "- santiment\n",
    "- glassnode\n",
    "- coinmetrics\n",
    "- defipulse = gas and defi metrics\n",
    "- codefi (future)\n",
    "\n",
    "to explore: \n",
    "- nomics\n",
    "- bitquery/bloxy.info\n",
    "- graphql interfaces > aave, uniswap, vulcanize\n"
   ]
  },
  {
   "cell_type": "code",
   "execution_count": 5,
   "metadata": {},
   "outputs": [],
   "source": [
    "# IMPORT ALL PACKAGES\n",
    "import requests\n",
    "from pandas.io.json import json_normalize\n",
    "import pandas as pd \n",
    "import json\n",
    "import seaborn as sns\n",
    "import matplotlib.pyplot as plt\n",
    "\n",
    "%matplotlib inline"
   ]
  },
  {
   "cell_type": "markdown",
   "metadata": {},
   "source": [
    "## Santiment\n",
    "\n",
    "Used for: \n",
    "\n",
    "- token information \n",
    "- token distribution \n",
    "- daily asset pricing metrics\n",
    "- hourly asset pricing metrics \n",
    "- on-chain volumes \n",
    "- exchange volumes \n",
    "- exchange balances \n",
    "- on-chain trading activity\n",
    "\n",
    "Source data dictionaries and glossary:\n",
    "- https://github.com/santiment/sanpy#available-metrics\n",
    "- https://academy.santiment.net/sansheets/functions/\n",
    "- https://academy.santiment.net/glossary/ \n",
    "- https://academy.santiment.net/metrics/\n",
    "\n",
    "Data types: \n",
    "- time series: https://academy.santiment.net/metrics/details/data-type#timeseries-data\n",
    "- histogram/categorical: https://academy.santiment.net/metrics/details/data-type#histogram-data \n",
    "\n",
    "---\n",
    "\n",
    "search data and metadata"
   ]
  },
  {
   "cell_type": "code",
   "execution_count": 208,
   "metadata": {},
   "outputs": [],
   "source": [
    "import san\n",
    "# san.ApiConfig.api_key = 'xauqgnp4uvwk4u7c_a5x7oyk6zj5bcyzn'\n",
    "# san.ApiConfig.api_key = 'ei6x55qxlf45vw7j_l55jsmq4ku55biai'\n",
    "# san.ApiConfig.api_key = 'xauqgnp4uvwk4u7c_a5x7oyk6zj5bcyzn'\n",
    "san.ApiConfig.api_key = 'phagx4qcxbcx4eca_sqjmwfh7q2fojtot'"
   ]
  },
  {
   "cell_type": "code",
   "execution_count": 7,
   "metadata": {},
   "outputs": [],
   "source": [
    "# SEARCH AVAILABLE DATA FUNC\n",
    "\n",
    "# search for available metric in api, given slug (aka token) and search term\n",
    "def search_metric(slug,search_term):\n",
    "    metric_list = []\n",
    "    santiment = san.available_metrics_for_slug(slug)\n",
    "    for i in santiment:\n",
    "        if search_term in i:\n",
    "            metric_list.append(i)\n",
    "    print('source: santiment')\n",
    "    return metric_list"
   ]
  },
  {
   "cell_type": "code",
   "execution_count": null,
   "metadata": {
    "tags": []
   },
   "outputs": [],
   "source": [
    "# select data point to fetch\n",
    "# Running as single func (project, term)\n",
    "search_metric('chainlink','hold')"
   ]
  },
  {
   "cell_type": "code",
   "execution_count": null,
   "metadata": {},
   "outputs": [],
   "source": [
    "# check availability of data since\n",
    "san.available_metric_for_slug_since(metric='active_deposits', slug='chainlink')"
   ]
  },
  {
   "cell_type": "code",
   "execution_count": 177,
   "metadata": {},
   "outputs": [],
   "source": [
    "# check query complexity\n",
    "def get_metric_complexity(request, from_date='2018-07-31', to_date='2020-07-31',interval='1h'):\n",
    "    df = san.metric_complexity(\n",
    "        f'{request}',\n",
    "        from_date=from_date,\n",
    "        to_date=to_date,\n",
    "        interval=interval\n",
    "    )\n",
    "    print('source: santiment')\n",
    "    print(f'complexity score: {df}')\n",
    "    return f'Too complex for free plan: {df > 20000}' "
   ]
  },
  {
   "cell_type": "markdown",
   "metadata": {},
   "source": [
    "Time series data"
   ]
  },
  {
   "cell_type": "code",
   "execution_count": 198,
   "metadata": {},
   "outputs": [],
   "source": [
    "# IMPORTANT TIME SERIES FUNCTION\n",
    "# interval - The interval of the returned data - an integer followed by one of: s, m, h, d or w\n",
    "\n",
    "# This allows to create a ts df for a given metric\n",
    "def get_metric_timeseries(request, asset,from_date='2018-07-31', to_date='2020-07-31',interval='1d'):\n",
    "    df = san.get(\n",
    "        f'{request}/{asset}',\n",
    "        from_date=from_date,\n",
    "        to_date=to_date,\n",
    "        interval=interval\n",
    "    )\n",
    "    # if no col named value, renaming ignored\n",
    "    df = df.rename(columns={'value':f'{asset}_{request}'})\n",
    "    # print data source\n",
    "    print(f'source: santiment') \n",
    "    return df"
   ]
  },
  {
   "cell_type": "code",
   "execution_count": 10,
   "metadata": {},
   "outputs": [],
   "source": [
    "# IMPORTANT TIME SERIES DF JOIN FUNCTION\n",
    "\n",
    "# This can be improved to include more df (*args)\n",
    "# This allows to .join timeseries dfs on common index (datetime)\n",
    "def aggregate_timeseries_df(df,df1,df2):\n",
    "    # join df on indexes (datetime)\n",
    "    df = df.join(df1).join(df2)\n",
    "    return df"
   ]
  },
  {
   "cell_type": "code",
   "execution_count": null,
   "metadata": {
    "tags": []
   },
   "outputs": [],
   "source": [
    "# IMPORTANT DIRECT CALL TO SANPY API\n",
    "\n",
    "san.get('ohlcv/chainlink').head()\n",
    "# ALTERNATIVE BUT SAME\n",
    "get_metric_timeseries('ohlcv','chainlink').head()"
   ]
  },
  {
   "cell_type": "code",
   "execution_count": null,
   "metadata": {},
   "outputs": [],
   "source": [
    "df = get_metric_timeseries('supply_on_exchanges','chainlink')\n",
    "df.dtypes"
   ]
  },
  {
   "cell_type": "code",
   "execution_count": null,
   "metadata": {},
   "outputs": [],
   "source": [
    "df['chainlink_supply_on_exchanges'] = df['chainlink_supply_on_exchanges'].astype('int')\n",
    "df['chainlink_supply_on_exchanges'].plot(figsize=(15,7))"
   ]
  },
  {
   "cell_type": "code",
   "execution_count": 12,
   "metadata": {},
   "outputs": [],
   "source": [
    "# csv top holders holding \n",
    "# Breaks down the number of addresses based on the amount of LINK they hold\n",
    "def get_distro_holdhist():\n",
    "    df_distro_hold = pd.read_csv('data/token_holder_distro_chainlink.csv',\n",
    "                    na_values=['', '?', '-'],\n",
    "                    parse_dates=[0],\n",
    "                    index_col=[0])                 \n",
    "    return df_distro_hold"
   ]
  },
  {
   "cell_type": "code",
   "execution_count": 11,
   "metadata": {},
   "outputs": [],
   "source": [
    "# Get historical balance of address - team treasury\n",
    "# args: request (historical_balance), asset, address, from, to,interval\n",
    "def get_addbal_timeseries(request, asset, address, from_date='2018-07-31', to_date='2020-07-31',interval='1d'):\n",
    "    df = san.get(\n",
    "        f'{request}/{asset}',\n",
    "        address=f'{address}',\n",
    "        from_date=from_date,\n",
    "        to_date=to_date,\n",
    "        interval=interval\n",
    "    )\n",
    "    # if no col named value, renaming ignored\n",
    "    df = df.rename(columns={'value':f'{asset}_{request}'})\n",
    "    df = df.rename(columns={'balance':f'balance_{address[:7]}'})\n",
    "    # print data source\n",
    "    print(f'source: santiment') \n",
    "    return df"
   ]
  },
  {
   "cell_type": "markdown",
   "metadata": {},
   "source": [
    "non time series or histogram data"
   ]
  },
  {
   "cell_type": "code",
   "execution_count": 13,
   "metadata": {},
   "outputs": [],
   "source": [
    "# FUNCTION FOR NON TIMESERIES REQUESTS\n",
    "# Static\n",
    "def get_nonts_metric(request='projects',requestgroup='all'):\n",
    "    df = san.get(\n",
    "        f'{request}/{requestgroup}'\n",
    "    )\n",
    "    return df"
   ]
  },
  {
   "cell_type": "code",
   "execution_count": 14,
   "metadata": {},
   "outputs": [],
   "source": [
    "# FUNCTION TO AGG NON TIMESERIES\n",
    "# This can be improved to include more df (*args)\n",
    "# This allows to .join timeseries dfs on common index (key)\n",
    "def aggregate_nonts_df(df,df1):\n",
    "    # join df on indexes (key column)\n",
    "    # add suffix if duplicate col names\n",
    "    df = df.join(df1, lsuffix='left')\n",
    "    return df"
   ]
  },
  {
   "cell_type": "markdown",
   "metadata": {},
   "source": [
    "## Messari API\n",
    "\n",
    "Used for: \n",
    "- trading real volume \n",
    "- "
   ]
  },
  {
   "cell_type": "code",
   "execution_count": 15,
   "metadata": {},
   "outputs": [],
   "source": [
    "# documentation: \n",
    "# Function to get all metric ids from messari (used for ts data)\n",
    "def get_messari_metrics():\n",
    "        url = 'https://data.messari.io/api/v1/assets/metrics'\n",
    "        resp = requests.get(url)\n",
    "                # get data from endpoint and load json content\n",
    "        resp.raise_for_status()\n",
    "                # parse json into py dict\n",
    "                # this is a list\n",
    "        resp = json.loads(resp.content)['data']['metrics']\n",
    "        # df expects list\n",
    "        df = pd.DataFrame(resp)\n",
    "        # df = json_normalize(resp)\n",
    "        df = df[['metric_id','description','minimum_interval','values_schema']]\n",
    "        df.set_index('metric_id', inplace=True)\n",
    "        return df"
   ]
  },
  {
   "cell_type": "code",
   "execution_count": null,
   "metadata": {},
   "outputs": [],
   "source": [
    "df = get_messari_metrics()\n",
    "df.head()"
   ]
  },
  {
   "cell_type": "code",
   "execution_count": 16,
   "metadata": {},
   "outputs": [],
   "source": [
    "# Function to get all messari timeseries data\n",
    "# Required args: assetkey (e.g. chainlink), metricid\n",
    "# If more than one col value this may break!\n",
    "\n",
    "# documentation: https://messari.io/api/docs#operation/Get%20Asset%20timeseries\n",
    "# args: start (YYYY-MM-DD), end (YYYY-MM-DD)\n",
    "# interval \"1m\" \"5m\" \"15m\" \"30m\" \"1h\" \"1d\" \"1w\"\n",
    "\n",
    "def get_messari_ts(assetkey, metricid,interval='1d', start='2018-07-31', end='2020-07-31'):\n",
    "    url = 'https://data.messari.io/api/v1/assets/{assetkey}/metrics/{metricid}/time-series'.format(assetkey=assetkey, metricid=metricid)\n",
    "    resp = requests.get(url, params={\n",
    "        'start': f'{start}',\n",
    "        'end': f'{end}',\n",
    "        'interval':f'{interval}'\n",
    "    })\n",
    "        # get data from endpoint and load json content\n",
    "    resp.raise_for_status()\n",
    "        # parse json into py dict\n",
    "        # this is a list\n",
    "    resp = json.loads(resp.content)['data']['values']\n",
    "    # df expects list\n",
    "    df = pd.DataFrame(resp, columns=['datetime',f'{metricid}'])\n",
    "    df['datetime'] = pd.to_datetime(df['datetime'], unit='ms')\n",
    "    df.set_index('datetime', inplace=True)\n",
    "    return df"
   ]
  },
  {
   "cell_type": "code",
   "execution_count": null,
   "metadata": {},
   "outputs": [],
   "source": [
    "df = get_messari_ts('chainlink','real.vol',end='2020-08-12')\n",
    "df['real.vol'] = df['real.vol'].astype('int')"
   ]
  },
  {
   "cell_type": "code",
   "execution_count": null,
   "metadata": {},
   "outputs": [],
   "source": [
    "df.tail()"
   ]
  },
  {
   "cell_type": "markdown",
   "metadata": {},
   "source": [
    "--- \n",
    "\n",
    "## Coinpaprika \n",
    "\n",
    "Used for: \n",
    "- \n",
    "\n",
    "## Cryptocompare\n",
    "\n",
    "Used for: \n",
    "- https://min-api.cryptocompare.com/documentation?key=Historical&cat=dataExchangeSymbolHistoday\n",
    "- https://min-api.cryptocompare.com/documentation?key=Historical&cat=dataExchangeSymbolHistohour\n",
    "- daily_ohlcv\n",
    "- hourly_ohlcv\n",
    "- daily_trading_volume_by_exchange (and token pair)\n",
    "- hourly-trading_volume_by_exchange (and token pair)"
   ]
  },
  {
   "cell_type": "code",
   "execution_count": 17,
   "metadata": {},
   "outputs": [],
   "source": [
    "# documentation: https://min-api.cryptocompare.com/documentation?key=Historical&cat=dataHistoday\n",
    "# documentation: https://min-api.cryptocompare.com/documentation?key=Historical&cat=dataHistohour\n",
    "# Get open, high, low, close, volumefrom and volumeto from the daily/hourly historical data. \n",
    "# arg: symbol (crypto), to_currency (e.g usd), limit=2000 max, before: end date ts\n",
    "# period: ohlcv either \"histoday\" (default) or \"histohour\".\n",
    "\n",
    "def get_ohlcv_dayorhour(symbol, to_currency, exchange,period='histoday',limit=2000, before='2020-07-31'):\n",
    "    url = 'https://min-api.cryptocompare.com/data/v2/{period}?fsym={symbol}&tsym={to_currency}'.format(\n",
    "        symbol=symbol,to_currency=to_currency,period=period)\n",
    "        # get data from endpoint and load json content\n",
    "    resp = requests.get(url, params={\n",
    "        'e': f'{exchange}',\n",
    "        'limit': f'{limit}',\n",
    "        'toTs': str(int(pd.Timestamp(before).timestamp()))\n",
    "    })\n",
    "    resp.raise_for_status()\n",
    "        # parse json into py dict\n",
    "        # this is a list\n",
    "    resp = json.loads(resp.content)['Data']['Data']\n",
    "    # df expects list\n",
    "    df = pd.DataFrame(resp)\n",
    "    df['time'] = pd.to_datetime(df['time'], unit='s')\n",
    "    df.set_index('time', inplace=True)\n",
    "    df = df.rename(columns={'volumefrom':f'volumefrom_{symbol}_{exchange}'})\n",
    "    df = df.rename(columns={'volumeto':f'volumeto_{to_currency}_{exchange}'})\n",
    "    # print data source\n",
    "    url = url.split('.')[1]\n",
    "    print(f'source: {url}') \n",
    "    return df[['open','close','high','low',f'volumefrom_{symbol}_{exchange}',f'volumeto_{to_currency}_{exchange}']]"
   ]
  },
  {
   "cell_type": "code",
   "execution_count": 18,
   "metadata": {
    "tags": []
   },
   "outputs": [
    {
     "output_type": "stream",
     "name": "stdout",
     "text": "source: cryptocompare\nsource: cryptocompare\n"
    }
   ],
   "source": [
    "# Example get ohlcv\n",
    "df = get_ohlcv_dayorhour('LINK','BTC','Binance')\n",
    "df_hour = get_ohlcv_dayorhour('LINK','BTC','Binance',period='histohour')"
   ]
  },
  {
   "cell_type": "code",
   "execution_count": 19,
   "metadata": {},
   "outputs": [
    {
     "output_type": "execute_result",
     "data": {
      "text/plain": "                open     close      high       low  volumefrom_LINK_Binance  \\\ntime                                                                          \n2020-07-27  0.000755  0.000643  0.000756  0.000606                9964760.3   \n2020-07-28  0.000643  0.000663  0.000687  0.000618                5204103.7   \n2020-07-29  0.000663  0.000638  0.000688  0.000620                4127601.2   \n2020-07-30  0.000638  0.000668  0.000686  0.000636                4815836.5   \n2020-07-31  0.000668  0.000688  0.000711  0.000654                4422497.3   \n\n            volumeto_BTC_Binance  \ntime                              \n2020-07-27               6655.12  \n2020-07-28               3397.08  \n2020-07-29               2679.99  \n2020-07-30               3197.74  \n2020-07-31               3038.82  ",
      "text/html": "<div>\n<style scoped>\n    .dataframe tbody tr th:only-of-type {\n        vertical-align: middle;\n    }\n\n    .dataframe tbody tr th {\n        vertical-align: top;\n    }\n\n    .dataframe thead th {\n        text-align: right;\n    }\n</style>\n<table border=\"1\" class=\"dataframe\">\n  <thead>\n    <tr style=\"text-align: right;\">\n      <th></th>\n      <th>open</th>\n      <th>close</th>\n      <th>high</th>\n      <th>low</th>\n      <th>volumefrom_LINK_Binance</th>\n      <th>volumeto_BTC_Binance</th>\n    </tr>\n    <tr>\n      <th>time</th>\n      <th></th>\n      <th></th>\n      <th></th>\n      <th></th>\n      <th></th>\n      <th></th>\n    </tr>\n  </thead>\n  <tbody>\n    <tr>\n      <th>2020-07-27</th>\n      <td>0.000755</td>\n      <td>0.000643</td>\n      <td>0.000756</td>\n      <td>0.000606</td>\n      <td>9964760.3</td>\n      <td>6655.12</td>\n    </tr>\n    <tr>\n      <th>2020-07-28</th>\n      <td>0.000643</td>\n      <td>0.000663</td>\n      <td>0.000687</td>\n      <td>0.000618</td>\n      <td>5204103.7</td>\n      <td>3397.08</td>\n    </tr>\n    <tr>\n      <th>2020-07-29</th>\n      <td>0.000663</td>\n      <td>0.000638</td>\n      <td>0.000688</td>\n      <td>0.000620</td>\n      <td>4127601.2</td>\n      <td>2679.99</td>\n    </tr>\n    <tr>\n      <th>2020-07-30</th>\n      <td>0.000638</td>\n      <td>0.000668</td>\n      <td>0.000686</td>\n      <td>0.000636</td>\n      <td>4815836.5</td>\n      <td>3197.74</td>\n    </tr>\n    <tr>\n      <th>2020-07-31</th>\n      <td>0.000668</td>\n      <td>0.000688</td>\n      <td>0.000711</td>\n      <td>0.000654</td>\n      <td>4422497.3</td>\n      <td>3038.82</td>\n    </tr>\n  </tbody>\n</table>\n</div>"
     },
     "metadata": {},
     "execution_count": 19
    }
   ],
   "source": [
    "df.tail()"
   ]
  },
  {
   "cell_type": "code",
   "execution_count": 20,
   "metadata": {},
   "outputs": [],
   "source": [
    "# documentation: https://min-api.cryptocompare.com/documentation?key=Historical&cat=dataExchangeSymbolHistoday\n",
    "# documentation: https://min-api.cryptocompare.com/documentation?key=Historical&cat=dataExchangeSymbolHistohour\n",
    "# Get volume total for trading pair from each exchange from the daily/hourly historical data. \n",
    "# arg: symbol (crypto), to_currency (e.g usd), limit=2000 max, before: end date ts\n",
    "# period: ohlcv either \"histoday\" (default) or \"histohour\".\n",
    "\n",
    "def get_exchangevol_dayorhour(symbol, to_currency, exchange,period='histoday',limit=2000, before='2020-07-31'):\n",
    "    url = 'https://min-api.cryptocompare.com/data/exchange/symbol/{period}?fsym={symbol}&tsym={to_currency}'.format(\n",
    "        symbol=symbol,to_currency=to_currency,period=period\n",
    "    )\n",
    "    resp = requests.get(url, params={\n",
    "        'e': f'{exchange}',\n",
    "        'limit': f'{limit}',\n",
    "        'toTs': str(int(pd.Timestamp(before).timestamp()))\n",
    "    })\n",
    "        # get data from endpoint and load json content\n",
    "    resp.raise_for_status()\n",
    "        # parse json into py dict\n",
    "        # this is a list\n",
    "    resp = json.loads(resp.content)['Data']\n",
    "    # df expects list\n",
    "    df = pd.DataFrame(resp)\n",
    "    df['time'] = pd.to_datetime(df['time'], unit='s')\n",
    "    df.set_index('time', inplace=True)\n",
    "    df = df.rename(columns={'volumefrom':f'volumefrom_{symbol}_{exchange}'})\n",
    "    df = df.rename(columns={'volumeto':f'volumeto_{to_currency}_{exchange}'})\n",
    "    df = df.rename(columns={'volumetotal':f'volumetot_{symbol}{to_currency}{exchange}'})\n",
    "    # print data source\n",
    "    url = url.split('.')[1]\n",
    "    print(f'source: {url}')  \n",
    "    return df"
   ]
  },
  {
   "cell_type": "code",
   "execution_count": null,
   "metadata": {
    "tags": []
   },
   "outputs": [],
   "source": [
    "df = get_exchangevol_dayorhour('LINK','USD','Binance',before='2020-07-31')\n",
    "df_hour = get_exchangevol_dayorhour('LINK','USD','Binance',period='histohour',before='2020-07-31')"
   ]
  },
  {
   "cell_type": "code",
   "execution_count": 634,
   "metadata": {
    "tags": []
   },
   "outputs": [
    {
     "name": "stdout",
     "output_type": "stream",
     "text": [
      "source: cryptocompare\n"
     ]
    },
    {
     "data": {
      "text/html": [
       "<div>\n",
       "<style scoped>\n",
       "    .dataframe tbody tr th:only-of-type {\n",
       "        vertical-align: middle;\n",
       "    }\n",
       "\n",
       "    .dataframe tbody tr th {\n",
       "        vertical-align: top;\n",
       "    }\n",
       "\n",
       "    .dataframe thead th {\n",
       "        text-align: right;\n",
       "    }\n",
       "</style>\n",
       "<table border=\"1\" class=\"dataframe\">\n",
       "  <thead>\n",
       "    <tr style=\"text-align: right;\">\n",
       "      <th></th>\n",
       "      <th>volumefrom_LINK_uniswap</th>\n",
       "      <th>volumeto_ETH_uniswap</th>\n",
       "      <th>volumetot_LINKETHuniswap</th>\n",
       "    </tr>\n",
       "    <tr>\n",
       "      <th>time</th>\n",
       "      <th></th>\n",
       "      <th></th>\n",
       "      <th></th>\n",
       "    </tr>\n",
       "  </thead>\n",
       "  <tbody>\n",
       "    <tr>\n",
       "      <th>2020-07-27</th>\n",
       "      <td>193.90</td>\n",
       "      <td>0</td>\n",
       "      <td>193.90</td>\n",
       "    </tr>\n",
       "    <tr>\n",
       "      <th>2020-07-28</th>\n",
       "      <td>46.01</td>\n",
       "      <td>0</td>\n",
       "      <td>46.01</td>\n",
       "    </tr>\n",
       "    <tr>\n",
       "      <th>2020-07-29</th>\n",
       "      <td>21.38</td>\n",
       "      <td>0</td>\n",
       "      <td>21.38</td>\n",
       "    </tr>\n",
       "    <tr>\n",
       "      <th>2020-07-30</th>\n",
       "      <td>25.12</td>\n",
       "      <td>0</td>\n",
       "      <td>25.12</td>\n",
       "    </tr>\n",
       "    <tr>\n",
       "      <th>2020-07-31</th>\n",
       "      <td>26.69</td>\n",
       "      <td>0</td>\n",
       "      <td>26.69</td>\n",
       "    </tr>\n",
       "  </tbody>\n",
       "</table>\n",
       "</div>"
      ],
      "text/plain": [
       "            volumefrom_LINK_uniswap  volumeto_ETH_uniswap  \\\n",
       "time                                                        \n",
       "2020-07-27                   193.90                     0   \n",
       "2020-07-28                    46.01                     0   \n",
       "2020-07-29                    21.38                     0   \n",
       "2020-07-30                    25.12                     0   \n",
       "2020-07-31                    26.69                     0   \n",
       "\n",
       "            volumetot_LINKETHuniswap  \n",
       "time                                  \n",
       "2020-07-27                    193.90  \n",
       "2020-07-28                     46.01  \n",
       "2020-07-29                     21.38  \n",
       "2020-07-30                     25.12  \n",
       "2020-07-31                     26.69  "
      ]
     },
     "execution_count": 634,
     "metadata": {},
     "output_type": "execute_result"
    }
   ],
   "source": [
    "get_exchangevol_dayorhour('LINK','ETH','uniswap',before='2020-07-31').tail()"
   ]
  },
  {
   "cell_type": "code",
   "execution_count": null,
   "metadata": {
    "tags": []
   },
   "outputs": [],
   "source": [
    "df = get_exchangevol_dayorhour('LINK','BTC','uniswap',before='2020-07-31')\n",
    "df.tail()"
   ]
  },
  {
   "cell_type": "markdown",
   "metadata": {},
   "source": [
    "Top trading pair lists"
   ]
  },
  {
   "cell_type": "code",
   "execution_count": 21,
   "metadata": {},
   "outputs": [],
   "source": [
    "# documentation: https://min-api.cryptocompare.com/documentation?key=Toplists&cat=topPairsEndpoint\n",
    "# Get top pairs by volume for a coin\n",
    "# arg: e.g. \n",
    "def get_toppairs_vol(symbol, limit=10):\n",
    "    url = 'https://min-api.cryptocompare.com/data/top/pairs?fsym={symbol}&limit={limit}'.format(\n",
    "        symbol=symbol,limit=limit)\n",
    "        # get data from endpoint and load json content\n",
    "    resp = requests.get(url)\n",
    "    resp.raise_for_status()\n",
    "        # parse json into py dict\n",
    "        # this is a list\n",
    "    resp = json.loads(resp.content)['Data']\n",
    "    # df expects list\n",
    "    df = pd.DataFrame(resp)\n",
    "    df['lastUpdateTs'] = pd.to_datetime(df['lastUpdateTs'], unit='s')\n",
    "    # print data source\n",
    "    url = url.split('.')[1]\n",
    "    print(f'source: {url}') \n",
    "    return df[['fromSymbol','toSymbol','volume24h','lastUpdateTs']]"
   ]
  },
  {
   "cell_type": "code",
   "execution_count": 22,
   "metadata": {
    "tags": []
   },
   "outputs": [
    {
     "output_type": "stream",
     "name": "stdout",
     "text": "source: cryptocompare\n"
    },
    {
     "output_type": "execute_result",
     "data": {
      "text/plain": "  fromSymbol toSymbol     volume24h        lastUpdateTs\n0       LINK     USDT  3.608925e+07 2020-08-16 00:22:51\n1       LINK     TUSD  5.725551e+04 2020-08-16 00:18:52\n2       LINK      ETH  3.287680e+06 2020-08-16 00:22:39\n3       LINK      BIX  5.663583e+02 2020-08-16 00:18:30\n4       LINK     BUSD  2.936555e+05 2020-08-16 00:21:44\n5       LINK      BTC  1.369614e+07 2020-08-16 00:22:41\n6       LINK     USDC  1.770258e+05 2020-08-16 00:20:49\n7       LINK      USD  9.490520e+06 2020-08-16 00:22:39\n8       LINK      KRW  2.141110e+06 2020-08-16 00:22:16\n9       LINK      EUR  1.038963e+06 2020-08-16 00:22:22",
      "text/html": "<div>\n<style scoped>\n    .dataframe tbody tr th:only-of-type {\n        vertical-align: middle;\n    }\n\n    .dataframe tbody tr th {\n        vertical-align: top;\n    }\n\n    .dataframe thead th {\n        text-align: right;\n    }\n</style>\n<table border=\"1\" class=\"dataframe\">\n  <thead>\n    <tr style=\"text-align: right;\">\n      <th></th>\n      <th>fromSymbol</th>\n      <th>toSymbol</th>\n      <th>volume24h</th>\n      <th>lastUpdateTs</th>\n    </tr>\n  </thead>\n  <tbody>\n    <tr>\n      <th>0</th>\n      <td>LINK</td>\n      <td>USDT</td>\n      <td>3.608925e+07</td>\n      <td>2020-08-16 00:22:51</td>\n    </tr>\n    <tr>\n      <th>1</th>\n      <td>LINK</td>\n      <td>TUSD</td>\n      <td>5.725551e+04</td>\n      <td>2020-08-16 00:18:52</td>\n    </tr>\n    <tr>\n      <th>2</th>\n      <td>LINK</td>\n      <td>ETH</td>\n      <td>3.287680e+06</td>\n      <td>2020-08-16 00:22:39</td>\n    </tr>\n    <tr>\n      <th>3</th>\n      <td>LINK</td>\n      <td>BIX</td>\n      <td>5.663583e+02</td>\n      <td>2020-08-16 00:18:30</td>\n    </tr>\n    <tr>\n      <th>4</th>\n      <td>LINK</td>\n      <td>BUSD</td>\n      <td>2.936555e+05</td>\n      <td>2020-08-16 00:21:44</td>\n    </tr>\n    <tr>\n      <th>5</th>\n      <td>LINK</td>\n      <td>BTC</td>\n      <td>1.369614e+07</td>\n      <td>2020-08-16 00:22:41</td>\n    </tr>\n    <tr>\n      <th>6</th>\n      <td>LINK</td>\n      <td>USDC</td>\n      <td>1.770258e+05</td>\n      <td>2020-08-16 00:20:49</td>\n    </tr>\n    <tr>\n      <th>7</th>\n      <td>LINK</td>\n      <td>USD</td>\n      <td>9.490520e+06</td>\n      <td>2020-08-16 00:22:39</td>\n    </tr>\n    <tr>\n      <th>8</th>\n      <td>LINK</td>\n      <td>KRW</td>\n      <td>2.141110e+06</td>\n      <td>2020-08-16 00:22:16</td>\n    </tr>\n    <tr>\n      <th>9</th>\n      <td>LINK</td>\n      <td>EUR</td>\n      <td>1.038963e+06</td>\n      <td>2020-08-16 00:22:22</td>\n    </tr>\n  </tbody>\n</table>\n</div>"
     },
     "metadata": {},
     "execution_count": 22
    }
   ],
   "source": [
    "get_toppairs_vol('LINK')"
   ]
  },
  {
   "cell_type": "code",
   "execution_count": 23,
   "metadata": {},
   "outputs": [],
   "source": [
    "api_key = '83e625a6bc3dbda445bd3b9001ba7d6f63ffafc91f75763f4a9b993bb1e2514d'"
   ]
  },
  {
   "cell_type": "code",
   "execution_count": 24,
   "metadata": {},
   "outputs": [],
   "source": [
    "# Get cryptocompare symbol trading pairs by exchange\n",
    "# documentation: https://min-api.cryptocompare.com/documentation?key=PairMapping&cat=pairMappingMappedSymbolEndpoint\n",
    "# NEEDS API_KEY\n",
    "\n",
    "def get_cc_pairbyexchange(symbol,api_key=api_key):\n",
    "    url = 'https://min-api.cryptocompare.com/data/v2/pair/mapping/fsym?fsym={symbol}&api_key={api_key}'.format(symbol=symbol,api_key=api_key)\n",
    "        # get data from endpoint and load json content\n",
    "    resp = requests.get(url)\n",
    "    resp.raise_for_status()\n",
    "        # parse json into py dict\n",
    "        # this is a list\n",
    "    resp = json.loads(resp.content)['Data']['current']\n",
    "    # df expects list\n",
    "    df = pd.DataFrame(resp)\n",
    "    df['last_update'] = pd.to_datetime(df['last_update'], unit='s')\n",
    "    # print data source\n",
    "    url = url.split('.')[1]\n",
    "    print(f'source: {url}')    \n",
    "    return df#[['fromSymbol','toSymbol','volume24h','lastUpdateTs']]b"
   ]
  },
  {
   "cell_type": "code",
   "execution_count": null,
   "metadata": {
    "tags": []
   },
   "outputs": [],
   "source": [
    "df = get_cc_pairbyexchange('LINK')\n",
    "df.head()"
   ]
  },
  {
   "cell_type": "markdown",
   "metadata": {},
   "source": [
    "---\n",
    "\n",
    "## Coingecko\n",
    "\n",
    "Used for: \n",
    "\n",
    "token:\n",
    "- ohlcv daily of coins\n",
    "\n",
    "exchanges/markets:\n",
    "- list of all exchanges\n",
    "- list of exchanges/markets coin is listed\n",
    "- exchange volume by ticker or coin\n",
    "- exchange total volume historical\n"
   ]
  },
  {
   "cell_type": "markdown",
   "metadata": {},
   "source": [
    "Snapshot/static metrics"
   ]
  },
  {
   "cell_type": "code",
   "execution_count": 25,
   "metadata": {},
   "outputs": [],
   "source": [
    "# Static\n",
    "# Returns the coin pairs, exchanges where coin traded and last volumes\n",
    "# check get_coin_list() for ids\n",
    "def get_markets_bycoin(asset,exchange_id=''):\n",
    "    url = 'https://api.coingecko.com/api/v3/coins/{asset}/tickers'.format(asset=asset)\n",
    "    resp = requests.get(url, params={\n",
    "        'id': f'{asset}',\n",
    "        'exchange_ids': f'{exchange_id}'\n",
    "    })    \n",
    "    resp.raise_for_status()\n",
    "            # parse json into py dict\n",
    "            # this is a list\n",
    "    resp = json.loads(resp.content)['tickers']\n",
    "        # df expects list\n",
    "    df = json_normalize(resp)\n",
    "    # print data source\n",
    "    url = url.split('.')[1]\n",
    "    print(f'source: {url}')  \n",
    "    return df[['coin_id','base','target','market.name','volume','trust_score']]\n",
    "# df[['base','target','trust_score','volume']].head()"
   ]
  },
  {
   "cell_type": "code",
   "execution_count": null,
   "metadata": {
    "tags": []
   },
   "outputs": [],
   "source": [
    "df = get_markets_bycoin('chainlink')\n",
    "df.head()"
   ]
  },
  {
   "cell_type": "code",
   "execution_count": 26,
   "metadata": {},
   "outputs": [],
   "source": [
    "# Documentation: https://www.coingecko.com/en/api/coins/markets\n",
    "# Get overview market information about token \n",
    "# args: asset (e.g.'chainlink'), currency (output in 'usd' by default)\n",
    "\n",
    "def get_coin_info(asset, currency='usd'):\n",
    "    url = 'https://api.coingecko.com/api/v3/coins/markets?vs_currency={currency}&ids={asset}'.format(asset=asset,currency=currency)\n",
    "    resp = requests.get(url, params={\n",
    "        'vs_currency': f'{currency}',\n",
    "        'ids': f'{asset}'\n",
    "    })    \n",
    "    resp.raise_for_status()\n",
    "            # parse json into py dict\n",
    "            # this is a list\n",
    "    resp = json.loads(resp.content)\n",
    "        # df expects list\n",
    "    df = json_normalize(resp)\n",
    "    # print data source\n",
    "    url = url.split('.')[1]\n",
    "    print(f'source: {url}')  \n",
    "    return df"
   ]
  },
  {
   "cell_type": "code",
   "execution_count": null,
   "metadata": {
    "tags": []
   },
   "outputs": [],
   "source": [
    "df = get_coin_info('chainlink')\n",
    "df = df[['id','total_supply','circulating_supply','current_price','market_cap','market_cap_rank','total_volume','ath','atl']]\n",
    "df.melt()\n",
    "# df.info()"
   ]
  },
  {
   "cell_type": "code",
   "execution_count": 27,
   "metadata": {},
   "outputs": [],
   "source": [
    "# Static\n",
    "# Coingecko\n",
    "# Get full list of coins or full list of exchanges\n",
    "# arg: \"exchanges\" OR \"coins\" \n",
    "\n",
    "def get_exchange_or_coinslist(exchanges_coins):\n",
    "    url = \"https://api.coingecko.com/api/v3/{exchanges_coins}/list\".format(exchanges_coins=exchanges_coins)\n",
    "        # get data from endpoint and load json content\n",
    "    resp = requests.get(url)\n",
    "    resp.raise_for_status()\n",
    "        # parse json into py dict\n",
    "        # this is a list\n",
    "    resp = json.loads(resp.content)\n",
    "    # df expects list\n",
    "    df = pd.DataFrame(resp)\n",
    "    # print data source\n",
    "    url = url.split('.')[1]\n",
    "    print(f'source: {url}')  \n",
    "    return df"
   ]
  },
  {
   "cell_type": "code",
   "execution_count": null,
   "metadata": {
    "tags": []
   },
   "outputs": [],
   "source": [
    "get_exchange_or_coinslist('coins').head()"
   ]
  },
  {
   "cell_type": "markdown",
   "metadata": {},
   "source": [
    "timeseries"
   ]
  },
  {
   "cell_type": "code",
   "execution_count": 28,
   "metadata": {
    "tags": []
   },
   "outputs": [],
   "source": [
    "# Timeseries\n",
    "# THIS IS GOOD!\n",
    "# TRANSFORM INTO FUNCTION!\n",
    "# COINGECKO API\n",
    "# No need for apikeys \n",
    "\n",
    "import requests\n",
    "from pandas.io.json import json_normalize\n",
    "import pandas as pd \n",
    "import json\n",
    "\n",
    "def get_hist_price(symbol, currency='usd', start='2018-07-31', end='2020-07-31'):\n",
    "\n",
    "    # api url formatted\n",
    "    # symbol are {id} \n",
    "    url = \"https://api.coingecko.com/api/v3/coins/{symbol}/market_chart/range?vs_currency={currency}&from={start}&      to={end}\".format(symbol=symbol,currency=currency,start=start, end=end)\n",
    "    # get data from endpoint and load json content\n",
    "    resp = requests.get(url, params={\n",
    "        # handle unix timestamps\n",
    "        'from': str(int(pd.Timestamp(start).timestamp())),\n",
    "        'to': str(int(pd.Timestamp(end).timestamp()))\n",
    "        })\n",
    "    resp.raise_for_status()\n",
    "    # parse json into py dict\n",
    "    resp = json.loads(resp.content)\n",
    "\n",
    "    # set df from json dict\n",
    "    # use list comprehension to iterate over dict\n",
    "    df = pd.DataFrame({\n",
    "        'dates':[x[0] for x in resp['prices']],\n",
    "        'prices': [x[1] for x in resp['prices']],\n",
    "        'market_caps': [x[1] for x in resp['market_caps']],\n",
    "        'total_volumes': [x[1] for x in resp['total_volumes']]\n",
    "    })\n",
    "    # change date format\n",
    "    df['dates'] = pd.to_datetime(df['dates'], unit='ms')\n",
    "    # set df index to date\n",
    "    df.set_index('dates', inplace=True)\n",
    "    # print data source\n",
    "    url = url.split('.')[1]\n",
    "    print(f'source: {url}')  \n",
    "    return df"
   ]
  },
  {
   "cell_type": "code",
   "execution_count": null,
   "metadata": {
    "tags": []
   },
   "outputs": [],
   "source": [
    "get_hist_price('chainlink').tail()"
   ]
  },
  {
   "cell_type": "code",
   "execution_count": null,
   "metadata": {},
   "outputs": [],
   "source": [
    "# search id and symbol at coingecko\n",
    "df = get_coinlist()\n",
    "df.loc[df['id'] == 'chainlink']"
   ]
  },
  {
   "cell_type": "code",
   "execution_count": null,
   "metadata": {
    "tags": []
   },
   "outputs": [],
   "source": [
    "# uses coingecko coin id\n",
    "# note: bitcoin not btc, ethereum not eth\n",
    "df = get_hist_price('ethereum')"
   ]
  },
  {
   "cell_type": "code",
   "execution_count": null,
   "metadata": {
    "tags": []
   },
   "outputs": [],
   "source": [
    "df.shape"
   ]
  },
  {
   "cell_type": "markdown",
   "metadata": {},
   "source": [
    "---\n",
    "\n",
    "## Defiexplore\n",
    "\n",
    "Used for: \n",
    "- liquidations data\n",
    "- auctions data\n",
    "- vault history data\n",
    "\n",
    "Sources:\n",
    "- liquidations: https://defiexplore.com/api/auctions\n",
    "- all vaults: https://defiexplore.com/api/all-vaults"
   ]
  },
  {
   "cell_type": "markdown",
   "metadata": {},
   "source": [
    "Timeseries - liquidations"
   ]
  },
  {
   "cell_type": "code",
   "execution_count": 29,
   "metadata": {},
   "outputs": [],
   "source": [
    "# GET LIQUIDATIONS DATA\n",
    "\n",
    "import requests\n",
    "import pandas as pd\n",
    "\n",
    "def get_liquidations():\n",
    "    url = \"https://defiexplore.com/api/auctions\"\n",
    "        # get data from endpoint and load json content\n",
    "    resp = requests.get(url)\n",
    "    # resp.raise_for_status()\n",
    "        # parse json into py dict\n",
    "        # this is a list\n",
    "    resp = json.loads(resp.content)\n",
    "    # # df expects list\n",
    "    df = pd.DataFrame(resp)\n",
    "    # df index\n",
    "    df.set_index('timestamp', inplace=True)\n",
    "    # print data source\n",
    "    url = url.split('.')[0]\n",
    "    print(f'source: {url}')  \n",
    "    return df"
   ]
  },
  {
   "cell_type": "code",
   "execution_count": 30,
   "metadata": {},
   "outputs": [],
   "source": [
    "def get_vaults_list():\n",
    "    url = \"https://defiexplore.com/api/all-vaults\"\n",
    "        # get data from endpoint and load json content\n",
    "    resp = requests.get(url)\n",
    "    # resp.raise_for_status()\n",
    "        # parse json into py dict\n",
    "        # this is a list\n",
    "    resp = json.loads(resp.content)\n",
    "    # # df expects list\n",
    "    df = pd.DataFrame(resp)\n",
    "    # df index\n",
    "    df.set_index('cdpId', inplace=True)\n",
    "    # print data source\n",
    "    url = url.split('.')[0]\n",
    "    print(f'source: {url}')  \n",
    "    return df"
   ]
  },
  {
   "cell_type": "code",
   "execution_count": null,
   "metadata": {
    "tags": []
   },
   "outputs": [],
   "source": [
    "# PLACEHOLDER FOR ALL-VAULTS DATA\n",
    "get_liquidations().head()"
   ]
  },
  {
   "cell_type": "code",
   "execution_count": null,
   "metadata": {
    "tags": []
   },
   "outputs": [],
   "source": [
    "liquidations = get_liquidations()\n",
    "liquidations['profit'].sum()"
   ]
  },
  {
   "cell_type": "code",
   "execution_count": null,
   "metadata": {},
   "outputs": [],
   "source": [
    "liquidations.dtypes.value_counts()"
   ]
  },
  {
   "cell_type": "code",
   "execution_count": null,
   "metadata": {
    "tags": []
   },
   "outputs": [],
   "source": [
    "liquidations.dtypes"
   ]
  },
  {
   "cell_type": "code",
   "execution_count": null,
   "metadata": {
    "tags": []
   },
   "outputs": [],
   "source": [
    "get_vaults_list().head(10)"
   ]
  },
  {
   "cell_type": "markdown",
   "metadata": {},
   "source": [
    "---\n",
    "\n",
    "## On-chain DEX\n",
    "\n",
    "Sources: \n",
    "- blocklytics\n",
    "- 0xtracker\n",
    "- uniswap\n",
    "- kyber\n"
   ]
  },
  {
   "cell_type": "markdown",
   "metadata": {},
   "source": [
    "### 0x tracker"
   ]
  },
  {
   "cell_type": "code",
   "execution_count": 31,
   "metadata": {},
   "outputs": [],
   "source": [
    "# get volume from 0x tracker on token\n",
    "# 0x514910771af9ca656af840dff83e8264ecf986ca = link\n",
    "\n",
    "def get_0x_tokenvolume(token_add, granularity='day', period='all'):\n",
    "    url = 'https://api.0xtracker.com/metrics/token'\n",
    "    resp = requests.get(url, params={\n",
    "        'granularity': 'day',\n",
    "        'token': f'{token_add}',\n",
    "        'period': 'all'\n",
    "    })\n",
    "        # resp.raise_for_status()\n",
    "            # parse json into py dict\n",
    "            # this is a list\n",
    "    resp = json.loads(resp.content)\n",
    "        # # df expects list\n",
    "    df = json_normalize(resp)\n",
    "    df.set_index('date', inplace=True)\n",
    "    \n",
    "    # print data source\n",
    "    url = url.split('.')[1]\n",
    "    print(f'source: {url}')\n",
    "    return df"
   ]
  },
  {
   "cell_type": "code",
   "execution_count": null,
   "metadata": {
    "tags": []
   },
   "outputs": [],
   "source": [
    "df = get_0x_tokenvolume('0x514910771af9ca656af840dff83e8264ecf986ca')\n",
    "df.tail()"
   ]
  },
  {
   "cell_type": "markdown",
   "metadata": {},
   "source": [
    "### Bancor - FUNCTIONS NOT WORKING"
   ]
  },
  {
   "cell_type": "code",
   "execution_count": 35,
   "metadata": {},
   "outputs": [],
   "source": [
    "# This kind of works (last few days only)\n",
    "# But lots of data missing\n",
    "\n",
    "def get_bancor_token_vol():\n",
    "    url = 'https://api.bancor.network/0.1/currencies/volumeHistory?toCurrencyCode=eth&fromCurrencyCode=link&timeFrame=year'\n",
    "    resp = requests.get(url)\n",
    "    resp = json.loads(resp.content)['data']['data'][::]\n",
    "\n",
    "    df_bancor_vol = json_normalize(resp)\n",
    "    df_bancor_vol['timeStamp'] = pd.to_datetime(df_bancor_vol['timeStamp'], unit='ms')\n",
    "    df_bancor_vol.set_index('timeStamp', inplace=True)\n",
    "    \n",
    "    return df_bancor_vol"
   ]
  },
  {
   "cell_type": "code",
   "execution_count": null,
   "metadata": {},
   "outputs": [],
   "source": [
    "get_bancor_token_vol().tail()"
   ]
  },
  {
   "cell_type": "code",
   "execution_count": 33,
   "metadata": {},
   "outputs": [],
   "source": [
    "# PROBLEM: THIS IS ALWAYS RETURNING 0 VOLUME\n",
    "# DOES NOT WORK!\n",
    "def get_bancor_tokenvolume(to_currency, from_currency, timeframe='year', start='2020-01-31', end='2020-07-31'):\n",
    "    url = 'https://api.bancor.network/0.1/currencies/volumeHistory?toCurrencyCode={to_currency}&fromCurrencyCode={from_currency}&timeFrame={timeframe}'.format(to_currency=to_currency,from_currency=from_currency,timeframe=timeframe)\n",
    "    resp = requests.get(url)\n",
    "    resp = json.loads(resp.content)['data']['data'][::]\n",
    "\n",
    "    df = json_normalize(resp)\n",
    "    df.to_csv('bancor1.csv')\n",
    "    df['timeStamp'] = pd.to_datetime(df['timeStamp'], unit='ms')\n",
    "    df.set_index('timeStamp', inplace=True)\n",
    "\n",
    "    return df.head()"
   ]
  },
  {
   "cell_type": "code",
   "execution_count": 34,
   "metadata": {},
   "outputs": [],
   "source": [
    "# PROBLEM: THIS IS ALWAYS RETURNING 0 VOLUME\n",
    "\n",
    "# documentation: https://support.bancor.network/hc/en-us/articles/360018984251-Historical-Volume-API\n",
    "# Get volume data on trading pair from bancor\n",
    "# toCurrencyCode={currency_symbol}\n",
    "# fromCurrencyCode={currency_symbol}\n",
    "# timeFrame={hour, day, week, year}\n",
    "# startDate={UNIX time in milliseconds}\n",
    "# endDate={UNIX time in milliseconds}\n",
    "def get_bancor_tokenvolume(to_currency, from_currency, timeframe='day', start='2018-07-31', end='2020-07-31'):\n",
    "    url = 'https://api.bancor.network/0.1/currencies/volumeHistory?'\n",
    "    resp = requests.get(url, params={\n",
    "        'toCurrencyCode': f'{to_currency}',\n",
    "        'fromCurrencyCode': f'{from_currency}',\n",
    "        'timeFrame': f'{timeframe}',\n",
    "        'startDate': str(int(pd.Timestamp(start).timestamp())),\n",
    "        'endDate': str(int(pd.Timestamp(end).timestamp()))\n",
    "\n",
    "    })\n",
    "        # resp.raise_for_status()\n",
    "            # parse json into py dict\n",
    "            # this is a list\n",
    "    resp = json.loads(resp.content)['data']['data'][::]\n",
    "        # # df expects list\n",
    "    df = json_normalize(resp)\n",
    "    # pd.DataFrame(df)\n",
    "    df['timeStamp'] = pd.to_datetime(df['timeStamp'], unit='s')    \n",
    "    df.set_index('timeStamp', inplace=True)\n",
    "    \n",
    "    # print data source\n",
    "    url = url.split('.')[1]\n",
    "    print(f'source: {url}')\n",
    "    return df"
   ]
  },
  {
   "cell_type": "code",
   "execution_count": null,
   "metadata": {
    "tags": []
   },
   "outputs": [],
   "source": [
    "df = get_bancor_tokenvolume('eth', 'link', timeframe='day', start='2018-07-31', end='2020-07-31')\n",
    "df.head()"
   ]
  },
  {
   "cell_type": "markdown",
   "metadata": {},
   "source": [
    "---\n",
    "\n",
    "## Coinmetrics\n",
    "\n",
    "Used for: \n",
    "- lots of summary stats\n",
    "- csv formatted data (API also available but requires PRO key)\n",
    "\n",
    "Documentation:\n",
    "- https://github.com/coinmetrics-io?language=python\n",
    "- https://coinmetrics.io/tools/\n",
    "- https://docs.coinmetrics.io/info/assets/link > free vs pro tiers\n",
    "- https://docs.coinmetrics.io/info/metrics > full data dictionary\n"
   ]
  },
  {
   "cell_type": "code",
   "execution_count": 36,
   "metadata": {},
   "outputs": [],
   "source": [
    "# Get all the data dictionary and definitions\n",
    "# for metrics file\n",
    "df = pd.read_csv('data/coinmetrics_info.csv',\n",
    "                 na_values=['', '?', '-'],\n",
    "                 parse_dates=[0],\n",
    "                 index_col=[0])                 "
   ]
  },
  {
   "cell_type": "code",
   "execution_count": 37,
   "metadata": {},
   "outputs": [],
   "source": [
    "# summary stats from coinmetrics\n",
    "df = pd.read_csv('data/coinmetrics_link.csv',\n",
    "                 na_values=['', '?', '-'],\n",
    "                 parse_dates=[0],\n",
    "                 index_col=[0])                 "
   ]
  },
  {
   "cell_type": "markdown",
   "metadata": {},
   "source": [
    "---\n",
    "\n",
    "## Alethio\n",
    "\n",
    "Used for: **DEFI products and rates**\n",
    "- Defi stats (snapshot and timeseries)\n",
    "- daily_earn_apr (by platform and token)\n",
    "- daily_borrow_apr (by platform and token)\n",
    "- daily_outstanding_debt\n",
    "- daily_supply\n"
   ]
  },
  {
   "cell_type": "code",
   "execution_count": null,
   "metadata": {
    "tags": []
   },
   "outputs": [],
   "source": [
    "before = '2018-07-30'\n",
    "after = '2020-08-05'\n",
    "\n",
    "print(str(int(pd.Timestamp(before).timestamp())))\n",
    "print(str(int(pd.Timestamp(after).timestamp())))"
   ]
  },
  {
   "cell_type": "markdown",
   "metadata": {},
   "source": [
    "Snapshot of rates"
   ]
  },
  {
   "cell_type": "code",
   "execution_count": 38,
   "metadata": {},
   "outputs": [],
   "source": [
    "# documentation: https://consensys.github.io/codefi-data-fundamental-api-redoc/#tag/DeFi/paths/~1v0~1defi~1snapshot/get\n",
    "\n",
    "def get_defi_rates_snap():\n",
    "    url = 'https://api.aleth.io/v0/defi/snapshot'\n",
    "    resp = requests.get(url)\n",
    "\n",
    "    resp = requests.get(url) \n",
    "    resp.raise_for_status()\n",
    "\n",
    "    resp = json.loads(resp.content)['data']\n",
    "            # # df expects list\n",
    "    df = json_normalize(resp)\n",
    "    df.set_index('protocol',inplace=True)\n",
    "    df = df.drop('timestamp',axis='columns')\n",
    "    # print data source\n",
    "    url = url.split('.')[1]\n",
    "    print(f'source: {url}')\n",
    "    return df "
   ]
  },
  {
   "cell_type": "code",
   "execution_count": null,
   "metadata": {
    "tags": []
   },
   "outputs": [],
   "source": [
    "# Example\n",
    "get_defi_rates_snap().head()"
   ]
  },
  {
   "cell_type": "markdown",
   "metadata": {},
   "source": [
    "Timeseries data: APR rates / collateral ratios / debt / supply"
   ]
  },
  {
   "cell_type": "code",
   "execution_count": 39,
   "metadata": {
    "tags": []
   },
   "outputs": [],
   "source": [
    "# documentation: https://docs.aleth.io/api#tag/DeFi/paths/~1v0~1defi~1history/get\n",
    "# documentation (new): https://consensys.github.io/codefi-data-fundamental-api-redoc/#tag/DeFi/paths/~1v0~1defi~1history/get\n",
    "# protocols: \"maker\" \"mcd\" \"compound\" \"dydx\" \"bzx\" \"ddex\" \"aave\" \"lendf\"\n",
    "# assets: \"eth\" \"dai\" \"sai\" \"usdc\" \"bat\" \"zrx\" \"rep\" \"wbtc\" \"knc\" \"link\" \"usdt\" \"susd\" \"snx\" \"mkr\" \"lend\" \"mana\" \"imbtc\" \"usdx\" \"tusd\"\n",
    "# metric: \"earn_apr\" \"borrow_apr\" (by default both)\n",
    "# granularity: 24 (default: daily)\n",
    "\n",
    "def get_defi_ratehist(protocol, asset, after='2018-07-31', before=''):\n",
    "    url = 'https://api.aleth.io/v0/defi/history'\n",
    "    resp = requests.get(url)\n",
    "\n",
    "    resp = requests.get(url, params={\n",
    "        'after': str(int(pd.Timestamp(after).timestamp())),\n",
    "        'assets':[f'{asset}'],\n",
    "        # 'metrics': ['borrow_apr'],\n",
    "        'protocols':f'{protocol}'\t\n",
    "    })\n",
    "    resp.raise_for_status()\n",
    "            # parse json into py dict\n",
    "            # this is a list\n",
    "    resp = json.loads(resp.content)['data']\n",
    "        # # df expects list\n",
    "    resp = json_normalize(resp)['points']\n",
    "    \n",
    "    # dataframe split earn \n",
    "    df = pd.DataFrame(resp[0],columns=['timestamp',f'{protocol}_earn_apr'])\n",
    "    df['timestamp'] = pd.to_datetime(df['timestamp'],unit='s')\n",
    "    df.set_index('timestamp', inplace=True)\n",
    "    \n",
    "    # dataframe split borrow\n",
    "    df1 = pd.DataFrame(resp[1],columns=['timestamp',f'{protocol}_borrow_apr'])\n",
    "    df1['timestamp'] = pd.to_datetime(df1['timestamp'],unit='s')\n",
    "    df1.set_index('timestamp', inplace=True)\n",
    "    \n",
    "    # get df timeseries\n",
    "    df2 = df.join(df1)\n",
    "    \n",
    "    # print data source\n",
    "    url = url.split('.')[1]\n",
    "    print(f'source: {url}')\n",
    "    return df2"
   ]
  },
  {
   "cell_type": "code",
   "execution_count": null,
   "metadata": {
    "tags": []
   },
   "outputs": [],
   "source": [
    "get_defi_ratehist('aave','link').head()"
   ]
  },
  {
   "cell_type": "code",
   "execution_count": 40,
   "metadata": {},
   "outputs": [],
   "source": [
    "# documentation: https://docs.aleth.io/#tag/DeFi/paths/~1v0~1defi~1stats/get\n",
    "# documentation(new): https://consensys.github.io/codefi-data-fundamental-api-redoc/#tag/DeFi/paths/~1v0~1defi~1stats/get\n",
    "# metrics: \"collateral_ratio\" \"outstanding_debt\" \"supply_volume\"\n",
    "# protocol: \"maker\" \"mcd\" \"compound\" \"dydx\" \"bzx\" \"ddex\" \"aave\" \"lendf\"\n",
    "# granularity: default 24 (daily)\n",
    "# assets: \"eth\" \"dai\" \"sai\" \"usdc\" \"bat\" \"zrx\" \"rep\" \"wbtc\" \"knc\" \"link\" \"usdt\" \"susd\" \"snx\" \"mkr\" \"lend\" \"mana\" \"imbtc\" \"usdx\" \"tusd\"\n",
    "\n",
    "def get_defi_protocol_statshist(protocol, asset, after='2018-07-31', before=''):\n",
    "    url = 'https://api.aleth.io/v0/defi/stats'\n",
    "    resp = requests.get(url)\n",
    "\n",
    "    resp = requests.get(url, params={\n",
    "        'after': str(int(pd.Timestamp(after).timestamp())),\n",
    "        'assets':[f'{asset}'],\n",
    "        # 'metrics': ['collateral_ratio', 'outstanding_debt', 'supply_volume'],\n",
    "        'protocols':f'{protocol}'\t\n",
    "    })\n",
    "    resp.raise_for_status()\n",
    "            # parse json into py dict\n",
    "            # this is a list\n",
    "    resp = json.loads(resp.content)['data']\n",
    "        # # df expects list\n",
    "    resp_cr = json_normalize(resp)['collateral_ratio']\n",
    "    resp_debt = json_normalize(resp)['outstanding_debt']\n",
    "    resp_vol = json_normalize(resp)['supply_volume']\n",
    "    \n",
    "    # dataframe split cr \n",
    "    df = pd.DataFrame(resp_cr[0],columns=['timestamp',f'{protocol}_{asset}_col_ratio'])\n",
    "    df['timestamp'] = pd.to_datetime(df['timestamp'],unit='s')\n",
    "    df.set_index('timestamp', inplace=True)\n",
    "    \n",
    "    # dataframe split debt\n",
    "    df1 = pd.DataFrame(resp_debt[0],columns=['timestamp',f'{protocol}_{asset}_outst_debt'])\n",
    "    df1['timestamp'] = pd.to_datetime(df1['timestamp'],unit='s')\n",
    "    df1.set_index('timestamp', inplace=True)\n",
    "    \n",
    "    # dataframe split supply vol\n",
    "    df2 = pd.DataFrame(resp_vol[0],columns=['timestamp',f'{protocol}_{asset}_supp_vol'])\n",
    "    df2['timestamp'] = pd.to_datetime(df2['timestamp'],unit='s')\n",
    "    df2.set_index('timestamp', inplace=True)\n",
    "\n",
    "    # get df join timeseries\n",
    "    df2 = df.join(df1).join(df2)\n",
    "    # print data source\n",
    "    url = url.split('.')[1]\n",
    "    print(f'source: {url}')\n",
    "    return df2"
   ]
  },
  {
   "cell_type": "code",
   "execution_count": null,
   "metadata": {
    "tags": []
   },
   "outputs": [],
   "source": [
    "# Example\n",
    "get_defi_protocol_statshist('aave','link').tail()"
   ]
  },
  {
   "cell_type": "markdown",
   "metadata": {},
   "source": [
    "### MISSING \n",
    "\n",
    "- liquidations/defaults from aave\n",
    "- liquidations/defaults from bzx\n"
   ]
  },
  {
   "cell_type": "code",
   "execution_count": null,
   "metadata": {},
   "outputs": [],
   "source": []
  },
  {
   "cell_type": "markdown",
   "metadata": {},
   "source": [
    "## Glassnode\n",
    "\n",
    "data in json or api:\n",
    "- daily_new_addresses (by token)\n",
    "- daily_token_bal_onexchnages (by token)\n",
    "- daily_token_bal_byexchnages (by token and exchange)\n"
   ]
  },
  {
   "cell_type": "code",
   "execution_count": 41,
   "metadata": {
    "tags": []
   },
   "outputs": [],
   "source": [
    "# Get new unique addresses history (by token)\n",
    "def get_dayunique_add_hist():\n",
    "    day_new_add = '/Users/william/Scio/maker-dao/Maker-Risk/LINK/data/new-addresses.json'\n",
    "    df = pd.read_json (day_new_add, date_unit='s')\n",
    "    df.columns=['datetime','new_unique_add']\n",
    "    df.set_index('datetime', inplace=True)\n",
    "    print(f'source: glassnode')\n",
    "    return df"
   ]
  },
  {
   "cell_type": "code",
   "execution_count": 42,
   "metadata": {},
   "outputs": [],
   "source": [
    " # Get gini coeff hist of distribution of tokens over addresses (see definition)\n",
    "def get_ginicoeff_hist():\n",
    "    ginicoeff_hist = 'data/gini-coefficient.csv'\n",
    "    df = pd.read_csv(ginicoeff_hist,\n",
    "                    na_values=['', '?', '-'],\n",
    "                    parse_dates=[0],\n",
    "                    index_col=[0])\n",
    "    df.columns=['gini_coef']\n",
    "    # df = df.rename(columns={'t':'timestamp'})           \n",
    "    print(f'source: glassnode')                                                 \n",
    "    return df"
   ]
  },
  {
   "cell_type": "code",
   "execution_count": 43,
   "metadata": {},
   "outputs": [],
   "source": [
    "# Get total token balance history in exchanges\n",
    "def get_token_balexch_hist():\n",
    "    token_bal_exchange = '/Users/william/Scio/maker-dao/Maker-Risk/LINK/data/exchange-balance.json'\n",
    "    df = pd.read_json (token_bal_exchange, date_unit='s')\n",
    "    df.columns=['datetime','token_bal_exch']\n",
    "    df.set_index('datetime', inplace=True)\n",
    "    print(f'source: glassnode')\n",
    "    return df"
   ]
  },
  {
   "cell_type": "code",
   "execution_count": 44,
   "metadata": {
    "tags": []
   },
   "outputs": [],
   "source": [
    "# Get token balance history by exchange (stacked)\n",
    "def get_token_balbyexch_hist():\n",
    "    token_balbyexch = 'data/exchange-balance-stacked.csv'\n",
    "    df = pd.read_csv(token_balbyexch,\n",
    "                    na_values=['', '?', '-'],\n",
    "                    parse_dates=[0],\n",
    "                    index_col=[0])\n",
    "    print(f'source: glassnode')                                                 \n",
    "    return df"
   ]
  },
  {
   "cell_type": "markdown",
   "metadata": {},
   "source": [
    "## Santiment data dump (TEMPORARY ONLY)"
   ]
  },
  {
   "cell_type": "code",
   "execution_count": 231,
   "metadata": {},
   "outputs": [],
   "source": [
    "def get_santiment_data_hist():\n",
    "    santiment_hist = 'data-santiment/santiment_link_daily.csv'\n",
    "    df = pd.read_csv(santiment_hist,\n",
    "                    na_values=['', '?', '-'],\n",
    "                    parse_dates=[0],\n",
    "                    index_col=[0])\n",
    "    # df.columns=['gini_coef']\n",
    "    # df = df.rename(columns={'t':'timestamp'})           \n",
    "    print(f'source: santiment')                                                 \n",
    "    return df"
   ]
  },
  {
   "cell_type": "markdown",
   "metadata": {},
   "source": [
    "---\n",
    "# STARTS HERE \n",
    "\n",
    "Datasets that need to be sourced: \n",
    "\n",
    "- asset price data \n",
    "- asset trading volume\n",
    "    - CEX exchanges \n",
    "    - DEX exchanges    \n",
    "- liquidity "
   ]
  },
  {
   "cell_type": "markdown",
   "metadata": {},
   "source": [
    "## Get the data"
   ]
  },
  {
   "cell_type": "markdown",
   "metadata": {},
   "source": [
    "### Static data"
   ]
  },
  {
   "cell_type": "code",
   "execution_count": 45,
   "metadata": {
    "tags": []
   },
   "outputs": [
    {
     "output_type": "stream",
     "name": "stdout",
     "text": "source: coingecko\n"
    },
    {
     "output_type": "execute_result",
     "data": {
      "text/plain": "                         id                      name    symbol\n0                    01coin                    01coin       zoc\n1  0-5x-long-algorand-token  0.5X Long Algorand Token  algohalf",
      "text/html": "<div>\n<style scoped>\n    .dataframe tbody tr th:only-of-type {\n        vertical-align: middle;\n    }\n\n    .dataframe tbody tr th {\n        vertical-align: top;\n    }\n\n    .dataframe thead th {\n        text-align: right;\n    }\n</style>\n<table border=\"1\" class=\"dataframe\">\n  <thead>\n    <tr style=\"text-align: right;\">\n      <th></th>\n      <th>id</th>\n      <th>name</th>\n      <th>symbol</th>\n    </tr>\n  </thead>\n  <tbody>\n    <tr>\n      <th>0</th>\n      <td>01coin</td>\n      <td>01coin</td>\n      <td>zoc</td>\n    </tr>\n    <tr>\n      <th>1</th>\n      <td>0-5x-long-algorand-token</td>\n      <td>0.5X Long Algorand Token</td>\n      <td>algohalf</td>\n    </tr>\n  </tbody>\n</table>\n</div>"
     },
     "metadata": {},
     "execution_count": 45
    }
   ],
   "source": [
    "# List of coin ids or exchange ids\n",
    "# args: \"exchanges\" or \"coins\"\n",
    "# coingecko ref table\n",
    "get_exchange_or_coinslist('coins').head(2)"
   ]
  },
  {
   "cell_type": "markdown",
   "metadata": {},
   "source": [
    "**Token info** - onchain activity/token allocation/asset price returns/token ownersip/ treasury funds/token age (or seniority)"
   ]
  },
  {
   "cell_type": "code",
   "execution_count": 46,
   "metadata": {
    "tags": []
   },
   "outputs": [
    {
     "output_type": "stream",
     "name": "stdout",
     "text": "source: coingecko\n"
    }
   ],
   "source": [
    "# Token info chapter\n",
    "# Token allocation info\n",
    "df_coininfo = get_coin_info('chainlink', currency='usd')\n",
    "df_coininfo = df_coininfo[['id','total_supply','circulating_supply','current_price','market_cap','market_cap_rank','total_volume','ath','atl']]"
   ]
  },
  {
   "cell_type": "markdown",
   "metadata": {},
   "source": [
    "**Exchanges** - list exchanges / centralised exchanges / list exchanges tokens listed / trading real volume (global) / tokens on exchanges / exchange volume by pair / token velocity (again?)"
   ]
  },
  {
   "cell_type": "code",
   "execution_count": 47,
   "metadata": {
    "tags": []
   },
   "outputs": [
    {
     "output_type": "stream",
     "name": "stdout",
     "text": "source: coingecko\nsource: cryptocompare\n"
    }
   ],
   "source": [
    "# Exchanges chapter\n",
    "# Centralised exchanges\n",
    "\n",
    "# List exchanges tokens listed + pairs + last volume reported\n",
    "# Static: latest listed exchanges/pairs/volume by token\n",
    "df_markets_coin = get_markets_bycoin('chainlink')\n",
    "df_highestpairs = get_toppairs_vol('LINK', limit=10) # not sure if relevant\n",
    "\n",
    "# calculate share of vol by exchange (all pairs)\n",
    "# calculate share of vol by trading pair"
   ]
  },
  {
   "cell_type": "code",
   "execution_count": null,
   "metadata": {},
   "outputs": [],
   "source": [
    "df_markets_coin.loc[df_markets_coin['market.name'] == 'Uniswap (v2)']\n",
    "# df.loc[df['id'] == 'chainlink']"
   ]
  },
  {
   "cell_type": "code",
   "execution_count": null,
   "metadata": {},
   "outputs": [],
   "source": [
    "df_markets_coin['market.name'].unique()"
   ]
  },
  {
   "cell_type": "code",
   "execution_count": null,
   "metadata": {
    "tags": []
   },
   "outputs": [],
   "source": [
    "df = get_cc_pairbyexchange('LINK',api_key=api_key)"
   ]
  },
  {
   "cell_type": "code",
   "execution_count": null,
   "metadata": {},
   "outputs": [],
   "source": [
    "df.loc[df['exchange'] == 'uniswap']"
   ]
  },
  {
   "cell_type": "markdown",
   "metadata": {},
   "source": [
    "**3rd party lending plaforms** - list of platforms for token / Interest rates (static/timeseries) / Outstanding "
   ]
  },
  {
   "cell_type": "code",
   "execution_count": 48,
   "metadata": {
    "tags": []
   },
   "outputs": [
    {
     "output_type": "stream",
     "name": "stdout",
     "text": "source: aleth\n"
    }
   ],
   "source": [
    "# List DeFi lending where token listed - subset of below\n",
    "# List snapshot rates by defi\n",
    "df_defi_rates = get_defi_rates_snap() # analysis requires filtering\n",
    "\n",
    "# Loanscan/defiscore other protcols (CeFi) token listed (e.g.Celsius, Nuo, Argent)\n",
    "# Calculate avg earn/borrow rate - static\n",
    "\n",
    "# Filtering\n",
    "# df_defi_rates.loc[df_defi_rates['asset'] == 'link']"
   ]
  },
  {
   "cell_type": "markdown",
   "metadata": {},
   "source": [
    "### Daily data"
   ]
  },
  {
   "cell_type": "markdown",
   "metadata": {},
   "source": [
    "**Token info** - onchain activity/token allocation/asset price returns/token ownersip/ treasury funds/token age (or seniority)"
   ]
  },
  {
   "cell_type": "code",
   "execution_count": 190,
   "metadata": {
    "tags": []
   },
   "outputs": [
    {
     "output_type": "stream",
     "name": "stdout",
     "text": "source: santiment\n"
    },
    {
     "output_type": "execute_result",
     "data": {
      "text/plain": "['circulation',\n 'circulation_10y',\n 'circulation_180d',\n 'circulation_1d',\n 'circulation_2y',\n 'circulation_30d',\n 'circulation_365d',\n 'circulation_3y',\n 'circulation_5y',\n 'circulation_60d',\n 'circulation_7d',\n 'circulation_90d',\n 'dormant_circulation_180d',\n 'dormant_circulation_2y',\n 'dormant_circulation_365d',\n 'dormant_circulation_90d']"
     },
     "metadata": {},
     "execution_count": 190
    }
   ],
   "source": [
    "search_metric('chainlink','circula')"
   ]
  },
  {
   "cell_type": "code",
   "execution_count": 213,
   "metadata": {
    "tags": []
   },
   "outputs": [
    {
     "output_type": "stream",
     "name": "stdout",
     "text": "source: santiment\n"
    },
    {
     "output_type": "execute_result",
     "data": {
      "text/plain": "74"
     },
     "metadata": {},
     "execution_count": 213
    }
   ],
   "source": [
    "# df_tx_voltoken = get_metric_timeseries('transaction_volume','chainlink') #unit: token\n",
    "# df_tx_volusd = get_metric_timeseries('transaction_volume_usd','chainlink')   #unit: usd\n",
    "# df_tx_count = get_metric_timeseries('transactions_count','chainlink')\n",
    "df = get_metric_timeseries('percent_of_total_supply_on_exchanges','chainlink')\n",
    "len(df)"
   ]
  },
  {
   "cell_type": "markdown",
   "metadata": {},
   "source": [
    "**one-off data dump (remove when fixed)**"
   ]
  },
  {
   "cell_type": "code",
   "execution_count": 277,
   "metadata": {
    "tags": []
   },
   "outputs": [
    {
     "output_type": "stream",
     "name": "stdout",
     "text": "source: santiment\n"
    }
   ],
   "source": [
    "# INFO: A FEW METRICS GOT TRIMED IN SANPY CALL \n",
    "# One-off santiment data dump\n",
    "df_santiment_datadump = get_santiment_data_hist()"
   ]
  },
  {
   "cell_type": "code",
   "execution_count": 168,
   "metadata": {
    "tags": []
   },
   "outputs": [
    {
     "output_type": "stream",
     "name": "stdout",
     "text": "source: santiment\nsource: glassnode\n**NOTICE**\ndaily_active_deposits will be deprecated in version 0.9.0, please use active_deposits instead\nsource: santiment\nsource: santiment\nsource: santiment\nsource: cryptocompare\nsource: santiment\nsource: santiment\nsource: santiment\nsource: santiment\nsource: glassnode\nsource: santiment\nsource: santiment\nsource: santiment\nsource: santiment\nsource: santiment\nsource: santiment\nsource: santiment\nsource: santiment\nprocessing done\n"
    }
   ],
   "source": [
    "# INFO: A FEW METRICS GOT TRIMED IN SANPY CALL \n",
    "# REPLACED BY SANTIMENT DATA DUMP (TEMPORARY) - df_santiment_datadump = get_santiment_data_hist()\n",
    "\n",
    "# Token info chapter\n",
    "# On-chain activity\n",
    "df_activadd = get_metric_timeseries('daily_active_addresses','chainlink')\n",
    "df_newuniqueadd = get_dayunique_add_hist() # glassnode\n",
    "df_deposits = get_metric_timeseries('daily_active_deposits','chainlink')\n",
    "df_txvolume = get_metric_timeseries('transaction_volume','chainlink')\n",
    "df_ohlcv = get_metric_timeseries('ohlcv','chainlink') # includes vol and marketcap\n",
    "\n",
    "# just an alternative\n",
    "df_ohlcv_cryptocompare = get_ohlcv_dayorhour('LINK','USDC','Binance')\n",
    "\n",
    "# Asset price returns - use ohlcv closeusd\n",
    "df_closingprice = get_metric_timeseries('daily_closing_price_usd','chainlink')\n",
    "\n",
    "# Calculate asset return 1m/3m/6m/12m/24m\n",
    "# Calculate asset price moving avg\n",
    "\n",
    "# Ownership concentration (distribution)\n",
    "# top 10 holders, unit = token_amt\n",
    "df_amttophold = get_metric_timeseries('amount_in_top_holders','chainlink') \n",
    "df_amttopehold_exch = get_metric_timeseries('amount_in_exchange_top_holders','chainlink') \n",
    "df_amttopehold_outexch = get_metric_timeseries('amount_in_non_exchange_top_holders','chainlink') \n",
    "# Calculate top % of total supply\n",
    "# Calculate top % of circulating supply\n",
    "# csv: holder distro: Breaks down the number of addresses based on the amount of LINK they hold\n",
    "df_distro_hold = get_distro_holdhist() # needs date formatting\n",
    "# Gini coeff LINK > glassnode charts\n",
    "df_ginicoeff = get_ginicoeff_hist()\n",
    "\n",
    "# Treasury funds - since inception\n",
    "df_treasury1 = get_addbal_timeseries('historical_balance','chainlink',address='0xe0362f7445e3203a496f6f8b3d51cbb413b69be2',from_date='2017-09-15')\n",
    "df_treasury2 = get_addbal_timeseries('historical_balance','chainlink',address='0x75398564ce69b7498da10a11ab06fd8ff549001c',from_date='2017-09-15')\n",
    "df_treasury3 = get_addbal_timeseries('historical_balance','chainlink',address='0x5560d001f977df5e49ead7ab0bdd437c4ee3a99e',from_date='2017-09-15')\n",
    "df_treasury4 = get_addbal_timeseries('historical_balance','chainlink',address='0xdad22a85ef8310ef582b70e4051e543f3153e11f', from_date='2017-09-15')\n",
    "df_treasury5 = get_addbal_timeseries('historical_balance','chainlink',address='0xbe6977e08d4479c0a6777539ae0e8fa27be4e9d6', from_date='2017-09-15')\n",
    "df_treasury6 = get_addbal_timeseries('historical_balance','chainlink',address='0xf37c348b7d19b17b29cd5cfa64cfa48e2d6eb8db',from_date='2017-09-15')\n",
    "\n",
    "# Token velocity and inertia (age consumed)\n",
    "# age consumed unit: Time passed × Token/Coin amount\n",
    "# velocity unit: number of times coin/token changes wallet\n",
    "# age consumed: Tracks the movement of previously idle LINK tokens. The metric shows the amount of LINK changing addresses daily multiplied by the number of days since they last moved. Spikes indicate a significant amount of previously idle LINK tokens moving between addresses.\n",
    "# Velocity: Shows the average number of times that a single LINK token changes addresses daily. Higher token velocity means that a single token is used more often in daily transactions.\n",
    "df_ageconsumed = get_metric_timeseries('age_consumed','chainlink') \n",
    "df_velocity = get_metric_timeseries('velocity','chainlink')\n",
    "\n",
    "print('processing done')"
   ]
  },
  {
   "cell_type": "markdown",
   "metadata": {},
   "source": [
    "CEX price and trading volume\n",
    "\n",
    "**Exchanges** - list exchanges / centralised exchanges / list exchanges tokens listed / trading real volume (global) / tokens on exchanges / exchange volume by pair / token velocity (again?)"
   ]
  },
  {
   "cell_type": "code",
   "execution_count": 50,
   "metadata": {
    "tags": []
   },
   "outputs": [
    {
     "output_type": "stream",
     "name": "stdout",
     "text": "source: santiment\nsource: santiment\nsource: santiment\nsource: santiment\nsource: santiment\nsource: santiment\nsource: glassnode\nsource: glassnode\nsource: santiment\nsource: santiment\nsource: santiment\nsource: cryptocompare\nsource: cryptocompare\nsource: cryptocompare\nsource: cryptocompare\nsource: cryptocompare\nsource: cryptocompare\nsource: cryptocompare\nsource: cryptocompare\nsource: cryptocompare\nsource: cryptocompare\nsource: cryptocompare\nsource: cryptocompare\nsource: cryptocompare\nsource: cryptocompare\nsource: cryptocompare\nsource: cryptocompare\nsource: cryptocompare\nsource: cryptocompare\nsource: cryptocompare\nsource: 0xtracker\n"
    }
   ],
   "source": [
    "# INFO: A FEW METRICS GOT TRIMED IN SANPY CALL \n",
    "# REPLACED BY SANTIMENT DATA DUMP (TEMPORARY) - df_santiment_datadump = get_santiment_data_hist()\n",
    "\n",
    "# Exchanges chapter\n",
    "\n",
    "# Supply on exchanges/liquidity\n",
    "df_supp_exch = get_metric_timeseries('supply_on_exchanges','chainlink') \n",
    "df_perc_supptot_exch = get_metric_timeseries('percent_of_total_supply_on_exchanges','chainlink')\n",
    "df_supp_outexch = get_metric_timeseries('supply_outside_exchanges','chainlink')\n",
    "\n",
    "# Exchanges flows\n",
    "df_exch_inflow = get_metric_timeseries('exchange_inflow','chainlink')\n",
    "df_exch_outflow = get_metric_timeseries('exchange_outflow','chainlink')\n",
    "df_exch_bal = get_metric_timeseries('exchange_balance','chainlink')\n",
    "\n",
    "# Centralised exchanges\n",
    "# Tokens on exchanges\n",
    "df_balexch_total = get_token_balexch_hist() # glassnode\n",
    "df_balexch_byexch = get_token_balbyexch_hist() # glassnode\n",
    "\n",
    "# Calculated metric percent_of_circulating_supply_on_exchanges\n",
    "# supply_on_exchanges / circulating_supply = %circulating_supp_exch\n",
    "\n",
    "# Trading activity (onchain)\n",
    "df_tx_voltoken = get_metric_timeseries('transaction_volume','chainlink') #unit: token\n",
    "df_tx_volusd = get_metric_timeseries('transaction_volume_usd','chainlink')   #unit: usd\n",
    "df_tx_count = get_metric_timeseries('transactions_count','chainlink')\n",
    "\n",
    "df_tx_realvol = get_messari_ts('chainlink','real.vol')\n",
    "\n",
    "# Trading volume by pair USD/USDC/BTC/ETH/USDT\n",
    "# Based on messari \"real volume\" list\n",
    "df_binance_linkbtc = get_ohlcv_dayorhour('LINK', 'BTC', 'Binance',period='histoday',limit=2000, before='2020-07-31')\n",
    "df_binance_linketh = get_ohlcv_dayorhour('LINK', 'ETH', 'Binance',period='histoday',limit=2000, before='2020-07-31')\n",
    "df_binance_linkusdc = get_ohlcv_dayorhour('LINK', 'USDC', 'Binance',period='histoday',limit=2000, before='2020-07-31')\n",
    "df_binance_linkusdt = get_ohlcv_dayorhour('LINK', 'USDT', 'Binance',period='histoday',limit=2000, before='2020-07-31')\n",
    "\n",
    "df_binanceus_linkusd = get_ohlcv_dayorhour('LINK', 'USD', 'binanceus',period='histoday',limit=2000, before='2020-07-31')\n",
    "df_binanceusa_linkusd = get_ohlcv_dayorhour('LINK', 'USD', 'binanceusa',period='histoday',limit=2000, before='2020-07-31')\n",
    "\n",
    "df_coinbase_linkusd = get_ohlcv_dayorhour('LINK', 'USD', 'Coinbase',period='histoday',limit=2000, before='2020-07-31')\n",
    "df_coinbase_linketh = get_ohlcv_dayorhour('LINK', 'ETH', 'Coinbase',period='histoday',limit=2000, before='2020-07-31')\n",
    "\n",
    "df_gemini_linkusd = get_ohlcv_dayorhour('LINK', 'USD', 'Gemini',period='histoday',limit=2000, before='2020-07-31')\n",
    "df_gemini_linkbtc = get_ohlcv_dayorhour('LINK', 'BTC', 'Gemini',period='histoday',limit=2000, before='2020-07-31')\n",
    "\n",
    "df_kraken_linkbtc = get_ohlcv_dayorhour('LINK', 'BTC', 'Kraken',period='histoday',limit=2000, before='2020-07-31')\n",
    "df_kraken_linketh = get_ohlcv_dayorhour('LINK', 'ETH', 'Kraken',period='histoday',limit=2000, before='2020-07-31')\n",
    "df_kraken_linkusd = get_ohlcv_dayorhour('LINK', 'USD', 'Kraken',period='histoday',limit=2000, before='2020-07-31')\n",
    "\n",
    "df_bittrex_linkusdt = get_ohlcv_dayorhour('LINK', 'USDT', 'BitTrex',period='histoday',limit=2000, before='2020-07-31')\n",
    "df_bittrex_linkbtc = get_ohlcv_dayorhour('LINK', 'BTC', 'BitTrex',period='histoday',limit=2000, before='2020-07-31')\n",
    "df_bittrex_linketh = get_ohlcv_dayorhour('LINK', 'ETH', 'BitTrex',period='histoday',limit=2000, before='2020-07-31')\n",
    "\n",
    "df_poloniex_linkusdt = get_ohlcv_dayorhour('LINK', 'USDT', 'Poloniex',period='histoday',limit=2000, before='2020-07-31')\n",
    "df_poloniex_linkbtc = get_ohlcv_dayorhour('LINK', 'BTC', 'Poloniex',period='histoday',limit=2000, before='2020-07-31')\n",
    "\n",
    "# calculate velocity (use santiment one)\n",
    "\n",
    "# Decentralised exchanges\n",
    "# uniswap\n",
    "df_uniswap_linketh = get_ohlcv_dayorhour('LINK', 'ETH', 'uniswap',period='histoday',limit=2000, before='2020-07-31')\n",
    "\n",
    "# 0xtracker\n",
    "# tradeCount / tradeVolume.USD / tradeVolume.token\n",
    "df_0x_linketh = get_0x_tokenvolume('0x514910771af9ca656af840dff83e8264ecf986ca', granularity='day', period='all')\n",
    "\n",
    "# kyber (picture)\n",
    "# bancor (picture)\n",
    "df_bancor_linketh = get_bancor_token_vol()\n",
    "\n",
    "print('processing done')"
   ]
  },
  {
   "cell_type": "markdown",
   "metadata": {},
   "source": [
    "Lending platforms\n",
    "\n",
    "**3rd party lending plaforms** - list of platforms for token / Interest rates (static/timeseries) / Outstanding "
   ]
  },
  {
   "cell_type": "code",
   "execution_count": 53,
   "metadata": {
    "tags": []
   },
   "outputs": [
    {
     "output_type": "stream",
     "name": "stdout",
     "text": "source: aleth\nsource: aleth\nsource: aleth\nsource: aleth\nprocessing done\n"
    }
   ],
   "source": [
    "# Interest rates defi (hist)\n",
    "# daily borrow/ daily earn\n",
    "df_aave_rateshist = get_defi_ratehist('aave', 'link', after='2018-07-30', before='')\n",
    "df_bzx_rateshist = get_defi_ratehist('bzx', 'link', after='2018-07-30', before='')\n",
    "\n",
    "# Calculate avg earn/borrow rate - historic (1m/3m/6m/12m)\n",
    "\n",
    "# Outstanding debt, coll ratio and supply volume. unit: token amount\n",
    "df_aave_debthist = get_defi_protocol_statshist('aave', 'link', after='2018-07-30', before='') \n",
    "df_bzx_debthist = get_defi_protocol_statshist('bzx', 'link', after='2018-07-30', before='')\n",
    "\n",
    "# Calculate avg collateral ratio 1m/3m/6m/12m\n",
    "# Calculate avg debt 1m/3m/6m/12m\n",
    " \n",
    "print('processing done')"
   ]
  },
  {
   "cell_type": "markdown",
   "metadata": {},
   "source": [
    "Defi liquidations/defaults volume\n",
    "\n",
    "> missing at the moment\n"
   ]
  },
  {
   "cell_type": "markdown",
   "metadata": {},
   "source": [
    "### Hourly data"
   ]
  },
  {
   "cell_type": "markdown",
   "metadata": {},
   "source": [
    "**Token info** - onchain activity/token allocation/asset price returns/token ownersip/ treasury funds/token age (or seniority)\n",
    "\n",
    "- asset price\n",
    "- real volume"
   ]
  },
  {
   "cell_type": "code",
   "execution_count": 54,
   "metadata": {
    "tags": []
   },
   "outputs": [
    {
     "output_type": "stream",
     "name": "stdout",
     "text": "source: santiment\n"
    }
   ],
   "source": [
    "# santiment\n",
    "df = get_metric_timeseries('price_usd','chainlink',interval='1h')"
   ]
  },
  {
   "cell_type": "code",
   "execution_count": 55,
   "metadata": {},
   "outputs": [
    {
     "output_type": "execute_result",
     "data": {
      "text/plain": "                           chainlink_price_usd\ndatetime                                      \n2018-07-31 00:00:00+00:00             0.310593\n2018-07-31 01:00:00+00:00             0.301608\n2018-07-31 02:00:00+00:00             0.298460\n2018-07-31 03:00:00+00:00             0.295463\n2018-07-31 04:00:00+00:00             0.295271",
      "text/html": "<div>\n<style scoped>\n    .dataframe tbody tr th:only-of-type {\n        vertical-align: middle;\n    }\n\n    .dataframe tbody tr th {\n        vertical-align: top;\n    }\n\n    .dataframe thead th {\n        text-align: right;\n    }\n</style>\n<table border=\"1\" class=\"dataframe\">\n  <thead>\n    <tr style=\"text-align: right;\">\n      <th></th>\n      <th>chainlink_price_usd</th>\n    </tr>\n    <tr>\n      <th>datetime</th>\n      <th></th>\n    </tr>\n  </thead>\n  <tbody>\n    <tr>\n      <th>2018-07-31 00:00:00+00:00</th>\n      <td>0.310593</td>\n    </tr>\n    <tr>\n      <th>2018-07-31 01:00:00+00:00</th>\n      <td>0.301608</td>\n    </tr>\n    <tr>\n      <th>2018-07-31 02:00:00+00:00</th>\n      <td>0.298460</td>\n    </tr>\n    <tr>\n      <th>2018-07-31 03:00:00+00:00</th>\n      <td>0.295463</td>\n    </tr>\n    <tr>\n      <th>2018-07-31 04:00:00+00:00</th>\n      <td>0.295271</td>\n    </tr>\n  </tbody>\n</table>\n</div>"
     },
     "metadata": {},
     "execution_count": 55
    }
   ],
   "source": [
    "df.head()"
   ]
  },
  {
   "cell_type": "code",
   "execution_count": 71,
   "metadata": {
    "tags": []
   },
   "outputs": [
    {
     "output_type": "stream",
     "name": "stdout",
     "text": "source: santiment\nsource: santiment\nsource: santiment\nsource: santiment\nsource: santiment\nsource: santiment\nsource: santiment\nsource: santiment\nsource: santiment\nsource: santiment\nsource: santiment\nsource: santiment\nprocessing done\n"
    }
   ],
   "source": [
    "# Get pricing data (santiment)\n",
    "df_ohlcv_hr1 = get_metric_timeseries('ohlcv','chainlink',from_date='2018-07-31', to_date='2018-10-01' ,interval='1h') \n",
    "df_ohlcv_hr2 = get_metric_timeseries('ohlcv','chainlink',from_date='2018-10-02', to_date='2018-12-01', interval='1h') \n",
    "df_ohlcv_hr3 = get_metric_timeseries('ohlcv','chainlink',from_date='2018-12-02', to_date='2019-02-01', interval='1h') \n",
    "df_ohlcv_hr4 = get_metric_timeseries('ohlcv','chainlink',from_date='2019-02-02', to_date='2019-04-01', interval='1h') \n",
    "df_ohlcv_hr5 = get_metric_timeseries('ohlcv','chainlink',from_date='2019-04-02', to_date='2019-06-01', interval='1h') \n",
    "df_ohlcv_hr6 = get_metric_timeseries('ohlcv','chainlink',from_date='2019-06-02', to_date='2019-08-01', interval='1h')\n",
    "df_ohlcv_hr7 = get_metric_timeseries('ohlcv','chainlink',from_date='2019-08-02', to_date='2019-10-01', interval='1h')\n",
    "df_ohlcv_hr8 = get_metric_timeseries('ohlcv','chainlink',from_date='2019-10-02', to_date='2019-12-01', interval='1h')\n",
    "df_ohlcv_hr9 = get_metric_timeseries('ohlcv','chainlink',from_date='2019-12-02', to_date='2020-02-01', interval='1h')\n",
    "df_ohlcv_hr10 = get_metric_timeseries('ohlcv','chainlink',from_date='2020-02-02', to_date='2020-04-01', interval='1h')\n",
    "df_ohlcv_hr11 = get_metric_timeseries('ohlcv','chainlink',from_date='2020-04-02', to_date='2020-06-01', interval='1h')\n",
    "df_ohlcv_hr12 = get_metric_timeseries('ohlcv','chainlink',from_date='2020-06-02', to_date='2020-07-31', interval='1h')\n",
    "\n",
    "print('processing done')"
   ]
  },
  {
   "cell_type": "code",
   "execution_count": 73,
   "metadata": {
    "tags": []
   },
   "outputs": [
    {
     "output_type": "stream",
     "name": "stdout",
     "text": "(17563, 6)\n(0, 6)\n(17563, 6)\n2018-07-31 00:00:00+00:00\n2020-07-31 23:00:00+00:00\n17563\nopenPriceUsd     17563\nclosePriceUsd    17563\nhighPriceUsd     17563\nlowPriceUsd      17563\nvolume           17563\nmarketcap        17563\ndtype: int64\nFalse\n"
    }
   ],
   "source": [
    "# Pricing concatenations\n",
    "\n",
    "df_ohlcv_hr = pd.concat([df_ohlcv_hr1,df_ohlcv_hr2,df_ohlcv_hr3,df_ohlcv_hr4,df_ohlcv_hr5,df_ohlcv_hr6,df_ohlcv_hr7,df_ohlcv_hr8,df_ohlcv_hr9, df_ohlcv_hr10,df_ohlcv_hr11, df_ohlcv_hr12])\n",
    "\n",
    "print(df_ohlcv_hr.shape)\n",
    "\n",
    "# Deduplications\n",
    "\n",
    "print(df_ohlcv_hr[df_ohlcv_hr.index.duplicated()].shape)\n",
    "df_ohlcv_hr = df_ohlcv_hr[~df_ohlcv_hr.index.duplicated(keep='last')]\n",
    "print(df_ohlcv_hr.shape)\n",
    "\n",
    "# Index max/min\n",
    "print(df_ohlcv_hr.index.min())\n",
    "print(df_ohlcv_hr.index.max())\n",
    "# Check nulls \n",
    "print(len(df_ohlcv_hr))\n",
    "print(df_ohlcv_hr.count())\n",
    "print(df_ohlcv_hr.isnull().values.any())\n",
    "\n",
    "# To avoid reprocessing time\n",
    "df_ohlcv_hr.to_csv('data_processed/df_ohlcv_hr.csv')"
   ]
  },
  {
   "cell_type": "code",
   "execution_count": 59,
   "metadata": {
    "tags": []
   },
   "outputs": [
    {
     "output_type": "stream",
     "name": "stdout",
     "text": "source: cryptocompare\nsource: cryptocompare\nsource: cryptocompare\nsource: cryptocompare\nsource: cryptocompare\nsource: cryptocompare\nsource: cryptocompare\nsource: cryptocompare\nsource: cryptocompare\nsource: cryptocompare\nsource: cryptocompare\nsource: cryptocompare\nsource: cryptocompare\nsource: cryptocompare\nsource: cryptocompare\nsource: cryptocompare\nsource: cryptocompare\nsource: cryptocompare\nsource: cryptocompare\nsource: cryptocompare\nsource: cryptocompare\nsource: cryptocompare\nsource: cryptocompare\nsource: cryptocompare\nsource: cryptocompare\nsource: cryptocompare\nsource: cryptocompare\nsource: cryptocompare\nsource: cryptocompare\nsource: cryptocompare\nsource: cryptocompare\nsource: cryptocompare\nsource: cryptocompare\nsource: cryptocompare\nsource: cryptocompare\nsource: cryptocompare\nsource: cryptocompare\nsource: cryptocompare\nsource: cryptocompare\nsource: cryptocompare\nsource: cryptocompare\nsource: cryptocompare\nsource: cryptocompare\nsource: cryptocompare\nsource: cryptocompare\nsource: cryptocompare\nsource: cryptocompare\nsource: cryptocompare\nsource: cryptocompare\nsource: cryptocompare\nsource: cryptocompare\nsource: cryptocompare\nsource: cryptocompare\nsource: cryptocompare\nsource: cryptocompare\nsource: cryptocompare\nsource: cryptocompare\nsource: cryptocompare\nsource: cryptocompare\nsource: cryptocompare\nsource: cryptocompare\nsource: cryptocompare\nsource: cryptocompare\nsource: cryptocompare\nsource: cryptocompare\nsource: cryptocompare\nsource: cryptocompare\nsource: cryptocompare\nsource: cryptocompare\nsource: cryptocompare\nsource: cryptocompare\nsource: cryptocompare\nsource: cryptocompare\nsource: cryptocompare\nsource: cryptocompare\nsource: cryptocompare\nsource: cryptocompare\nsource: cryptocompare\nsource: cryptocompare\nsource: cryptocompare\nsource: cryptocompare\nsource: cryptocompare\nsource: cryptocompare\nsource: cryptocompare\nsource: cryptocompare\nsource: cryptocompare\nsource: cryptocompare\nsource: cryptocompare\nsource: cryptocompare\nsource: cryptocompare\nsource: cryptocompare\nsource: cryptocompare\nsource: cryptocompare\nsource: cryptocompare\nsource: cryptocompare\nsource: cryptocompare\nsource: cryptocompare\nsource: cryptocompare\nsource: cryptocompare\nsource: cryptocompare\nsource: cryptocompare\nsource: cryptocompare\nsource: cryptocompare\nsource: cryptocompare\nsource: cryptocompare\nsource: cryptocompare\nsource: cryptocompare\nsource: cryptocompare\nsource: cryptocompare\nsource: cryptocompare\nsource: cryptocompare\nsource: cryptocompare\nsource: cryptocompare\nsource: cryptocompare\nsource: cryptocompare\nsource: cryptocompare\nsource: cryptocompare\nsource: cryptocompare\nsource: cryptocompare\nsource: cryptocompare\nsource: cryptocompare\nsource: cryptocompare\nsource: cryptocompare\nsource: cryptocompare\nsource: cryptocompare\nsource: cryptocompare\nsource: cryptocompare\nsource: cryptocompare\nsource: cryptocompare\nsource: cryptocompare\nsource: cryptocompare\nsource: cryptocompare\nsource: cryptocompare\nsource: cryptocompare\nsource: cryptocompare\nsource: cryptocompare\nsource: cryptocompare\nsource: cryptocompare\nsource: cryptocompare\nsource: cryptocompare\nsource: cryptocompare\nsource: cryptocompare\nsource: cryptocompare\nsource: cryptocompare\nsource: cryptocompare\nsource: cryptocompare\nsource: cryptocompare\nsource: cryptocompare\nsource: cryptocompare\nsource: cryptocompare\nsource: cryptocompare\nsource: cryptocompare\nsource: cryptocompare\nsource: cryptocompare\nsource: cryptocompare\nsource: cryptocompare\nsource: cryptocompare\nsource: cryptocompare\nsource: cryptocompare\nsource: cryptocompare\nsource: cryptocompare\nsource: cryptocompare\nsource: cryptocompare\nsource: cryptocompare\nsource: cryptocompare\nsource: cryptocompare\nsource: cryptocompare\nsource: cryptocompare\nsource: cryptocompare\nsource: cryptocompare\nsource: cryptocompare\nsource: cryptocompare\nsource: cryptocompare\nsource: cryptocompare\nsource: cryptocompare\nsource: cryptocompare\nsource: cryptocompare\nsource: cryptocompare\nsource: cryptocompare\nsource: cryptocompare\nsource: cryptocompare\nsource: cryptocompare\nsource: cryptocompare\nsource: cryptocompare\nsource: cryptocompare\nsource: cryptocompare\nsource: cryptocompare\nsource: cryptocompare\nsource: cryptocompare\nsource: cryptocompare\nsource: cryptocompare\nsource: cryptocompare\nsource: cryptocompare\nsource: cryptocompare\nsource: cryptocompare\nsource: cryptocompare\nsource: cryptocompare\nsource: cryptocompare\nsource: cryptocompare\nsource: cryptocompare\nsource: cryptocompare\nsource: cryptocompare\nsource: cryptocompare\nsource: cryptocompare\nsource: cryptocompare\nsource: cryptocompare\nsource: cryptocompare\nsource: cryptocompare\nsource: cryptocompare\nsource: cryptocompare\nsource: cryptocompare\nsource: cryptocompare\nsource: cryptocompare\nsource: cryptocompare\nsource: cryptocompare\nsource: cryptocompare\nsource: cryptocompare\nsource: cryptocompare\nsource: cryptocompare\nsource: cryptocompare\nsource: cryptocompare\nsource: cryptocompare\nsource: cryptocompare\nsource: cryptocompare\nsource: cryptocompare\nsource: cryptocompare\nsource: cryptocompare\nsource: cryptocompare\nsource: cryptocompare\nsource: cryptocompare\nsource: cryptocompare\nsource: cryptocompare\nsource: cryptocompare\nsource: cryptocompare\nsource: cryptocompare\nsource: cryptocompare\nsource: cryptocompare\nsource: cryptocompare\nsource: cryptocompare\nsource: cryptocompare\nsource: cryptocompare\nsource: cryptocompare\nsource: cryptocompare\nsource: cryptocompare\nsource: cryptocompare\nsource: cryptocompare\nsource: cryptocompare\nprocessing done\n"
    }
   ],
   "source": [
    "# PROCESSING TIME IS LONG!\n",
    "# This needs to be changed to get exchanges, pairs and datatime as variables to assign to call\n",
    "# Calls are batched up due to endpoint limits\n",
    "# Trading volume by pair USD/USDC/BTC/ETH/USDT\n",
    "# Based on messari \"real volume\" list\n",
    "\n",
    "# Binance\n",
    "df_binance_linkbtc_hr1 = get_ohlcv_dayorhour('LINK', 'BTC', 'Binance',period='histohour',limit=2000, before='2020-07-31')\n",
    "df_binance_linkbtc_hr2 = get_ohlcv_dayorhour('LINK', 'BTC', 'Binance',period='histohour',limit=2000, before='2020-05-31')\n",
    "df_binance_linkbtc_hr3 = get_ohlcv_dayorhour('LINK', 'BTC', 'Binance',period='histohour',limit=2000, before='2020-03-31')\n",
    "df_binance_linkbtc_hr4 = get_ohlcv_dayorhour('LINK', 'BTC', 'Binance',period='histohour',limit=2000, before='2020-01-31')\n",
    "df_binance_linkbtc_hr5 = get_ohlcv_dayorhour('LINK', 'BTC', 'Binance',period='histohour',limit=2000, before='2019-11-30')\n",
    "df_binance_linkbtc_hr6 = get_ohlcv_dayorhour('LINK', 'BTC', 'Binance',period='histohour',limit=2000, before='2019-09-30')\n",
    "df_binance_linkbtc_hr7 = get_ohlcv_dayorhour('LINK', 'BTC', 'Binance',period='histohour',limit=2000, before='2019-07-31')\n",
    "df_binance_linkbtc_hr8 = get_ohlcv_dayorhour('LINK', 'BTC', 'Binance',period='histohour',limit=2000, before='2019-05-31')\n",
    "df_binance_linkbtc_hr9 = get_ohlcv_dayorhour('LINK', 'BTC', 'Binance',period='histohour',limit=2000, before='2019-03-31')\n",
    "df_binance_linkbtc_hr10 = get_ohlcv_dayorhour('LINK', 'BTC', 'Binance',period='histohour',limit=2000, before='2019-01-31')\n",
    "df_binance_linkbtc_hr11 = get_ohlcv_dayorhour('LINK', 'BTC', 'Binance',period='histohour',limit=2000, before='2018-11-30')\n",
    "df_binance_linkbtc_hr12 = get_ohlcv_dayorhour('LINK', 'BTC', 'Binance',period='histohour',limit=2000, before='2018-09-30')\n",
    "df_binance_linkbtc_hr13 = get_ohlcv_dayorhour('LINK', 'BTC', 'Binance',period='histohour',limit=2000, before='2018-07-31')\n",
    "\n",
    "df_binance_linketh_hr1 = get_ohlcv_dayorhour('LINK', 'ETH', 'Binance',period='histohour',limit=2000, before='2020-07-31')\n",
    "df_binance_linketh_hr2 = get_ohlcv_dayorhour('LINK', 'ETH', 'Binance',period='histohour',limit=2000, before='2020-05-31')\n",
    "df_binance_linketh_hr3 = get_ohlcv_dayorhour('LINK', 'ETH', 'Binance',period='histohour',limit=2000, before='2020-03-31')\n",
    "df_binance_linketh_hr4 = get_ohlcv_dayorhour('LINK', 'ETH', 'Binance',period='histohour',limit=2000, before='2020-01-31')\n",
    "df_binance_linketh_hr5 = get_ohlcv_dayorhour('LINK', 'ETH', 'Binance',period='histohour',limit=2000, before='2019-11-30')\n",
    "df_binance_linketh_hr6 = get_ohlcv_dayorhour('LINK', 'ETH', 'Binance',period='histohour',limit=2000, before='2019-09-30')\n",
    "df_binance_linketh_hr7 = get_ohlcv_dayorhour('LINK', 'ETH', 'Binance',period='histohour',limit=2000, before='2019-07-31')\n",
    "df_binance_linketh_hr8 = get_ohlcv_dayorhour('LINK', 'ETH', 'Binance',period='histohour',limit=2000, before='2019-05-31')\n",
    "df_binance_linketh_hr9 = get_ohlcv_dayorhour('LINK', 'ETH', 'Binance',period='histohour',limit=2000, before='2019-03-31')\n",
    "df_binance_linketh_hr10 = get_ohlcv_dayorhour('LINK', 'ETH', 'Binance',period='histohour',limit=2000, before='2019-01-31')\n",
    "df_binance_linketh_hr11 = get_ohlcv_dayorhour('LINK', 'ETH', 'Binance',period='histohour',limit=2000, before='2018-11-30')\n",
    "df_binance_linketh_hr12 = get_ohlcv_dayorhour('LINK', 'ETH', 'Binance',period='histohour',limit=2000, before='2018-09-30')\n",
    "df_binance_linketh_hr13 = get_ohlcv_dayorhour('LINK', 'ETH', 'Binance',period='histohour',limit=2000, before='2018-07-31')\n",
    "\n",
    "df_binance_linkusdc_hr1 = get_ohlcv_dayorhour('LINK', 'USDC', 'Binance',period='histohour',limit=2000, before='2020-07-31')\n",
    "df_binance_linkusdc_hr2 = get_ohlcv_dayorhour('LINK', 'USDC', 'Binance',period='histohour',limit=2000, before='2020-05-31')\n",
    "df_binance_linkusdc_hr3 = get_ohlcv_dayorhour('LINK', 'USDC', 'Binance',period='histohour',limit=2000, before='2020-03-31')\n",
    "df_binance_linkusdc_hr4 = get_ohlcv_dayorhour('LINK', 'USDC', 'Binance',period='histohour',limit=2000, before='2020-01-31')\n",
    "df_binance_linkusdc_hr5 = get_ohlcv_dayorhour('LINK', 'USDC', 'Binance',period='histohour',limit=2000, before='2019-11-30')\n",
    "df_binance_linkusdc_hr6 = get_ohlcv_dayorhour('LINK', 'USDC', 'Binance',period='histohour',limit=2000, before='2019-09-30')\n",
    "df_binance_linkusdc_hr7 = get_ohlcv_dayorhour('LINK', 'USDC', 'Binance',period='histohour',limit=2000, before='2019-07-31')\n",
    "df_binance_linkusdc_hr8 = get_ohlcv_dayorhour('LINK', 'USDC', 'Binance',period='histohour',limit=2000, before='2019-05-31')\n",
    "df_binance_linkusdc_hr9 = get_ohlcv_dayorhour('LINK', 'USDC', 'Binance',period='histohour',limit=2000, before='2019-03-31')\n",
    "df_binance_linkusdc_hr10 = get_ohlcv_dayorhour('LINK', 'USDC', 'Binance',period='histohour',limit=2000, before='2019-01-31')\n",
    "df_binance_linkusdc_hr11 = get_ohlcv_dayorhour('LINK', 'USDC', 'Binance',period='histohour',limit=2000, before='2018-11-30')\n",
    "df_binance_linkusdc_hr12 = get_ohlcv_dayorhour('LINK', 'USDC', 'Binance',period='histohour',limit=2000, before='2018-09-30')\n",
    "df_binance_linkusdc_hr13 = get_ohlcv_dayorhour('LINK', 'USDC', 'Binance',period='histohour',limit=2000, before='2018-07-31')\n",
    "\n",
    "df_binance_linkusdt_hr1 = get_ohlcv_dayorhour('LINK', 'USDT', 'Binance',period='histohour',limit=2000, before='2020-07-31')\n",
    "df_binance_linkusdt_hr2 = get_ohlcv_dayorhour('LINK', 'USDT', 'Binance',period='histohour',limit=2000, before='2020-05-31')\n",
    "df_binance_linkusdt_hr3 = get_ohlcv_dayorhour('LINK', 'USDT', 'Binance',period='histohour',limit=2000, before='2020-03-31')\n",
    "df_binance_linkusdt_hr4 = get_ohlcv_dayorhour('LINK', 'USDT', 'Binance',period='histohour',limit=2000, before='2020-01-31')\n",
    "df_binance_linkusdt_hr5 = get_ohlcv_dayorhour('LINK', 'USDT', 'Binance',period='histohour',limit=2000, before='2019-11-30')\n",
    "df_binance_linkusdt_hr6 = get_ohlcv_dayorhour('LINK', 'USDT', 'Binance',period='histohour',limit=2000, before='2019-09-30')\n",
    "df_binance_linkusdt_hr7 = get_ohlcv_dayorhour('LINK', 'USDT', 'Binance',period='histohour',limit=2000, before='2019-07-31')\n",
    "df_binance_linkusdt_hr8 = get_ohlcv_dayorhour('LINK', 'USDT', 'Binance',period='histohour',limit=2000, before='2019-05-31')\n",
    "df_binance_linkusdt_hr9 = get_ohlcv_dayorhour('LINK', 'USDT', 'Binance',period='histohour',limit=2000, before='2019-03-31')\n",
    "df_binance_linkusdt_hr10 = get_ohlcv_dayorhour('LINK', 'USDT', 'Binance',period='histohour',limit=2000, before='2019-01-31')\n",
    "df_binance_linkusdt_hr11 = get_ohlcv_dayorhour('LINK', 'USDT', 'Binance',period='histohour',limit=2000, before='2018-11-30')\n",
    "df_binance_linkusdt_hr12 = get_ohlcv_dayorhour('LINK', 'USDT', 'Binance',period='histohour',limit=2000, before='2018-09-30')\n",
    "df_binance_linkusdt_hr13 = get_ohlcv_dayorhour('LINK', 'USDT', 'Binance',period='histohour',limit=2000, before='2018-07-31')\n",
    "\n",
    "# Binance us and Binance usa\n",
    "df_binanceus_linkusd_hr1 = get_ohlcv_dayorhour('LINK', 'USD', 'binanceus',period='histohour',limit=2000, before='2020-07-31')\n",
    "df_binanceus_linkusd_hr2 = get_ohlcv_dayorhour('LINK', 'USD', 'binanceus',period='histohour',limit=2000, before='2020-05-31')\n",
    "df_binanceus_linkusd_hr3 = get_ohlcv_dayorhour('LINK', 'USD', 'binanceus',period='histohour',limit=2000, before='2020-03-31')\n",
    "df_binanceus_linkusd_hr4 = get_ohlcv_dayorhour('LINK', 'USD', 'binanceus',period='histohour',limit=2000, before='2020-01-31')\n",
    "df_binanceus_linkusd_hr5 = get_ohlcv_dayorhour('LINK', 'USD', 'binanceus',period='histohour',limit=2000, before='2019-11-30')\n",
    "df_binanceus_linkusd_hr6 = get_ohlcv_dayorhour('LINK', 'USD', 'binanceus',period='histohour',limit=2000, before='2019-09-30')\n",
    "df_binanceus_linkusd_hr7 = get_ohlcv_dayorhour('LINK', 'USD', 'binanceus',period='histohour',limit=2000, before='2019-07-31')\n",
    "df_binanceus_linkusd_hr8 = get_ohlcv_dayorhour('LINK', 'USD', 'binanceus',period='histohour',limit=2000, before='2019-05-31')\n",
    "df_binanceus_linkusd_hr9 = get_ohlcv_dayorhour('LINK', 'USD', 'binanceus',period='histohour',limit=2000, before='2019-03-31')\n",
    "df_binanceus_linkusd_hr10 = get_ohlcv_dayorhour('LINK', 'USD', 'binanceus',period='histohour',limit=2000, before='2019-01-31')\n",
    "df_binanceus_linkusd_hr11 = get_ohlcv_dayorhour('LINK', 'USD', 'binanceus',period='histohour',limit=2000, before='2018-11-30')\n",
    "df_binanceus_linkusd_hr12 = get_ohlcv_dayorhour('LINK', 'USD', 'binanceus',period='histohour',limit=2000, before='2018-09-30')\n",
    "df_binanceus_linkusd_hr13 = get_ohlcv_dayorhour('LINK', 'USD', 'binanceus',period='histohour',limit=2000, before='2018-07-31')\n",
    "\n",
    "df_binanceusa_linkusd_hr1 = get_ohlcv_dayorhour('LINK', 'USD', 'binanceusa',period='histohour',limit=2000, before='2020-07-31')\n",
    "df_binanceusa_linkusd_hr2 = get_ohlcv_dayorhour('LINK', 'USD', 'binanceusa',period='histohour',limit=2000, before='2020-05-31')\n",
    "df_binanceusa_linkusd_hr3 = get_ohlcv_dayorhour('LINK', 'USD', 'binanceusa',period='histohour',limit=2000, before='2020-03-31')\n",
    "df_binanceusa_linkusd_hr4 = get_ohlcv_dayorhour('LINK', 'USD', 'binanceusa',period='histohour',limit=2000, before='2020-01-31')\n",
    "df_binanceusa_linkusd_hr5 = get_ohlcv_dayorhour('LINK', 'USD', 'binanceusa',period='histohour',limit=2000, before='2019-11-30')\n",
    "df_binanceusa_linkusd_hr6 = get_ohlcv_dayorhour('LINK', 'USD', 'binanceusa',period='histohour',limit=2000, before='2019-09-30')\n",
    "df_binanceusa_linkusd_hr7 = get_ohlcv_dayorhour('LINK', 'USD', 'binanceusa',period='histohour',limit=2000, before='2019-07-31')\n",
    "df_binanceusa_linkusd_hr8 = get_ohlcv_dayorhour('LINK', 'USD', 'binanceusa',period='histohour',limit=2000, before='2019-05-31')\n",
    "df_binanceusa_linkusd_hr9 = get_ohlcv_dayorhour('LINK', 'USD', 'binanceusa',period='histohour',limit=2000, before='2019-03-31')\n",
    "df_binanceusa_linkusd_hr10 = get_ohlcv_dayorhour('LINK', 'USD', 'binanceusa',period='histohour',limit=2000, before='2019-01-31')\n",
    "df_binanceusa_linkusd_hr11 = get_ohlcv_dayorhour('LINK', 'USD', 'binanceusa',period='histohour',limit=2000, before='2018-11-30')\n",
    "df_binanceusa_linkusd_hr12 = get_ohlcv_dayorhour('LINK', 'USD', 'binanceusa',period='histohour',limit=2000, before='2018-09-30')\n",
    "df_binanceusa_linkusd_hr13 = get_ohlcv_dayorhour('LINK', 'USD', 'binanceusa',period='histohour',limit=2000, before='2018-07-31')\n",
    "\n",
    "# Coinbase\n",
    "df_coinbase_linkusd_hr1 = get_ohlcv_dayorhour('LINK', 'USD', 'Coinbase',period='histohour',limit=2000, before='2020-07-31')\n",
    "df_coinbase_linkusd_hr2 = get_ohlcv_dayorhour('LINK', 'USD', 'Coinbase',period='histohour',limit=2000, before='2020-05-31')\n",
    "df_coinbase_linkusd_hr3 = get_ohlcv_dayorhour('LINK', 'USD', 'Coinbase',period='histohour',limit=2000, before='2020-03-31')\n",
    "df_coinbase_linkusd_hr4 = get_ohlcv_dayorhour('LINK', 'USD', 'Coinbase',period='histohour',limit=2000, before='2020-01-31')\n",
    "df_coinbase_linkusd_hr5 = get_ohlcv_dayorhour('LINK', 'USD', 'Coinbase',period='histohour',limit=2000, before='2019-11-30')\n",
    "df_coinbase_linkusd_hr6 = get_ohlcv_dayorhour('LINK', 'USD', 'Coinbase',period='histohour',limit=2000, before='2019-09-30')\n",
    "df_coinbase_linkusd_hr7 = get_ohlcv_dayorhour('LINK', 'USD', 'Coinbase',period='histohour',limit=2000, before='2019-07-31')\n",
    "df_coinbase_linkusd_hr8 = get_ohlcv_dayorhour('LINK', 'USD', 'Coinbase',period='histohour',limit=2000, before='2019-05-31')\n",
    "df_coinbase_linkusd_hr9 = get_ohlcv_dayorhour('LINK', 'USD', 'Coinbase',period='histohour',limit=2000, before='2019-03-31')\n",
    "df_coinbase_linkusd_hr10 = get_ohlcv_dayorhour('LINK', 'USD', 'Coinbase',period='histohour',limit=2000, before='2019-01-31')\n",
    "df_coinbase_linkusd_hr11 = get_ohlcv_dayorhour('LINK', 'USD', 'Coinbase',period='histohour',limit=2000, before='2018-11-30')\n",
    "df_coinbase_linkusd_hr12 = get_ohlcv_dayorhour('LINK', 'USD', 'Coinbase',period='histohour',limit=2000, before='2018-09-30')\n",
    "df_coinbase_linkusd_hr13 = get_ohlcv_dayorhour('LINK', 'USD', 'Coinbase',period='histohour',limit=2000, before='2018-07-31')\n",
    "\n",
    "df_coinbase_linketh_hr1 = get_ohlcv_dayorhour('LINK', 'ETH', 'Coinbase',period='histohour',limit=2000, before='2020-07-31')\n",
    "df_coinbase_linketh_hr2 = get_ohlcv_dayorhour('LINK', 'ETH', 'Coinbase',period='histohour',limit=2000, before='2020-05-31')\n",
    "df_coinbase_linketh_hr3 = get_ohlcv_dayorhour('LINK', 'ETH', 'Coinbase',period='histohour',limit=2000, before='2020-03-31')\n",
    "df_coinbase_linketh_hr4 = get_ohlcv_dayorhour('LINK', 'ETH', 'Coinbase',period='histohour',limit=2000, before='2020-01-31')\n",
    "df_coinbase_linketh_hr5 = get_ohlcv_dayorhour('LINK', 'ETH', 'Coinbase',period='histohour',limit=2000, before='2019-11-30')\n",
    "df_coinbase_linketh_hr6 = get_ohlcv_dayorhour('LINK', 'ETH', 'Coinbase',period='histohour',limit=2000, before='2019-09-30')\n",
    "df_coinbase_linketh_hr7 = get_ohlcv_dayorhour('LINK', 'ETH', 'Coinbase',period='histohour',limit=2000, before='2019-07-31')\n",
    "df_coinbase_linketh_hr8 = get_ohlcv_dayorhour('LINK', 'ETH', 'Coinbase',period='histohour',limit=2000, before='2019-05-31')\n",
    "df_coinbase_linketh_hr9 = get_ohlcv_dayorhour('LINK', 'ETH', 'Coinbase',period='histohour',limit=2000, before='2019-03-31')\n",
    "df_coinbase_linketh_hr10 = get_ohlcv_dayorhour('LINK', 'ETH', 'Coinbase',period='histohour',limit=2000, before='2019-01-31')\n",
    "df_coinbase_linketh_hr11 = get_ohlcv_dayorhour('LINK', 'ETH', 'Coinbase',period='histohour',limit=2000, before='2018-11-30')\n",
    "df_coinbase_linketh_hr12 = get_ohlcv_dayorhour('LINK', 'ETH', 'Coinbase',period='histohour',limit=2000, before='2018-09-30')\n",
    "df_coinbase_linketh_hr13 = get_ohlcv_dayorhour('LINK', 'ETH', 'Coinbase',period='histohour',limit=2000, before='2018-07-31')\n",
    "\n",
    "# Gemini\n",
    "df_gemini_linkusd_hr1 = get_ohlcv_dayorhour('LINK', 'USD', 'Gemini',period='histohour',limit=2000, before='2020-07-31')\n",
    "df_gemini_linkusd_hr2 = get_ohlcv_dayorhour('LINK', 'USD', 'Gemini',period='histohour',limit=2000, before='2020-05-31')\n",
    "df_gemini_linkusd_hr3 = get_ohlcv_dayorhour('LINK', 'USD', 'Gemini',period='histohour',limit=2000, before='2020-03-31')\n",
    "df_gemini_linkusd_hr4 = get_ohlcv_dayorhour('LINK', 'USD', 'Gemini',period='histohour',limit=2000, before='2020-01-31')\n",
    "df_gemini_linkusd_hr5 = get_ohlcv_dayorhour('LINK', 'USD', 'Gemini',period='histohour',limit=2000, before='2019-11-30')\n",
    "df_gemini_linkusd_hr6 = get_ohlcv_dayorhour('LINK', 'USD', 'Gemini',period='histohour',limit=2000, before='2019-09-30')\n",
    "df_gemini_linkusd_hr7 = get_ohlcv_dayorhour('LINK', 'USD', 'Gemini',period='histohour',limit=2000, before='2019-07-31')\n",
    "df_gemini_linkusd_hr8 = get_ohlcv_dayorhour('LINK', 'USD', 'Gemini',period='histohour',limit=2000, before='2019-05-31')\n",
    "df_gemini_linkusd_hr9 = get_ohlcv_dayorhour('LINK', 'USD', 'Gemini',period='histohour',limit=2000, before='2019-03-31')\n",
    "df_gemini_linkusd_hr10 = get_ohlcv_dayorhour('LINK', 'USD', 'Gemini',period='histohour',limit=2000, before='2019-01-31')\n",
    "df_gemini_linkusd_hr11 = get_ohlcv_dayorhour('LINK', 'USD', 'Gemini',period='histohour',limit=2000, before='2018-11-30')\n",
    "df_gemini_linkusd_hr12 = get_ohlcv_dayorhour('LINK', 'USD', 'Gemini',period='histohour',limit=2000, before='2018-09-30')\n",
    "df_gemini_linkusd_hr13 = get_ohlcv_dayorhour('LINK', 'USD', 'Gemini',period='histohour',limit=2000, before='2018-07-31')\n",
    "\n",
    "df_gemini_linkbtc_hr1 = get_ohlcv_dayorhour('LINK', 'BTC', 'Gemini',period='histohour',limit=2000, before='2020-07-31')\n",
    "df_gemini_linkbtc_hr2 = get_ohlcv_dayorhour('LINK', 'BTC', 'Gemini',period='histohour',limit=2000, before='2020-05-31')\n",
    "df_gemini_linkbtc_hr3 = get_ohlcv_dayorhour('LINK', 'BTC', 'Gemini',period='histohour',limit=2000, before='2020-03-31')\n",
    "df_gemini_linkbtc_hr4 = get_ohlcv_dayorhour('LINK', 'BTC', 'Gemini',period='histohour',limit=2000, before='2020-01-31')\n",
    "df_gemini_linkbtc_hr5 = get_ohlcv_dayorhour('LINK', 'BTC', 'Gemini',period='histohour',limit=2000, before='2019-11-30')\n",
    "df_gemini_linkbtc_hr6 = get_ohlcv_dayorhour('LINK', 'BTC', 'Gemini',period='histohour',limit=2000, before='2019-09-30')\n",
    "df_gemini_linkbtc_hr7 = get_ohlcv_dayorhour('LINK', 'BTC', 'Gemini',period='histohour',limit=2000, before='2019-07-31')\n",
    "df_gemini_linkbtc_hr8 = get_ohlcv_dayorhour('LINK', 'BTC', 'Gemini',period='histohour',limit=2000, before='2019-05-31')\n",
    "df_gemini_linkbtc_hr9 = get_ohlcv_dayorhour('LINK', 'BTC', 'Gemini',period='histohour',limit=2000, before='2019-03-31')\n",
    "df_gemini_linkbtc_hr10 = get_ohlcv_dayorhour('LINK', 'BTC', 'Gemini',period='histohour',limit=2000, before='2019-01-31')\n",
    "df_gemini_linkbtc_hr11 = get_ohlcv_dayorhour('LINK', 'BTC', 'Gemini',period='histohour',limit=2000, before='2018-11-30')\n",
    "df_gemini_linkbtc_hr12 = get_ohlcv_dayorhour('LINK', 'BTC', 'Gemini',period='histohour',limit=2000, before='2018-09-30')\n",
    "df_gemini_linkbtc_hr13 = get_ohlcv_dayorhour('LINK', 'BTC', 'Gemini',period='histohour',limit=2000, before='2018-07-31')\n",
    "\n",
    "# Kraken\n",
    "df_kraken_linkbtc_hr1 = get_ohlcv_dayorhour('LINK', 'BTC', 'Kraken',period='histohour',limit=2000, before='2020-07-31')\n",
    "df_kraken_linkbtc_hr2 = get_ohlcv_dayorhour('LINK', 'BTC', 'Kraken',period='histohour',limit=2000, before='2020-05-31')\n",
    "df_kraken_linkbtc_hr3 = get_ohlcv_dayorhour('LINK', 'BTC', 'Kraken',period='histohour',limit=2000, before='2020-03-31')\n",
    "df_kraken_linkbtc_hr4 = get_ohlcv_dayorhour('LINK', 'BTC', 'Kraken',period='histohour',limit=2000, before='2020-01-31')\n",
    "df_kraken_linkbtc_hr5 = get_ohlcv_dayorhour('LINK', 'BTC', 'Kraken',period='histohour',limit=2000, before='2019-11-30')\n",
    "df_kraken_linkbtc_hr6 = get_ohlcv_dayorhour('LINK', 'BTC', 'Kraken',period='histohour',limit=2000, before='2019-09-30')\n",
    "df_kraken_linkbtc_hr7 = get_ohlcv_dayorhour('LINK', 'BTC', 'Kraken',period='histohour',limit=2000, before='2019-07-31')\n",
    "df_kraken_linkbtc_hr8 = get_ohlcv_dayorhour('LINK', 'BTC', 'Kraken',period='histohour',limit=2000, before='2019-05-31')\n",
    "df_kraken_linkbtc_hr9 = get_ohlcv_dayorhour('LINK', 'BTC', 'Kraken',period='histohour',limit=2000, before='2019-03-31')\n",
    "df_kraken_linkbtc_hr10 = get_ohlcv_dayorhour('LINK', 'BTC', 'Kraken',period='histohour',limit=2000, before='2019-01-31')\n",
    "df_kraken_linkbtc_hr11 = get_ohlcv_dayorhour('LINK', 'BTC', 'Kraken',period='histohour',limit=2000, before='2018-11-30')\n",
    "df_kraken_linkbtc_hr12 = get_ohlcv_dayorhour('LINK', 'BTC', 'Kraken',period='histohour',limit=2000, before='2018-09-30')\n",
    "df_kraken_linkbtc_hr13 = get_ohlcv_dayorhour('LINK', 'BTC', 'Kraken',period='histohour',limit=2000, before='2018-07-31')\n",
    "\n",
    "df_kraken_linketh_hr1 = get_ohlcv_dayorhour('LINK', 'ETH', 'Kraken',period='histohour',limit=2000, before='2020-07-31')\n",
    "df_kraken_linketh_hr2 = get_ohlcv_dayorhour('LINK', 'ETH', 'Kraken',period='histohour',limit=2000, before='2020-05-31')\n",
    "df_kraken_linketh_hr3 = get_ohlcv_dayorhour('LINK', 'ETH', 'Kraken',period='histohour',limit=2000, before='2020-03-31')\n",
    "df_kraken_linketh_hr4 = get_ohlcv_dayorhour('LINK', 'ETH', 'Kraken',period='histohour',limit=2000, before='2020-01-31')\n",
    "df_kraken_linketh_hr5 = get_ohlcv_dayorhour('LINK', 'ETH', 'Kraken',period='histohour',limit=2000, before='2019-11-30')\n",
    "df_kraken_linketh_hr6 = get_ohlcv_dayorhour('LINK', 'ETH', 'Kraken',period='histohour',limit=2000, before='2019-09-30')\n",
    "df_kraken_linketh_hr7 = get_ohlcv_dayorhour('LINK', 'ETH', 'Kraken',period='histohour',limit=2000, before='2019-07-31')\n",
    "df_kraken_linketh_hr8 = get_ohlcv_dayorhour('LINK', 'ETH', 'Kraken',period='histohour',limit=2000, before='2019-05-31')\n",
    "df_kraken_linketh_hr9 = get_ohlcv_dayorhour('LINK', 'ETH', 'Kraken',period='histohour',limit=2000, before='2019-03-31')\n",
    "df_kraken_linketh_hr10 = get_ohlcv_dayorhour('LINK', 'ETH', 'Kraken',period='histohour',limit=2000, before='2019-01-31')\n",
    "df_kraken_linketh_hr11 = get_ohlcv_dayorhour('LINK', 'ETH', 'Kraken',period='histohour',limit=2000, before='2018-11-30')\n",
    "df_kraken_linketh_hr12 = get_ohlcv_dayorhour('LINK', 'ETH', 'Kraken',period='histohour',limit=2000, before='2018-09-30')\n",
    "df_kraken_linketh_hr13 = get_ohlcv_dayorhour('LINK', 'ETH', 'Kraken',period='histohour',limit=2000, before='2018-07-31')\n",
    "\n",
    "df_kraken_linkusd_hr1 = get_ohlcv_dayorhour('LINK', 'USD', 'Kraken',period='histohour',limit=2000, before='2020-07-31')\n",
    "df_kraken_linkusd_hr2 = get_ohlcv_dayorhour('LINK', 'USD', 'Kraken',period='histohour',limit=2000, before='2020-05-31')\n",
    "df_kraken_linkusd_hr3 = get_ohlcv_dayorhour('LINK', 'USD', 'Kraken',period='histohour',limit=2000, before='2020-03-31')\n",
    "df_kraken_linkusd_hr4 = get_ohlcv_dayorhour('LINK', 'USD', 'Kraken',period='histohour',limit=2000, before='2020-01-31')\n",
    "df_kraken_linkusd_hr5 = get_ohlcv_dayorhour('LINK', 'USD', 'Kraken',period='histohour',limit=2000, before='2019-11-30')\n",
    "df_kraken_linkusd_hr6 = get_ohlcv_dayorhour('LINK', 'USD', 'Kraken',period='histohour',limit=2000, before='2019-09-30')\n",
    "df_kraken_linkusd_hr7 = get_ohlcv_dayorhour('LINK', 'USD', 'Kraken',period='histohour',limit=2000, before='2019-07-31')\n",
    "df_kraken_linkusd_hr8 = get_ohlcv_dayorhour('LINK', 'USD', 'Kraken',period='histohour',limit=2000, before='2019-05-31')\n",
    "df_kraken_linkusd_hr9 = get_ohlcv_dayorhour('LINK', 'USD', 'Kraken',period='histohour',limit=2000, before='2019-03-31')\n",
    "df_kraken_linkusd_hr10 = get_ohlcv_dayorhour('LINK', 'USD', 'Kraken',period='histohour',limit=2000, before='2019-01-31')\n",
    "df_kraken_linkusd_hr11 = get_ohlcv_dayorhour('LINK', 'USD', 'Kraken',period='histohour',limit=2000, before='2018-11-30')\n",
    "df_kraken_linkusd_hr12 = get_ohlcv_dayorhour('LINK', 'USD', 'Kraken',period='histohour',limit=2000, before='2018-09-30')\n",
    "df_kraken_linkusd_hr13 = get_ohlcv_dayorhour('LINK', 'USD', 'Kraken',period='histohour',limit=2000, before='2018-07-31')\n",
    "\n",
    "# BitTrex\n",
    "df_bittrex_linkusdt_hr1 = get_ohlcv_dayorhour('LINK', 'USDT', 'BitTrex',period='histohour',limit=2000, before='2020-07-31')\n",
    "df_bittrex_linkusdt_hr2 = get_ohlcv_dayorhour('LINK', 'USDT', 'BitTrex',period='histohour',limit=2000, before='2020-05-31')\n",
    "df_bittrex_linkusdt_hr3 = get_ohlcv_dayorhour('LINK', 'USDT', 'BitTrex',period='histohour',limit=2000, before='2020-03-31')\n",
    "df_bittrex_linkusdt_hr4 = get_ohlcv_dayorhour('LINK', 'USDT', 'BitTrex',period='histohour',limit=2000, before='2020-01-31')\n",
    "df_bittrex_linkusdt_hr5 = get_ohlcv_dayorhour('LINK', 'USDT', 'BitTrex',period='histohour',limit=2000, before='2019-11-30')\n",
    "df_bittrex_linkusdt_hr6 = get_ohlcv_dayorhour('LINK', 'USDT', 'BitTrex',period='histohour',limit=2000, before='2019-09-30')\n",
    "df_bittrex_linkusdt_hr7 = get_ohlcv_dayorhour('LINK', 'USDT', 'BitTrex',period='histohour',limit=2000, before='2019-07-31')\n",
    "df_bittrex_linkusdt_hr8 = get_ohlcv_dayorhour('LINK', 'USDT', 'BitTrex',period='histohour',limit=2000, before='2019-05-31')\n",
    "df_bittrex_linkusdt_hr9 = get_ohlcv_dayorhour('LINK', 'USDT', 'BitTrex',period='histohour',limit=2000, before='2019-03-31')\n",
    "df_bittrex_linkusdt_hr10 = get_ohlcv_dayorhour('LINK', 'USDT', 'BitTrex',period='histohour',limit=2000, before='2019-01-31')\n",
    "df_bittrex_linkusdt_hr11 = get_ohlcv_dayorhour('LINK', 'USDT', 'BitTrex',period='histohour',limit=2000, before='2018-11-30')\n",
    "df_bittrex_linkusdt_hr12 = get_ohlcv_dayorhour('LINK', 'USDT', 'BitTrex',period='histohour',limit=2000, before='2018-09-30')\n",
    "df_bittrex_linkusdt_hr13 = get_ohlcv_dayorhour('LINK', 'USDT', 'BitTrex',period='histohour',limit=2000, before='2018-07-31')\n",
    "\n",
    "df_bittrex_linkbtc_hr1 = get_ohlcv_dayorhour('LINK', 'BTC', 'BitTrex',period='histohour',limit=2000, before='2020-07-31')\n",
    "df_bittrex_linkbtc_hr2 = get_ohlcv_dayorhour('LINK', 'BTC', 'BitTrex',period='histohour',limit=2000, before='2020-05-31')\n",
    "df_bittrex_linkbtc_hr3 = get_ohlcv_dayorhour('LINK', 'BTC', 'BitTrex',period='histohour',limit=2000, before='2020-03-31')\n",
    "df_bittrex_linkbtc_hr4 = get_ohlcv_dayorhour('LINK', 'BTC', 'BitTrex',period='histohour',limit=2000, before='2020-01-31')\n",
    "df_bittrex_linkbtc_hr5 = get_ohlcv_dayorhour('LINK', 'BTC', 'BitTrex',period='histohour',limit=2000, before='2019-11-30')\n",
    "df_bittrex_linkbtc_hr6 = get_ohlcv_dayorhour('LINK', 'BTC', 'BitTrex',period='histohour',limit=2000, before='2019-09-30')\n",
    "df_bittrex_linkbtc_hr7 = get_ohlcv_dayorhour('LINK', 'BTC', 'BitTrex',period='histohour',limit=2000, before='2019-07-31')\n",
    "df_bittrex_linkbtc_hr8 = get_ohlcv_dayorhour('LINK', 'BTC', 'BitTrex',period='histohour',limit=2000, before='2019-05-31')\n",
    "df_bittrex_linkbtc_hr9 = get_ohlcv_dayorhour('LINK', 'BTC', 'BitTrex',period='histohour',limit=2000, before='2019-03-31')\n",
    "df_bittrex_linkbtc_hr10 = get_ohlcv_dayorhour('LINK', 'BTC', 'BitTrex',period='histohour',limit=2000, before='2019-01-31')\n",
    "df_bittrex_linkbtc_hr11 = get_ohlcv_dayorhour('LINK', 'BTC', 'BitTrex',period='histohour',limit=2000, before='2018-11-30')\n",
    "df_bittrex_linkbtc_hr12 = get_ohlcv_dayorhour('LINK', 'BTC', 'BitTrex',period='histohour',limit=2000, before='2018-09-30')\n",
    "df_bittrex_linkbtc_hr13 = get_ohlcv_dayorhour('LINK', 'BTC', 'BitTrex',period='histohour',limit=2000, before='2018-07-31')\n",
    "\n",
    "df_bittrex_linketh_hr1 = get_ohlcv_dayorhour('LINK', 'ETH', 'BitTrex',period='histohour',limit=2000, before='2020-07-31')\n",
    "df_bittrex_linketh_hr2 = get_ohlcv_dayorhour('LINK', 'ETH', 'BitTrex',period='histohour',limit=2000, before='2020-05-31')\n",
    "df_bittrex_linketh_hr3 = get_ohlcv_dayorhour('LINK', 'ETH', 'BitTrex',period='histohour',limit=2000, before='2020-03-31')\n",
    "df_bittrex_linketh_hr4 = get_ohlcv_dayorhour('LINK', 'ETH', 'BitTrex',period='histohour',limit=2000, before='2020-01-31')\n",
    "df_bittrex_linketh_hr5 = get_ohlcv_dayorhour('LINK', 'ETH', 'BitTrex',period='histohour',limit=2000, before='2019-11-30')\n",
    "df_bittrex_linketh_hr6 = get_ohlcv_dayorhour('LINK', 'ETH', 'BitTrex',period='histohour',limit=2000, before='2019-09-30')\n",
    "df_bittrex_linketh_hr7 = get_ohlcv_dayorhour('LINK', 'ETH', 'BitTrex',period='histohour',limit=2000, before='2019-07-31')\n",
    "df_bittrex_linketh_hr8 = get_ohlcv_dayorhour('LINK', 'ETH', 'BitTrex',period='histohour',limit=2000, before='2019-05-31')\n",
    "df_bittrex_linketh_hr9 = get_ohlcv_dayorhour('LINK', 'ETH', 'BitTrex',period='histohour',limit=2000, before='2019-03-31')\n",
    "df_bittrex_linketh_hr10 = get_ohlcv_dayorhour('LINK', 'ETH', 'BitTrex',period='histohour',limit=2000, before='2019-01-31')\n",
    "df_bittrex_linketh_hr11 = get_ohlcv_dayorhour('LINK', 'ETH', 'BitTrex',period='histohour',limit=2000, before='2018-11-30')\n",
    "df_bittrex_linketh_hr12 = get_ohlcv_dayorhour('LINK', 'ETH', 'BitTrex',period='histohour',limit=2000, before='2018-09-30')\n",
    "df_bittrex_linketh_hr13 = get_ohlcv_dayorhour('LINK', 'ETH', 'BitTrex',period='histohour',limit=2000, before='2018-07-31')\n",
    "\n",
    "# Poloniex\n",
    "df_poloniex_linkusdt_hr1 = get_ohlcv_dayorhour('LINK', 'USDT', 'Poloniex',period='histohour',limit=2000, before='2020-07-31')\n",
    "df_poloniex_linkusdt_hr2 = get_ohlcv_dayorhour('LINK', 'USDT', 'Poloniex',period='histohour',limit=2000, before='2020-05-31')\n",
    "df_poloniex_linkusdt_hr3 = get_ohlcv_dayorhour('LINK', 'USDT', 'Poloniex',period='histohour',limit=2000, before='2020-03-31')\n",
    "df_poloniex_linkusdt_hr4 = get_ohlcv_dayorhour('LINK', 'USDT', 'Poloniex',period='histohour',limit=2000, before='2020-01-31')\n",
    "df_poloniex_linkusdt_hr5 = get_ohlcv_dayorhour('LINK', 'USDT', 'Poloniex',period='histohour',limit=2000, before='2019-11-30')\n",
    "df_poloniex_linkusdt_hr6 = get_ohlcv_dayorhour('LINK', 'USDT', 'Poloniex',period='histohour',limit=2000, before='2019-09-30')\n",
    "df_poloniex_linkusdt_hr7 = get_ohlcv_dayorhour('LINK', 'USDT', 'Poloniex',period='histohour',limit=2000, before='2019-07-31')\n",
    "df_poloniex_linkusdt_hr8 = get_ohlcv_dayorhour('LINK', 'USDT', 'Poloniex',period='histohour',limit=2000, before='2019-05-31')\n",
    "df_poloniex_linkusdt_hr9 = get_ohlcv_dayorhour('LINK', 'USDT', 'Poloniex',period='histohour',limit=2000, before='2019-03-31')\n",
    "df_poloniex_linkusdt_hr10 = get_ohlcv_dayorhour('LINK', 'USDT', 'Poloniex',period='histohour',limit=2000, before='2019-01-31')\n",
    "df_poloniex_linkusdt_hr11 = get_ohlcv_dayorhour('LINK', 'USDT', 'Poloniex',period='histohour',limit=2000, before='2018-11-30')\n",
    "df_poloniex_linkusdt_hr12 = get_ohlcv_dayorhour('LINK', 'USDT', 'Poloniex',period='histohour',limit=2000, before='2018-09-30')\n",
    "df_poloniex_linkusdt_hr13 = get_ohlcv_dayorhour('LINK', 'USDT', 'Poloniex',period='histohour',limit=2000, before='2018-07-31')\n",
    "\n",
    "df_poloniex_linkbtc_hr1 = get_ohlcv_dayorhour('LINK', 'BTC', 'Poloniex',period='histohour',limit=2000, before='2020-07-31')\n",
    "df_poloniex_linkbtc_hr2 = get_ohlcv_dayorhour('LINK', 'BTC', 'Poloniex',period='histohour',limit=2000, before='2020-05-31')\n",
    "df_poloniex_linkbtc_hr3 = get_ohlcv_dayorhour('LINK', 'BTC', 'Poloniex',period='histohour',limit=2000, before='2020-03-31')\n",
    "df_poloniex_linkbtc_hr4 = get_ohlcv_dayorhour('LINK', 'BTC', 'Poloniex',period='histohour',limit=2000, before='2020-01-31')\n",
    "df_poloniex_linkbtc_hr5 = get_ohlcv_dayorhour('LINK', 'BTC', 'Poloniex',period='histohour',limit=2000, before='2019-11-30')\n",
    "df_poloniex_linkbtc_hr6 = get_ohlcv_dayorhour('LINK', 'BTC', 'Poloniex',period='histohour',limit=2000, before='2019-09-30')\n",
    "df_poloniex_linkbtc_hr7 = get_ohlcv_dayorhour('LINK', 'BTC', 'Poloniex',period='histohour',limit=2000, before='2019-07-31')\n",
    "df_poloniex_linkbtc_hr8 = get_ohlcv_dayorhour('LINK', 'BTC', 'Poloniex',period='histohour',limit=2000, before='2019-05-31')\n",
    "df_poloniex_linkbtc_hr9 = get_ohlcv_dayorhour('LINK', 'BTC', 'Poloniex',period='histohour',limit=2000, before='2019-03-31')\n",
    "df_poloniex_linkbtc_hr10 = get_ohlcv_dayorhour('LINK', 'BTC', 'Poloniex',period='histohour',limit=2000, before='2019-01-31')\n",
    "df_poloniex_linkbtc_hr11 = get_ohlcv_dayorhour('LINK', 'BTC', 'Poloniex',period='histohour',limit=2000, before='2018-11-30')\n",
    "df_poloniex_linkbtc_hr12 = get_ohlcv_dayorhour('LINK', 'BTC', 'Poloniex',period='histohour',limit=2000, before='2018-09-30')\n",
    "df_poloniex_linkbtc_hr13 = get_ohlcv_dayorhour('LINK', 'BTC', 'Poloniex',period='histohour',limit=2000, before='2018-07-31')\n",
    "\n",
    "# calculate velocity (use santiment one)\n",
    "\n",
    "# Decentralised exchanges\n",
    "# uniswap\n",
    "\n",
    "df_uniswap_linketh_hr1 = get_ohlcv_dayorhour('LINK', 'ETH', 'uniswap',period='histohour',limit=2000, before='2020-07-31')\n",
    "df_uniswap_linketh_hr2 = get_ohlcv_dayorhour('LINK', 'ETH', 'uniswap',period='histohour',limit=2000, before='2020-05-31')\n",
    "df_uniswap_linketh_hr3 = get_ohlcv_dayorhour('LINK', 'ETH', 'uniswap',period='histohour',limit=2000, before='2020-03-31')\n",
    "df_uniswap_linketh_hr4 = get_ohlcv_dayorhour('LINK', 'ETH', 'uniswap',period='histohour',limit=2000, before='2020-01-31')\n",
    "df_uniswap_linketh_hr5 = get_ohlcv_dayorhour('LINK', 'ETH', 'uniswap',period='histohour',limit=2000, before='2019-11-30')\n",
    "df_uniswap_linketh_hr6 = get_ohlcv_dayorhour('LINK', 'ETH', 'uniswap',period='histohour',limit=2000, before='2019-09-30')\n",
    "df_uniswap_linketh_hr7 = get_ohlcv_dayorhour('LINK', 'ETH', 'uniswap',period='histohour',limit=2000, before='2019-07-31')\n",
    "df_uniswap_linketh_hr8 = get_ohlcv_dayorhour('LINK', 'ETH', 'uniswap',period='histohour',limit=2000, before='2019-05-31')\n",
    "df_uniswap_linketh_hr9 = get_ohlcv_dayorhour('LINK', 'ETH', 'uniswap',period='histohour',limit=2000, before='2019-03-31')\n",
    "df_uniswap_linketh_hr10 = get_ohlcv_dayorhour('LINK', 'ETH', 'uniswap',period='histohour',limit=2000, before='2019-01-31')\n",
    "df_uniswap_linketh_hr11 = get_ohlcv_dayorhour('LINK', 'ETH', 'uniswap',period='histohour',limit=2000, before='2018-11-30')\n",
    "df_uniswap_linketh_hr12 = get_ohlcv_dayorhour('LINK', 'ETH', 'uniswap',period='histohour',limit=2000, before='2018-09-30')\n",
    "df_uniswap_linketh_hr13 = get_ohlcv_dayorhour('LINK', 'ETH', 'uniswap',period='histohour',limit=2000, before='2018-07-31')\n",
    "\n",
    "print('processing done')"
   ]
  },
  {
   "cell_type": "code",
   "execution_count": 60,
   "metadata": {
    "tags": []
   },
   "outputs": [
    {
     "output_type": "stream",
     "name": "stdout",
     "text": "processing done\n"
    }
   ],
   "source": [
    "# Concantenations of hourly volume data\n",
    "# Append data timeseries for each exchange pair to make a single df by pair \n",
    "\n",
    "# Binance concatenations\n",
    "df_binance_linkbtc_hr = pd.concat([df_binance_linkbtc_hr1,df_binance_linkbtc_hr2,df_binance_linkbtc_hr3,df_binance_linkbtc_hr4,df_binance_linkbtc_hr5,df_binance_linkbtc_hr6,df_binance_linkbtc_hr7,df_binance_linkbtc_hr8,df_binance_linkbtc_hr9, df_binance_linkbtc_hr10,df_binance_linkbtc_hr11, df_binance_linkbtc_hr12, df_binance_linkbtc_hr13])\n",
    "# df_binance_linkbtc_hr[df_binance_linkbtc_hr.index.duplicated()]\n",
    "\n",
    "df_binance_linketh_hr = pd.concat([df_binance_linketh_hr1,df_binance_linketh_hr2,df_binance_linketh_hr3,df_binance_linketh_hr4,df_binance_linketh_hr5,df_binance_linketh_hr6,df_binance_linketh_hr7,df_binance_linketh_hr8,df_binance_linketh_hr9, df_binance_linketh_hr10,df_binance_linketh_hr11, df_binance_linketh_hr12, df_binance_linketh_hr13])\n",
    "# df_binance_linketh_hr[df_binance_linketh_hr.index.duplicated()]\n",
    "\n",
    "df_binance_linkusdc_hr = pd.concat([df_binance_linkusdc_hr1,df_binance_linkusdc_hr2,df_binance_linkusdc_hr3,df_binance_linkusdc_hr4,df_binance_linkusdc_hr5,df_binance_linkusdc_hr6,df_binance_linkusdc_hr7,df_binance_linkusdc_hr8,df_binance_linkusdc_hr9, df_binance_linkusdc_hr10,df_binance_linkusdc_hr11, df_binance_linkusdc_hr12, df_binance_linkusdc_hr13])\n",
    "# df_binance_linkusdc_hr[df_binance_linkusdc_hr.index.duplicated()]\n",
    "\n",
    "df_binance_linkusdt_hr = pd.concat([df_binance_linkusdt_hr1,df_binance_linkusdt_hr2,df_binance_linkusdt_hr3,df_binance_linkusdt_hr4,df_binance_linkusdt_hr5,df_binance_linkusdt_hr6,df_binance_linkusdt_hr7,df_binance_linkusdt_hr8,df_binance_linkusdt_hr9, df_binance_linkusdt_hr10,df_binance_linkusdt_hr11, df_binance_linkusdt_hr12, df_binance_linkusdt_hr13])\n",
    "# df_binance_linkusdt_hr[df_binance_linkusdt_hr.index.duplicated()]\n",
    "\n",
    "df_binanceus_linkusd_hr = pd.concat([df_binanceus_linkusd_hr1,df_binanceus_linkusd_hr2,df_binanceus_linkusd_hr3,df_binanceus_linkusd_hr4,df_binanceus_linkusd_hr5,df_binanceus_linkusd_hr6,df_binanceus_linkusd_hr7,df_binanceus_linkusd_hr8,df_binanceus_linkusd_hr9, df_binanceus_linkusd_hr10,df_binanceus_linkusd_hr11, df_binanceus_linkusd_hr12, df_binanceus_linkusd_hr13])\n",
    "# df_binanceus_linkusd_hr[df_binanceus_linkusd_hr.index.duplicated()]\n",
    "\n",
    "df_binanceusa_linkusd_hr = pd.concat([df_binanceusa_linkusd_hr1,df_binanceusa_linkusd_hr2,df_binanceusa_linkusd_hr3,df_binanceusa_linkusd_hr4,df_binanceusa_linkusd_hr5,df_binanceusa_linkusd_hr6,df_binanceusa_linkusd_hr7,df_binanceusa_linkusd_hr8,df_binanceusa_linkusd_hr9, df_binanceusa_linkusd_hr10,df_binanceusa_linkusd_hr11, df_binanceusa_linkusd_hr12, df_binanceusa_linkusd_hr13])\n",
    "# df_binanceusa_linkusd_hr[df_binanceusa_linkusd_hr.index.duplicated()]\n",
    "\n",
    "# Coinbase concatenations\n",
    "df_coinbase_linkusd_hr = pd.concat([df_coinbase_linkusd_hr1,df_coinbase_linkusd_hr2,df_coinbase_linkusd_hr3,df_coinbase_linkusd_hr4,df_coinbase_linkusd_hr5,df_coinbase_linkusd_hr6,df_coinbase_linkusd_hr7,df_coinbase_linkusd_hr8,df_coinbase_linkusd_hr9, df_coinbase_linkusd_hr10,df_coinbase_linkusd_hr11, df_coinbase_linkusd_hr12, df_coinbase_linkusd_hr13])\n",
    "# df_coinbase_linkusd_hr[df_coinbase_linkusd_hr.index.duplicated()]\n",
    "\n",
    "df_coinbase_linketh_hr = pd.concat([df_coinbase_linketh_hr1,df_coinbase_linketh_hr2,df_coinbase_linketh_hr3,df_coinbase_linketh_hr4,df_coinbase_linketh_hr5,df_coinbase_linketh_hr6,df_coinbase_linketh_hr7,df_coinbase_linketh_hr8,df_coinbase_linketh_hr9, df_coinbase_linketh_hr10,df_coinbase_linketh_hr11, df_coinbase_linketh_hr12, df_coinbase_linketh_hr13])\n",
    "# df_coinbase_linketh_hr[df_coinbase_linketh_hr.index.duplicated()]\n",
    "\n",
    "# Gemini concatenations\n",
    "df_gemini_linkusd_hr = pd.concat([df_gemini_linkusd_hr1,df_gemini_linkusd_hr2,df_gemini_linkusd_hr3,df_gemini_linkusd_hr4,df_gemini_linkusd_hr5,df_gemini_linkusd_hr6,df_gemini_linkusd_hr7,df_gemini_linkusd_hr8,df_gemini_linkusd_hr9, df_gemini_linkusd_hr10,df_gemini_linkusd_hr11, df_gemini_linkusd_hr12, df_gemini_linkusd_hr13])\n",
    "# df_gemini_linkusd_hr[df_gemini_linkusd_hr.index.duplicated()]\n",
    "\n",
    "df_gemini_linkbtc_hr = pd.concat([df_gemini_linkbtc_hr1,df_gemini_linkbtc_hr2,df_gemini_linkbtc_hr3,df_gemini_linkbtc_hr4,df_gemini_linkbtc_hr5,df_gemini_linkbtc_hr6,df_gemini_linkbtc_hr7,df_gemini_linkbtc_hr8,df_gemini_linkbtc_hr9, df_gemini_linkbtc_hr10,df_gemini_linkbtc_hr11, df_gemini_linkbtc_hr12, df_gemini_linkbtc_hr13])\n",
    "# df_gemini_linkbtc_hr[df_gemini_linkbtc_hr.index.duplicated()]\n",
    "\n",
    "# Kraken\n",
    "df_kraken_linkbtc_hr = pd.concat([df_kraken_linkbtc_hr1,df_kraken_linkbtc_hr2,df_kraken_linkbtc_hr3,df_kraken_linkbtc_hr4,df_kraken_linkbtc_hr5,df_kraken_linkbtc_hr6,df_kraken_linkbtc_hr7,df_kraken_linkbtc_hr8,df_kraken_linkbtc_hr9, df_kraken_linkbtc_hr10,df_kraken_linkbtc_hr11, df_kraken_linkbtc_hr12, df_kraken_linkbtc_hr13])\n",
    "# df_kraken_linkbtc_hr[df_kraken_linkbtc_hr.index.duplicated()]\n",
    "\n",
    "df_kraken_linketh_hr = pd.concat([df_kraken_linketh_hr1,df_kraken_linketh_hr2,df_kraken_linketh_hr3,df_kraken_linketh_hr4,df_kraken_linketh_hr5,df_kraken_linketh_hr6,df_kraken_linketh_hr7,df_kraken_linketh_hr8,df_kraken_linketh_hr9, df_kraken_linketh_hr10,df_kraken_linketh_hr11, df_kraken_linketh_hr12, df_kraken_linketh_hr13])\n",
    "# df_kraken_linketh_hr[df_kraken_linketh_hr.index.duplicated()]\n",
    "\n",
    "df_kraken_linkusd_hr = pd.concat([df_kraken_linkusd_hr1,df_kraken_linkusd_hr2,df_kraken_linkusd_hr3,df_kraken_linkusd_hr4,df_kraken_linkusd_hr5,df_kraken_linkusd_hr6,df_kraken_linkusd_hr7,df_kraken_linkusd_hr8,df_kraken_linkusd_hr9, df_kraken_linkusd_hr10,df_kraken_linkusd_hr11, df_kraken_linkusd_hr12, df_kraken_linkusd_hr13])\n",
    "# df_kraken_linkusd_hr[df_kraken_linkusd_hr.index.duplicated()]\n",
    "\n",
    "# Bittrex\n",
    "df_bittrex_linkusdt_hr = pd.concat([df_bittrex_linkusdt_hr1,df_bittrex_linkusdt_hr2,df_bittrex_linkusdt_hr3,df_bittrex_linkusdt_hr4,df_bittrex_linkusdt_hr5,df_bittrex_linkusdt_hr6,df_bittrex_linkusdt_hr7,df_bittrex_linkusdt_hr8,df_bittrex_linkusdt_hr9, df_bittrex_linkusdt_hr10,df_bittrex_linkusdt_hr11, df_bittrex_linkusdt_hr12, df_bittrex_linkusdt_hr13])\n",
    "# df_bittrex_linkusdt_hr[df_bittrex_linkusdt_hr.index.duplicated()]\n",
    "\n",
    "df_bittrex_linkbtc_hr = pd.concat([df_bittrex_linkbtc_hr1,df_bittrex_linkbtc_hr2,df_bittrex_linkbtc_hr3,df_bittrex_linkbtc_hr4,df_bittrex_linkbtc_hr5,df_bittrex_linkbtc_hr6,df_bittrex_linkbtc_hr7,df_bittrex_linkbtc_hr8,df_bittrex_linkbtc_hr9, df_bittrex_linkbtc_hr10,df_bittrex_linkbtc_hr11, df_bittrex_linkbtc_hr12, df_bittrex_linkbtc_hr13])\n",
    "# df_bittrex_linkbtc_hr[df_bittrex_linkbtc_hr.index.duplicated()]\n",
    "\n",
    "df_bittrex_linketh_hr = pd.concat([df_bittrex_linketh_hr1,df_bittrex_linketh_hr2,df_bittrex_linketh_hr3,df_bittrex_linketh_hr4,df_bittrex_linketh_hr5,df_bittrex_linketh_hr6,df_bittrex_linketh_hr7,df_bittrex_linketh_hr8,df_bittrex_linketh_hr9, df_bittrex_linketh_hr10,df_bittrex_linketh_hr11, df_bittrex_linketh_hr12, df_bittrex_linketh_hr13])\n",
    "# df_bittrex_linketh_hr[df_bittrex_linketh_hr.index.duplicated()]\n",
    "\n",
    "# Poloniex\n",
    "df_poloniex_linkusdt_hr = pd.concat([df_poloniex_linkusdt_hr1,df_poloniex_linkusdt_hr2,df_poloniex_linkusdt_hr3,df_poloniex_linkusdt_hr4,df_poloniex_linkusdt_hr5,df_poloniex_linkusdt_hr6,df_poloniex_linkusdt_hr7,df_poloniex_linkusdt_hr8,df_poloniex_linkusdt_hr9, df_poloniex_linkusdt_hr10,df_poloniex_linkusdt_hr11, df_poloniex_linkusdt_hr12, df_poloniex_linkusdt_hr13])\n",
    "# df_poloniex_linkusdt_hr[df_poloniex_linkusdt_hr.index.duplicated()]\n",
    "\n",
    "df_poloniex_linkbtc_hr = pd.concat([df_poloniex_linkbtc_hr1,df_poloniex_linkbtc_hr2,df_poloniex_linkbtc_hr3,df_poloniex_linkbtc_hr4,df_poloniex_linkbtc_hr5,df_poloniex_linkbtc_hr6,df_poloniex_linkbtc_hr7,df_poloniex_linkbtc_hr8,df_poloniex_linkbtc_hr9, df_poloniex_linkbtc_hr10,df_poloniex_linkbtc_hr11, df_poloniex_linkbtc_hr12, df_poloniex_linkbtc_hr13])\n",
    "# df_poloniex_linkbtc_hr[df_poloniex_linkbtc_hr.index.duplicated()]\n",
    "\n",
    "# Uniswap\n",
    "df_uniswap_linketh_hr = pd.concat([df_uniswap_linketh_hr1,df_uniswap_linketh_hr2,df_uniswap_linketh_hr3,df_uniswap_linketh_hr4,df_uniswap_linketh_hr5,df_uniswap_linketh_hr6,df_uniswap_linketh_hr7,df_uniswap_linketh_hr8,df_uniswap_linketh_hr9, df_uniswap_linketh_hr10,df_uniswap_linketh_hr11, df_uniswap_linketh_hr12, df_uniswap_linketh_hr13])\n",
    "# df_uniswap_linketh_hr[df_uniswap_linketh_hr.index.duplicated()]\n",
    "\n",
    "print('processing done')"
   ]
  },
  {
   "cell_type": "code",
   "execution_count": 61,
   "metadata": {
    "tags": []
   },
   "outputs": [
    {
     "output_type": "stream",
     "name": "stdout",
     "text": "(6468, 6)\n(19545, 6)\n(6468, 6)\n(19545, 6)\n(6468, 6)\n(19545, 6)\n(6468, 6)\n(19545, 6)\n(6468, 6)\n(19545, 6)\n(6468, 6)\n(19545, 6)\n(6468, 6)\n(19545, 6)\n(6468, 6)\n(19545, 6)\n(6468, 6)\n(19545, 6)\n(6468, 6)\n(19545, 6)\n(6468, 6)\n(19545, 6)\n(6468, 6)\n(19545, 6)\n(6468, 6)\n(19545, 6)\n(6468, 6)\n(19545, 6)\n(6468, 6)\n(19545, 6)\n(6468, 6)\n(19545, 6)\n(6468, 6)\n(19545, 6)\n(6468, 6)\n(19545, 6)\n(6468, 6)\n(19545, 6)\n"
    }
   ],
   "source": [
    "# Deduplications for hourly volume data\n",
    "# For each concatenation, get duplicated rows, drop duplicates, print new col/row counts. \n",
    "# pandas: https://stackoverflow.com/questions/13035764/remove-rows-with-duplicate-indices-pandas-dataframe-and-timeseries\n",
    "\n",
    "# Binance concatenations\n",
    "print(df_binance_linkbtc_hr[df_binance_linkbtc_hr.index.duplicated()].shape)\n",
    "df_binance_linkbtc_hr = df_binance_linkbtc_hr[~df_binance_linkbtc_hr.index.duplicated(keep='last')]\n",
    "# df_binance_linkbtc_hr = df_binance_linkbtc_hr.drop_duplicates()\n",
    "print(df_binance_linkbtc_hr.shape)\n",
    "\n",
    "print(df_binance_linketh_hr[df_binance_linketh_hr.index.duplicated()].shape)\n",
    "df_binance_linketh_hr = df_binance_linketh_hr[~df_binance_linketh_hr.index.duplicated(keep='last')]\n",
    "# df_binance_linketh_hr = df_binance_linketh_hr.drop_duplicates()\n",
    "print(df_binance_linketh_hr.shape)\n",
    "\n",
    "print(df_binance_linkusdc_hr[df_binance_linkusdc_hr.index.duplicated()].shape)\n",
    "df_binance_linkusdc_hr = df_binance_linkusdc_hr[~df_binance_linkusdc_hr.index.duplicated(keep='last')]\n",
    "# printdf_binance_linkusdc_hr= df_binance_linkusdc_hr.drop_duplicates()\n",
    "print(df_binance_linkusdc_hr.shape)\n",
    "\n",
    "print(df_binance_linkusdt_hr[df_binance_linkusdt_hr.index.duplicated()].shape)\n",
    "df_binance_linkusdt_hr = df_binance_linkusdt_hr[~df_binance_linkusdt_hr.index.duplicated(keep='last')]\n",
    "# df_binance_linkusdt_hr = df_binance_linkusdt_hr.drop_duplicates()\n",
    "print(df_binance_linkusdt_hr.shape)\n",
    "\n",
    "print(df_binanceus_linkusd_hr[df_binanceus_linkusd_hr.index.duplicated()].shape)\n",
    "df_binanceus_linkusd_hr = df_binanceus_linkusd_hr[~df_binanceus_linkusd_hr.index.duplicated(keep='last')]\n",
    "# df_binanceus_linkusd_hr = df_binanceus_linkusd_hr.drop_duplicates()\n",
    "print(df_binanceus_linkusd_hr.shape)\n",
    "\n",
    "print(df_binanceusa_linkusd_hr[df_binanceusa_linkusd_hr.index.duplicated()].shape)\n",
    "df_binanceusa_linkusd_hr = df_binanceusa_linkusd_hr[~df_binanceusa_linkusd_hr.index.duplicated(keep='last')]\n",
    "# df_binanceusa_linkusd_hr = df_binanceusa_linkusd_hr.drop_duplicates()\n",
    "print(df_binanceusa_linkusd_hr.shape)\n",
    "\n",
    "# Coinbase concatenations\n",
    "print(df_coinbase_linkusd_hr[df_coinbase_linkusd_hr.index.duplicated()].shape)\n",
    "df_coinbase_linkusd_hr = df_coinbase_linkusd_hr[~df_coinbase_linkusd_hr.index.duplicated(keep='last')]\n",
    "# df_coinbase_linkusd_hr = df_coinbase_linkusd_hr.drop_duplicates()\n",
    "print(df_coinbase_linkusd_hr.shape)\n",
    "\n",
    "print(df_coinbase_linketh_hr[df_coinbase_linketh_hr.index.duplicated()].shape)\n",
    "df_coinbase_linketh_hr = df_coinbase_linketh_hr[~df_coinbase_linketh_hr.index.duplicated(keep='last')]\n",
    "# df_coinbase_linketh_hr = df_coinbase_linketh_hr.drop_duplicates()\n",
    "print(df_coinbase_linketh_hr.shape)\n",
    "\n",
    "# Gemini concatenations\n",
    "print(df_gemini_linkusd_hr[df_gemini_linkusd_hr.index.duplicated()].shape)\n",
    "df_gemini_linkusd_hr = df_gemini_linkusd_hr[~df_gemini_linkusd_hr.index.duplicated(keep='last')]\n",
    "# df_gemini_linkusd_hr = df_gemini_linkusd_hr.drop_duplicates()\n",
    "print(df_gemini_linkusd_hr.shape)\n",
    "\n",
    "print(df_gemini_linkbtc_hr[df_gemini_linkbtc_hr.index.duplicated()].shape)\n",
    "df_gemini_linkbtc_hr = df_gemini_linkbtc_hr[~df_gemini_linkbtc_hr.index.duplicated(keep='last')]\n",
    "# df_gemini_linkbtc_hr = df_gemini_linkbtc_hr.drop_duplicates()\n",
    "print(df_gemini_linkbtc_hr.shape)\n",
    "\n",
    "# Kraken\n",
    "print(df_kraken_linkbtc_hr[df_kraken_linkbtc_hr.index.duplicated()].shape)\n",
    "df_kraken_linkbtc_hr = df_kraken_linkbtc_hr[~df_kraken_linkbtc_hr.index.duplicated(keep='last')]\n",
    "# df_kraken_linkbtc_hr = df_kraken_linkbtc_hr.drop_duplicates()\n",
    "print(df_kraken_linkbtc_hr.shape)\n",
    "\n",
    "print(df_kraken_linketh_hr[df_kraken_linketh_hr.index.duplicated()].shape)\n",
    "df_kraken_linketh_hr = df_kraken_linketh_hr[~df_kraken_linketh_hr.index.duplicated(keep='last')]\n",
    "# df_kraken_linketh_hr = df_kraken_linketh_hr.drop_duplicates()\n",
    "print(df_kraken_linketh_hr.shape)\n",
    "\n",
    "print(df_kraken_linkusd_hr[df_kraken_linkusd_hr.index.duplicated()].shape)\n",
    "df_kraken_linkusd_hr = df_kraken_linkusd_hr[~df_kraken_linkusd_hr.index.duplicated(keep='last')]\n",
    "# df_kraken_linkusd_hr = df_kraken_linkusd_hr.drop_duplicates()\n",
    "print(df_kraken_linkusd_hr.shape)\n",
    "\n",
    "# Bittrex\n",
    "print(df_bittrex_linkusdt_hr[df_bittrex_linkusdt_hr.index.duplicated()].shape)\n",
    "df_bittrex_linkusdt_hr = df_bittrex_linkusdt_hr[~df_bittrex_linkusdt_hr.index.duplicated(keep='last')]\n",
    "# df_bittrex_linkusdt_hr = df_bittrex_linkusdt_hr.drop_duplicates()\n",
    "print(df_bittrex_linkusdt_hr.shape)\n",
    "\n",
    "print(df_bittrex_linkbtc_hr[df_bittrex_linkbtc_hr.index.duplicated()].shape)\n",
    "df_bittrex_linkbtc_hr = df_bittrex_linkbtc_hr[~df_bittrex_linkbtc_hr.index.duplicated(keep='last')]\n",
    "# df_bittrex_linkbtc_hr = df_bittrex_linkbtc_hr.drop_duplicates()\n",
    "print(df_bittrex_linkbtc_hr.shape)\n",
    "\n",
    "print(df_bittrex_linketh_hr[df_bittrex_linketh_hr.index.duplicated()].shape)\n",
    "df_bittrex_linketh_hr = df_bittrex_linketh_hr[~df_bittrex_linketh_hr.index.duplicated(keep='last')]\n",
    "# df_bittrex_linketh_hr = df_bittrex_linketh_hr.drop_duplicates()\n",
    "print(df_bittrex_linketh_hr.shape)\n",
    "\n",
    "# Poloniex\n",
    "print(df_poloniex_linkusdt_hr[df_poloniex_linkusdt_hr.index.duplicated()].shape)\n",
    "df_poloniex_linkusdt_hr = df_poloniex_linkusdt_hr[~df_poloniex_linkusdt_hr.index.duplicated(keep='last')]\n",
    "# df_poloniex_linkusdt_hr = df_poloniex_linkusdt_hr.drop_duplicates()\n",
    "print(df_poloniex_linkusdt_hr.shape)\n",
    "\n",
    "print(df_poloniex_linkbtc_hr[df_poloniex_linkbtc_hr.index.duplicated()].shape)\n",
    "df_poloniex_linkbtc_hr = df_poloniex_linkbtc_hr[~df_poloniex_linkbtc_hr.index.duplicated(keep='last')]\n",
    "# df_poloniex_linkbtc_hr = df_poloniex_linkbtc_hr.drop_duplicates()\n",
    "print(df_poloniex_linkbtc_hr.shape)\n",
    "\n",
    "# Uniswap\n",
    "print(df_uniswap_linketh_hr[df_uniswap_linketh_hr.index.duplicated()].shape)\n",
    "df_uniswap_linketh_hr = df_uniswap_linketh_hr[~df_uniswap_linketh_hr.index.duplicated(keep='last')]\n",
    "# df_uniswap_linketh_hr = df_uniswap_linketh_hr.drop_duplicates()\n",
    "print(df_uniswap_linketh_hr.shape)"
   ]
  },
  {
   "cell_type": "code",
   "execution_count": 62,
   "metadata": {},
   "outputs": [],
   "source": [
    "# Join all hourly volume data to one df\n",
    "# Drop price columns (erc20 to usd to be used from df_ohlcv_hr)\n",
    "\n",
    "# Binance concatenations\n",
    "df_link_vol_hr = df_binance_linkbtc_hr.drop(columns=['open','close','high','low']).join(\n",
    "    df_binance_linketh_hr.drop(columns=['open','close','high','low']), rsuffix='_1'\n",
    ").join(\n",
    "    df_binance_linkusdc_hr.drop(columns=['open','close','high','low']), rsuffix='_2'\n",
    ").join(\n",
    "    df_binance_linkusdt_hr.drop(columns=['open','close','high','low']), rsuffix='_3'\n",
    ").join(\n",
    "    df_binanceus_linkusd_hr.drop(columns=['open','close','high','low']), rsuffix='_4'\n",
    ").join(\n",
    "    df_binanceusa_linkusd_hr.drop(columns=['open','close','high','low']), rsuffix='_5'\n",
    ").join(\n",
    "# Coinbase concatenations\n",
    "    df_coinbase_linkusd_hr.drop(columns=['open','close','high','low']), rsuffix='_6'\n",
    ").join(\n",
    "    df_coinbase_linketh_hr.drop(columns=['open','close','high','low']), rsuffix='_7'\n",
    ").join(\n",
    "# Gemini concatenations\n",
    "    df_gemini_linkusd_hr.drop(columns=['open','close','high','low']), rsuffix='_8'\n",
    ").join(\n",
    "    df_gemini_linkbtc_hr.drop(columns=['open','close','high','low']), rsuffix='_9'\n",
    ").join(\n",
    "# Kraken\n",
    "    df_kraken_linkbtc_hr.drop(columns=['open','close','high','low']), rsuffix='_10'\n",
    ").join(\n",
    "    df_kraken_linketh_hr.drop(columns=['open','close','high','low']), rsuffix='_11'\n",
    ").join(\n",
    "    df_kraken_linkusd_hr.drop(columns=['open','close','high','low']), rsuffix='_12'\n",
    ").join(\n",
    "# Bittrex\n",
    "    df_bittrex_linkusdt_hr.drop(columns=['open','close','high','low']), rsuffix='_13'\n",
    ").join(\n",
    "    df_bittrex_linkbtc_hr.drop(columns=['open','close','high','low']), rsuffix='_14'\n",
    ").join(\n",
    "    df_bittrex_linketh_hr.drop(columns=['open','close','high','low']), rsuffix='_15'\n",
    ").join(\n",
    "# Poloniex\n",
    "    df_poloniex_linkusdt_hr.drop(columns=['open','close','high','low']), rsuffix='_16'\n",
    ").join(\n",
    "    df_poloniex_linkbtc_hr.drop(columns=['open','close','high','low']), rsuffix='_17'\n",
    ").join(\n",
    "# Uniswap\n",
    "    df_uniswap_linketh_hr.drop(columns=['open','close','high','low']), rsuffix='_18'\n",
    ")"
   ]
  },
  {
   "cell_type": "code",
   "execution_count": 63,
   "metadata": {},
   "outputs": [
    {
     "output_type": "execute_result",
     "data": {
      "text/plain": "(19545, 38)"
     },
     "metadata": {},
     "execution_count": 63
    }
   ],
   "source": [
    "df_link_vol_hr.shape"
   ]
  },
  {
   "cell_type": "code",
   "execution_count": 64,
   "metadata": {},
   "outputs": [
    {
     "output_type": "execute_result",
     "data": {
      "text/plain": "volumefrom_LINK_Binance        False\nvolumeto_BTC_Binance           False\nvolumefrom_LINK_Binance_1      False\nvolumeto_ETH_Binance           False\nvolumefrom_LINK_Binance_2      False\nvolumeto_USDC_Binance          False\nvolumefrom_LINK_Binance_3      False\nvolumeto_USDT_Binance          False\nvolumefrom_LINK_binanceus      False\nvolumeto_USD_binanceus         False\nvolumefrom_LINK_binanceusa     False\nvolumeto_USD_binanceusa        False\nvolumefrom_LINK_Coinbase       False\nvolumeto_USD_Coinbase          False\nvolumefrom_LINK_Coinbase_7     False\nvolumeto_ETH_Coinbase          False\nvolumefrom_LINK_Gemini         False\nvolumeto_USD_Gemini            False\nvolumefrom_LINK_Gemini_9       False\nvolumeto_BTC_Gemini            False\nvolumefrom_LINK_Kraken         False\nvolumeto_BTC_Kraken            False\nvolumefrom_LINK_Kraken_11      False\nvolumeto_ETH_Kraken            False\nvolumefrom_LINK_Kraken_12      False\nvolumeto_USD_Kraken            False\nvolumefrom_LINK_BitTrex        False\nvolumeto_USDT_BitTrex          False\nvolumefrom_LINK_BitTrex_14     False\nvolumeto_BTC_BitTrex           False\nvolumefrom_LINK_BitTrex_15     False\nvolumeto_ETH_BitTrex           False\nvolumefrom_LINK_Poloniex       False\nvolumeto_USDT_Poloniex         False\nvolumefrom_LINK_Poloniex_17    False\nvolumeto_BTC_Poloniex          False\nvolumefrom_LINK_uniswap        False\nvolumeto_ETH_uniswap           False\ndtype: bool"
     },
     "metadata": {},
     "execution_count": 64
    }
   ],
   "source": [
    "missing_values = df_link_vol_hr.count() != len(df_link_vol_hr)\n",
    "missing_values"
   ]
  },
  {
   "cell_type": "code",
   "execution_count": 69,
   "metadata": {},
   "outputs": [],
   "source": [
    "# Set volume dtype to int\n",
    "df_link_vol_hr = df_link_vol_hr.astype('int').sort_index()\n",
    "\n",
    "# To avoid reprocessing time\n",
    "df_link_vol_hr.to_csv('data_processed/link_vol_hr.csv')"
   ]
  },
  {
   "cell_type": "code",
   "execution_count": 75,
   "metadata": {
    "tags": []
   },
   "outputs": [
    {
     "output_type": "stream",
     "name": "stdout",
     "text": "openPriceUsd                   float64\nclosePriceUsd                  float64\nhighPriceUsd                   float64\nlowPriceUsd                    float64\nvolume                         float64\nmarketcap                      float64\nvolumefrom_LINK_Binance        float64\nvolumeto_BTC_Binance           float64\nvolumefrom_LINK_Binance_1      float64\nvolumeto_ETH_Binance           float64\nvolumefrom_LINK_Binance_2      float64\nvolumeto_USDC_Binance          float64\nvolumefrom_LINK_Binance_3      float64\nvolumeto_USDT_Binance          float64\nvolumefrom_LINK_binanceus      float64\nvolumeto_USD_binanceus         float64\nvolumefrom_LINK_binanceusa     float64\nvolumeto_USD_binanceusa        float64\nvolumefrom_LINK_Coinbase       float64\nvolumeto_USD_Coinbase          float64\nvolumefrom_LINK_Coinbase_7     float64\nvolumeto_ETH_Coinbase          float64\nvolumefrom_LINK_Gemini         float64\nvolumeto_USD_Gemini            float64\nvolumefrom_LINK_Gemini_9       float64\nvolumeto_BTC_Gemini            float64\nvolumefrom_LINK_Kraken         float64\nvolumeto_BTC_Kraken            float64\nvolumefrom_LINK_Kraken_11      float64\nvolumeto_ETH_Kraken            float64\nvolumefrom_LINK_Kraken_12      float64\nvolumeto_USD_Kraken            float64\nvolumefrom_LINK_BitTrex        float64\nvolumeto_USDT_BitTrex          float64\nvolumefrom_LINK_BitTrex_14     float64\nvolumeto_BTC_BitTrex           float64\nvolumefrom_LINK_BitTrex_15     float64\nvolumeto_ETH_BitTrex           float64\nvolumefrom_LINK_Poloniex       float64\nvolumeto_USDT_Poloniex         float64\nvolumefrom_LINK_Poloniex_17    float64\nvolumeto_BTC_Poloniex          float64\nvolumefrom_LINK_uniswap        float64\nvolumeto_ETH_uniswap           float64\ndtype: object\n(17563, 44)\nvalues dropped in joined:\n openPriceUsd                   False\nclosePriceUsd                  False\nhighPriceUsd                   False\nlowPriceUsd                    False\nvolume                         False\nmarketcap                      False\nvolumefrom_LINK_Binance         True\nvolumeto_BTC_Binance            True\nvolumefrom_LINK_Binance_1       True\nvolumeto_ETH_Binance            True\nvolumefrom_LINK_Binance_2       True\nvolumeto_USDC_Binance           True\nvolumefrom_LINK_Binance_3       True\nvolumeto_USDT_Binance           True\nvolumefrom_LINK_binanceus       True\nvolumeto_USD_binanceus          True\nvolumefrom_LINK_binanceusa      True\nvolumeto_USD_binanceusa         True\nvolumefrom_LINK_Coinbase        True\nvolumeto_USD_Coinbase           True\nvolumefrom_LINK_Coinbase_7      True\nvolumeto_ETH_Coinbase           True\nvolumefrom_LINK_Gemini          True\nvolumeto_USD_Gemini             True\nvolumefrom_LINK_Gemini_9        True\nvolumeto_BTC_Gemini             True\nvolumefrom_LINK_Kraken          True\nvolumeto_BTC_Kraken             True\nvolumefrom_LINK_Kraken_11       True\nvolumeto_ETH_Kraken             True\nvolumefrom_LINK_Kraken_12       True\nvolumeto_USD_Kraken             True\nvolumefrom_LINK_BitTrex         True\nvolumeto_USDT_BitTrex           True\nvolumefrom_LINK_BitTrex_14      True\nvolumeto_BTC_BitTrex            True\nvolumefrom_LINK_BitTrex_15      True\nvolumeto_ETH_BitTrex            True\nvolumefrom_LINK_Poloniex        True\nvolumeto_USDT_Poloniex          True\nvolumefrom_LINK_Poloniex_17     True\nvolumeto_BTC_Poloniex           True\nvolumefrom_LINK_uniswap         True\nvolumeto_ETH_uniswap            True\ndtype: bool\nopenPriceUsd                   float64\nclosePriceUsd                  float64\nhighPriceUsd                   float64\nlowPriceUsd                    float64\nvolume                           int64\nmarketcap                        int64\nvolumefrom_LINK_Binance          int64\nvolumeto_BTC_Binance             int64\nvolumefrom_LINK_Binance_1        int64\nvolumeto_ETH_Binance             int64\nvolumefrom_LINK_Binance_2        int64\nvolumeto_USDC_Binance            int64\nvolumefrom_LINK_Binance_3        int64\nvolumeto_USDT_Binance            int64\nvolumefrom_LINK_binanceus        int64\nvolumeto_USD_binanceus           int64\nvolumefrom_LINK_binanceusa       int64\nvolumeto_USD_binanceusa          int64\nvolumefrom_LINK_Coinbase         int64\nvolumeto_USD_Coinbase            int64\nvolumefrom_LINK_Coinbase_7       int64\nvolumeto_ETH_Coinbase            int64\nvolumefrom_LINK_Gemini           int64\nvolumeto_USD_Gemini              int64\nvolumefrom_LINK_Gemini_9         int64\nvolumeto_BTC_Gemini              int64\nvolumefrom_LINK_Kraken           int64\nvolumeto_BTC_Kraken              int64\nvolumefrom_LINK_Kraken_11        int64\nvolumeto_ETH_Kraken              int64\nvolumefrom_LINK_Kraken_12        int64\nvolumeto_USD_Kraken              int64\nvolumefrom_LINK_BitTrex          int64\nvolumeto_USDT_BitTrex            int64\nvolumefrom_LINK_BitTrex_14       int64\nvolumeto_BTC_BitTrex             int64\nvolumefrom_LINK_BitTrex_15       int64\nvolumeto_ETH_BitTrex             int64\nvolumefrom_LINK_Poloniex         int64\nvolumeto_USDT_Poloniex           int64\nvolumefrom_LINK_Poloniex_17      int64\nvolumeto_BTC_Poloniex            int64\nvolumefrom_LINK_uniswap          int64\nvolumeto_ETH_uniswap             int64\ndtype: object\n(17540, 44)\n"
    }
   ],
   "source": [
    "# Join pricing hourly pricing and volume data\n",
    "# Both time in UTC\n",
    "\n",
    "# Make ohlcv tz non-aware\n",
    "df_pricevol_hr = df_ohlcv_hr.tz_localize(None).join(\n",
    "    df_link_vol_hr\n",
    ")\n",
    "\n",
    "# Cleaning data\n",
    "\n",
    "# get dtypes post join\n",
    "print(df_pricevol_hr.dtypes)\n",
    "# get df shape before cleaning\n",
    "print(df_pricevol_hr.shape)\n",
    "\n",
    "missing_values = df_pricevol_hr.count() != len(df_pricevol_hr)\n",
    "print(f'values dropped in joined:\\n {missing_values}')\n",
    "\n",
    "# drop rows with nan \n",
    "df_pricevol_hr = df_pricevol_hr.dropna()\n",
    "\n",
    "# set volume dtypes to int\n",
    "# re-cast original dtypes (volume data) to joined df except dtypes of pricing df (keep float)\n",
    "cols=[i for i in df_pricevol_hr.columns if i not in [\"openPriceUsd\",\"closePriceUsd\",'highPriceUsd','lowPriceUsd']]\n",
    "for col in cols:\n",
    "    df_pricevol_hr[col]=df_pricevol_hr[col].astype('int')\n",
    "\n",
    "# Get dtypes post recast\n",
    "print(df_pricevol_hr.dtypes)\n",
    "print(df_pricevol_hr.shape)"
   ]
  },
  {
   "cell_type": "code",
   "execution_count": 124,
   "metadata": {
    "tags": []
   },
   "outputs": [
    {
     "output_type": "stream",
     "name": "stdout",
     "text": "(19545, 38)\n(17563, 6)\n(17540, 62)\nopenPriceUsd                     0\nclosePriceUsd                    0\nhighPriceUsd                     0\nlowPriceUsd                      0\nvolume                           0\nmarketcap                        0\nvolumefrom_LINK_Binance          0\nvolumeto_BTC_Binance             0\nvolumefrom_LINK_Binance_1        0\nvolumeto_ETH_Binance             0\nvolumefrom_LINK_Binance_2        0\nvolumeto_USDC_Binance            0\nvolumefrom_LINK_Binance_3        0\nvolumeto_USDT_Binance            0\nvolumefrom_LINK_binanceus        0\nvolumeto_USD_binanceus           0\nvolumefrom_LINK_binanceusa       0\nvolumeto_USD_binanceusa          0\nvolumefrom_LINK_Coinbase         0\nvolumeto_USD_Coinbase            0\nvolumefrom_LINK_Coinbase_7       0\nvolumeto_ETH_Coinbase            0\nvolumefrom_LINK_Gemini           0\nvolumeto_USD_Gemini              0\nvolumefrom_LINK_Gemini_9         0\nvolumeto_BTC_Gemini              0\nvolumefrom_LINK_Kraken           0\nvolumeto_BTC_Kraken              0\nvolumefrom_LINK_Kraken_11        0\nvolumeto_ETH_Kraken              0\n                                ..\nvolumefrom_LINK_BitTrex          0\nvolumeto_USDT_BitTrex            0\nvolumefrom_LINK_BitTrex_14       0\nvolumeto_BTC_BitTrex             0\nvolumefrom_LINK_BitTrex_15       0\nvolumeto_ETH_BitTrex             0\nvolumefrom_LINK_Poloniex         0\nvolumeto_USDT_Poloniex           0\nvolumefrom_LINK_Poloniex_17      0\nvolumeto_BTC_Poloniex            0\nvolumefrom_LINK_uniswap          0\nvolumeto_ETH_uniswap             0\nSum_volfrom_Link_Binance         0\nSum_volfrom_Link_Coinbase        0\nSum_volfrom_Link_Gemini          0\nSum_volfrom_Link_Kraken          0\nSum_volfrom_Link_BitTrex         0\nSum_volfrom_Link_Poloniex        0\nSum_volfrom_Link_uniswap         0\nSum_volfrom_Link_Binance_usd     0\nSum_volfrom_Link_Coinbase_usd    0\nSum_volfrom_Link_Gemini_usd      0\nSum_volfrom_Link_Kraken_usd      0\nSum_volfrom_Link_BitTrex_usd     0\nSum_volfrom_Link_Poloniex_usd    0\nSum_volfrom_Link_uniswap_usd     0\nSum_volfrom_Link_all             0\nSum_volfrom_Link_allcex          0\nSum_volfrom_Link_all_usd         0\nSum_volfrom_Link_allcex_usd      0\nLength: 62, dtype: int64\n"
    }
   ],
   "source": [
    "# Cleaning checks\n",
    "\n",
    "# Shape changes vol df, pricing df, joined df\n",
    "print(df_link_vol_hr.shape)\n",
    "print(df_ohlcv_hr.shape)\n",
    "print(df_pricevol_hr.shape)\n",
    "\n",
    "# sum null values by column\n",
    "print(df_pricevol_hr.isnull().sum())"
   ]
  },
  {
   "cell_type": "code",
   "execution_count": 123,
   "metadata": {},
   "outputs": [
    {
     "output_type": "execute_result",
     "data": {
      "text/plain": "                     openPriceUsd  closePriceUsd  highPriceUsd  lowPriceUsd  \\\ndatetime                                                                      \n2020-07-30 20:00:00      7.508440       7.473369      7.511229     7.449035   \n2020-07-30 21:00:00      7.475926       7.434110      7.475926     7.424486   \n2020-07-30 22:00:00      7.415181       7.399588      7.429917     7.358020   \n2020-07-30 23:00:00      7.394573       7.416992      7.455699     7.381593   \n2020-07-31 00:00:00      7.418091       7.512869      7.518181     7.418091   \n\n                        volume   marketcap  volumefrom_LINK_Binance  \\\ndatetime                                                              \n2020-07-30 20:00:00  604095330  2615679085                   187828   \n2020-07-30 21:00:00  609715267  2601938372                    94525   \n2020-07-30 22:00:00  610355008  2589855672                   220636   \n2020-07-30 23:00:00  605829268  2595947041                    97316   \n2020-07-31 00:00:00  605605948  2629504207                   139034   \n\n                     volumeto_BTC_Binance  volumefrom_LINK_Binance_1  \\\ndatetime                                                               \n2020-07-30 20:00:00                   126                      41323   \n2020-07-30 21:00:00                    63                      14598   \n2020-07-30 22:00:00                   146                      18624   \n2020-07-30 23:00:00                    64                       7868   \n2020-07-31 00:00:00                    93                      19999   \n\n                     volumeto_ETH_Binance             ...               \\\ndatetime                                              ...                \n2020-07-30 20:00:00                   911             ...                \n2020-07-30 21:00:00                   323             ...                \n2020-07-30 22:00:00                   408             ...                \n2020-07-30 23:00:00                   174             ...                \n2020-07-31 00:00:00                   447             ...                \n\n                     Sum_volfrom_Link_Coinbase_usd  \\\ndatetime                                             \n2020-07-30 20:00:00                   1.206262e+06   \n2020-07-30 21:00:00                   6.703411e+05   \n2020-07-30 22:00:00                   1.087865e+06   \n2020-07-30 23:00:00                   6.251560e+05   \n2020-07-31 00:00:00                   8.553627e+05   \n\n                     Sum_volfrom_Link_Gemini_usd  Sum_volfrom_Link_Kraken_usd  \\\ndatetime                                                                        \n2020-07-30 20:00:00                 22479.893380                 1.134383e+06   \n2020-07-30 21:00:00                 40902.471200                 1.703378e+05   \n2020-07-30 22:00:00                 77984.254033                 1.597201e+05   \n2020-07-30 23:00:00                     0.000000                 1.062632e+05   \n2020-07-31 00:00:00                 45888.604829                 2.977726e+05   \n\n                     Sum_volfrom_Link_BitTrex_usd  \\\ndatetime                                            \n2020-07-30 20:00:00                   9678.012609   \n2020-07-30 21:00:00                   8445.148543   \n2020-07-30 22:00:00                  15835.117528   \n2020-07-30 23:00:00                   6430.531674   \n2020-07-31 00:00:00                  21967.629424   \n\n                     Sum_volfrom_Link_Poloniex_usd  \\\ndatetime                                             \n2020-07-30 20:00:00                     881.857520   \n2020-07-30 21:00:00                   85194.896394   \n2020-07-30 22:00:00                    1798.099794   \n2020-07-30 23:00:00                    3612.074885   \n2020-07-31 00:00:00                    3275.610954   \n\n                     Sum_volfrom_Link_uniswap_usd  Sum_volfrom_Link_all  \\\ndatetime                                                                  \n2020-07-30 20:00:00                    859.437413                888215   \n2020-07-30 21:00:00                     96.643425                465040   \n2020-07-30 22:00:00                      0.000000                859696   \n2020-07-30 23:00:00                     51.918941                419963   \n2020-07-31 00:00:00                    420.720673                597078   \n\n                     Sum_volfrom_Link_allcex  Sum_volfrom_Link_all_usd  \\\ndatetime                                                                 \n2020-07-30 20:00:00                   888100              6.637958e+06   \n2020-07-30 21:00:00                   465027              3.457158e+06   \n2020-07-30 22:00:00                   859696              6.361396e+06   \n2020-07-30 23:00:00                   419956              3.114862e+06   \n2020-07-31 00:00:00                   597022              4.485769e+06   \n\n                     Sum_volfrom_Link_allcex_usd  \ndatetime                                          \n2020-07-30 20:00:00                 6.637099e+06  \n2020-07-30 21:00:00                 3.457062e+06  \n2020-07-30 22:00:00                 6.361396e+06  \n2020-07-30 23:00:00                 3.114810e+06  \n2020-07-31 00:00:00                 4.485348e+06  \n\n[5 rows x 62 columns]",
      "text/html": "<div>\n<style scoped>\n    .dataframe tbody tr th:only-of-type {\n        vertical-align: middle;\n    }\n\n    .dataframe tbody tr th {\n        vertical-align: top;\n    }\n\n    .dataframe thead th {\n        text-align: right;\n    }\n</style>\n<table border=\"1\" class=\"dataframe\">\n  <thead>\n    <tr style=\"text-align: right;\">\n      <th></th>\n      <th>openPriceUsd</th>\n      <th>closePriceUsd</th>\n      <th>highPriceUsd</th>\n      <th>lowPriceUsd</th>\n      <th>volume</th>\n      <th>marketcap</th>\n      <th>volumefrom_LINK_Binance</th>\n      <th>volumeto_BTC_Binance</th>\n      <th>volumefrom_LINK_Binance_1</th>\n      <th>volumeto_ETH_Binance</th>\n      <th>...</th>\n      <th>Sum_volfrom_Link_Coinbase_usd</th>\n      <th>Sum_volfrom_Link_Gemini_usd</th>\n      <th>Sum_volfrom_Link_Kraken_usd</th>\n      <th>Sum_volfrom_Link_BitTrex_usd</th>\n      <th>Sum_volfrom_Link_Poloniex_usd</th>\n      <th>Sum_volfrom_Link_uniswap_usd</th>\n      <th>Sum_volfrom_Link_all</th>\n      <th>Sum_volfrom_Link_allcex</th>\n      <th>Sum_volfrom_Link_all_usd</th>\n      <th>Sum_volfrom_Link_allcex_usd</th>\n    </tr>\n    <tr>\n      <th>datetime</th>\n      <th></th>\n      <th></th>\n      <th></th>\n      <th></th>\n      <th></th>\n      <th></th>\n      <th></th>\n      <th></th>\n      <th></th>\n      <th></th>\n      <th></th>\n      <th></th>\n      <th></th>\n      <th></th>\n      <th></th>\n      <th></th>\n      <th></th>\n      <th></th>\n      <th></th>\n      <th></th>\n      <th></th>\n    </tr>\n  </thead>\n  <tbody>\n    <tr>\n      <th>2020-07-30 20:00:00</th>\n      <td>7.508440</td>\n      <td>7.473369</td>\n      <td>7.511229</td>\n      <td>7.449035</td>\n      <td>604095330</td>\n      <td>2615679085</td>\n      <td>187828</td>\n      <td>126</td>\n      <td>41323</td>\n      <td>911</td>\n      <td>...</td>\n      <td>1.206262e+06</td>\n      <td>22479.893380</td>\n      <td>1.134383e+06</td>\n      <td>9678.012609</td>\n      <td>881.857520</td>\n      <td>859.437413</td>\n      <td>888215</td>\n      <td>888100</td>\n      <td>6.637958e+06</td>\n      <td>6.637099e+06</td>\n    </tr>\n    <tr>\n      <th>2020-07-30 21:00:00</th>\n      <td>7.475926</td>\n      <td>7.434110</td>\n      <td>7.475926</td>\n      <td>7.424486</td>\n      <td>609715267</td>\n      <td>2601938372</td>\n      <td>94525</td>\n      <td>63</td>\n      <td>14598</td>\n      <td>323</td>\n      <td>...</td>\n      <td>6.703411e+05</td>\n      <td>40902.471200</td>\n      <td>1.703378e+05</td>\n      <td>8445.148543</td>\n      <td>85194.896394</td>\n      <td>96.643425</td>\n      <td>465040</td>\n      <td>465027</td>\n      <td>3.457158e+06</td>\n      <td>3.457062e+06</td>\n    </tr>\n    <tr>\n      <th>2020-07-30 22:00:00</th>\n      <td>7.415181</td>\n      <td>7.399588</td>\n      <td>7.429917</td>\n      <td>7.358020</td>\n      <td>610355008</td>\n      <td>2589855672</td>\n      <td>220636</td>\n      <td>146</td>\n      <td>18624</td>\n      <td>408</td>\n      <td>...</td>\n      <td>1.087865e+06</td>\n      <td>77984.254033</td>\n      <td>1.597201e+05</td>\n      <td>15835.117528</td>\n      <td>1798.099794</td>\n      <td>0.000000</td>\n      <td>859696</td>\n      <td>859696</td>\n      <td>6.361396e+06</td>\n      <td>6.361396e+06</td>\n    </tr>\n    <tr>\n      <th>2020-07-30 23:00:00</th>\n      <td>7.394573</td>\n      <td>7.416992</td>\n      <td>7.455699</td>\n      <td>7.381593</td>\n      <td>605829268</td>\n      <td>2595947041</td>\n      <td>97316</td>\n      <td>64</td>\n      <td>7868</td>\n      <td>174</td>\n      <td>...</td>\n      <td>6.251560e+05</td>\n      <td>0.000000</td>\n      <td>1.062632e+05</td>\n      <td>6430.531674</td>\n      <td>3612.074885</td>\n      <td>51.918941</td>\n      <td>419963</td>\n      <td>419956</td>\n      <td>3.114862e+06</td>\n      <td>3.114810e+06</td>\n    </tr>\n    <tr>\n      <th>2020-07-31 00:00:00</th>\n      <td>7.418091</td>\n      <td>7.512869</td>\n      <td>7.518181</td>\n      <td>7.418091</td>\n      <td>605605948</td>\n      <td>2629504207</td>\n      <td>139034</td>\n      <td>93</td>\n      <td>19999</td>\n      <td>447</td>\n      <td>...</td>\n      <td>8.553627e+05</td>\n      <td>45888.604829</td>\n      <td>2.977726e+05</td>\n      <td>21967.629424</td>\n      <td>3275.610954</td>\n      <td>420.720673</td>\n      <td>597078</td>\n      <td>597022</td>\n      <td>4.485769e+06</td>\n      <td>4.485348e+06</td>\n    </tr>\n  </tbody>\n</table>\n<p>5 rows × 62 columns</p>\n</div>"
     },
     "metadata": {},
     "execution_count": 123
    }
   ],
   "source": [
    "df_pricevol_hr.tail()"
   ]
  },
  {
   "cell_type": "code",
   "execution_count": 122,
   "metadata": {},
   "outputs": [
    {
     "output_type": "execute_result",
     "data": {
      "text/plain": "Index(['openPriceUsd', 'closePriceUsd', 'highPriceUsd', 'lowPriceUsd',\n       'volume', 'marketcap', 'volumefrom_LINK_Binance',\n       'volumeto_BTC_Binance', 'volumefrom_LINK_Binance_1',\n       'volumeto_ETH_Binance', 'volumefrom_LINK_Binance_2',\n       'volumeto_USDC_Binance', 'volumefrom_LINK_Binance_3',\n       'volumeto_USDT_Binance', 'volumefrom_LINK_binanceus',\n       'volumeto_USD_binanceus', 'volumefrom_LINK_binanceusa',\n       'volumeto_USD_binanceusa', 'volumefrom_LINK_Coinbase',\n       'volumeto_USD_Coinbase', 'volumefrom_LINK_Coinbase_7',\n       'volumeto_ETH_Coinbase', 'volumefrom_LINK_Gemini',\n       'volumeto_USD_Gemini', 'volumefrom_LINK_Gemini_9',\n       'volumeto_BTC_Gemini', 'volumefrom_LINK_Kraken', 'volumeto_BTC_Kraken',\n       'volumefrom_LINK_Kraken_11', 'volumeto_ETH_Kraken',\n       'volumefrom_LINK_Kraken_12', 'volumeto_USD_Kraken',\n       'volumefrom_LINK_BitTrex', 'volumeto_USDT_BitTrex',\n       'volumefrom_LINK_BitTrex_14', 'volumeto_BTC_BitTrex',\n       'volumefrom_LINK_BitTrex_15', 'volumeto_ETH_BitTrex',\n       'volumefrom_LINK_Poloniex', 'volumeto_USDT_Poloniex',\n       'volumefrom_LINK_Poloniex_17', 'volumeto_BTC_Poloniex',\n       'volumefrom_LINK_uniswap', 'volumeto_ETH_uniswap',\n       'Sum_volfrom_Link_Binance', 'Sum_volfrom_Link_Coinbase',\n       'Sum_volfrom_Link_Gemini', 'Sum_volfrom_Link_Kraken',\n       'Sum_volfrom_Link_BitTrex', 'Sum_volfrom_Link_Poloniex',\n       'Sum_volfrom_Link_uniswap', 'Sum_volfrom_Link_Binance_usd',\n       'Sum_volfrom_Link_Coinbase_usd', 'Sum_volfrom_Link_Gemini_usd',\n       'Sum_volfrom_Link_Kraken_usd', 'Sum_volfrom_Link_BitTrex_usd',\n       'Sum_volfrom_Link_Poloniex_usd', 'Sum_volfrom_Link_uniswap_usd',\n       'Sum_volfrom_Link_all', 'Sum_volfrom_Link_allcex',\n       'Sum_volfrom_Link_all_usd', 'Sum_volfrom_Link_allcex_usd'],\n      dtype='object')"
     },
     "metadata": {},
     "execution_count": 122
    }
   ],
   "source": [
    "df_pricevol_hr.columns"
   ]
  },
  {
   "cell_type": "code",
   "execution_count": 100,
   "metadata": {},
   "outputs": [],
   "source": [
    "# Adding new colums\n",
    "\n",
    "# Sum volume by exchange (all pairs)\n",
    "\n",
    "# Get all pairs in list by exchange\n",
    "col_list_binance= list(df_pricevol_hr[['volumefrom_LINK_Binance','volumefrom_LINK_Binance_1','volumefrom_LINK_Binance_2','volumefrom_LINK_Binance_3','volumefrom_LINK_binanceus','volumefrom_LINK_binanceusa']])\n",
    "col_list_coinbase= list(df_pricevol_hr[['volumefrom_LINK_Coinbase','volumefrom_LINK_Coinbase_7']])\n",
    "col_list_gemini= list(df_pricevol_hr[['volumefrom_LINK_Gemini','volumefrom_LINK_Gemini_9']])\n",
    "col_list_kraken= list(df_pricevol_hr[['volumefrom_LINK_Kraken','volumefrom_LINK_Kraken_11','volumefrom_LINK_Kraken_12']])\n",
    "col_list_bittrex= list(df_pricevol_hr[['volumefrom_LINK_BitTrex','volumefrom_LINK_BitTrex_14','volumefrom_LINK_BitTrex_15']])\n",
    "col_list_poloniex= list(df_pricevol_hr[['volumefrom_LINK_Poloniex','volumefrom_LINK_Poloniex_17']])\n",
    "col_list_uniswap= list(df_pricevol_hr[['volumefrom_LINK_uniswap']])\n",
    "\n",
    "# Sum rows for cols in list\n",
    "df_pricevol_hr['Sum_volfrom_Link_Binance'] = df_pricevol_hr[col_list_binance].sum(axis=1)\n",
    "df_pricevol_hr['Sum_volfrom_Link_Coinbase'] = df_pricevol_hr[col_list_coinbase].sum(axis=1)\n",
    "df_pricevol_hr['Sum_volfrom_Link_Gemini'] = df_pricevol_hr[col_list_gemini].sum(axis=1)\n",
    "df_pricevol_hr['Sum_volfrom_Link_Kraken'] = df_pricevol_hr[col_list_kraken].sum(axis=1)\n",
    "df_pricevol_hr['Sum_volfrom_Link_BitTrex'] = df_pricevol_hr[col_list_bittrex].sum(axis=1)\n",
    "df_pricevol_hr['Sum_volfrom_Link_Poloniex'] = df_pricevol_hr[col_list_poloniex].sum(axis=1)\n",
    "df_pricevol_hr['Sum_volfrom_Link_uniswap'] = df_pricevol_hr[col_list_uniswap].sum(axis=1)\n",
    "\n",
    "# Get all volumes in usd (closing usd price)\n",
    "df_pricevol_hr['Sum_volfrom_Link_Binance_usd'] = df_pricevol_hr['Sum_volfrom_Link_Binance'] * df_pricevol_hr['closePriceUsd']\n",
    "\n",
    "df_pricevol_hr['Sum_volfrom_Link_Coinbase_usd'] = df_pricevol_hr['Sum_volfrom_Link_Coinbase'] * df_pricevol_hr['closePriceUsd']\n",
    "\n",
    "df_pricevol_hr['Sum_volfrom_Link_Gemini_usd'] = df_pricevol_hr['Sum_volfrom_Link_Gemini'] * df_pricevol_hr['closePriceUsd']\n",
    "\n",
    "df_pricevol_hr['Sum_volfrom_Link_Kraken_usd'] = df_pricevol_hr['Sum_volfrom_Link_Kraken'] * df_pricevol_hr['closePriceUsd']\n",
    "\n",
    "df_pricevol_hr['Sum_volfrom_Link_BitTrex_usd'] = df_pricevol_hr['Sum_volfrom_Link_BitTrex'] * df_pricevol_hr['closePriceUsd']\n",
    "\n",
    "df_pricevol_hr['Sum_volfrom_Link_Poloniex_usd'] = df_pricevol_hr['Sum_volfrom_Link_Poloniex'] * df_pricevol_hr['closePriceUsd']\n",
    "\n",
    "df_pricevol_hr['Sum_volfrom_Link_uniswap_usd'] = df_pricevol_hr['Sum_volfrom_Link_uniswap'] * df_pricevol_hr['closePriceUsd']\n",
    "\n",
    "# Get all exchange sums in list\n",
    "\n",
    "col_list_allexchange= list(df_pricevol_hr[['Sum_volfrom_Link_Binance','Sum_volfrom_Link_Coinbase','Sum_volfrom_Link_Gemini','Sum_volfrom_Link_Kraken','Sum_volfrom_Link_BitTrex',\n",
    "'Sum_volfrom_Link_Poloniex','Sum_volfrom_Link_uniswap']])\n",
    "col_list_allcex= list(df_pricevol_hr[['Sum_volfrom_Link_Binance','Sum_volfrom_Link_Coinbase','Sum_volfrom_Link_Gemini','Sum_volfrom_Link_Kraken','Sum_volfrom_Link_BitTrex',\n",
    "'Sum_volfrom_Link_Poloniex']])\n",
    "\n",
    "# Sum rows for all exchanges (erc20)\n",
    "df_pricevol_hr['Sum_volfrom_Link_all'] = df_pricevol_hr[col_list_allexchange].sum(axis=1)\n",
    "df_pricevol_hr['Sum_volfrom_Link_allcex'] = df_pricevol_hr[col_list_allcex].sum(axis=1)\n",
    "\n",
    "# Get all volumes all exchanges in usd (closing usd price)\n",
    "df_pricevol_hr['Sum_volfrom_Link_all_usd'] = df_pricevol_hr['Sum_volfrom_Link_all'] * df_pricevol_hr['closePriceUsd']\n",
    "df_pricevol_hr['Sum_volfrom_Link_allcex_usd'] = df_pricevol_hr['Sum_volfrom_Link_allcex'] * df_pricevol_hr['closePriceUsd']"
   ]
  },
  {
   "cell_type": "code",
   "execution_count": 120,
   "metadata": {
    "tags": []
   },
   "outputs": [
    {
     "output_type": "execute_result",
     "data": {
      "text/plain": "DatetimeIndex(['2018-07-31 00:00:00', '2018-07-31 01:00:00',\n               '2018-07-31 02:00:00', '2018-07-31 03:00:00',\n               '2018-07-31 04:00:00', '2018-07-31 05:00:00',\n               '2018-07-31 06:00:00', '2018-07-31 07:00:00',\n               '2018-07-31 08:00:00', '2018-07-31 09:00:00',\n               ...\n               '2020-07-30 15:00:00', '2020-07-30 16:00:00',\n               '2020-07-30 17:00:00', '2020-07-30 18:00:00',\n               '2020-07-30 19:00:00', '2020-07-30 20:00:00',\n               '2020-07-30 21:00:00', '2020-07-30 22:00:00',\n               '2020-07-30 23:00:00', '2020-07-31 00:00:00'],\n              dtype='datetime64[ns]', name='datetime', length=17540, freq=None)"
     },
     "metadata": {},
     "execution_count": 120
    }
   ],
   "source": [
    "df_pricevol_hr.index"
   ]
  },
  {
   "cell_type": "markdown",
   "metadata": {},
   "source": [
    "--- \n",
    "\n",
    "## Join the data\n",
    "\n",
    "- timeseries data only"
   ]
  },
  {
   "cell_type": "markdown",
   "metadata": {},
   "source": [
    "### daily"
   ]
  },
  {
   "cell_type": "markdown",
   "metadata": {},
   "source": [
    "**Token info** - onchain activity/token allocation/asset price returns/token ownersip/ treasury funds/token age (or seniority)"
   ]
  },
  {
   "cell_type": "code",
   "execution_count": 278,
   "metadata": {},
   "outputs": [
    {
     "output_type": "execute_result",
     "data": {
      "text/plain": "openPriceUsd                                       0\nclosePriceUsd                                      0\nhighPriceUsd                                       0\nlowPriceUsd                                        0\nvolume                                             0\nmarketcap                                          0\nchainlink_daily_active_addresses                   0\nnew_unique_add                                     0\nPrice                                              0\nDaily Active Deposits                              0\nTransaction Volume                                 0\nAmount held by top addresses                       0\nAmount held by top exchange addresses              0\nAmount held by top non-exchange addresses          0\nAge Consumed                                       0\nVelocity                                           0\nCoin Supply on Exchanges                           0\nCoin Supply on Exchanges (as % of total supply)    0\nCoin Supply outside of Exchanges                   0\nExchange Inflow                                    0\nExchange Outflow                                   0\nExchange Flow Balance                              0\ndtype: int64"
     },
     "metadata": {},
     "execution_count": 278
    }
   ],
   "source": [
    "# Token info chapter\n",
    "# On-chain activity\n",
    "\n",
    "# Token info\n",
    "\n",
    "# Join onchain activity data\n",
    "df_activity_day = df_ohlcv.tz_localize(None).join(\n",
    "    df_activadd.tz_localize(None)\n",
    ").join( \n",
    "    df_newuniqueadd\n",
    "# COMMENTED OUT CODE DUE TO ISSUE WITH SANPY\n",
    "# ).join(\n",
    "#     df_deposits.tz_localize(None) \n",
    "\n",
    "# ).join(\n",
    "#     df_txvolume.tz_localize(None)\n",
    "# ).join( \n",
    "# Ownership concentration (distribution)\n",
    "#     df_amttophold.tz_localize(None) \n",
    "# ).join(\n",
    "#     df_amttopehold_exch.tz_localize(None) \n",
    "# ).join(\n",
    "#     df_amttopehold_outexch.tz_localize(None) \n",
    "# ).join(\n",
    "# Token velocity and inertia (age consumed)\n",
    "#     df_ageconsumed.tz_localize(None) \n",
    "# ).join(\n",
    "#     df_velocity.tz_localize(None)\n",
    "# )\n",
    "# TEMPORARY SOLUTION DATA DUMP - REMOVE\n",
    ").join(\n",
    "    df_santiment_datadump\n",
    ")\n",
    "\n",
    "# Ownership concentration (distribution)\n",
    "# Distribution/coefficient\n",
    "df_distrogini_day = df_distro_hold.join(\n",
    "    df_ginicoeff\n",
    ")\n",
    "\n",
    "# Treasury funds - since inception\n",
    "\n",
    "df_treasury_day = df_treasury1.tz_localize(None).join(\n",
    "    df_treasury2.tz_localize(None) \n",
    ").join( \n",
    "    df_treasury3.tz_localize(None) \n",
    ").join(     \n",
    "    df_treasury4.tz_localize(None) \n",
    ").join( \n",
    "    df_treasury5.tz_localize(None) \n",
    ").join( \n",
    "    df_treasury6.tz_localize(None)\n",
    ")\n",
    "\n",
    "# Missing value checks\n",
    "df_activity_day.isnull().sum()\n"
   ]
  },
  {
   "cell_type": "markdown",
   "metadata": {},
   "source": [
    "**Exchanges** - list exchanges / centralised exchanges / list exchanges tokens listed / trading real volume (global) / tokens on exchanges / exchange volume by pair / token velocity (again?)"
   ]
  },
  {
   "cell_type": "code",
   "execution_count": 275,
   "metadata": {},
   "outputs": [
    {
     "output_type": "execute_result",
     "data": {
      "text/plain": "<matplotlib.axes._subplots.AxesSubplot at 0x1a2572d358>"
     },
     "metadata": {},
     "execution_count": 275
    },
    {
     "output_type": "display_data",
     "data": {
      "text/plain": "<Figure size 432x288 with 1 Axes>",
      "image/svg+xml": "<?xml version=\"1.0\" encoding=\"utf-8\" standalone=\"no\"?>\n<!DOCTYPE svg PUBLIC \"-//W3C//DTD SVG 1.1//EN\"\n  \"http://www.w3.org/Graphics/SVG/1.1/DTD/svg11.dtd\">\n<!-- Created with matplotlib (https://matplotlib.org/) -->\n<svg height=\"283.9925pt\" version=\"1.1\" viewBox=\"0 0 366.0625 283.9925\" width=\"366.0625pt\" xmlns=\"http://www.w3.org/2000/svg\" xmlns:xlink=\"http://www.w3.org/1999/xlink\">\n <defs>\n  <style type=\"text/css\">\n*{stroke-linecap:butt;stroke-linejoin:round;}\n  </style>\n </defs>\n <g id=\"figure_1\">\n  <g id=\"patch_1\">\n   <path d=\"M 0 283.9925 \nL 366.0625 283.9925 \nL 366.0625 0 \nL 0 0 \nz\n\" style=\"fill:none;\"/>\n  </g>\n  <g id=\"axes_1\">\n   <g id=\"patch_2\">\n    <path d=\"M 20.5625 235.238438 \nL 355.3625 235.238438 \nL 355.3625 17.798438 \nL 20.5625 17.798438 \nz\n\" style=\"fill:#ffffff;\"/>\n   </g>\n   <g id=\"matplotlib.axis_1\">\n    <g id=\"xtick_1\">\n     <g id=\"line2d_1\">\n      <defs>\n       <path d=\"M 0 0 \nL 0 3.5 \n\" id=\"ma700a09f28\" style=\"stroke:#000000;stroke-width:0.8;\"/>\n      </defs>\n      <g>\n       <use style=\"stroke:#000000;stroke-width:0.8;\" x=\"20.354032\" xlink:href=\"#ma700a09f28\" y=\"235.238438\"/>\n      </g>\n     </g>\n    </g>\n    <g id=\"xtick_2\">\n     <g id=\"line2d_2\">\n      <g>\n       <use style=\"stroke:#000000;stroke-width:0.8;\" x=\"22.855651\" xlink:href=\"#ma700a09f28\" y=\"235.238438\"/>\n      </g>\n     </g>\n     <g id=\"text_1\">\n      <!-- Jul -->\n      <defs>\n       <path d=\"M 9.8125 72.90625 \nL 19.671875 72.90625 \nL 19.671875 5.078125 \nQ 19.671875 -8.109375 14.671875 -14.0625 \nQ 9.671875 -20.015625 -1.421875 -20.015625 \nL -5.171875 -20.015625 \nL -5.171875 -11.71875 \nL -2.09375 -11.71875 \nQ 4.4375 -11.71875 7.125 -8.046875 \nQ 9.8125 -4.390625 9.8125 5.078125 \nz\n\" id=\"DejaVuSans-74\"/>\n       <path d=\"M 8.5 21.578125 \nL 8.5 54.6875 \nL 17.484375 54.6875 \nL 17.484375 21.921875 \nQ 17.484375 14.15625 20.5 10.265625 \nQ 23.53125 6.390625 29.59375 6.390625 \nQ 36.859375 6.390625 41.078125 11.03125 \nQ 45.3125 15.671875 45.3125 23.6875 \nL 45.3125 54.6875 \nL 54.296875 54.6875 \nL 54.296875 0 \nL 45.3125 0 \nL 45.3125 8.40625 \nQ 42.046875 3.421875 37.71875 1 \nQ 33.40625 -1.421875 27.6875 -1.421875 \nQ 18.265625 -1.421875 13.375 4.4375 \nQ 8.5 10.296875 8.5 21.578125 \nz\nM 31.109375 56 \nz\n\" id=\"DejaVuSans-117\"/>\n       <path d=\"M 9.421875 75.984375 \nL 18.40625 75.984375 \nL 18.40625 0 \nL 9.421875 0 \nz\n\" id=\"DejaVuSans-108\"/>\n      </defs>\n      <g transform=\"translate(16.822838 249.836875)scale(0.1 -0.1)\">\n       <use xlink:href=\"#DejaVuSans-74\"/>\n       <use x=\"29.492188\" xlink:href=\"#DejaVuSans-117\"/>\n       <use x=\"92.871094\" xlink:href=\"#DejaVuSans-108\"/>\n      </g>\n     </g>\n    </g>\n    <g id=\"xtick_3\">\n     <g id=\"line2d_3\">\n      <g>\n       <use style=\"stroke:#000000;stroke-width:0.8;\" x=\"61.213808\" xlink:href=\"#ma700a09f28\" y=\"235.238438\"/>\n      </g>\n     </g>\n     <g id=\"text_2\">\n      <!-- Oct -->\n      <defs>\n       <path d=\"M 39.40625 66.21875 \nQ 28.65625 66.21875 22.328125 58.203125 \nQ 16.015625 50.203125 16.015625 36.375 \nQ 16.015625 22.609375 22.328125 14.59375 \nQ 28.65625 6.59375 39.40625 6.59375 \nQ 50.140625 6.59375 56.421875 14.59375 \nQ 62.703125 22.609375 62.703125 36.375 \nQ 62.703125 50.203125 56.421875 58.203125 \nQ 50.140625 66.21875 39.40625 66.21875 \nz\nM 39.40625 74.21875 \nQ 54.734375 74.21875 63.90625 63.9375 \nQ 73.09375 53.65625 73.09375 36.375 \nQ 73.09375 19.140625 63.90625 8.859375 \nQ 54.734375 -1.421875 39.40625 -1.421875 \nQ 24.03125 -1.421875 14.8125 8.828125 \nQ 5.609375 19.09375 5.609375 36.375 \nQ 5.609375 53.65625 14.8125 63.9375 \nQ 24.03125 74.21875 39.40625 74.21875 \nz\n\" id=\"DejaVuSans-79\"/>\n       <path d=\"M 48.78125 52.59375 \nL 48.78125 44.1875 \nQ 44.96875 46.296875 41.140625 47.34375 \nQ 37.3125 48.390625 33.40625 48.390625 \nQ 24.65625 48.390625 19.8125 42.84375 \nQ 14.984375 37.3125 14.984375 27.296875 \nQ 14.984375 17.28125 19.8125 11.734375 \nQ 24.65625 6.203125 33.40625 6.203125 \nQ 37.3125 6.203125 41.140625 7.25 \nQ 44.96875 8.296875 48.78125 10.40625 \nL 48.78125 2.09375 \nQ 45.015625 0.34375 40.984375 -0.53125 \nQ 36.96875 -1.421875 32.421875 -1.421875 \nQ 20.0625 -1.421875 12.78125 6.34375 \nQ 5.515625 14.109375 5.515625 27.296875 \nQ 5.515625 40.671875 12.859375 48.328125 \nQ 20.21875 56 33.015625 56 \nQ 37.15625 56 41.109375 55.140625 \nQ 45.0625 54.296875 48.78125 52.59375 \nz\n\" id=\"DejaVuSans-99\"/>\n       <path d=\"M 18.3125 70.21875 \nL 18.3125 54.6875 \nL 36.8125 54.6875 \nL 36.8125 47.703125 \nL 18.3125 47.703125 \nL 18.3125 18.015625 \nQ 18.3125 11.328125 20.140625 9.421875 \nQ 21.96875 7.515625 27.59375 7.515625 \nL 36.8125 7.515625 \nL 36.8125 0 \nL 27.59375 0 \nQ 17.1875 0 13.234375 3.875 \nQ 9.28125 7.765625 9.28125 18.015625 \nL 9.28125 47.703125 \nL 2.6875 47.703125 \nL 2.6875 54.6875 \nL 9.28125 54.6875 \nL 9.28125 70.21875 \nz\n\" id=\"DejaVuSans-116\"/>\n      </defs>\n      <g transform=\"translate(52.568495 249.836875)scale(0.1 -0.1)\">\n       <use xlink:href=\"#DejaVuSans-79\"/>\n       <use x=\"78.710938\" xlink:href=\"#DejaVuSans-99\"/>\n       <use x=\"133.691406\" xlink:href=\"#DejaVuSans-116\"/>\n      </g>\n     </g>\n    </g>\n    <g id=\"xtick_4\">\n     <g id=\"line2d_4\">\n      <g>\n       <use style=\"stroke:#000000;stroke-width:0.8;\" x=\"99.571965\" xlink:href=\"#ma700a09f28\" y=\"235.238438\"/>\n      </g>\n     </g>\n     <g id=\"text_3\">\n      <!-- Jan -->\n      <defs>\n       <path d=\"M 34.28125 27.484375 \nQ 23.390625 27.484375 19.1875 25 \nQ 14.984375 22.515625 14.984375 16.5 \nQ 14.984375 11.71875 18.140625 8.90625 \nQ 21.296875 6.109375 26.703125 6.109375 \nQ 34.1875 6.109375 38.703125 11.40625 \nQ 43.21875 16.703125 43.21875 25.484375 \nL 43.21875 27.484375 \nz\nM 52.203125 31.203125 \nL 52.203125 0 \nL 43.21875 0 \nL 43.21875 8.296875 \nQ 40.140625 3.328125 35.546875 0.953125 \nQ 30.953125 -1.421875 24.3125 -1.421875 \nQ 15.921875 -1.421875 10.953125 3.296875 \nQ 6 8.015625 6 15.921875 \nQ 6 25.140625 12.171875 29.828125 \nQ 18.359375 34.515625 30.609375 34.515625 \nL 43.21875 34.515625 \nL 43.21875 35.40625 \nQ 43.21875 41.609375 39.140625 45 \nQ 35.0625 48.390625 27.6875 48.390625 \nQ 23 48.390625 18.546875 47.265625 \nQ 14.109375 46.140625 10.015625 43.890625 \nL 10.015625 52.203125 \nQ 14.9375 54.109375 19.578125 55.046875 \nQ 24.21875 56 28.609375 56 \nQ 40.484375 56 46.34375 49.84375 \nQ 52.203125 43.703125 52.203125 31.203125 \nz\n\" id=\"DejaVuSans-97\"/>\n       <path d=\"M 54.890625 33.015625 \nL 54.890625 0 \nL 45.90625 0 \nL 45.90625 32.71875 \nQ 45.90625 40.484375 42.875 44.328125 \nQ 39.84375 48.1875 33.796875 48.1875 \nQ 26.515625 48.1875 22.3125 43.546875 \nQ 18.109375 38.921875 18.109375 30.90625 \nL 18.109375 0 \nL 9.078125 0 \nL 9.078125 54.6875 \nL 18.109375 54.6875 \nL 18.109375 46.1875 \nQ 21.34375 51.125 25.703125 53.5625 \nQ 30.078125 56 35.796875 56 \nQ 45.21875 56 50.046875 50.171875 \nQ 54.890625 44.34375 54.890625 33.015625 \nz\n\" id=\"DejaVuSans-110\"/>\n      </defs>\n      <g transform=\"translate(91.864152 249.836875)scale(0.1 -0.1)\">\n       <use xlink:href=\"#DejaVuSans-74\"/>\n       <use x=\"29.492188\" xlink:href=\"#DejaVuSans-97\"/>\n       <use x=\"90.771484\" xlink:href=\"#DejaVuSans-110\"/>\n      </g>\n      <!-- 2019 -->\n      <defs>\n       <path d=\"M 19.1875 8.296875 \nL 53.609375 8.296875 \nL 53.609375 0 \nL 7.328125 0 \nL 7.328125 8.296875 \nQ 12.9375 14.109375 22.625 23.890625 \nQ 32.328125 33.6875 34.8125 36.53125 \nQ 39.546875 41.84375 41.421875 45.53125 \nQ 43.3125 49.21875 43.3125 52.78125 \nQ 43.3125 58.59375 39.234375 62.25 \nQ 35.15625 65.921875 28.609375 65.921875 \nQ 23.96875 65.921875 18.8125 64.3125 \nQ 13.671875 62.703125 7.8125 59.421875 \nL 7.8125 69.390625 \nQ 13.765625 71.78125 18.9375 73 \nQ 24.125 74.21875 28.421875 74.21875 \nQ 39.75 74.21875 46.484375 68.546875 \nQ 53.21875 62.890625 53.21875 53.421875 \nQ 53.21875 48.921875 51.53125 44.890625 \nQ 49.859375 40.875 45.40625 35.40625 \nQ 44.1875 33.984375 37.640625 27.21875 \nQ 31.109375 20.453125 19.1875 8.296875 \nz\n\" id=\"DejaVuSans-50\"/>\n       <path d=\"M 31.78125 66.40625 \nQ 24.171875 66.40625 20.328125 58.90625 \nQ 16.5 51.421875 16.5 36.375 \nQ 16.5 21.390625 20.328125 13.890625 \nQ 24.171875 6.390625 31.78125 6.390625 \nQ 39.453125 6.390625 43.28125 13.890625 \nQ 47.125 21.390625 47.125 36.375 \nQ 47.125 51.421875 43.28125 58.90625 \nQ 39.453125 66.40625 31.78125 66.40625 \nz\nM 31.78125 74.21875 \nQ 44.046875 74.21875 50.515625 64.515625 \nQ 56.984375 54.828125 56.984375 36.375 \nQ 56.984375 17.96875 50.515625 8.265625 \nQ 44.046875 -1.421875 31.78125 -1.421875 \nQ 19.53125 -1.421875 13.0625 8.265625 \nQ 6.59375 17.96875 6.59375 36.375 \nQ 6.59375 54.828125 13.0625 64.515625 \nQ 19.53125 74.21875 31.78125 74.21875 \nz\n\" id=\"DejaVuSans-48\"/>\n       <path d=\"M 12.40625 8.296875 \nL 28.515625 8.296875 \nL 28.515625 63.921875 \nL 10.984375 60.40625 \nL 10.984375 69.390625 \nL 28.421875 72.90625 \nL 38.28125 72.90625 \nL 38.28125 8.296875 \nL 54.390625 8.296875 \nL 54.390625 0 \nL 12.40625 0 \nz\n\" id=\"DejaVuSans-49\"/>\n       <path d=\"M 10.984375 1.515625 \nL 10.984375 10.5 \nQ 14.703125 8.734375 18.5 7.8125 \nQ 22.3125 6.890625 25.984375 6.890625 \nQ 35.75 6.890625 40.890625 13.453125 \nQ 46.046875 20.015625 46.78125 33.40625 \nQ 43.953125 29.203125 39.59375 26.953125 \nQ 35.25 24.703125 29.984375 24.703125 \nQ 19.046875 24.703125 12.671875 31.3125 \nQ 6.296875 37.9375 6.296875 49.421875 \nQ 6.296875 60.640625 12.9375 67.421875 \nQ 19.578125 74.21875 30.609375 74.21875 \nQ 43.265625 74.21875 49.921875 64.515625 \nQ 56.59375 54.828125 56.59375 36.375 \nQ 56.59375 19.140625 48.40625 8.859375 \nQ 40.234375 -1.421875 26.421875 -1.421875 \nQ 22.703125 -1.421875 18.890625 -0.6875 \nQ 15.09375 0.046875 10.984375 1.515625 \nz\nM 30.609375 32.421875 \nQ 37.25 32.421875 41.125 36.953125 \nQ 45.015625 41.5 45.015625 49.421875 \nQ 45.015625 57.28125 41.125 61.84375 \nQ 37.25 66.40625 30.609375 66.40625 \nQ 23.96875 66.40625 20.09375 61.84375 \nQ 16.21875 57.28125 16.21875 49.421875 \nQ 16.21875 41.5 20.09375 36.953125 \nQ 23.96875 32.421875 30.609375 32.421875 \nz\n\" id=\"DejaVuSans-57\"/>\n      </defs>\n      <g transform=\"translate(86.846965 261.034688)scale(0.1 -0.1)\">\n       <use xlink:href=\"#DejaVuSans-50\"/>\n       <use x=\"63.623047\" xlink:href=\"#DejaVuSans-48\"/>\n       <use x=\"127.246094\" xlink:href=\"#DejaVuSans-49\"/>\n       <use x=\"190.869141\" xlink:href=\"#DejaVuSans-57\"/>\n      </g>\n     </g>\n    </g>\n    <g id=\"xtick_5\">\n     <g id=\"line2d_5\">\n      <g>\n       <use style=\"stroke:#000000;stroke-width:0.8;\" x=\"137.096248\" xlink:href=\"#ma700a09f28\" y=\"235.238438\"/>\n      </g>\n     </g>\n     <g id=\"text_4\">\n      <!-- Apr -->\n      <defs>\n       <path d=\"M 34.1875 63.1875 \nL 20.796875 26.90625 \nL 47.609375 26.90625 \nz\nM 28.609375 72.90625 \nL 39.796875 72.90625 \nL 67.578125 0 \nL 57.328125 0 \nL 50.6875 18.703125 \nL 17.828125 18.703125 \nL 11.1875 0 \nL 0.78125 0 \nz\n\" id=\"DejaVuSans-65\"/>\n       <path d=\"M 18.109375 8.203125 \nL 18.109375 -20.796875 \nL 9.078125 -20.796875 \nL 9.078125 54.6875 \nL 18.109375 54.6875 \nL 18.109375 46.390625 \nQ 20.953125 51.265625 25.265625 53.625 \nQ 29.59375 56 35.59375 56 \nQ 45.5625 56 51.78125 48.09375 \nQ 58.015625 40.1875 58.015625 27.296875 \nQ 58.015625 14.40625 51.78125 6.484375 \nQ 45.5625 -1.421875 35.59375 -1.421875 \nQ 29.59375 -1.421875 25.265625 0.953125 \nQ 20.953125 3.328125 18.109375 8.203125 \nz\nM 48.6875 27.296875 \nQ 48.6875 37.203125 44.609375 42.84375 \nQ 40.53125 48.484375 33.40625 48.484375 \nQ 26.265625 48.484375 22.1875 42.84375 \nQ 18.109375 37.203125 18.109375 27.296875 \nQ 18.109375 17.390625 22.1875 11.75 \nQ 26.265625 6.109375 33.40625 6.109375 \nQ 40.53125 6.109375 44.609375 11.75 \nQ 48.6875 17.390625 48.6875 27.296875 \nz\n\" id=\"DejaVuSans-112\"/>\n       <path d=\"M 41.109375 46.296875 \nQ 39.59375 47.171875 37.8125 47.578125 \nQ 36.03125 48 33.890625 48 \nQ 26.265625 48 22.1875 43.046875 \nQ 18.109375 38.09375 18.109375 28.8125 \nL 18.109375 0 \nL 9.078125 0 \nL 9.078125 54.6875 \nL 18.109375 54.6875 \nL 18.109375 46.1875 \nQ 20.953125 51.171875 25.484375 53.578125 \nQ 30.03125 56 36.53125 56 \nQ 37.453125 56 38.578125 55.875 \nQ 39.703125 55.765625 41.0625 55.515625 \nz\n\" id=\"DejaVuSans-114\"/>\n      </defs>\n      <g transform=\"translate(128.446248 249.836875)scale(0.1 -0.1)\">\n       <use xlink:href=\"#DejaVuSans-65\"/>\n       <use x=\"68.408203\" xlink:href=\"#DejaVuSans-112\"/>\n       <use x=\"131.884766\" xlink:href=\"#DejaVuSans-114\"/>\n      </g>\n     </g>\n    </g>\n    <g id=\"xtick_6\">\n     <g id=\"line2d_6\">\n      <g>\n       <use style=\"stroke:#000000;stroke-width:0.8;\" x=\"175.037469\" xlink:href=\"#ma700a09f28\" y=\"235.238438\"/>\n      </g>\n     </g>\n     <g id=\"text_5\">\n      <!-- Jul -->\n      <g transform=\"translate(169.004656 249.836875)scale(0.1 -0.1)\">\n       <use xlink:href=\"#DejaVuSans-74\"/>\n       <use x=\"29.492188\" xlink:href=\"#DejaVuSans-117\"/>\n       <use x=\"92.871094\" xlink:href=\"#DejaVuSans-108\"/>\n      </g>\n     </g>\n    </g>\n    <g id=\"xtick_7\">\n     <g id=\"line2d_7\">\n      <g>\n       <use style=\"stroke:#000000;stroke-width:0.8;\" x=\"213.395626\" xlink:href=\"#ma700a09f28\" y=\"235.238438\"/>\n      </g>\n     </g>\n     <g id=\"text_6\">\n      <!-- Oct -->\n      <g transform=\"translate(204.750313 249.836875)scale(0.1 -0.1)\">\n       <use xlink:href=\"#DejaVuSans-79\"/>\n       <use x=\"78.710938\" xlink:href=\"#DejaVuSans-99\"/>\n       <use x=\"133.691406\" xlink:href=\"#DejaVuSans-116\"/>\n      </g>\n     </g>\n    </g>\n    <g id=\"xtick_8\">\n     <g id=\"line2d_8\">\n      <g>\n       <use style=\"stroke:#000000;stroke-width:0.8;\" x=\"251.753783\" xlink:href=\"#ma700a09f28\" y=\"235.238438\"/>\n      </g>\n     </g>\n     <g id=\"text_7\">\n      <!-- Jan -->\n      <g transform=\"translate(244.04597 249.836875)scale(0.1 -0.1)\">\n       <use xlink:href=\"#DejaVuSans-74\"/>\n       <use x=\"29.492188\" xlink:href=\"#DejaVuSans-97\"/>\n       <use x=\"90.771484\" xlink:href=\"#DejaVuSans-110\"/>\n      </g>\n      <!-- 2020 -->\n      <g transform=\"translate(239.028783 261.034688)scale(0.1 -0.1)\">\n       <use xlink:href=\"#DejaVuSans-50\"/>\n       <use x=\"63.623047\" xlink:href=\"#DejaVuSans-48\"/>\n       <use x=\"127.246094\" xlink:href=\"#DejaVuSans-50\"/>\n       <use x=\"190.869141\" xlink:href=\"#DejaVuSans-48\"/>\n      </g>\n     </g>\n    </g>\n    <g id=\"xtick_9\">\n     <g id=\"line2d_9\">\n      <g>\n       <use style=\"stroke:#000000;stroke-width:0.8;\" x=\"289.695003\" xlink:href=\"#ma700a09f28\" y=\"235.238438\"/>\n      </g>\n     </g>\n     <g id=\"text_8\">\n      <!-- Apr -->\n      <g transform=\"translate(281.045003 249.836875)scale(0.1 -0.1)\">\n       <use xlink:href=\"#DejaVuSans-65\"/>\n       <use x=\"68.408203\" xlink:href=\"#DejaVuSans-112\"/>\n       <use x=\"131.884766\" xlink:href=\"#DejaVuSans-114\"/>\n      </g>\n     </g>\n    </g>\n    <g id=\"xtick_10\">\n     <g id=\"line2d_10\">\n      <g>\n       <use style=\"stroke:#000000;stroke-width:0.8;\" x=\"327.636224\" xlink:href=\"#ma700a09f28\" y=\"235.238438\"/>\n      </g>\n     </g>\n     <g id=\"text_9\">\n      <!-- Jul -->\n      <g transform=\"translate(321.603411 249.836875)scale(0.1 -0.1)\">\n       <use xlink:href=\"#DejaVuSans-74\"/>\n       <use x=\"29.492188\" xlink:href=\"#DejaVuSans-117\"/>\n       <use x=\"92.871094\" xlink:href=\"#DejaVuSans-108\"/>\n      </g>\n     </g>\n    </g>\n    <g id=\"xtick_11\">\n     <g id=\"line2d_11\">\n      <g>\n       <use style=\"stroke:#000000;stroke-width:0.8;\" x=\"355.154032\" xlink:href=\"#ma700a09f28\" y=\"235.238438\"/>\n      </g>\n     </g>\n    </g>\n    <g id=\"xtick_12\">\n     <g id=\"line2d_12\">\n      <defs>\n       <path d=\"M 0 0 \nL 0 2 \n\" id=\"mda69343f8a\" style=\"stroke:#000000;stroke-width:0.6;\"/>\n      </defs>\n      <g>\n       <use style=\"stroke:#000000;stroke-width:0.6;\" x=\"22.855651\" xlink:href=\"#mda69343f8a\" y=\"235.238438\"/>\n      </g>\n     </g>\n    </g>\n    <g id=\"xtick_13\">\n     <g id=\"line2d_13\">\n      <g>\n       <use style=\"stroke:#000000;stroke-width:0.6;\" x=\"35.780682\" xlink:href=\"#mda69343f8a\" y=\"235.238438\"/>\n      </g>\n     </g>\n    </g>\n    <g id=\"xtick_14\">\n     <g id=\"line2d_14\">\n      <g>\n       <use style=\"stroke:#000000;stroke-width:0.6;\" x=\"48.705713\" xlink:href=\"#mda69343f8a\" y=\"235.238438\"/>\n      </g>\n     </g>\n    </g>\n    <g id=\"xtick_15\">\n     <g id=\"line2d_15\">\n      <g>\n       <use style=\"stroke:#000000;stroke-width:0.6;\" x=\"61.213808\" xlink:href=\"#mda69343f8a\" y=\"235.238438\"/>\n      </g>\n     </g>\n    </g>\n    <g id=\"xtick_16\">\n     <g id=\"line2d_16\">\n      <g>\n       <use style=\"stroke:#000000;stroke-width:0.6;\" x=\"74.138839\" xlink:href=\"#mda69343f8a\" y=\"235.238438\"/>\n      </g>\n     </g>\n    </g>\n    <g id=\"xtick_17\">\n     <g id=\"line2d_17\">\n      <g>\n       <use style=\"stroke:#000000;stroke-width:0.6;\" x=\"86.646933\" xlink:href=\"#mda69343f8a\" y=\"235.238438\"/>\n      </g>\n     </g>\n    </g>\n    <g id=\"xtick_18\">\n     <g id=\"line2d_18\">\n      <g>\n       <use style=\"stroke:#000000;stroke-width:0.6;\" x=\"99.571965\" xlink:href=\"#mda69343f8a\" y=\"235.238438\"/>\n      </g>\n     </g>\n    </g>\n    <g id=\"xtick_19\">\n     <g id=\"line2d_19\">\n      <g>\n       <use style=\"stroke:#000000;stroke-width:0.6;\" x=\"112.496996\" xlink:href=\"#mda69343f8a\" y=\"235.238438\"/>\n      </g>\n     </g>\n    </g>\n    <g id=\"xtick_20\">\n     <g id=\"line2d_20\">\n      <g>\n       <use style=\"stroke:#000000;stroke-width:0.6;\" x=\"124.171217\" xlink:href=\"#mda69343f8a\" y=\"235.238438\"/>\n      </g>\n     </g>\n    </g>\n    <g id=\"xtick_21\">\n     <g id=\"line2d_21\">\n      <g>\n       <use style=\"stroke:#000000;stroke-width:0.6;\" x=\"137.096248\" xlink:href=\"#mda69343f8a\" y=\"235.238438\"/>\n      </g>\n     </g>\n    </g>\n    <g id=\"xtick_22\">\n     <g id=\"line2d_22\">\n      <g>\n       <use style=\"stroke:#000000;stroke-width:0.6;\" x=\"149.604343\" xlink:href=\"#mda69343f8a\" y=\"235.238438\"/>\n      </g>\n     </g>\n    </g>\n    <g id=\"xtick_23\">\n     <g id=\"line2d_23\">\n      <g>\n       <use style=\"stroke:#000000;stroke-width:0.6;\" x=\"162.529374\" xlink:href=\"#mda69343f8a\" y=\"235.238438\"/>\n      </g>\n     </g>\n    </g>\n    <g id=\"xtick_24\">\n     <g id=\"line2d_24\">\n      <g>\n       <use style=\"stroke:#000000;stroke-width:0.6;\" x=\"175.037469\" xlink:href=\"#mda69343f8a\" y=\"235.238438\"/>\n      </g>\n     </g>\n    </g>\n    <g id=\"xtick_25\">\n     <g id=\"line2d_25\">\n      <g>\n       <use style=\"stroke:#000000;stroke-width:0.6;\" x=\"187.9625\" xlink:href=\"#mda69343f8a\" y=\"235.238438\"/>\n      </g>\n     </g>\n    </g>\n    <g id=\"xtick_26\">\n     <g id=\"line2d_26\">\n      <g>\n       <use style=\"stroke:#000000;stroke-width:0.6;\" x=\"200.887531\" xlink:href=\"#mda69343f8a\" y=\"235.238438\"/>\n      </g>\n     </g>\n    </g>\n    <g id=\"xtick_27\">\n     <g id=\"line2d_27\">\n      <g>\n       <use style=\"stroke:#000000;stroke-width:0.6;\" x=\"213.395626\" xlink:href=\"#mda69343f8a\" y=\"235.238438\"/>\n      </g>\n     </g>\n    </g>\n    <g id=\"xtick_28\">\n     <g id=\"line2d_28\">\n      <g>\n       <use style=\"stroke:#000000;stroke-width:0.6;\" x=\"226.320657\" xlink:href=\"#mda69343f8a\" y=\"235.238438\"/>\n      </g>\n     </g>\n    </g>\n    <g id=\"xtick_29\">\n     <g id=\"line2d_29\">\n      <g>\n       <use style=\"stroke:#000000;stroke-width:0.6;\" x=\"238.828752\" xlink:href=\"#mda69343f8a\" y=\"235.238438\"/>\n      </g>\n     </g>\n    </g>\n    <g id=\"xtick_30\">\n     <g id=\"line2d_30\">\n      <g>\n       <use style=\"stroke:#000000;stroke-width:0.6;\" x=\"251.753783\" xlink:href=\"#mda69343f8a\" y=\"235.238438\"/>\n      </g>\n     </g>\n    </g>\n    <g id=\"xtick_31\">\n     <g id=\"line2d_31\">\n      <g>\n       <use style=\"stroke:#000000;stroke-width:0.6;\" x=\"264.678814\" xlink:href=\"#mda69343f8a\" y=\"235.238438\"/>\n      </g>\n     </g>\n    </g>\n    <g id=\"xtick_32\">\n     <g id=\"line2d_32\">\n      <g>\n       <use style=\"stroke:#000000;stroke-width:0.6;\" x=\"276.769972\" xlink:href=\"#mda69343f8a\" y=\"235.238438\"/>\n      </g>\n     </g>\n    </g>\n    <g id=\"xtick_33\">\n     <g id=\"line2d_33\">\n      <g>\n       <use style=\"stroke:#000000;stroke-width:0.6;\" x=\"289.695003\" xlink:href=\"#mda69343f8a\" y=\"235.238438\"/>\n      </g>\n     </g>\n    </g>\n    <g id=\"xtick_34\">\n     <g id=\"line2d_34\">\n      <g>\n       <use style=\"stroke:#000000;stroke-width:0.6;\" x=\"302.203098\" xlink:href=\"#mda69343f8a\" y=\"235.238438\"/>\n      </g>\n     </g>\n    </g>\n    <g id=\"xtick_35\">\n     <g id=\"line2d_35\">\n      <g>\n       <use style=\"stroke:#000000;stroke-width:0.6;\" x=\"315.128129\" xlink:href=\"#mda69343f8a\" y=\"235.238438\"/>\n      </g>\n     </g>\n    </g>\n    <g id=\"xtick_36\">\n     <g id=\"line2d_36\">\n      <g>\n       <use style=\"stroke:#000000;stroke-width:0.6;\" x=\"327.636224\" xlink:href=\"#mda69343f8a\" y=\"235.238438\"/>\n      </g>\n     </g>\n    </g>\n    <g id=\"xtick_37\">\n     <g id=\"line2d_37\">\n      <g>\n       <use style=\"stroke:#000000;stroke-width:0.6;\" x=\"340.561255\" xlink:href=\"#mda69343f8a\" y=\"235.238438\"/>\n      </g>\n     </g>\n    </g>\n    <g id=\"xtick_38\">\n     <g id=\"line2d_38\">\n      <g>\n       <use style=\"stroke:#000000;stroke-width:0.6;\" x=\"353.486286\" xlink:href=\"#mda69343f8a\" y=\"235.238438\"/>\n      </g>\n     </g>\n    </g>\n    <g id=\"text_10\">\n     <!-- datetime -->\n     <defs>\n      <path d=\"M 45.40625 46.390625 \nL 45.40625 75.984375 \nL 54.390625 75.984375 \nL 54.390625 0 \nL 45.40625 0 \nL 45.40625 8.203125 \nQ 42.578125 3.328125 38.25 0.953125 \nQ 33.9375 -1.421875 27.875 -1.421875 \nQ 17.96875 -1.421875 11.734375 6.484375 \nQ 5.515625 14.40625 5.515625 27.296875 \nQ 5.515625 40.1875 11.734375 48.09375 \nQ 17.96875 56 27.875 56 \nQ 33.9375 56 38.25 53.625 \nQ 42.578125 51.265625 45.40625 46.390625 \nz\nM 14.796875 27.296875 \nQ 14.796875 17.390625 18.875 11.75 \nQ 22.953125 6.109375 30.078125 6.109375 \nQ 37.203125 6.109375 41.296875 11.75 \nQ 45.40625 17.390625 45.40625 27.296875 \nQ 45.40625 37.203125 41.296875 42.84375 \nQ 37.203125 48.484375 30.078125 48.484375 \nQ 22.953125 48.484375 18.875 42.84375 \nQ 14.796875 37.203125 14.796875 27.296875 \nz\n\" id=\"DejaVuSans-100\"/>\n      <path d=\"M 56.203125 29.59375 \nL 56.203125 25.203125 \nL 14.890625 25.203125 \nQ 15.484375 15.921875 20.484375 11.0625 \nQ 25.484375 6.203125 34.421875 6.203125 \nQ 39.59375 6.203125 44.453125 7.46875 \nQ 49.3125 8.734375 54.109375 11.28125 \nL 54.109375 2.78125 \nQ 49.265625 0.734375 44.1875 -0.34375 \nQ 39.109375 -1.421875 33.890625 -1.421875 \nQ 20.796875 -1.421875 13.15625 6.1875 \nQ 5.515625 13.8125 5.515625 26.8125 \nQ 5.515625 40.234375 12.765625 48.109375 \nQ 20.015625 56 32.328125 56 \nQ 43.359375 56 49.78125 48.890625 \nQ 56.203125 41.796875 56.203125 29.59375 \nz\nM 47.21875 32.234375 \nQ 47.125 39.59375 43.09375 43.984375 \nQ 39.0625 48.390625 32.421875 48.390625 \nQ 24.90625 48.390625 20.390625 44.140625 \nQ 15.875 39.890625 15.1875 32.171875 \nz\n\" id=\"DejaVuSans-101\"/>\n      <path d=\"M 9.421875 54.6875 \nL 18.40625 54.6875 \nL 18.40625 0 \nL 9.421875 0 \nz\nM 9.421875 75.984375 \nL 18.40625 75.984375 \nL 18.40625 64.59375 \nL 9.421875 64.59375 \nz\n\" id=\"DejaVuSans-105\"/>\n      <path d=\"M 52 44.1875 \nQ 55.375 50.25 60.0625 53.125 \nQ 64.75 56 71.09375 56 \nQ 79.640625 56 84.28125 50.015625 \nQ 88.921875 44.046875 88.921875 33.015625 \nL 88.921875 0 \nL 79.890625 0 \nL 79.890625 32.71875 \nQ 79.890625 40.578125 77.09375 44.375 \nQ 74.3125 48.1875 68.609375 48.1875 \nQ 61.625 48.1875 57.5625 43.546875 \nQ 53.515625 38.921875 53.515625 30.90625 \nL 53.515625 0 \nL 44.484375 0 \nL 44.484375 32.71875 \nQ 44.484375 40.625 41.703125 44.40625 \nQ 38.921875 48.1875 33.109375 48.1875 \nQ 26.21875 48.1875 22.15625 43.53125 \nQ 18.109375 38.875 18.109375 30.90625 \nL 18.109375 0 \nL 9.078125 0 \nL 9.078125 54.6875 \nL 18.109375 54.6875 \nL 18.109375 46.1875 \nQ 21.1875 51.21875 25.484375 53.609375 \nQ 29.78125 56 35.6875 56 \nQ 41.65625 56 45.828125 52.96875 \nQ 50 49.953125 52 44.1875 \nz\n\" id=\"DejaVuSans-109\"/>\n     </defs>\n     <g transform=\"translate(165.391406 274.712812)scale(0.1 -0.1)\">\n      <use xlink:href=\"#DejaVuSans-100\"/>\n      <use x=\"63.476562\" xlink:href=\"#DejaVuSans-97\"/>\n      <use x=\"124.755859\" xlink:href=\"#DejaVuSans-116\"/>\n      <use x=\"163.964844\" xlink:href=\"#DejaVuSans-101\"/>\n      <use x=\"225.488281\" xlink:href=\"#DejaVuSans-116\"/>\n      <use x=\"264.697266\" xlink:href=\"#DejaVuSans-105\"/>\n      <use x=\"292.480469\" xlink:href=\"#DejaVuSans-109\"/>\n      <use x=\"389.892578\" xlink:href=\"#DejaVuSans-101\"/>\n     </g>\n    </g>\n   </g>\n   <g id=\"matplotlib.axis_2\">\n    <g id=\"ytick_1\">\n     <g id=\"line2d_39\">\n      <defs>\n       <path d=\"M 0 0 \nL -3.5 0 \n\" id=\"m3737607e8e\" style=\"stroke:#000000;stroke-width:0.8;\"/>\n      </defs>\n      <g>\n       <use style=\"stroke:#000000;stroke-width:0.8;\" x=\"20.5625\" xlink:href=\"#m3737607e8e\" y=\"225.381777\"/>\n      </g>\n     </g>\n     <g id=\"text_11\">\n      <!-- 0 -->\n      <g transform=\"translate(7.2 229.180996)scale(0.1 -0.1)\">\n       <use xlink:href=\"#DejaVuSans-48\"/>\n      </g>\n     </g>\n    </g>\n    <g id=\"ytick_2\">\n     <g id=\"line2d_40\">\n      <g>\n       <use style=\"stroke:#000000;stroke-width:0.8;\" x=\"20.5625\" xlink:href=\"#m3737607e8e\" y=\"200.015452\"/>\n      </g>\n     </g>\n     <g id=\"text_12\">\n      <!-- 1 -->\n      <g transform=\"translate(7.2 203.814671)scale(0.1 -0.1)\">\n       <use xlink:href=\"#DejaVuSans-49\"/>\n      </g>\n     </g>\n    </g>\n    <g id=\"ytick_3\">\n     <g id=\"line2d_41\">\n      <g>\n       <use style=\"stroke:#000000;stroke-width:0.8;\" x=\"20.5625\" xlink:href=\"#m3737607e8e\" y=\"174.649127\"/>\n      </g>\n     </g>\n     <g id=\"text_13\">\n      <!-- 2 -->\n      <g transform=\"translate(7.2 178.448346)scale(0.1 -0.1)\">\n       <use xlink:href=\"#DejaVuSans-50\"/>\n      </g>\n     </g>\n    </g>\n    <g id=\"ytick_4\">\n     <g id=\"line2d_42\">\n      <g>\n       <use style=\"stroke:#000000;stroke-width:0.8;\" x=\"20.5625\" xlink:href=\"#m3737607e8e\" y=\"149.282802\"/>\n      </g>\n     </g>\n     <g id=\"text_14\">\n      <!-- 3 -->\n      <defs>\n       <path d=\"M 40.578125 39.3125 \nQ 47.65625 37.796875 51.625 33 \nQ 55.609375 28.21875 55.609375 21.1875 \nQ 55.609375 10.40625 48.1875 4.484375 \nQ 40.765625 -1.421875 27.09375 -1.421875 \nQ 22.515625 -1.421875 17.65625 -0.515625 \nQ 12.796875 0.390625 7.625 2.203125 \nL 7.625 11.71875 \nQ 11.71875 9.328125 16.59375 8.109375 \nQ 21.484375 6.890625 26.8125 6.890625 \nQ 36.078125 6.890625 40.9375 10.546875 \nQ 45.796875 14.203125 45.796875 21.1875 \nQ 45.796875 27.640625 41.28125 31.265625 \nQ 36.765625 34.90625 28.71875 34.90625 \nL 20.21875 34.90625 \nL 20.21875 43.015625 \nL 29.109375 43.015625 \nQ 36.375 43.015625 40.234375 45.921875 \nQ 44.09375 48.828125 44.09375 54.296875 \nQ 44.09375 59.90625 40.109375 62.90625 \nQ 36.140625 65.921875 28.71875 65.921875 \nQ 24.65625 65.921875 20.015625 65.03125 \nQ 15.375 64.15625 9.8125 62.3125 \nL 9.8125 71.09375 \nQ 15.4375 72.65625 20.34375 73.4375 \nQ 25.25 74.21875 29.59375 74.21875 \nQ 40.828125 74.21875 47.359375 69.109375 \nQ 53.90625 64.015625 53.90625 55.328125 \nQ 53.90625 49.265625 50.4375 45.09375 \nQ 46.96875 40.921875 40.578125 39.3125 \nz\n\" id=\"DejaVuSans-51\"/>\n      </defs>\n      <g transform=\"translate(7.2 153.08202)scale(0.1 -0.1)\">\n       <use xlink:href=\"#DejaVuSans-51\"/>\n      </g>\n     </g>\n    </g>\n    <g id=\"ytick_5\">\n     <g id=\"line2d_43\">\n      <g>\n       <use style=\"stroke:#000000;stroke-width:0.8;\" x=\"20.5625\" xlink:href=\"#m3737607e8e\" y=\"123.916477\"/>\n      </g>\n     </g>\n     <g id=\"text_15\">\n      <!-- 4 -->\n      <defs>\n       <path d=\"M 37.796875 64.3125 \nL 12.890625 25.390625 \nL 37.796875 25.390625 \nz\nM 35.203125 72.90625 \nL 47.609375 72.90625 \nL 47.609375 25.390625 \nL 58.015625 25.390625 \nL 58.015625 17.1875 \nL 47.609375 17.1875 \nL 47.609375 0 \nL 37.796875 0 \nL 37.796875 17.1875 \nL 4.890625 17.1875 \nL 4.890625 26.703125 \nz\n\" id=\"DejaVuSans-52\"/>\n      </defs>\n      <g transform=\"translate(7.2 127.715695)scale(0.1 -0.1)\">\n       <use xlink:href=\"#DejaVuSans-52\"/>\n      </g>\n     </g>\n    </g>\n    <g id=\"ytick_6\">\n     <g id=\"line2d_44\">\n      <g>\n       <use style=\"stroke:#000000;stroke-width:0.8;\" x=\"20.5625\" xlink:href=\"#m3737607e8e\" y=\"98.550151\"/>\n      </g>\n     </g>\n     <g id=\"text_16\">\n      <!-- 5 -->\n      <defs>\n       <path d=\"M 10.796875 72.90625 \nL 49.515625 72.90625 \nL 49.515625 64.59375 \nL 19.828125 64.59375 \nL 19.828125 46.734375 \nQ 21.96875 47.46875 24.109375 47.828125 \nQ 26.265625 48.1875 28.421875 48.1875 \nQ 40.625 48.1875 47.75 41.5 \nQ 54.890625 34.8125 54.890625 23.390625 \nQ 54.890625 11.625 47.5625 5.09375 \nQ 40.234375 -1.421875 26.90625 -1.421875 \nQ 22.3125 -1.421875 17.546875 -0.640625 \nQ 12.796875 0.140625 7.71875 1.703125 \nL 7.71875 11.625 \nQ 12.109375 9.234375 16.796875 8.0625 \nQ 21.484375 6.890625 26.703125 6.890625 \nQ 35.15625 6.890625 40.078125 11.328125 \nQ 45.015625 15.765625 45.015625 23.390625 \nQ 45.015625 31 40.078125 35.4375 \nQ 35.15625 39.890625 26.703125 39.890625 \nQ 22.75 39.890625 18.8125 39.015625 \nQ 14.890625 38.140625 10.796875 36.28125 \nz\n\" id=\"DejaVuSans-53\"/>\n      </defs>\n      <g transform=\"translate(7.2 102.34937)scale(0.1 -0.1)\">\n       <use xlink:href=\"#DejaVuSans-53\"/>\n      </g>\n     </g>\n    </g>\n    <g id=\"ytick_7\">\n     <g id=\"line2d_45\">\n      <g>\n       <use style=\"stroke:#000000;stroke-width:0.8;\" x=\"20.5625\" xlink:href=\"#m3737607e8e\" y=\"73.183826\"/>\n      </g>\n     </g>\n     <g id=\"text_17\">\n      <!-- 6 -->\n      <defs>\n       <path d=\"M 33.015625 40.375 \nQ 26.375 40.375 22.484375 35.828125 \nQ 18.609375 31.296875 18.609375 23.390625 \nQ 18.609375 15.53125 22.484375 10.953125 \nQ 26.375 6.390625 33.015625 6.390625 \nQ 39.65625 6.390625 43.53125 10.953125 \nQ 47.40625 15.53125 47.40625 23.390625 \nQ 47.40625 31.296875 43.53125 35.828125 \nQ 39.65625 40.375 33.015625 40.375 \nz\nM 52.59375 71.296875 \nL 52.59375 62.3125 \nQ 48.875 64.0625 45.09375 64.984375 \nQ 41.3125 65.921875 37.59375 65.921875 \nQ 27.828125 65.921875 22.671875 59.328125 \nQ 17.53125 52.734375 16.796875 39.40625 \nQ 19.671875 43.65625 24.015625 45.921875 \nQ 28.375 48.1875 33.59375 48.1875 \nQ 44.578125 48.1875 50.953125 41.515625 \nQ 57.328125 34.859375 57.328125 23.390625 \nQ 57.328125 12.15625 50.6875 5.359375 \nQ 44.046875 -1.421875 33.015625 -1.421875 \nQ 20.359375 -1.421875 13.671875 8.265625 \nQ 6.984375 17.96875 6.984375 36.375 \nQ 6.984375 53.65625 15.1875 63.9375 \nQ 23.390625 74.21875 37.203125 74.21875 \nQ 40.921875 74.21875 44.703125 73.484375 \nQ 48.484375 72.75 52.59375 71.296875 \nz\n\" id=\"DejaVuSans-54\"/>\n      </defs>\n      <g transform=\"translate(7.2 76.983045)scale(0.1 -0.1)\">\n       <use xlink:href=\"#DejaVuSans-54\"/>\n      </g>\n     </g>\n    </g>\n    <g id=\"ytick_8\">\n     <g id=\"line2d_46\">\n      <g>\n       <use style=\"stroke:#000000;stroke-width:0.8;\" x=\"20.5625\" xlink:href=\"#m3737607e8e\" y=\"47.817501\"/>\n      </g>\n     </g>\n     <g id=\"text_18\">\n      <!-- 7 -->\n      <defs>\n       <path d=\"M 8.203125 72.90625 \nL 55.078125 72.90625 \nL 55.078125 68.703125 \nL 28.609375 0 \nL 18.3125 0 \nL 43.21875 64.59375 \nL 8.203125 64.59375 \nz\n\" id=\"DejaVuSans-55\"/>\n      </defs>\n      <g transform=\"translate(7.2 51.61672)scale(0.1 -0.1)\">\n       <use xlink:href=\"#DejaVuSans-55\"/>\n      </g>\n     </g>\n    </g>\n    <g id=\"ytick_9\">\n     <g id=\"line2d_47\">\n      <g>\n       <use style=\"stroke:#000000;stroke-width:0.8;\" x=\"20.5625\" xlink:href=\"#m3737607e8e\" y=\"22.451176\"/>\n      </g>\n     </g>\n     <g id=\"text_19\">\n      <!-- 8 -->\n      <defs>\n       <path d=\"M 31.78125 34.625 \nQ 24.75 34.625 20.71875 30.859375 \nQ 16.703125 27.09375 16.703125 20.515625 \nQ 16.703125 13.921875 20.71875 10.15625 \nQ 24.75 6.390625 31.78125 6.390625 \nQ 38.8125 6.390625 42.859375 10.171875 \nQ 46.921875 13.96875 46.921875 20.515625 \nQ 46.921875 27.09375 42.890625 30.859375 \nQ 38.875 34.625 31.78125 34.625 \nz\nM 21.921875 38.8125 \nQ 15.578125 40.375 12.03125 44.71875 \nQ 8.5 49.078125 8.5 55.328125 \nQ 8.5 64.0625 14.71875 69.140625 \nQ 20.953125 74.21875 31.78125 74.21875 \nQ 42.671875 74.21875 48.875 69.140625 \nQ 55.078125 64.0625 55.078125 55.328125 \nQ 55.078125 49.078125 51.53125 44.71875 \nQ 48 40.375 41.703125 38.8125 \nQ 48.828125 37.15625 52.796875 32.3125 \nQ 56.78125 27.484375 56.78125 20.515625 \nQ 56.78125 9.90625 50.3125 4.234375 \nQ 43.84375 -1.421875 31.78125 -1.421875 \nQ 19.734375 -1.421875 13.25 4.234375 \nQ 6.78125 9.90625 6.78125 20.515625 \nQ 6.78125 27.484375 10.78125 32.3125 \nQ 14.796875 37.15625 21.921875 38.8125 \nz\nM 18.3125 54.390625 \nQ 18.3125 48.734375 21.84375 45.5625 \nQ 25.390625 42.390625 31.78125 42.390625 \nQ 38.140625 42.390625 41.71875 45.5625 \nQ 45.3125 48.734375 45.3125 54.390625 \nQ 45.3125 60.0625 41.71875 63.234375 \nQ 38.140625 66.40625 31.78125 66.40625 \nQ 25.390625 66.40625 21.84375 63.234375 \nQ 18.3125 60.0625 18.3125 54.390625 \nz\n\" id=\"DejaVuSans-56\"/>\n      </defs>\n      <g transform=\"translate(7.2 26.250395)scale(0.1 -0.1)\">\n       <use xlink:href=\"#DejaVuSans-56\"/>\n      </g>\n     </g>\n    </g>\n    <g id=\"text_20\">\n     <!-- 1e8 -->\n     <g transform=\"translate(20.5625 14.798438)scale(0.1 -0.1)\">\n      <use xlink:href=\"#DejaVuSans-49\"/>\n      <use x=\"63.623047\" xlink:href=\"#DejaVuSans-101\"/>\n      <use x=\"125.146484\" xlink:href=\"#DejaVuSans-56\"/>\n     </g>\n    </g>\n   </g>\n   <g id=\"line2d_48\">\n    <path clip-path=\"url(#p7bafe68053)\" d=\"M 35.780682 224.871987 \nL 36.197618 224.740582 \nL 36.614555 225.014967 \nL 38.699237 225.122969 \nL 39.116174 223.90174 \nL 39.53311 224.137333 \nL 39.950047 224.571939 \nL 40.366983 224.760981 \nL 41.200856 224.582349 \nL 42.034729 224.943989 \nL 42.451666 224.818009 \nL 42.868602 224.933679 \nL 43.285539 224.740073 \nL 43.702475 224.991163 \nL 44.119412 224.398142 \nL 44.536348 224.686819 \nL 45.787158 225.129041 \nL 46.204094 225.098078 \nL 46.621031 225.183665 \nL 47.037967 225.056467 \nL 47.454903 225.122829 \nL 47.87184 225.025494 \nL 48.705713 225.247311 \nL 49.122649 225.015495 \nL 49.539586 225.210851 \nL 50.373459 224.942455 \nL 51.207332 225.052867 \nL 51.624268 225.234339 \nL 52.458141 225.241312 \nL 53.292014 225.166019 \nL 54.95976 225.216238 \nL 55.376697 225.220355 \nL 55.793633 225.004325 \nL 56.21057 223.839896 \nL 56.627506 223.105703 \nL 57.044443 224.098416 \nL 57.461379 224.73451 \nL 58.295252 224.920963 \nL 59.129125 224.754907 \nL 59.546062 225.048377 \nL 60.379935 225.279488 \nL 60.796871 225.174677 \nL 61.630744 225.240128 \nL 62.047681 225.134398 \nL 62.464617 225.149078 \nL 63.29849 224.513356 \nL 63.715427 225.114736 \nL 64.5493 225.084726 \nL 65.383172 224.922626 \nL 65.800109 225.092519 \nL 66.633982 225.118308 \nL 67.884791 224.524085 \nL 68.301728 224.735282 \nL 68.718664 225.090207 \nL 69.135601 225.1147 \nL 69.552537 225.025689 \nL 69.969474 224.783036 \nL 70.38641 222.424153 \nL 70.803347 224.639639 \nL 71.220283 224.831717 \nL 71.63722 224.664821 \nL 72.054156 224.855669 \nL 72.471093 225.354801 \nL 73.304966 224.587573 \nL 73.721902 223.300082 \nL 74.138839 220.938106 \nL 74.555775 224.483779 \nL 74.972712 224.350281 \nL 75.389648 224.481619 \nL 75.806585 224.831405 \nL 76.223521 224.650975 \nL 76.640458 224.965198 \nL 77.057394 224.413093 \nL 77.474331 225.009159 \nL 77.891267 224.722076 \nL 78.308204 225.039705 \nL 78.72514 224.362529 \nL 79.142077 221.98172 \nL 79.559013 222.510335 \nL 80.392886 224.264346 \nL 80.809823 224.240387 \nL 81.226759 224.598243 \nL 81.643696 223.939922 \nL 82.060632 224.020718 \nL 82.477568 224.587498 \nL 82.894505 224.749151 \nL 83.728378 224.858789 \nL 84.145314 224.348639 \nL 84.562251 224.60765 \nL 84.979187 224.124263 \nL 85.396124 224.301833 \nL 85.81306 224.255844 \nL 86.229997 223.949154 \nL 86.646933 224.801583 \nL 87.06387 225.098993 \nL 87.897743 224.866911 \nL 88.314679 224.926847 \nL 88.731616 224.675416 \nL 89.148552 224.81089 \nL 89.565489 224.814124 \nL 90.399362 225.150302 \nL 90.816298 225.151107 \nL 91.233235 225.016379 \nL 92.900981 225.120669 \nL 93.317917 225.069919 \nL 93.734854 224.638919 \nL 94.568727 223.355965 \nL 94.985663 224.454922 \nL 95.4026 224.867827 \nL 95.819536 224.842136 \nL 96.236473 224.692171 \nL 96.653409 224.414937 \nL 97.070346 224.821178 \nL 97.487282 225.020074 \nL 97.904219 224.957161 \nL 98.321155 224.727203 \nL 99.988901 225.091637 \nL 100.822774 219.897926 \nL 101.23971 222.235135 \nL 101.656647 223.623336 \nL 102.073583 224.192016 \nL 102.49052 223.865188 \nL 102.907456 223.382376 \nL 103.324393 224.081959 \nL 103.741329 221.93562 \nL 104.158266 221.974003 \nL 104.575202 223.34646 \nL 104.992139 221.59199 \nL 105.409075 219.088999 \nL 106.242948 222.744002 \nL 107.076821 224.061592 \nL 107.493758 223.967342 \nL 107.910694 223.490687 \nL 108.327631 221.862809 \nL 108.744567 222.675839 \nL 109.161504 223.004453 \nL 109.57844 223.045651 \nL 109.995377 223.874154 \nL 110.412313 222.608706 \nL 110.82925 221.747762 \nL 111.246186 220.376014 \nL 111.663123 223.184649 \nL 112.913932 224.226576 \nL 113.747805 224.01505 \nL 114.164742 223.923051 \nL 114.581678 224.074197 \nL 114.998615 224.545983 \nL 115.415551 223.660917 \nL 115.832488 223.72049 \nL 116.249424 223.372327 \nL 117.083297 224.410591 \nL 117.500233 224.296307 \nL 118.751043 224.745407 \nL 119.167979 223.666848 \nL 120.418789 223.912691 \nL 120.835725 223.75149 \nL 121.252662 224.497607 \nL 121.669598 224.407231 \nL 122.086535 223.750406 \nL 122.503471 225.346125 \nL 122.920408 223.740838 \nL 123.337344 224.440916 \nL 123.754281 224.328116 \nL 124.171217 224.455803 \nL 124.588154 224.791739 \nL 125.00509 224.92096 \nL 125.422027 224.391626 \nL 125.838963 223.390491 \nL 126.2559 224.293993 \nL 126.672836 223.402026 \nL 127.089773 221.350352 \nL 127.506709 223.209984 \nL 127.923646 221.136339 \nL 129.174455 223.605706 \nL 129.591392 221.975757 \nL 130.008328 224.162771 \nL 130.425265 223.014058 \nL 130.842201 223.068947 \nL 131.259138 224.327128 \nL 131.676074 224.526659 \nL 132.509947 224.122009 \nL 132.926884 224.2534 \nL 133.34382 224.741453 \nL 133.760757 224.533401 \nL 134.177693 223.236943 \nL 134.59463 223.941942 \nL 135.011566 223.670122 \nL 135.428502 223.560705 \nL 136.262375 224.556937 \nL 136.679312 222.878608 \nL 137.096248 222.253696 \nL 137.513185 221.107213 \nL 137.930121 221.684222 \nL 138.347058 223.221475 \nL 138.763994 223.95804 \nL 139.180931 223.664836 \nL 139.597867 223.967051 \nL 140.014804 223.386966 \nL 140.43174 223.969371 \nL 140.848677 223.608403 \nL 141.68255 224.210982 \nL 142.099486 224.028593 \nL 142.516423 224.434403 \nL 142.933359 224.213568 \nL 143.350296 224.658688 \nL 144.601105 224.467101 \nL 145.018042 224.70544 \nL 145.851915 224.355234 \nL 146.268851 224.350219 \nL 146.685788 224.149673 \nL 147.102724 224.260712 \nL 147.936597 224.747899 \nL 148.77047 224.618473 \nL 149.187407 224.457021 \nL 149.604343 224.558567 \nL 150.02128 224.878084 \nL 150.438216 224.194074 \nL 150.855153 224.535597 \nL 151.272089 224.560093 \nL 152.105962 222.376033 \nL 152.522899 223.627398 \nL 152.939835 221.211467 \nL 153.773708 222.296012 \nL 154.190644 223.461061 \nL 154.607581 223.545318 \nL 155.024517 217.385878 \nL 155.441454 220.750786 \nL 155.85839 219.136582 \nL 156.275327 218.143122 \nL 156.692263 221.697813 \nL 157.1092 217.806672 \nL 157.526136 220.46832 \nL 157.943073 216.132763 \nL 158.360009 201.328483 \nL 158.776946 213.553293 \nL 159.193882 215.391533 \nL 159.610819 215.224359 \nL 160.027755 217.498522 \nL 160.444692 214.160181 \nL 160.861628 215.589447 \nL 161.278565 218.311155 \nL 161.695501 213.179581 \nL 162.529374 220.7963 \nL 162.946311 221.193259 \nL 163.363247 221.751443 \nL 163.780184 221.180321 \nL 164.19712 214.57815 \nL 164.614057 212.645817 \nL 165.030993 216.545375 \nL 165.44793 221.949772 \nL 165.864866 222.081189 \nL 166.281803 221.049308 \nL 166.698739 220.970527 \nL 167.115676 222.298201 \nL 167.532612 165.732711 \nL 167.949549 172.073017 \nL 168.366485 205.837008 \nL 168.783422 211.140914 \nL 169.200358 194.756227 \nL 169.617295 202.805291 \nL 170.034231 216.030495 \nL 170.451167 215.483929 \nL 170.868104 212.65438 \nL 171.28504 210.975778 \nL 172.118913 219.036256 \nL 172.53585 225.226399 \nL 172.952786 185.272875 \nL 173.369723 191.365005 \nL 173.786659 178.95025 \nL 174.203596 27.682074 \nL 174.620532 134.298997 \nL 175.037469 152.78816 \nL 175.454405 140.916712 \nL 175.871342 182.55488 \nL 176.288278 189.868694 \nL 176.705215 187.879208 \nL 177.122151 204.921791 \nL 177.539088 206.259561 \nL 177.956024 202.942651 \nL 178.372961 190.43693 \nL 178.789897 189.815483 \nL 179.206834 201.300225 \nL 179.62377 188.729207 \nL 180.457643 202.417514 \nL 180.87458 206.467184 \nL 181.291516 206.302114 \nL 182.125389 194.627856 \nL 182.542326 212.41093 \nL 182.959262 212.993428 \nL 183.376199 217.032645 \nL 183.793135 216.450852 \nL 184.210072 213.002587 \nL 184.627008 211.727583 \nL 185.460881 219.714771 \nL 185.877818 215.976423 \nL 186.294754 219.550559 \nL 186.711691 219.945 \nL 187.128627 215.332867 \nL 187.545564 215.411228 \nL 187.9625 218.618266 \nL 188.379436 210.967155 \nL 188.796373 196.618604 \nL 189.213309 209.528429 \nL 189.630246 210.851396 \nL 190.047182 210.10416 \nL 190.464119 214.559358 \nL 190.881055 216.690195 \nL 191.297992 218.019509 \nL 191.714928 212.744999 \nL 192.548801 217.308522 \nL 192.965738 215.774827 \nL 193.382674 206.502515 \nL 193.799611 215.272735 \nL 194.216547 215.626426 \nL 194.633484 219.070715 \nL 195.05042 214.133642 \nL 195.467357 213.293615 \nL 195.884293 215.625894 \nL 196.30123 214.332938 \nL 196.718166 218.119779 \nL 197.135103 215.156421 \nL 197.552039 220.132597 \nL 197.968976 218.484841 \nL 198.385912 219.54577 \nL 198.802849 217.786892 \nL 199.219785 218.043622 \nL 199.636722 217.479691 \nL 200.053658 219.880363 \nL 200.470595 220.969228 \nL 200.887531 222.55389 \nL 201.304468 220.027451 \nL 201.721404 219.526538 \nL 202.555277 219.900338 \nL 202.972214 219.725706 \nL 203.38915 221.193305 \nL 203.806087 218.900761 \nL 204.223023 219.483562 \nL 204.63996 221.301823 \nL 205.056896 221.232555 \nL 205.473833 221.33243 \nL 205.890769 214.456527 \nL 206.724642 219.938271 \nL 207.141578 220.721195 \nL 207.558515 218.372196 \nL 207.975451 212.94005 \nL 208.392388 209.984883 \nL 208.809324 218.168894 \nL 209.226261 219.943818 \nL 209.643197 220.866947 \nL 210.060134 219.523468 \nL 210.47707 200.850334 \nL 210.894007 210.680846 \nL 211.310943 214.622533 \nL 211.72788 219.658881 \nL 212.144816 221.994691 \nL 212.561753 220.04181 \nL 212.978689 220.400831 \nL 213.395626 218.961533 \nL 213.812562 216.016623 \nL 214.229499 215.76658 \nL 214.646435 220.002057 \nL 215.063372 221.378546 \nL 215.480308 209.945054 \nL 216.314181 198.336642 \nL 216.731118 183.335787 \nL 217.148054 194.835185 \nL 217.564991 201.423843 \nL 217.981927 212.660146 \nL 218.398864 214.179213 \nL 218.8158 213.123299 \nL 219.232737 214.153052 \nL 219.649673 221.400004 \nL 220.06661 209.086515 \nL 220.900483 219.121503 \nL 221.317419 218.430573 \nL 221.734356 205.738945 \nL 222.151292 204.474889 \nL 222.568229 212.099872 \nL 222.985165 206.051581 \nL 223.819038 199.681288 \nL 224.235974 212.195657 \nL 224.652911 209.54869 \nL 225.069847 217.544932 \nL 225.486784 218.239454 \nL 225.90372 216.792131 \nL 226.320657 217.204541 \nL 226.737593 220.655452 \nL 227.15453 221.544027 \nL 227.571466 220.33013 \nL 227.988403 220.664399 \nL 228.405339 218.475507 \nL 228.822276 219.154345 \nL 229.239212 218.184193 \nL 229.656149 214.98125 \nL 230.073085 218.710145 \nL 230.490022 219.752492 \nL 230.906958 217.298856 \nL 231.323895 208.418987 \nL 231.740831 204.857111 \nL 232.157768 209.171369 \nL 232.574704 217.899273 \nL 232.991641 219.309282 \nL 233.408577 215.806106 \nL 233.825514 214.773879 \nL 234.24245 215.569367 \nL 234.659387 215.75489 \nL 235.076323 207.256775 \nL 235.49326 216.210294 \nL 235.910196 216.42373 \nL 236.327133 212.480109 \nL 236.744069 213.994022 \nL 237.161006 214.010555 \nL 237.577942 216.775925 \nL 237.994879 217.497253 \nL 238.411815 220.054066 \nL 238.828752 219.791892 \nL 239.245688 219.231407 \nL 239.662625 219.062683 \nL 240.079561 216.034084 \nL 240.496498 216.809179 \nL 241.33037 220.084639 \nL 241.747307 221.249668 \nL 242.164243 219.889638 \nL 242.58118 205.223454 \nL 242.998116 215.693246 \nL 243.415053 216.275062 \nL 243.831989 220.687545 \nL 244.248926 221.33472 \nL 244.665862 219.826498 \nL 245.082799 220.266335 \nL 245.499735 214.694333 \nL 245.916672 214.836543 \nL 246.333608 217.708685 \nL 246.750545 219.057118 \nL 247.167481 221.221387 \nL 247.584418 225.283575 \nL 248.001354 220.862601 \nL 248.835227 222.675995 \nL 249.252164 221.44016 \nL 249.6691 221.294994 \nL 250.086037 222.859407 \nL 250.502973 222.366171 \nL 250.91991 223.105894 \nL 251.336846 222.10693 \nL 251.753783 222.616961 \nL 252.170719 222.478416 \nL 252.587656 221.797817 \nL 253.004592 222.815303 \nL 253.421529 222.312661 \nL 253.838465 219.27578 \nL 254.255402 213.2155 \nL 254.672338 204.324184 \nL 255.089275 215.749744 \nL 255.506211 215.407302 \nL 255.923148 216.037612 \nL 256.340084 219.252879 \nL 256.757021 220.338977 \nL 257.173957 211.677799 \nL 257.590894 212.067758 \nL 258.00783 214.9705 \nL 258.424767 201.184059 \nL 258.841703 214.998935 \nL 259.258639 212.550096 \nL 259.675576 217.195385 \nL 260.092512 218.167746 \nL 260.509449 221.124133 \nL 260.926385 216.113222 \nL 261.343322 217.551695 \nL 261.760258 221.445541 \nL 262.177195 221.055209 \nL 262.594131 218.22025 \nL 263.011068 218.745714 \nL 263.428004 214.777442 \nL 263.844941 212.055023 \nL 264.261877 217.007833 \nL 264.678814 218.995763 \nL 265.09575 218.601862 \nL 265.512687 218.761465 \nL 266.34656 215.297599 \nL 266.763496 215.437763 \nL 267.180433 190.050806 \nL 267.597369 200.565042 \nL 268.014306 207.783632 \nL 268.431242 207.916465 \nL 268.848179 191.031976 \nL 269.265115 181.23964 \nL 269.682052 198.120231 \nL 270.098988 191.005813 \nL 270.932861 160.910634 \nL 271.766734 190.283478 \nL 272.183671 190.254152 \nL 272.600607 193.244823 \nL 273.017544 202.500041 \nL 273.43448 206.196394 \nL 273.851417 208.460916 \nL 274.68529 195.37101 \nL 275.102226 178.147136 \nL 275.519163 181.467372 \nL 275.936099 182.052418 \nL 276.353035 190.420587 \nL 276.769972 189.682491 \nL 277.186908 191.745173 \nL 278.020781 164.934026 \nL 278.437718 185.657549 \nL 278.854654 200.136832 \nL 279.271591 199.429459 \nL 280.105464 158.444691 \nL 280.5224 185.9108 \nL 280.939337 186.557675 \nL 281.356273 125.171054 \nL 281.77321 143.234383 \nL 282.190146 198.082783 \nL 282.607083 196.857389 \nL 283.024019 179.288155 \nL 283.857892 199.990456 \nL 284.274829 183.453665 \nL 284.691765 174.869696 \nL 285.108702 201.757767 \nL 285.525638 198.711388 \nL 285.942575 197.154582 \nL 286.359511 199.585738 \nL 286.776448 208.023088 \nL 287.193384 211.962713 \nL 287.610321 210.068285 \nL 288.027257 209.316904 \nL 288.444194 213.419844 \nL 288.86113 211.946094 \nL 289.278067 211.307322 \nL 289.695003 205.387548 \nL 290.11194 206.031168 \nL 290.528876 211.355145 \nL 291.362749 217.704943 \nL 291.779686 204.518694 \nL 292.196622 174.877233 \nL 292.613559 179.450658 \nL 293.030495 159.592255 \nL 293.447432 156.089752 \nL 293.864368 171.961692 \nL 294.281304 165.225071 \nL 294.698241 171.314626 \nL 295.115177 189.097501 \nL 295.532114 196.22628 \nL 295.94905 180.200696 \nL 296.365987 196.846347 \nL 296.782923 188.076677 \nL 297.19986 187.765864 \nL 297.616796 180.652218 \nL 298.033733 193.530894 \nL 298.450669 197.013234 \nL 298.867606 191.004631 \nL 299.284542 200.553328 \nL 299.701479 203.189061 \nL 300.535352 193.232149 \nL 300.952288 201.745565 \nL 301.369225 183.200628 \nL 302.203098 206.799974 \nL 302.620034 215.054016 \nL 303.036971 212.761295 \nL 303.453907 203.837766 \nL 303.870844 214.738337 \nL 304.28778 212.179401 \nL 304.704717 204.023906 \nL 305.121653 205.755008 \nL 305.53859 182.701042 \nL 305.955526 183.81193 \nL 306.789399 208.811522 \nL 307.206336 211.802923 \nL 307.623272 208.673617 \nL 308.040209 212.396685 \nL 308.457145 215.001096 \nL 308.874082 215.268681 \nL 309.291018 210.041123 \nL 309.707955 215.395203 \nL 310.124891 197.879316 \nL 310.541828 201.216951 \nL 310.958764 208.273269 \nL 311.3757 211.167272 \nL 311.792637 204.884362 \nL 312.209573 209.44988 \nL 312.62651 211.971127 \nL 313.043446 215.607979 \nL 313.460383 214.366215 \nL 313.877319 212.375096 \nL 314.294256 211.991384 \nL 314.711192 202.266463 \nL 315.128129 197.254157 \nL 315.545065 199.38551 \nL 315.962002 211.56246 \nL 317.212811 220.243837 \nL 317.629748 217.845139 \nL 318.046684 217.975273 \nL 318.463621 216.043822 \nL 318.880557 216.584205 \nL 319.297494 206.786266 \nL 319.71443 212.238601 \nL 320.131367 220.172309 \nL 320.548303 219.421634 \nL 320.96524 205.238138 \nL 321.382176 214.664067 \nL 321.799113 212.570015 \nL 322.216049 213.204768 \nL 322.632986 216.725295 \nL 323.049922 215.816195 \nL 323.466859 220.328294 \nL 323.883795 208.461422 \nL 324.300732 184.831859 \nL 325.551541 207.836527 \nL 325.968478 205.907541 \nL 326.385414 209.822088 \nL 326.802351 211.503803 \nL 327.219287 216.203614 \nL 327.636224 212.489948 \nL 328.05316 201.918348 \nL 328.887033 215.222617 \nL 329.303969 213.018596 \nL 329.720906 183.453919 \nL 330.137842 166.82802 \nL 330.554779 141.524196 \nL 331.388652 180.460024 \nL 331.805588 200.038208 \nL 332.222525 133.693073 \nL 332.639461 34.338447 \nL 333.056398 95.931393 \nL 333.473334 99.071662 \nL 333.890271 107.165712 \nL 334.307207 170.541664 \nL 334.724144 157.555108 \nL 335.14108 185.443616 \nL 335.558017 162.246805 \nL 335.974953 164.623077 \nL 336.39189 173.133263 \nL 336.808826 162.495085 \nL 337.225763 185.032803 \nL 337.642699 185.706881 \nL 338.059636 166.056152 \nL 338.476572 124.325438 \nL 338.893509 177.648003 \nL 339.310445 184.10962 \nL 340.144318 175.424025 \nL 340.144318 175.424025 \n\" style=\"fill:none;stroke:#1f77b4;stroke-linecap:square;stroke-width:1.5;\"/>\n   </g>\n   <g id=\"patch_3\">\n    <path d=\"M 20.5625 235.238438 \nL 20.5625 17.798438 \n\" style=\"fill:none;stroke:#000000;stroke-linecap:square;stroke-linejoin:miter;stroke-width:0.8;\"/>\n   </g>\n   <g id=\"patch_4\">\n    <path d=\"M 355.3625 235.238438 \nL 355.3625 17.798438 \n\" style=\"fill:none;stroke:#000000;stroke-linecap:square;stroke-linejoin:miter;stroke-width:0.8;\"/>\n   </g>\n   <g id=\"patch_5\">\n    <path d=\"M 20.5625 235.238438 \nL 355.3625 235.238438 \n\" style=\"fill:none;stroke:#000000;stroke-linecap:square;stroke-linejoin:miter;stroke-width:0.8;\"/>\n   </g>\n   <g id=\"patch_6\">\n    <path d=\"M 20.5625 17.798438 \nL 355.3625 17.798438 \n\" style=\"fill:none;stroke:#000000;stroke-linecap:square;stroke-linejoin:miter;stroke-width:0.8;\"/>\n   </g>\n   <g id=\"legend_1\">\n    <g id=\"patch_7\">\n     <path d=\"M 27.5625 40.476563 \nL 96.723438 40.476563 \nQ 98.723438 40.476563 98.723438 38.476563 \nL 98.723438 24.798438 \nQ 98.723438 22.798438 96.723438 22.798438 \nL 27.5625 22.798438 \nQ 25.5625 22.798438 25.5625 24.798438 \nL 25.5625 38.476563 \nQ 25.5625 40.476563 27.5625 40.476563 \nz\n\" style=\"fill:#ffffff;opacity:0.8;stroke:#cccccc;stroke-linejoin:miter;\"/>\n    </g>\n    <g id=\"line2d_49\">\n     <path d=\"M 29.5625 30.896875 \nL 49.5625 30.896875 \n\" style=\"fill:none;stroke:#1f77b4;stroke-linecap:square;stroke-width:1.5;\"/>\n    </g>\n    <g id=\"line2d_50\"/>\n    <g id=\"text_21\">\n     <!-- real.vol -->\n     <defs>\n      <path d=\"M 10.6875 12.40625 \nL 21 12.40625 \nL 21 0 \nL 10.6875 0 \nz\n\" id=\"DejaVuSans-46\"/>\n      <path d=\"M 2.984375 54.6875 \nL 12.5 54.6875 \nL 29.59375 8.796875 \nL 46.6875 54.6875 \nL 56.203125 54.6875 \nL 35.6875 0 \nL 23.484375 0 \nz\n\" id=\"DejaVuSans-118\"/>\n      <path d=\"M 30.609375 48.390625 \nQ 23.390625 48.390625 19.1875 42.75 \nQ 14.984375 37.109375 14.984375 27.296875 \nQ 14.984375 17.484375 19.15625 11.84375 \nQ 23.34375 6.203125 30.609375 6.203125 \nQ 37.796875 6.203125 41.984375 11.859375 \nQ 46.1875 17.53125 46.1875 27.296875 \nQ 46.1875 37.015625 41.984375 42.703125 \nQ 37.796875 48.390625 30.609375 48.390625 \nz\nM 30.609375 56 \nQ 42.328125 56 49.015625 48.375 \nQ 55.71875 40.765625 55.71875 27.296875 \nQ 55.71875 13.875 49.015625 6.21875 \nQ 42.328125 -1.421875 30.609375 -1.421875 \nQ 18.84375 -1.421875 12.171875 6.21875 \nQ 5.515625 13.875 5.515625 27.296875 \nQ 5.515625 40.765625 12.171875 48.375 \nQ 18.84375 56 30.609375 56 \nz\n\" id=\"DejaVuSans-111\"/>\n     </defs>\n     <g transform=\"translate(57.5625 34.396875)scale(0.1 -0.1)\">\n      <use xlink:href=\"#DejaVuSans-114\"/>\n      <use x=\"41.082031\" xlink:href=\"#DejaVuSans-101\"/>\n      <use x=\"102.605469\" xlink:href=\"#DejaVuSans-97\"/>\n      <use x=\"163.884766\" xlink:href=\"#DejaVuSans-108\"/>\n      <use x=\"191.667969\" xlink:href=\"#DejaVuSans-46\"/>\n      <use x=\"223.455078\" xlink:href=\"#DejaVuSans-118\"/>\n      <use x=\"282.634766\" xlink:href=\"#DejaVuSans-111\"/>\n      <use x=\"343.816406\" xlink:href=\"#DejaVuSans-108\"/>\n     </g>\n    </g>\n   </g>\n  </g>\n </g>\n <defs>\n  <clipPath id=\"p7bafe68053\">\n   <rect height=\"217.44\" width=\"334.8\" x=\"20.5625\" y=\"17.798438\"/>\n  </clipPath>\n </defs>\n</svg>\n",
      "image/png": "[encoded data removed]"
     },
     "metadata": {
      "needs_background": "light"
     }
    }
   ],
   "source": [
    "df_tx_realvol.astype('int').plot()"
   ]
  },
  {
   "cell_type": "code",
   "execution_count": null,
   "metadata": {},
   "outputs": [],
   "source": [
    "# Trading volume by pair USD/USDC/BTC/ETH/USDT\n",
    "\n",
    "# Join all hourly volume data to one df\n",
    "# Drop price columns (erc20 to usd to be used from df_ohlcv_hr)\n",
    "\n",
    "# Exchange volume day joins\n",
    "df_link_cexvol_day = df_binance_linkbtc.drop(columns=['open','close','high','low']).join(\n",
    "    df_binance_linkbtc.drop(columns=['open','close','high','low']), rsuffix='_1' \n",
    ").join(\n",
    "    df_binance_linketh.drop(columns=['open','close','high','low']), rsuffix='_2' \n",
    ").join(\n",
    "    df_binance_linkusdc.drop(columns=['open','close','high','low']), rsuffix='_3'\n",
    ").join(\n",
    "    df_binance_linkusdt.drop(columns=['open','close','high','low']), rsuffix='_4'\n",
    ").join(\n",
    "    df_binanceus_linkusd.drop(columns=['open','close','high','low']), rsuffix='_5' \n",
    ").join(\n",
    "    df_binanceusa_linkusd.drop(columns=['open','close','high','low']), rsuffix='_6'\n",
    ").join(\n",
    "# Coinbase\n",
    "    df_coinbase_linkusd.drop(columns=['open','close','high','low']), rsuffix='_7' \n",
    ").join(\n",
    "    df_coinbase_linketh.drop(columns=['open','close','high','low']), rsuffix='_8' \n",
    "# Gemini\n",
    ").join(\n",
    "    df_gemini_linkusd.drop(columns=['open','close','high','low']), rsuffix='_9' \n",
    ").join(\n",
    "    df_gemini_linkbtc.drop(columns=['open','close','high','low']), rsuffix='_10' \n",
    "# Kraken\n",
    ").join(\n",
    "    df_kraken_linkbtc.drop(columns=['open','close','high','low']), rsuffix='_11' \n",
    ").join(\n",
    "    df_kraken_linketh.drop(columns=['open','close','high','low']), rsuffix='_12' \n",
    ").join(\n",
    "    df_kraken_linkusd.drop(columns=['open','close','high','low']), rsuffix='_13' \n",
    ").join(\n",
    "# Bittrex\n",
    "    df_bittrex_linkusdt.drop(columns=['open','close','high','low']), rsuffix='_14' \n",
    ").join(\n",
    "    df_bittrex_linkbtc.drop(columns=['open','close','high','low']), rsuffix='_15' \n",
    ").join(    \n",
    "    df_bittrex_linketh.drop(columns=['open','close','high','low']), rsuffix='_16' \n",
    ").join(\n",
    "# Poloniex\n",
    "    df_poloniex_linkusdt.drop(columns=['open','close','high','low']), rsuffix='_17' \n",
    ").join(\n",
    "    df_poloniex_linkbtc.drop(columns=['open','close','high','low']), rsuffix='_18'\n",
    ").join(\n",
    "# Uniswap\n",
    "    df_uniswap_linketh.drop(columns=['open','close','high','low']), rsuffix='_18'\n",
    ")\n",
    "\n",
    "# DEX trading volumes\n",
    "df_link_dexvol_day = df_uniswap_linketh.drop(columns=['open','close','high','low']).join(\n",
    "    df_0x_linketh.drop(columns=['fillCount','fillVolume.USD','fillVolume.token','price.close']), rsuffix='_1' \n",
    ").join(\n",
    "    df_bancor_linketh.drop(columns=['volume.eur']), rsuffix='_2'\n",
    ")\n",
    "\n",
    "df_link_dexvol_day = df_link_dexvol_day.rename(columns={'tradeCount':'tradeCount_0x','tradeVolume.USD':'tradeVolume.USD_0x', 'tradeVolume.token': 'tradeVolume.token_0x','volume.eth':'volume.eth_bancor', 'volume.usd': 'volume.usd_bancor'})"
   ]
  },
  {
   "cell_type": "code",
   "execution_count": null,
   "metadata": {},
   "outputs": [],
   "source": [
    "# CEX\n",
    "df_link_cexvol_day"
   ]
  },
  {
   "cell_type": "code",
   "execution_count": null,
   "metadata": {},
   "outputs": [],
   "source": [
    "# DEX\n",
    "df_link_dexvol_day"
   ]
  },
  {
   "cell_type": "markdown",
   "metadata": {},
   "source": [
    "Lending platforms\n",
    "\n",
    "**3rd party lending plaforms** - list of platforms for token / Interest rates (static/timeseries) / Outstanding "
   ]
  },
  {
   "cell_type": "code",
   "execution_count": null,
   "metadata": {},
   "outputs": [],
   "source": [
    "# Defi"
   ]
  },
  {
   "cell_type": "markdown",
   "metadata": {},
   "source": [
    "### hourly"
   ]
  },
  {
   "cell_type": "markdown",
   "metadata": {},
   "source": [
    "**Token info** - onchain activity/token allocation/asset price returns/token ownersip/ treasury funds/token age (or seniority)\n",
    "\n",
    "- asset price\n",
    "- real volume"
   ]
  },
  {
   "cell_type": "code",
   "execution_count": null,
   "metadata": {},
   "outputs": [],
   "source": []
  },
  {
   "cell_type": "markdown",
   "metadata": {},
   "source": [
    "---\n",
    "---\n",
    "\n",
    "## Clean data"
   ]
  },
  {
   "cell_type": "markdown",
   "metadata": {},
   "source": [
    "### Static data"
   ]
  },
  {
   "cell_type": "code",
   "execution_count": null,
   "metadata": {},
   "outputs": [],
   "source": [
    "# All dfs\n",
    "# Token info\n",
    "df_coininfo\n",
    "\n",
    "# Exchanges\n",
    "df_markets_coin\n",
    "df_highestpairs\n",
    "\n",
    "# 3rd party lending\n",
    "df_defi_rates"
   ]
  },
  {
   "cell_type": "markdown",
   "metadata": {},
   "source": [
    "**Token info** - onchain activity/token allocation/asset price returns/token ownersip/ treasury funds/token age (or seniority)"
   ]
  },
  {
   "cell_type": "markdown",
   "metadata": {},
   "source": [
    "**Exchanges** - list exchanges / centralised exchanges / list exchanges tokens listed / trading real volume (global) / tokens on exchanges / exchange volume by pair / token velocity (again?)"
   ]
  },
  {
   "cell_type": "code",
   "execution_count": null,
   "metadata": {},
   "outputs": [],
   "source": [
    "# For visual clarity, pivot table\n",
    "# pivot table\n",
    "df_coininfo = df_coininfo.melt()\n",
    "df_coininfo.set_index('variable', inplace=True)"
   ]
  },
  {
   "cell_type": "markdown",
   "metadata": {},
   "source": [
    "**3rd party lending plaforms** - list of platforms for token / Interest rates (static/timeseries) / Outstanding "
   ]
  },
  {
   "cell_type": "code",
   "execution_count": null,
   "metadata": {},
   "outputs": [],
   "source": [
    "# Exchanges chapter\n",
    "# Centralised exchanges\n",
    "\n",
    "# List exchanges tokens listed + pairs + last volume reported\n",
    "df_markets_coin = get_markets_bycoin('chainlink')\n",
    "df_highestpairs = get_toppairs_vol('LINK', limit=10) # not sure if relevant\n",
    "\n",
    "# calculate share of vol by exchange (all pairs)\n",
    "# calculate share of vol by trading pair"
   ]
  },
  {
   "cell_type": "markdown",
   "metadata": {},
   "source": [
    "### Daily data"
   ]
  },
  {
   "cell_type": "markdown",
   "metadata": {},
   "source": [
    "**Token info** - onchain activity/token allocation/asset price returns/token ownersip/ treasury funds/token age (or seniority)"
   ]
  },
  {
   "cell_type": "markdown",
   "metadata": {},
   "source": [
    "**Exchanges** - list exchanges / centralised exchanges / list exchanges tokens listed / trading real volume (global) / tokens on exchanges / exchange volume by pair / token velocity (again?)"
   ]
  },
  {
   "cell_type": "markdown",
   "metadata": {},
   "source": [
    "Lending platforms\n",
    "\n",
    "**3rd party lending plaforms** - list of platforms for token / Interest rates (static/timeseries) / Outstanding"
   ]
  },
  {
   "cell_type": "code",
   "execution_count": null,
   "metadata": {},
   "outputs": [],
   "source": [
    "# Defi\n",
    "\n",
    "# df = df.apply(pd.to_numeric, errors='coerce')\n",
    "# df.loc[df['asset'] == 'link']\n",
    "\n",
    "# df = get_defi_protocol_statshist('aave','link')\n",
    "# pd.to_numeric(df['aave_link_supp_vol'],errors='coerce').astype('int').plot()\n",
    "# df = df.apply(pd.to_numeric, errors='coerce')"
   ]
  },
  {
   "cell_type": "markdown",
   "metadata": {},
   "source": [
    "### Hourly data"
   ]
  },
  {
   "cell_type": "code",
   "execution_count": null,
   "metadata": {},
   "outputs": [],
   "source": []
  },
  {
   "cell_type": "markdown",
   "metadata": {},
   "source": [
    "---\n",
    "---\n",
    "\n",
    "## Analyse data\n"
   ]
  },
  {
   "cell_type": "markdown",
   "metadata": {},
   "source": [
    "### Static data"
   ]
  },
  {
   "cell_type": "code",
   "execution_count": null,
   "metadata": {},
   "outputs": [],
   "source": []
  },
  {
   "cell_type": "code",
   "execution_count": null,
   "metadata": {},
   "outputs": [],
   "source": []
  },
  {
   "cell_type": "markdown",
   "metadata": {},
   "source": [
    "### Timeseries - daily"
   ]
  },
  {
   "cell_type": "code",
   "execution_count": null,
   "metadata": {},
   "outputs": [],
   "source": []
  },
  {
   "cell_type": "code",
   "execution_count": null,
   "metadata": {},
   "outputs": [],
   "source": []
  },
  {
   "cell_type": "markdown",
   "metadata": {},
   "source": [
    "### Timeseries - hourly"
   ]
  },
  {
   "cell_type": "code",
   "execution_count": null,
   "metadata": {},
   "outputs": [],
   "source": [
    "# Data ready for analysis\n",
    "df_pricevol_hr"
   ]
  },
  {
   "cell_type": "code",
   "execution_count": null,
   "metadata": {},
   "outputs": [],
   "source": []
  },
  {
   "cell_type": "markdown",
   "metadata": {},
   "source": [
    "---\n",
    "---\n",
    "## ANALYSIS REPORT"
   ]
  },
  {
   "cell_type": "code",
   "execution_count": null,
   "metadata": {},
   "outputs": [],
   "source": []
  },
  {
   "cell_type": "code",
   "execution_count": null,
   "metadata": {},
   "outputs": [],
   "source": []
  },
  {
   "cell_type": "markdown",
   "metadata": {},
   "source": [
    "---\n",
    "\n",
    "## Experimentations"
   ]
  },
  {
   "cell_type": "code",
   "execution_count": null,
   "metadata": {},
   "outputs": [],
   "source": [
    "import requests\n",
    "import pandas as pd\n",
    "import matplotlib.pyplot as plt\n",
    "\n",
    "%matplotlib inline"
   ]
  },
  {
   "cell_type": "code",
   "execution_count": null,
   "metadata": {},
   "outputs": [],
   "source": [
    "def get_historic_price(symbol, exchange='bitfinex', after='2018-09-01'):\n",
    "    url = 'https://api.cryptowat.ch/markets/{exchange}/{symbol}eur/ohlc'.format(\n",
    "        symbol=symbol, exchange=exchange)\n",
    "    resp = requests.get(url, params={\n",
    "        'periods': '3600',\n",
    "        'after': str(int(pd.Timestamp(after).timestamp()))\n",
    "    })\n",
    "    resp.raise_for_status()\n",
    "    data = resp.json()\n",
    "    df = pd.DataFrame(data['result']['3600'], columns=[\n",
    "        'CloseTime', 'OpenPrice', 'HighPrice', 'LowPrice', 'ClosePrice', 'Volume', 'NA'\n",
    "    ])\n",
    "    df['CloseTime'] = pd.to_datetime(df['CloseTime'], unit='s')\n",
    "    df.set_index('CloseTime', inplace=True)\n",
    "    return df"
   ]
  },
  {
   "cell_type": "code",
   "execution_count": null,
   "metadata": {},
   "outputs": [],
   "source": [
    "two_years = (pd.Timestamp.now() - pd.offsets.Day(730))\n",
    "two_years"
   ]
  },
  {
   "cell_type": "code",
   "execution_count": null,
   "metadata": {
    "tags": []
   },
   "outputs": [],
   "source": [
    "link = get_historic_price('link', 'kraken', after=two_years)\n",
    "link.head()"
   ]
  },
  {
   "cell_type": "code",
   "execution_count": null,
   "metadata": {},
   "outputs": [],
   "source": [
    "link.describe()"
   ]
  },
  {
   "cell_type": "code",
   "execution_count": null,
   "metadata": {},
   "outputs": [],
   "source": [
    "link['ClosePrice'].plot(figsize=(15,7))"
   ]
  },
  {
   "cell_type": "code",
   "execution_count": null,
   "metadata": {},
   "outputs": [],
   "source": [
    "link['ClosePrice'].plot(kind='box', vert=False, figsize=(14,6))"
   ]
  },
  {
   "cell_type": "code",
   "execution_count": null,
   "metadata": {},
   "outputs": [],
   "source": [
    "# \n",
    "axy = link['ClosePrice'].plot(kind='density', figsize=(14,6))\n",
    "axy.axvline(link['ClosePrice'].mean(), color='red')\n",
    "axy.axvline(link['ClosePrice'].median(), color='green')"
   ]
  },
  {
   "cell_type": "code",
   "execution_count": null,
   "metadata": {},
   "outputs": [],
   "source": [
    "# Distribution since 2020-04\n",
    "link.loc[link.index > '2020-04-01 01:00:00']['ClosePrice'].plot(kind='density', figsize=(14,6))"
   ]
  },
  {
   "cell_type": "code",
   "execution_count": null,
   "metadata": {},
   "outputs": [],
   "source": [
    "corr = link[['OpenPrice','Volume','ClosePrice']].corr()\n",
    "corr"
   ]
  },
  {
   "cell_type": "code",
   "execution_count": null,
   "metadata": {},
   "outputs": [],
   "source": [
    "fig = plt.figure(figsize=(8,8))\n",
    "plt.matshow(corr, cmap='RdBu', fignum=fig.number)\n",
    "plt.xticks(range(len(corr.columns)), corr.columns, rotation='vertical');\n",
    "plt.yticks(range(len(corr.columns)), corr.columns);"
   ]
  },
  {
   "cell_type": "code",
   "execution_count": null,
   "metadata": {},
   "outputs": [],
   "source": [
    "requests.get?"
   ]
  },
  {
   "cell_type": "markdown",
   "metadata": {},
   "source": [
    "---\n",
    "\n",
    "# ANALYSIS\n"
   ]
  },
  {
   "cell_type": "markdown",
   "metadata": {},
   "source": [
    "## Auction liquidation data\n",
    "\n",
    "Only MCD data\n",
    "\n",
    "```\n",
    "- collateral    float64     collateral currency e.g. eth\n",
    "- debt          float64     DAI\n",
    "- profit        float64     DAI\n",
    "- soldColl      float64     collateral currency e.g. eth\n",
    "- soldFor       float64     DAI\n",
    "```"
   ]
  },
  {
   "cell_type": "code",
   "execution_count": null,
   "metadata": {},
   "outputs": [],
   "source": [
    "# global debt auction stats\n",
    "liquidations[['debt']].describe()"
   ]
  },
  {
   "cell_type": "code",
   "execution_count": null,
   "metadata": {
    "tags": []
   },
   "outputs": [],
   "source": [
    "liquidations.index.min()"
   ]
  },
  {
   "cell_type": "code",
   "execution_count": null,
   "metadata": {
    "tags": []
   },
   "outputs": [],
   "source": [
    "# debt auction stats by collateral\n",
    "print('Debt liquidation stats by collateral type')\n",
    "liquidations[['debt','cdpType']].groupby('cdpType').describe()"
   ]
  },
  {
   "cell_type": "code",
   "execution_count": null,
   "metadata": {},
   "outputs": [],
   "source": [
    "subset = liquidations.loc[liquidations['profit']< 0]\n",
    "subset['profit'].sum()"
   ]
  },
  {
   "cell_type": "code",
   "execution_count": null,
   "metadata": {},
   "outputs": [],
   "source": [
    "liquidations[['profit', 'debt']].plot(kind='density', figsize=(14,6))"
   ]
  },
  {
   "cell_type": "code",
   "execution_count": null,
   "metadata": {},
   "outputs": [],
   "source": [
    "# Groupby: cdptype debt median\n",
    "debt_liq = liquidations[['cdpType', 'debt']].groupby('cdpType').median().round(2)\n",
    "debt_liq\n",
    "fig, axes = plt.subplots(figsize=(7,5), dpi=100)\n",
    "plt.bar(debt_liq.index, height=debt_liq.debt)\n",
    "plt.title('Median Debt Liquidation by Collateral');"
   ]
  },
  {
   "cell_type": "code",
   "execution_count": null,
   "metadata": {},
   "outputs": [],
   "source": [
    "import matplotlib.pyplot as plt\n",
    "%matplotlib inline\n",
    "\n",
    "x1 = liquidations.loc[liquidations.cdpType == 'ETH', 'debt']\n",
    "# x2 = liquidations.loc[liquidations.cdpType == 'BAT', 'debt']\n",
    "# x3 = liquidations.loc[liquidations.cdpType == 'ZRX', 'debt']\n",
    "# x3 = liquidations.loc[liquidations.cdpType == 'WBTC', 'debt']\n",
    "# x3 = liquidations.loc[liquidations.cdpType == 'KNC', 'debt']\n",
    "\n",
    "kwargs = dict(alpha=0.5, bins=200)\n",
    "\n",
    "plt.hist(x1, **kwargs, color='g', label='ETH')\n",
    "# plt.hist(x2, **kwargs, color='b', label='BAT')\n",
    "# plt.hist(x3, **kwargs, color='r', label='ZRX')\n",
    "# plt.hist(x3, **kwargs, color='r', label='WBTC')\n",
    "# plt.hist(x3, **kwargs, color='r', label='KNC')\n",
    "plt.gca().set(title='Frequency Histogram of Collateral Debt Liquidation (DAI)', ylabel='Frequency')\n",
    "plt.xlim(-100,10000)\n",
    "plt.legend();"
   ]
  },
  {
   "cell_type": "code",
   "execution_count": null,
   "metadata": {},
   "outputs": [],
   "source": [
    "import seaborn as sns\n",
    "\n",
    "x1 = liquidations.loc[liquidations.cdpType=='ETH', ['debt']]\n",
    "x2 = liquidations.loc[liquidations.cdpType=='BAT', ['debt']]\n",
    "x3 = liquidations.loc[liquidations.cdpType=='WBTC', ['debt']]\n",
    "x4 = liquidations.loc[liquidations.cdpType=='KNC', ['debt']]\n",
    "\n",
    "\n",
    "# plot\n",
    "fig, axes = plt.subplots(1, 4, figsize=(25, 5), sharey=False, dpi=100)\n",
    "sns.distplot(x1 , color=\"dodgerblue\", ax=axes[0], axlabel='ETH')\n",
    "sns.distplot(x2 , color=\"deeppink\", ax=axes[1], axlabel='BAT')\n",
    "sns.distplot(x3 , color=\"gold\", ax=axes[2], axlabel='WBTC')\n",
    "sns.distplot(x4 , color=\"blue\", ax=axes[3], axlabel='KNC')\n",
    "\n",
    "plt.xlim(0,10000);"
   ]
  },
  {
   "cell_type": "code",
   "execution_count": null,
   "metadata": {},
   "outputs": [],
   "source": []
  },
  {
   "cell_type": "markdown",
   "metadata": {},
   "source": [
    "---\n",
    "---\n",
    "\n",
    "# FORUM ANALYSIS POST"
   ]
  },
  {
   "cell_type": "markdown",
   "metadata": {},
   "source": [
    "## Background\n",
    "\n",
    "### Protocol summary\n",
    "\n",
    "- whitepaper abstract\n",
    "- website overview\n",
    "\n",
    "### Token use\n",
    "\n",
    "- whitepaper token description\n",
    "- website token description\n",
    "\n",
    "### Governance \n",
    "\n",
    "- any information on governance?\n",
    "- from website"
   ]
  },
  {
   "cell_type": "markdown",
   "metadata": {},
   "source": [
    "## Token information\n",
    "\n",
    "### On-chain activity\n",
    "- https://academy.santiment.net/sansheets/functions/#san_active_deposits\n",
    "- https://academy.santiment.net/sansheets/functions/#san_active_addresses\n",
    "- https://studio.glassnode.com/metrics?a=LINK&category=Network%20Stats&m=addresses.NewNonZeroCount\n",
    "    - daily_active_addresses\n",
    "    - daily_active_deposits\n",
    "    - daily_transaction_volume \n",
    "    - daily_price\n",
    "    - ohlcv daily\n",
    "    - daily_new_unique_addresses\n",
    "\n",
    "### Token allocation/distribution\n",
    "\n",
    "sources:\n",
    "- coingecko\n",
    "- santiment\n",
    "- etherscan\n",
    "\n",
    "data: \n",
    "- data\n",
    "    - initial_supply    \n",
    "    - current_token_supply\n",
    "    - circulating supply \n",
    "    - market cap\n",
    "    - daily_price\n",
    "    - implied market cap (?)\n",
    "\n",
    "circulating supply (definition by glassnode): \n",
    "```\n",
    "LINK’s circulating supply of 350,000,000, as reported by CoinMarketCap, only counts the tokens sold to the public in the ICO. \n",
    "\n",
    "After taking the team sell off into account, the actual circulating supply is closer to ~367,909,600.\n",
    "```\n",
    "\n",
    "### Asset price returns\n",
    "\n",
    "- santiment. raw data:\n",
    "    - daily_price\n",
    "    - daily_price\n",
    "\n",
    "Derived/Calculated variables from daily_price\n",
    "- asset_price_return_1m\n",
    "- asset_price_return_3m \n",
    "- asset_price_return_6m     \n",
    "- asset_price_return_12m\n",
    "- asset_price_return_24m\n",
    "\n",
    "Other derived from daily_price:\n",
    "- 200MA_asset_price (EMA)\n",
    "- 50MA_asset_price (EMA)\n",
    "\n",
    "article\n",
    "- https://bravenewcoin.com/insights/chainlink-price-analysis-strong-fundamental-metrics-support-price-gains\n",
    "\n",
    "### Token ownership concentration (distribution)\n",
    "\n",
    "sources: \n",
    "- etherscan\n",
    "- santiment\n",
    "- glassnode\n",
    "\n",
    "data:\n",
    "- https://etherscan.io/token/tokenholderchart/0x514910771af9ca656af840dff83e8264ecf986ca?range=100 > top 100 address token ownership\n",
    "- https://academy.santiment.net/metrics/amount-in-top-holders/ > Token/Coin amount\n",
    "- https://academy.santiment.net/sansheets/functions/#san_top_holders_percent_of_total_supply\n",
    "- https://academy.santiment.net/metrics/top-holders/#top-holders-balance\n",
    "- https://academy.santiment.net/metrics/mean-coin-age/mean-coin-age-technical/#total-age\n",
    "    - holders_distribution_total > only paid plan\n",
    "    - amount_in_top_holders\n",
    "    - amount_in_exchange_top_holders\n",
    "    - age_distribution\n",
    "\n",
    "sansheets: \n",
    "- SAN_TOP_HOLDERS_PERCENT_OF_TOTAL_SUPPLY\n",
    "\n",
    "data > glassnode:\n",
    "- https://studio.glassnode.com/metrics?a=LINK&m=distribution.Balance1PctHolders\n",
    "- https://studio.glassnode.com/metrics?a=LINK&m=distribution.Gini > gini coeff for LINK\n",
    "    - Gini Coefficient\n",
    "    - 1% Richlist Balance\n",
    "\n",
    "articles:\n",
    "- https://medium.com/glassnode-insights/on-chain-distribution-analysis-of-chainlink-link-5ee7acb62f62\n",
    " \n",
    "\n",
    "### Treasury funds data?\n",
    "sources: \n",
    "- santiment\n",
    "- coindesk\n",
    "\n",
    "team addresses:\n",
    "- 0xe0362f7445e3203a496f6f8b3d51cbb413b69be2 — Current balance: 50,000,000 LINK\n",
    "- 0x75398564ce69b7498da10a11ab06fd8ff549001c — Current balance: 50,000,000 LINK\n",
    "- 0x5560d001f977df5e49ead7ab0bdd437c4ee3a99e — Current balance: 50,000,000 LINK\n",
    "- 0xdad22a85ef8310ef582b70e4051e543f3153e11f — Current balance: 46,500,000 LINK\n",
    "- 0xbe6977e08d4479c0a6777539ae0e8fa27be4e9d6 — Current balance: 50,000,000 LINK\n",
    "- 0xf37c348b7d19b17b29cd5cfa64cfa48e2d6eb8db — Current balance: 35,590,421.01 LINK\n",
    "\n",
    "data:\n",
    "- team address?\n",
    "- https://academy.santiment.net/sansheets/functions/#san_historical_balance\n",
    "    - historical_balance\n",
    "\n",
    "ICO distribution: 30 team/35 nodes/35 investors\n",
    "- https://etherscan.io/token/0x514910771af9ca656af840dff83e8264ecf986ca?a=0xf55037738604fddfc4043d12f25124e94d7d1780 > describes ICO distribution\n",
    "\n",
    "articles:\n",
    "- best article: https://medium.com/glassnode-insights/on-chain-distribution-analysis-of-chainlink-link-5ee7acb62f62\n",
    "- https://bravenewcoin.com/insights/celsius-network-partners-with-chainlink\n",
    "- https://www.coindesk.com/crypo-lender-celsius-taps-chainlinks-price-oracles-for-interest-rate-decentralization > move \"significant\" portion of crypto holdings under Celsius’ treasury management service. For interest accrual.\n",
    "- https://www.prnewswire.com/news-releases/celsius-network-and-chainlink-form-long-term-partnership-to-create-superior-financial-platform-through-decentralization-301031500.html\n",
    "- https://bravenewcoin.com/insights/chainlink-price-analysis-strong-fundamental-metrics-support-price-gains\n",
    "\n",
    "### Token age\n",
    "- https://academy.santiment.net/sansheets/functions/#san_token_age_consumed\n",
    "- https://academy.santiment.net/sansheets/functions/#san_mean_age\n",
    "- https://academy.santiment.net/metrics/mean-coin-age/mean-coin-age-technical/#total-age\n",
    "    - age_consumed > Spikes are signal of a large amount of tokens moving after being idle\n",
    "    - mean_age \n"
   ]
  },
  {
   "cell_type": "code",
   "execution_count": null,
   "metadata": {},
   "outputs": [],
   "source": [
    "    # - percent_of_total_supply_on_exchanges\n",
    "    # - supply_on_exchanges\n",
    "df = san.get('prices/chainlink')\n",
    "df.tail()"
   ]
  },
  {
   "cell_type": "code",
   "execution_count": null,
   "metadata": {},
   "outputs": [],
   "source": [
    "search_metric('chainlink','exchange')"
   ]
  },
  {
   "cell_type": "code",
   "execution_count": null,
   "metadata": {},
   "outputs": [],
   "source": [
    "df"
   ]
  },
  {
   "cell_type": "code",
   "execution_count": null,
   "metadata": {},
   "outputs": [],
   "source": [
    "df = san.get(\n",
    "    \"historical_balance/chainlink\",\n",
    "    address=\"0xe0362f7445e3203a496f6f8b3d51cbb413b69be2\",\n",
    "    from_date=\"2018-04-18\",\n",
    "    to_date=\"2020-07-31\",\n",
    "    interval=\"1d\"\n",
    ")"
   ]
  },
  {
   "cell_type": "markdown",
   "metadata": {},
   "source": [
    "## Exchanges \n",
    "\n",
    "- https://academy.santiment.net/sansheets/functions/#san_exchange_balance\n",
    "- https://academy.santiment.net/sansheets/functions/#san_exchange_funds_flow\n",
    "- https://academy.santiment.net/sansheets/functions/#san_exchange_inflow\n",
    "- https://academy.santiment.net/sansheets/functions/#san_exchange_outflow \n",
    "- https://academy.santiment.net/metrics/supply-on-or-outside-exchanges/#measuring-unit\n",
    "\n",
    "Note : on-chain metrics\n",
    "- Liquidity\n",
    "    - percent_of_total_supply_on_exchanges\n",
    "    - supply_on_exchanges\n",
    "    - supply_outside_exchanges\n",
    "    - exchange_balance\n",
    "- Flows:\n",
    "    - exchange_inflow   \n",
    "    - exchange_outflow\n",
    "\n",
    "> Do flows correlate to pricing activity?\n",
    "\n",
    "### Centralised exchanges \n",
    "\n",
    "- list exchanges where token listed\n",
    "- trading volume on **real exchanges** only (see messari definition)\n",
    "\n",
    "sources: \n",
    "- BraveNewCoin\n",
    "- Coinmarketcap\n",
    "- coingecko\n",
    "- messari\n",
    "\n",
    "data:\n",
    "- https://www.coingecko.com/en/coins/chainlink#markets\n",
    "- https://bravenewcoin.com/data-and-charts/assets/LINK/markets\n",
    "\n",
    "List exchanges, pair, volumes\n",
    "- exchange_name\n",
    "- trading_pair e.g. LINK/USD \n",
    "- trading_volume\n",
    "\n",
    "Tokens on exchanges\n",
    "- https://studio.glassnode.com/metrics?a=LINK&m=distribution.BalanceExchanges\n",
    "- https://studio.glassnode.com/metrics?a=BTC&m=distribution.BalanceExchangesAll\n",
    "- https://academy.santiment.net/metrics/supply-on-or-outside-exchanges/#measuring-unit\n",
    "    - daily_exchange_balance_all (of token)\n",
    "    - daily_exchange_balance_stacked (of token by exchange)\n",
    "    - percent_of_total_supply_on_exchanges\n",
    "\n",
    "- Derived metrics:\n",
    "    - percent_of_circulating_supply_on_exchanges > calc: supply_on_exchanges / circulating_supply\n",
    "\n",
    "Note: only addresses known to belong to exchanges\n",
    "\n",
    "\n",
    "Trading: on-chain \n",
    "- https://academy.santiment.net/sansheets/functions/#san_transaction_volume\n",
    "    - daily_transaction_volume (in token) > on-chain transaction volume\n",
    "\n",
    "Trading: exchange (volume by pair: USD/USDC/BTC/ETH)\n",
    "- https://min-api.cryptocompare.com/documentation?key=Historical&cat=dataExchangeSymbolHistoday\n",
    "- https://min-api.cryptocompare.com/documentation?key=Historical&cat=dataExchangeSymbolHistohour\n",
    "    - daily-trading_volume_by_exchange (and token pair)\n",
    "    - hourly-trading_volume_by_exchange (and token pair)\n",
    "\n",
    "- Derived metric:\n",
    "    - Rolling 30d avg volume > calc: \n",
    "\n",
    "#### Derived metric > **token velocity**\n",
    "- https://academy.santiment.net/sansheets/functions/#san_daily_closing_marketcap\n",
    "- https://academy.santiment.net/sansheets/functions/#san_daily_closing_price\n",
    "- daily_closing_price_usd\n",
    "- daily_closing_marketcap_usd\n",
    "- daily_transaction_volume\n",
    "    - transaction_volume (in usd) / market_cap > calc: (transaction_volume * closing_price) / closing_marketcap\n",
    "    \n",
    "Velocity definition (glassnode):\n",
    "```\n",
    "Velocity is a measure of how quickly units are circulating in the network and is calculated by dividing the on-chain transaction volume (in USD) by the market cap, i.e. the inverse of the NVT ratio.\n",
    "``` \n",
    "\n",
    "articles:\n",
    "- https://messari.io/article/messari-proprietary-methods > method for centralised exchange **real volume** and **exchange selection**\n",
    "\n",
    "\n",
    "### Decentralised exchanges \n",
    "\n",
    "List of decentralised exchanges with LINK\n",
    "\n",
    "sources:\n",
    "- etherscan\n",
    "- messari\n",
    "- coingecko\n",
    "\n",
    "data: \n",
    "- https://etherscan.io/stat/dextracker\n",
    "- https://etherscan.io/dextracker\n",
    "- https://messari.io/asset/chainlink/metrics\n",
    "    - Transaction Volume (24H, USD) e.g. $551,657,069.67\n",
    "    - Median Transaction Volume (USD) e.g. $1,286.96\n",
    "\n",
    "Pools:\n",
    "- https://uniswap.info/token/0x514910771af9ca656af840dff83e8264ecf986ca\n",
    "    - Transaction_volume 24h (usd)\n",
    "    - Transaction_count 24h\n",
    "    - Total_liquidity\n",
    "\n",
    "0x:\n",
    "- https://api.0xtracker.com/tokens/:address\n",
    "    - tradeCount\t\n",
    "    - tradeVolume.USD\t\n",
    "    - tradeVolume.token\n",
    "\n",
    "\n",
    "articles: \n",
    "- 2019 report on DEXes: https://medium.com/alethio/dex-in-the-2019-a-recap-by-numbers-96d506ba1cb8\n",
    "- 2019: trade volume on exchages (all) https://public.tableau.com/profile/alethio#!/vizhome/DEXTradesHistory/Dashboard1\n",
    "- https://messari.io/resource/decentralized-exchanges > dex resources\n",
    "- https://github.com/econoar/ethhub/blob/master/built-on-ethereum/decentralized-exchanges/README.md > types of DEXs\n",
    "\n",
    "types: \n",
    "- offchain order book (e.g 0x, etherdelta, loopring...)\n",
    "- p2p (airswap, republic protocol)\n",
    "- pool based (e.g. kyber, bancor, uniswap) \n",
    "\n",
    "### Liquidity pools (e.g.)\n",
    "\n"
   ]
  },
  {
   "cell_type": "markdown",
   "metadata": {},
   "source": [
    "## 3rd party lending platforms\n",
    "\n",
    "### Platforms\n",
    "\n",
    "sources: \n",
    "- coingecko\n",
    "- defiscore\n",
    "- loanscan\n",
    "- alethio api\n",
    "\n",
    "data: \n",
    "\n",
    "\n",
    "articles:\n",
    "- https://www.binance.com/en/support/articles/73a5d3352ae944fe8e899d2602bee27c > Binance leveraged LINK. Maybe in exchanges?\n",
    "\n",
    "### Interest rates\n",
    "\n",
    "sources: \n",
    "- alethio api\n",
    "\n",
    "data: \n",
    "- https://public.tableau.com/profile/alethio.defi#!/vizhome/DeFiInterestRates/DeFiInterestRates\n",
    "- static view    \n",
    "    - borrow_apr (by protocol/platform)\n",
    "    - earn_apr (by protocol/platform)\n",
    "- timeseries view:\n",
    "    - daily_borrow_apr (by protocol/platform)\n",
    "    - daily_earn_apr (by protocol/platform)\n",
    "\n",
    "articles:\n",
    "\n",
    "### Borrowed volumes\n",
    "\n",
    "- https://public.tableau.com/profile/alethio.defi#!/vizhome/BorrowVolumeDashboard/BorrowVolumeonMajorLendingPlatforms\n",
    "    - daily borrrowed volumes (usd or eth) - time series\n",
    "    - daily cumul borrowed volumes (usd or eth) - time series\n",
    "    - daily # unique borrower - time series\n",
    "    - daily # of borrows - time series\n",
    "    - daily borrowed token value (usd or eth) by platform - by platform \n",
    "\n",
    "### Outstanding debt and coll ratio \n",
    "\n",
    "\n",
    "\n",
    "### Liquidation/default volumes\n",
    "\n"
   ]
  },
  {
   "cell_type": "markdown",
   "metadata": {},
   "source": [
    "## Node operators \n",
    "\n",
    "- https://public.tableau.com/profile/cryptospong3#!/vizhome/ChainlinkContractTransactionCounts/Sheet1"
   ]
  },
  {
   "cell_type": "markdown",
   "metadata": {},
   "source": [
    "## Comparative analysis (link vs other collateral)\n",
    "\n",
    "> this is a bonus analysis to guide decision making \n",
    "\n",
    "### Correlation\n",
    "\n",
    "### Vaults debt/CR \n",
    "\n",
    "### Liquidations\n",
    "\n",
    "#### Chainlink vs other oracle platforms\n",
    "\n",
    "articles:\n",
    "- https://medium.com/@smartcontentpublication/a-comparative-analysis-of-band-protocol-and-chainlink-54b7d14823b5"
   ]
  },
  {
   "cell_type": "markdown",
   "metadata": {},
   "source": [
    "## Summary of Risks\n",
    "\n",
    "## Risk highlights\n",
    "\n",
    "A few notes: \n",
    "- token concentration risks \n",
    "- team frequent offload of tokens (500K). Unclear if due to operations/treasury reasons for growth or lack of trust in fundamentals of asset price (or opportunistic approach).  \n",
    "- reduced supply of tokens through exchanges > risk for liquidity during keeper auctions\n",
    "- concentration of trading activity in centralised exchanges e.g. Binance\n",
    "\n",
    "## Other risks"
   ]
  }
 ],
 "metadata": {
  "kernelspec": {
   "display_name": "Python 3",
   "language": "python",
   "name": "python3"
  },
  "language_info": {
   "codemirror_mode": {
    "name": "ipython",
    "version": 3
   },
   "file_extension": ".py",
   "mimetype": "text/x-python",
   "name": "python",
   "nbconvert_exporter": "python",
   "pygments_lexer": "ipython3",
   "version": "3.7.2-final"
  }
 },
 "nbformat": 4,
 "nbformat_minor": 4
}