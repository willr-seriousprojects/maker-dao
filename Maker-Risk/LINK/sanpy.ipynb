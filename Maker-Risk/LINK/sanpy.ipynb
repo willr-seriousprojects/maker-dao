{
 "cells": [
  {
   "cell_type": "code",
   "execution_count": 2,
   "metadata": {},
   "outputs": [],
   "source": [
    "import pandas as pd\n",
    "import numpy as np\n",
    "import datetime\n",
    "import matplotlib.pyplot as plt\n",
    "import san\n",
    "%matplotlib inline\n",
    "\n",
    "import warnings\n",
    "warnings.filterwarnings('ignore')"
   ]
  },
  {
   "cell_type": "code",
   "execution_count": null,
   "metadata": {},
   "outputs": [],
   "source": [
    "# not using this at this time\n",
    "from keys import KEY\n",
    "san.ApiConfig.api_key = KEY"
   ]
  },
  {
   "cell_type": "markdown",
   "metadata": {},
   "source": [
    "---\n",
    "\n",
    "# IMPORTANT GET THE DATA"
   ]
  },
  {
   "cell_type": "code",
   "execution_count": 18,
   "metadata": {
    "tags": []
   },
   "outputs": [],
   "source": [
    "import san\n",
    "# san.ApiConfig.api_key = 'xauqgnp4uvwk4u7c_a5x7oyk6zj5bcyzn'\n",
    "san.ApiConfig.api_key ='6mglxjgy7dl3mzux_55jpklyowrzdfaum'"
   ]
  },
  {
   "cell_type": "code",
   "execution_count": 111,
   "metadata": {
    "tags": []
   },
   "outputs": [],
   "source": [
    "# search for available metric in api, given slug (aka token) and search term\n",
    "def search_metric(slug,search_term):\n",
    "    metric_list = []\n",
    "    santiment = san.available_metrics_for_slug(slug)\n",
    "    for i in santiment:\n",
    "        if search_term in i:\n",
    "            metric_list.append(i)\n",
    "    return metric_list"
   ]
  },
  {
   "cell_type": "code",
   "execution_count": 122,
   "metadata": {
    "tags": []
   },
   "outputs": [
    {
     "data": {
      "text/plain": [
       "['daily_avg_price_usd',\n",
       " 'daily_closing_price_usd',\n",
       " 'daily_high_price_usd',\n",
       " 'daily_low_price_usd',\n",
       " 'daily_opening_price_usd',\n",
       " 'mean_realized_price_usd',\n",
       " 'mean_realized_price_usd_10y',\n",
       " 'mean_realized_price_usd_180d',\n",
       " 'mean_realized_price_usd_1d',\n",
       " 'mean_realized_price_usd_2y',\n",
       " 'mean_realized_price_usd_30d',\n",
       " 'mean_realized_price_usd_365d',\n",
       " 'mean_realized_price_usd_3y',\n",
       " 'mean_realized_price_usd_5y',\n",
       " 'mean_realized_price_usd_60d',\n",
       " 'mean_realized_price_usd_7d',\n",
       " 'mean_realized_price_usd_90d',\n",
       " 'price_btc',\n",
       " 'price_eth',\n",
       " 'price_usd',\n",
       " 'price_usd_5m',\n",
       " 'price_usd_change_1d',\n",
       " 'price_usd_change_30d',\n",
       " 'price_usd_change_7d']"
      ]
     },
     "execution_count": 122,
     "metadata": {},
     "output_type": "execute_result"
    }
   ],
   "source": [
    "# Running as single func (project, term)\n",
    "search_metric('chainlink','price')"
   ]
  },
  {
   "cell_type": "code",
   "execution_count": null,
   "metadata": {},
   "outputs": [],
   "source": [
    "san.available_metric_for_slug_since(metric='active_deposits', slug='chainlink')"
   ]
  },
  {
   "cell_type": "code",
   "execution_count": 4,
   "metadata": {},
   "outputs": [],
   "source": [
    "def get_metric_complexity(request, from_date='2018-07-31', to_date='2020-07-30',interval='1h'):\n",
    "    df = san.metric_complexity(\n",
    "        f'{request}',\n",
    "        from_date=from_date,\n",
    "        to_date=to_date,\n",
    "        interval=interval\n",
    "    )\n",
    "    print(f'complexity score: {df}')\n",
    "    return f'Too complex for free plan: {df > 20000}' "
   ]
  },
  {
   "cell_type": "code",
   "execution_count": 131,
   "metadata": {},
   "outputs": [
    {
     "data": {
      "text/plain": [
       "10526"
      ]
     },
     "execution_count": 131,
     "metadata": {},
     "output_type": "execute_result"
    }
   ],
   "source": [
    "san.metric_complexity(\n",
    "    metric='daily_closing_price_usd',\n",
    "    from_date='2018-07-31',\n",
    "    to_date='2020-07-30',\n",
    "    interval='1h'\n",
    ")"
   ]
  },
  {
   "cell_type": "code",
   "execution_count": 144,
   "metadata": {
    "tags": []
   },
   "outputs": [
    {
     "name": "stdout",
     "output_type": "stream",
     "text": [
      "complexity score: 58694\n"
     ]
    },
    {
     "data": {
      "text/plain": [
       "'Too complex for free plan: True'"
      ]
     },
     "execution_count": 144,
     "metadata": {},
     "output_type": "execute_result"
    }
   ],
   "source": [
    "get_metric_complexity('daily_closing_price_usd',from_date='2015-01-01')"
   ]
  },
  {
   "cell_type": "code",
   "execution_count": 5,
   "metadata": {},
   "outputs": [],
   "source": [
    "# This allows to create a ts df for a given metric\n",
    "def get_metric_timeseries(request, asset,from_date='2018-07-31', to_date='2020-07-30',interval='1d'):\n",
    "    df = san.get(\n",
    "        f'{request}/{asset}',\n",
    "        from_date=from_date,\n",
    "        to_date=to_date,\n",
    "        interval=interval\n",
    "    )\n",
    "    # if no col named value, renaming ignored\n",
    "    df = df.rename(columns={'value':f'{asset}_{request}'})\n",
    "    return df"
   ]
  },
  {
   "cell_type": "code",
   "execution_count": 6,
   "metadata": {},
   "outputs": [],
   "source": [
    "# This can be improved to include more df (*args)\n",
    "# This allows to .join timeseries dfs on common index (datetime)\n",
    "def aggregate_timeseries_df(df,df1,d2):\n",
    "    # join df on indexes (datetime)\n",
    "    df = df.join(df1).join(df2)\n",
    "    return df"
   ]
  },
  {
   "cell_type": "code",
   "execution_count": 7,
   "metadata": {},
   "outputs": [],
   "source": [
    "# FUNCTION FOR NON TIMESERIES REQUESTS\n",
    "def get_nonts_metric(request='projects',requestgroup='all'):\n",
    "    df = san.get(\n",
    "        f'{request}/{requestgroup}'\n",
    "    )\n",
    "    return df"
   ]
  },
  {
   "cell_type": "code",
   "execution_count": 8,
   "metadata": {},
   "outputs": [],
   "source": [
    "# FUNCTION TO AGG NON TIMESERIES\n",
    "# This can be improved to include more df (*args)\n",
    "# This allows to .join timeseries dfs on common index (datetime)\n",
    "def aggregate_nonts_df(df,df1):\n",
    "    # join df on indexes (datetime)\n",
    "    df = df.join(df1, lsuffix='left')\n",
    "    return df"
   ]
  },
  {
   "cell_type": "code",
   "execution_count": 19,
   "metadata": {},
   "outputs": [
    {
     "data": {
      "text/html": [
       "<div>\n",
       "<style scoped>\n",
       "    .dataframe tbody tr th:only-of-type {\n",
       "        vertical-align: middle;\n",
       "    }\n",
       "\n",
       "    .dataframe tbody tr th {\n",
       "        vertical-align: top;\n",
       "    }\n",
       "\n",
       "    .dataframe thead th {\n",
       "        text-align: right;\n",
       "    }\n",
       "</style>\n",
       "<table border=\"1\" class=\"dataframe\">\n",
       "  <thead>\n",
       "    <tr style=\"text-align: right;\">\n",
       "      <th></th>\n",
       "      <th>marketcap</th>\n",
       "      <th>priceBtc</th>\n",
       "      <th>priceUsd</th>\n",
       "      <th>volume</th>\n",
       "    </tr>\n",
       "    <tr>\n",
       "      <th>datetime</th>\n",
       "      <th></th>\n",
       "      <th></th>\n",
       "      <th></th>\n",
       "      <th></th>\n",
       "    </tr>\n",
       "  </thead>\n",
       "  <tbody>\n",
       "    <tr>\n",
       "      <th>2018-07-31 00:00:00+00:00</th>\n",
       "      <td>102876899.0</td>\n",
       "      <td>0.000038</td>\n",
       "      <td>0.293934</td>\n",
       "      <td>2272300.0</td>\n",
       "    </tr>\n",
       "    <tr>\n",
       "      <th>2018-08-01 00:00:00+00:00</th>\n",
       "      <td>100548000.0</td>\n",
       "      <td>0.000038</td>\n",
       "      <td>0.287280</td>\n",
       "      <td>1546730.0</td>\n",
       "    </tr>\n",
       "    <tr>\n",
       "      <th>2018-08-02 00:00:00+00:00</th>\n",
       "      <td>108353000.0</td>\n",
       "      <td>0.000041</td>\n",
       "      <td>0.309580</td>\n",
       "      <td>1954190.0</td>\n",
       "    </tr>\n",
       "    <tr>\n",
       "      <th>2018-08-03 00:00:00+00:00</th>\n",
       "      <td>99707928.0</td>\n",
       "      <td>0.000038</td>\n",
       "      <td>0.284880</td>\n",
       "      <td>1460135.0</td>\n",
       "    </tr>\n",
       "    <tr>\n",
       "      <th>2018-08-04 00:00:00+00:00</th>\n",
       "      <td>90296150.0</td>\n",
       "      <td>0.000037</td>\n",
       "      <td>0.257989</td>\n",
       "      <td>1284510.0</td>\n",
       "    </tr>\n",
       "  </tbody>\n",
       "</table>\n",
       "</div>"
      ],
      "text/plain": [
       "                             marketcap  priceBtc  priceUsd     volume\n",
       "datetime                                                             \n",
       "2018-07-31 00:00:00+00:00  102876899.0  0.000038  0.293934  2272300.0\n",
       "2018-08-01 00:00:00+00:00  100548000.0  0.000038  0.287280  1546730.0\n",
       "2018-08-02 00:00:00+00:00  108353000.0  0.000041  0.309580  1954190.0\n",
       "2018-08-03 00:00:00+00:00   99707928.0  0.000038  0.284880  1460135.0\n",
       "2018-08-04 00:00:00+00:00   90296150.0  0.000037  0.257989  1284510.0"
      ]
     },
     "execution_count": 19,
     "metadata": {},
     "output_type": "execute_result"
    }
   ],
   "source": [
    "df = get_metric_timeseries('prices','chainlink')\n",
    "df.head()"
   ]
  },
  {
   "cell_type": "code",
   "execution_count": 20,
   "metadata": {},
   "outputs": [
    {
     "ename": "TypeError",
     "evalue": "aggregate_timeseries_df() missing 1 required positional argument: 'd2'",
     "output_type": "error",
     "traceback": [
      "\u001b[0;31m---------------------------------------------------------------------------\u001b[0m",
      "\u001b[0;31mTypeError\u001b[0m                                 Traceback (most recent call last)",
      "\u001b[0;32m<ipython-input-20-4752c9a511d0>\u001b[0m in \u001b[0;36m<module>\u001b[0;34m\u001b[0m\n\u001b[1;32m      3\u001b[0m \u001b[0;31m#df2 = get_nontimeseries_metric(requestgroup='erc20')\u001b[0m\u001b[0;34m\u001b[0m\u001b[0;34m\u001b[0m\u001b[0;34m\u001b[0m\u001b[0m\n\u001b[1;32m      4\u001b[0m \u001b[0;34m\u001b[0m\u001b[0m\n\u001b[0;32m----> 5\u001b[0;31m \u001b[0mdfs\u001b[0m \u001b[0;34m=\u001b[0m \u001b[0maggregate_timeseries_df\u001b[0m\u001b[0;34m(\u001b[0m\u001b[0mdf\u001b[0m\u001b[0;34m,\u001b[0m\u001b[0mdf1\u001b[0m\u001b[0;34m)\u001b[0m\u001b[0;34m\u001b[0m\u001b[0;34m\u001b[0m\u001b[0m\n\u001b[0m\u001b[1;32m      6\u001b[0m \u001b[0mdfs\u001b[0m\u001b[0;34m.\u001b[0m\u001b[0mhead\u001b[0m\u001b[0;34m(\u001b[0m\u001b[0;34m)\u001b[0m\u001b[0;34m\u001b[0m\u001b[0;34m\u001b[0m\u001b[0m\n",
      "\u001b[0;31mTypeError\u001b[0m: aggregate_timeseries_df() missing 1 required positional argument: 'd2'"
     ]
    }
   ],
   "source": [
    "df = get_nonts_metric()\n",
    "df1 = get_nonts_metric(requestgroup='erc20')\n",
    "#df2 = get_nontimeseries_metric(requestgroup='erc20')\n",
    "\n",
    "dfs = aggregate_timeseries_df(df,df1)\n",
    "dfs.head()"
   ]
  },
  {
   "cell_type": "code",
   "execution_count": 21,
   "metadata": {},
   "outputs": [
    {
     "data": {
      "text/html": [
       "<div>\n",
       "<style scoped>\n",
       "    .dataframe tbody tr th:only-of-type {\n",
       "        vertical-align: middle;\n",
       "    }\n",
       "\n",
       "    .dataframe tbody tr th {\n",
       "        vertical-align: top;\n",
       "    }\n",
       "\n",
       "    .dataframe thead th {\n",
       "        text-align: right;\n",
       "    }\n",
       "</style>\n",
       "<table border=\"1\" class=\"dataframe\">\n",
       "  <thead>\n",
       "    <tr style=\"text-align: right;\">\n",
       "      <th></th>\n",
       "      <th>openPriceUsd</th>\n",
       "      <th>closePriceUsd</th>\n",
       "      <th>highPriceUsd</th>\n",
       "      <th>lowPriceUsd</th>\n",
       "      <th>volume</th>\n",
       "      <th>marketcap</th>\n",
       "      <th>chainlink_daily_active_addresses</th>\n",
       "      <th>chainlink_active_deposits</th>\n",
       "    </tr>\n",
       "  </thead>\n",
       "  <tbody>\n",
       "    <tr>\n",
       "      <th>count</th>\n",
       "      <td>731.000000</td>\n",
       "      <td>731.000000</td>\n",
       "      <td>731.000000</td>\n",
       "      <td>731.000000</td>\n",
       "      <td>7.310000e+02</td>\n",
       "      <td>7.310000e+02</td>\n",
       "      <td>731.000000</td>\n",
       "      <td>69.000000</td>\n",
       "    </tr>\n",
       "    <tr>\n",
       "      <th>mean</th>\n",
       "      <td>1.956626</td>\n",
       "      <td>1.966422</td>\n",
       "      <td>2.045263</td>\n",
       "      <td>1.881847</td>\n",
       "      <td>1.516085e+08</td>\n",
       "      <td>6.882476e+08</td>\n",
       "      <td>1543.406293</td>\n",
       "      <td>375.623188</td>\n",
       "    </tr>\n",
       "    <tr>\n",
       "      <th>std</th>\n",
       "      <td>1.672231</td>\n",
       "      <td>1.683669</td>\n",
       "      <td>1.741221</td>\n",
       "      <td>1.613389</td>\n",
       "      <td>2.049057e+08</td>\n",
       "      <td>5.892843e+08</td>\n",
       "      <td>1829.012944</td>\n",
       "      <td>224.320812</td>\n",
       "    </tr>\n",
       "    <tr>\n",
       "      <th>min</th>\n",
       "      <td>0.203568</td>\n",
       "      <td>0.202932</td>\n",
       "      <td>0.207196</td>\n",
       "      <td>0.196525</td>\n",
       "      <td>4.300080e+05</td>\n",
       "      <td>7.102615e+07</td>\n",
       "      <td>63.000000</td>\n",
       "      <td>183.000000</td>\n",
       "    </tr>\n",
       "    <tr>\n",
       "      <th>25%</th>\n",
       "      <td>0.452104</td>\n",
       "      <td>0.452108</td>\n",
       "      <td>0.471789</td>\n",
       "      <td>0.433148</td>\n",
       "      <td>5.099016e+06</td>\n",
       "      <td>1.582377e+08</td>\n",
       "      <td>186.000000</td>\n",
       "      <td>225.000000</td>\n",
       "    </tr>\n",
       "    <tr>\n",
       "      <th>50%</th>\n",
       "      <td>1.836896</td>\n",
       "      <td>1.838879</td>\n",
       "      <td>1.904876</td>\n",
       "      <td>1.776874</td>\n",
       "      <td>7.109971e+07</td>\n",
       "      <td>6.436076e+08</td>\n",
       "      <td>1085.000000</td>\n",
       "      <td>270.000000</td>\n",
       "    </tr>\n",
       "    <tr>\n",
       "      <th>75%</th>\n",
       "      <td>2.774188</td>\n",
       "      <td>2.779406</td>\n",
       "      <td>2.866623</td>\n",
       "      <td>2.673228</td>\n",
       "      <td>2.195484e+08</td>\n",
       "      <td>9.727921e+08</td>\n",
       "      <td>2139.000000</td>\n",
       "      <td>446.000000</td>\n",
       "    </tr>\n",
       "    <tr>\n",
       "      <th>max</th>\n",
       "      <td>8.640430</td>\n",
       "      <td>8.643123</td>\n",
       "      <td>8.754881</td>\n",
       "      <td>8.216572</td>\n",
       "      <td>1.478593e+09</td>\n",
       "      <td>3.025093e+09</td>\n",
       "      <td>14253.000000</td>\n",
       "      <td>1345.000000</td>\n",
       "    </tr>\n",
       "  </tbody>\n",
       "</table>\n",
       "</div>"
      ],
      "text/plain": [
       "       openPriceUsd  closePriceUsd  highPriceUsd  lowPriceUsd        volume  \\\n",
       "count    731.000000     731.000000    731.000000   731.000000  7.310000e+02   \n",
       "mean       1.956626       1.966422      2.045263     1.881847  1.516085e+08   \n",
       "std        1.672231       1.683669      1.741221     1.613389  2.049057e+08   \n",
       "min        0.203568       0.202932      0.207196     0.196525  4.300080e+05   \n",
       "25%        0.452104       0.452108      0.471789     0.433148  5.099016e+06   \n",
       "50%        1.836896       1.838879      1.904876     1.776874  7.109971e+07   \n",
       "75%        2.774188       2.779406      2.866623     2.673228  2.195484e+08   \n",
       "max        8.640430       8.643123      8.754881     8.216572  1.478593e+09   \n",
       "\n",
       "          marketcap  chainlink_daily_active_addresses  \\\n",
       "count  7.310000e+02                        731.000000   \n",
       "mean   6.882476e+08                       1543.406293   \n",
       "std    5.892843e+08                       1829.012944   \n",
       "min    7.102615e+07                         63.000000   \n",
       "25%    1.582377e+08                        186.000000   \n",
       "50%    6.436076e+08                       1085.000000   \n",
       "75%    9.727921e+08                       2139.000000   \n",
       "max    3.025093e+09                      14253.000000   \n",
       "\n",
       "       chainlink_active_deposits  \n",
       "count                  69.000000  \n",
       "mean                  375.623188  \n",
       "std                   224.320812  \n",
       "min                   183.000000  \n",
       "25%                   225.000000  \n",
       "50%                   270.000000  \n",
       "75%                   446.000000  \n",
       "max                  1345.000000  "
      ]
     },
     "execution_count": 21,
     "metadata": {},
     "output_type": "execute_result"
    }
   ],
   "source": [
    "# GETTING DATAFRAMES AND JOINING THEM\n",
    "df = get_metric_timeseries('ohlcv', 'chainlink')\n",
    "df1 = get_metric_timeseries('daily_active_addresses', 'chainlink')\n",
    "df2 = get_metric_timeseries('active_deposits', 'chainlink')\n",
    "df_agg = aggregate_timeseries_df(df,df1,df2)\n",
    "df_agg.describe()"
   ]
  },
  {
   "cell_type": "code",
   "execution_count": 22,
   "metadata": {},
   "outputs": [
    {
     "ename": "SanError",
     "evalue": "GraphQL error occured running query {\n    query_0: historyPrice(\n        slug: \"chainlink\",\n        from: \"2018-07-31T00:00:00+00:00\",\n        to: \"2020-07-30T23:59:59+00:00\",\n        interval: \"1h\"\n    ){\n    datetime priceUsd priceBtc marketcap volume}} \n errors: [{'locations': [{'column': 5, 'line': 2}], 'message': 'Field historyPrice is too complex: complexity is 87720 and maximum is 20000'}, {'locations': [{'column': 1, 'line': 1}], 'message': 'Operation is too complex: complexity is 87720 and maximum is 20000'}]",
     "output_type": "error",
     "traceback": [
      "\u001b[0;31m---------------------------------------------------------------------------\u001b[0m",
      "\u001b[0;31mSanError\u001b[0m                                  Traceback (most recent call last)",
      "\u001b[0;32m<ipython-input-22-233572cc4d2a>\u001b[0m in \u001b[0;36m<module>\u001b[0;34m\u001b[0m\n\u001b[0;32m----> 1\u001b[0;31m \u001b[0mdf\u001b[0m \u001b[0;34m=\u001b[0m \u001b[0mget_metric_timeseries\u001b[0m\u001b[0;34m(\u001b[0m\u001b[0;34m'prices'\u001b[0m\u001b[0;34m,\u001b[0m \u001b[0;34m'chainlink'\u001b[0m\u001b[0;34m,\u001b[0m \u001b[0minterval\u001b[0m\u001b[0;34m=\u001b[0m\u001b[0;34m'1h'\u001b[0m\u001b[0;34m)\u001b[0m\u001b[0;34m\u001b[0m\u001b[0;34m\u001b[0m\u001b[0m\n\u001b[0m",
      "\u001b[0;32m<ipython-input-5-54f6fc31c3ef>\u001b[0m in \u001b[0;36mget_metric_timeseries\u001b[0;34m(request, asset, from_date, to_date, interval)\u001b[0m\n\u001b[1;32m      5\u001b[0m         \u001b[0mfrom_date\u001b[0m\u001b[0;34m=\u001b[0m\u001b[0mfrom_date\u001b[0m\u001b[0;34m,\u001b[0m\u001b[0;34m\u001b[0m\u001b[0;34m\u001b[0m\u001b[0m\n\u001b[1;32m      6\u001b[0m         \u001b[0mto_date\u001b[0m\u001b[0;34m=\u001b[0m\u001b[0mto_date\u001b[0m\u001b[0;34m,\u001b[0m\u001b[0;34m\u001b[0m\u001b[0;34m\u001b[0m\u001b[0m\n\u001b[0;32m----> 7\u001b[0;31m         \u001b[0minterval\u001b[0m\u001b[0;34m=\u001b[0m\u001b[0minterval\u001b[0m\u001b[0;34m\u001b[0m\u001b[0;34m\u001b[0m\u001b[0m\n\u001b[0m\u001b[1;32m      8\u001b[0m     )\n\u001b[1;32m      9\u001b[0m     \u001b[0;31m# if no col named value, renaming ignored\u001b[0m\u001b[0;34m\u001b[0m\u001b[0;34m\u001b[0m\u001b[0;34m\u001b[0m\u001b[0m\n",
      "\u001b[0;32m/Library/Frameworks/Python.framework/Versions/3.7/lib/python3.7/site-packages/san/get.py\u001b[0m in \u001b[0;36mget\u001b[0;34m(dataset, **kwargs)\u001b[0m\n\u001b[1;32m     40\u001b[0m         \u001b[0;32melse\u001b[0m\u001b[0;34m:\u001b[0m\u001b[0;34m\u001b[0m\u001b[0;34m\u001b[0m\u001b[0m\n\u001b[1;32m     41\u001b[0m             \u001b[0;32mraise\u001b[0m \u001b[0mSanError\u001b[0m\u001b[0;34m(\u001b[0m\u001b[0;34m'Invalid metric!'\u001b[0m\u001b[0;34m)\u001b[0m\u001b[0;34m\u001b[0m\u001b[0;34m\u001b[0m\u001b[0m\n\u001b[0;32m---> 42\u001b[0;31m     \u001b[0mres\u001b[0m \u001b[0;34m=\u001b[0m \u001b[0mexecute_gql\u001b[0m\u001b[0;34m(\u001b[0m\u001b[0mgql_query\u001b[0m\u001b[0;34m)\u001b[0m\u001b[0;34m\u001b[0m\u001b[0;34m\u001b[0m\u001b[0m\n\u001b[0m\u001b[1;32m     43\u001b[0m \u001b[0;34m\u001b[0m\u001b[0m\n\u001b[1;32m     44\u001b[0m     \u001b[0;32mreturn\u001b[0m \u001b[0mtransform_query_result\u001b[0m\u001b[0;34m(\u001b[0m\u001b[0;36m0\u001b[0m\u001b[0;34m,\u001b[0m \u001b[0mquery\u001b[0m\u001b[0;34m,\u001b[0m \u001b[0mres\u001b[0m\u001b[0;34m)\u001b[0m\u001b[0;34m\u001b[0m\u001b[0;34m\u001b[0m\u001b[0m\n",
      "\u001b[0;32m/Library/Frameworks/Python.framework/Versions/3.7/lib/python3.7/site-packages/san/graphql.py\u001b[0m in \u001b[0;36mexecute_gql\u001b[0;34m(gql_query_str)\u001b[0m\n\u001b[1;32m     16\u001b[0m \u001b[0;34m\u001b[0m\u001b[0m\n\u001b[1;32m     17\u001b[0m     \u001b[0;32mif\u001b[0m \u001b[0mresponse\u001b[0m\u001b[0;34m.\u001b[0m\u001b[0mstatus_code\u001b[0m \u001b[0;34m==\u001b[0m \u001b[0;36m200\u001b[0m\u001b[0;34m:\u001b[0m\u001b[0;34m\u001b[0m\u001b[0;34m\u001b[0m\u001b[0m\n\u001b[0;32m---> 18\u001b[0;31m         \u001b[0;32mreturn\u001b[0m \u001b[0m__handle_success_response__\u001b[0m\u001b[0;34m(\u001b[0m\u001b[0mresponse\u001b[0m\u001b[0;34m,\u001b[0m \u001b[0mgql_query_str\u001b[0m\u001b[0;34m)\u001b[0m\u001b[0;34m\u001b[0m\u001b[0;34m\u001b[0m\u001b[0m\n\u001b[0m\u001b[1;32m     19\u001b[0m     \u001b[0;32melse\u001b[0m\u001b[0;34m:\u001b[0m\u001b[0;34m\u001b[0m\u001b[0;34m\u001b[0m\u001b[0m\n\u001b[1;32m     20\u001b[0m         raise SanError(\n",
      "\u001b[0;32m/Library/Frameworks/Python.framework/Versions/3.7/lib/python3.7/site-packages/san/graphql.py\u001b[0m in \u001b[0;36m__handle_success_response__\u001b[0;34m(response, gql_query_str)\u001b[0m\n\u001b[1;32m     29\u001b[0m             \"GraphQL error occured running query {} \\n errors: {}\".format(\n\u001b[1;32m     30\u001b[0m                 \u001b[0mgql_query_str\u001b[0m\u001b[0;34m,\u001b[0m\u001b[0;34m\u001b[0m\u001b[0;34m\u001b[0m\u001b[0m\n\u001b[0;32m---> 31\u001b[0;31m                 response.json()['errors']))\n\u001b[0m\u001b[1;32m     32\u001b[0m     \u001b[0;32melif\u001b[0m \u001b[0m__exist_not_empty_result\u001b[0m\u001b[0;34m(\u001b[0m\u001b[0mresponse\u001b[0m\u001b[0;34m)\u001b[0m\u001b[0;34m:\u001b[0m\u001b[0;34m\u001b[0m\u001b[0;34m\u001b[0m\u001b[0m\n\u001b[1;32m     33\u001b[0m         \u001b[0;32mreturn\u001b[0m \u001b[0mresponse\u001b[0m\u001b[0;34m.\u001b[0m\u001b[0mjson\u001b[0m\u001b[0;34m(\u001b[0m\u001b[0;34m)\u001b[0m\u001b[0;34m[\u001b[0m\u001b[0;34m'data'\u001b[0m\u001b[0;34m]\u001b[0m\u001b[0;34m\u001b[0m\u001b[0;34m\u001b[0m\u001b[0m\n",
      "\u001b[0;31mSanError\u001b[0m: GraphQL error occured running query {\n    query_0: historyPrice(\n        slug: \"chainlink\",\n        from: \"2018-07-31T00:00:00+00:00\",\n        to: \"2020-07-30T23:59:59+00:00\",\n        interval: \"1h\"\n    ){\n    datetime priceUsd priceBtc marketcap volume}} \n errors: [{'locations': [{'column': 5, 'line': 2}], 'message': 'Field historyPrice is too complex: complexity is 87720 and maximum is 20000'}, {'locations': [{'column': 1, 'line': 1}], 'message': 'Operation is too complex: complexity is 87720 and maximum is 20000'}]"
     ]
    }
   ],
   "source": [
    "df = get_metric_timeseries('prices', 'chainlink', interval='1h')"
   ]
  },
  {
   "cell_type": "markdown",
   "metadata": {},
   "source": [
    "## Data cleaning/manipulating"
   ]
  },
  {
   "cell_type": "code",
   "execution_count": null,
   "metadata": {},
   "outputs": [],
   "source": [
    "df_agg['price_volume'] = df_agg.priceUsd/df_agg.volume\n",
    "df_agg.head()"
   ]
  },
  {
   "cell_type": "code",
   "execution_count": null,
   "metadata": {},
   "outputs": [],
   "source": [
    "#df_agg.drop(columns='price_volume', inplace=True)\n",
    "df_agg.head()"
   ]
  },
  {
   "cell_type": "code",
   "execution_count": null,
   "metadata": {},
   "outputs": [],
   "source": [
    "df_agg.dtypes"
   ]
  },
  {
   "cell_type": "code",
   "execution_count": 23,
   "metadata": {
    "tags": []
   },
   "outputs": [
    {
     "data": {
      "text/html": [
       "<div>\n",
       "<style scoped>\n",
       "    .dataframe tbody tr th:only-of-type {\n",
       "        vertical-align: middle;\n",
       "    }\n",
       "\n",
       "    .dataframe tbody tr th {\n",
       "        vertical-align: top;\n",
       "    }\n",
       "\n",
       "    .dataframe thead th {\n",
       "        text-align: right;\n",
       "    }\n",
       "</style>\n",
       "<table border=\"1\" class=\"dataframe\">\n",
       "  <thead>\n",
       "    <tr style=\"text-align: right;\">\n",
       "      <th></th>\n",
       "      <th>chainlink_activeAddresses</th>\n",
       "      <th>chainlink_activeDepositAddresses</th>\n",
       "      <th>priceUsd</th>\n",
       "      <th>volume</th>\n",
       "    </tr>\n",
       "    <tr>\n",
       "      <th>datetime</th>\n",
       "      <th></th>\n",
       "      <th></th>\n",
       "      <th></th>\n",
       "      <th></th>\n",
       "    </tr>\n",
       "  </thead>\n",
       "  <tbody>\n",
       "    <tr>\n",
       "      <th>2020-07-26 00:00:00+00:00</th>\n",
       "      <td>6894.0</td>\n",
       "      <td>546.0</td>\n",
       "      <td>7.499005</td>\n",
       "      <td>693139972.0</td>\n",
       "    </tr>\n",
       "    <tr>\n",
       "      <th>2020-07-27 00:00:00+00:00</th>\n",
       "      <td>9176.0</td>\n",
       "      <td>831.0</td>\n",
       "      <td>7.095583</td>\n",
       "      <td>921616285.0</td>\n",
       "    </tr>\n",
       "    <tr>\n",
       "      <th>2020-07-28 00:00:00+00:00</th>\n",
       "      <td>6252.0</td>\n",
       "      <td>475.0</td>\n",
       "      <td>7.223460</td>\n",
       "      <td>592707771.0</td>\n",
       "    </tr>\n",
       "    <tr>\n",
       "      <th>2020-07-29 00:00:00+00:00</th>\n",
       "      <td>5407.0</td>\n",
       "      <td>403.0</td>\n",
       "      <td>7.116083</td>\n",
       "      <td>577077884.0</td>\n",
       "    </tr>\n",
       "    <tr>\n",
       "      <th>2020-07-30 00:00:00+00:00</th>\n",
       "      <td>5013.0</td>\n",
       "      <td>385.0</td>\n",
       "      <td>7.416992</td>\n",
       "      <td>605829268.0</td>\n",
       "    </tr>\n",
       "  </tbody>\n",
       "</table>\n",
       "</div>"
      ],
      "text/plain": [
       "                           chainlink_activeAddresses  \\\n",
       "datetime                                               \n",
       "2020-07-26 00:00:00+00:00                     6894.0   \n",
       "2020-07-27 00:00:00+00:00                     9176.0   \n",
       "2020-07-28 00:00:00+00:00                     6252.0   \n",
       "2020-07-29 00:00:00+00:00                     5407.0   \n",
       "2020-07-30 00:00:00+00:00                     5013.0   \n",
       "\n",
       "                           chainlink_activeDepositAddresses  priceUsd  \\\n",
       "datetime                                                                \n",
       "2020-07-26 00:00:00+00:00                             546.0  7.499005   \n",
       "2020-07-27 00:00:00+00:00                             831.0  7.095583   \n",
       "2020-07-28 00:00:00+00:00                             475.0  7.223460   \n",
       "2020-07-29 00:00:00+00:00                             403.0  7.116083   \n",
       "2020-07-30 00:00:00+00:00                             385.0  7.416992   \n",
       "\n",
       "                                volume  \n",
       "datetime                                \n",
       "2020-07-26 00:00:00+00:00  693139972.0  \n",
       "2020-07-27 00:00:00+00:00  921616285.0  \n",
       "2020-07-28 00:00:00+00:00  592707771.0  \n",
       "2020-07-29 00:00:00+00:00  577077884.0  \n",
       "2020-07-30 00:00:00+00:00  605829268.0  "
      ]
     },
     "execution_count": 23,
     "metadata": {},
     "output_type": "execute_result"
    }
   ],
   "source": [
    "# OLD\n",
    "# BETTER ACHIEVED IN DF SERIES get_metric_timeseries() CALL\n",
    "\n",
    "from_date = '2018-07-31'\n",
    "to_date = '2020-07-30'\n",
    "asset = 'chainlink'\n",
    "interval = '1d'\n",
    "\n",
    "# get unique active addresses on-chain\n",
    "# https://academy.santiment.net/sansheets/functions/#san_active_addresses \n",
    "daa = san.get(\n",
    "    f'daily_active_addresses/{asset}',\n",
    "    from_date=from_date,\n",
    "    to_date=to_date,\n",
    "    interval=interval\n",
    ")\n",
    "\n",
    "price = san.get(\n",
    "    f'prices/{asset}',\n",
    "    from_date=from_date,\n",
    "    to_date=to_date,\n",
    "    interval=interval\n",
    ")\n",
    "\n",
    "# trans = san.get(\n",
    "#     f'transaction_volume/{asset}',\n",
    "#     from_date=from_date,\n",
    "#     to_date=to_date,\n",
    "#     interval=interval    \n",
    "# )\n",
    "\n",
    "dep = san.get(\n",
    "    f'active_deposits/{asset}',\n",
    "    from_date=from_date,\n",
    "    to_date=to_date,\n",
    "    interval=interval    \n",
    ")\n",
    "\n",
    "# execute the request\n",
    "#[daa, dad, price] = batch.execute()\n",
    "\n",
    "# merge dataframes\n",
    "data = daa.rename(columns={'value':f'{asset}_activeAddresses'}).join(dep.rename(columns={'value':f'{asset}_activeDepositAddresses'})).join(price[['priceUsd','volume']])\n",
    "\n",
    "# take a look\n",
    "data.tail()"
   ]
  },
  {
   "cell_type": "code",
   "execution_count": 24,
   "metadata": {},
   "outputs": [
    {
     "data": {
      "text/plain": [
       "chainlink_activeAddresses             0\n",
       "chainlink_activeDepositAddresses    662\n",
       "priceUsd                              0\n",
       "volume                                0\n",
       "dtype: int64"
      ]
     },
     "execution_count": 24,
     "metadata": {},
     "output_type": "execute_result"
    }
   ],
   "source": [
    "pd.isnull(data).sum()"
   ]
  },
  {
   "cell_type": "code",
   "execution_count": 25,
   "metadata": {},
   "outputs": [
    {
     "data": {
      "text/plain": [
       "(731, 4)"
      ]
     },
     "execution_count": 25,
     "metadata": {},
     "output_type": "execute_result"
    }
   ],
   "source": [
    "data.shape"
   ]
  },
  {
   "cell_type": "code",
   "execution_count": 26,
   "metadata": {},
   "outputs": [
    {
     "data": {
      "text/plain": [
       "chainlink_activeAddresses           float64\n",
       "chainlink_activeDepositAddresses    float64\n",
       "priceUsd                            float64\n",
       "volume                              float64\n",
       "dtype: object"
      ]
     },
     "execution_count": 26,
     "metadata": {},
     "output_type": "execute_result"
    }
   ],
   "source": [
    "data.dtypes"
   ]
  },
  {
   "cell_type": "code",
   "execution_count": 27,
   "metadata": {},
   "outputs": [
    {
     "data": {
      "text/html": [
       "<div>\n",
       "<style scoped>\n",
       "    .dataframe tbody tr th:only-of-type {\n",
       "        vertical-align: middle;\n",
       "    }\n",
       "\n",
       "    .dataframe tbody tr th {\n",
       "        vertical-align: top;\n",
       "    }\n",
       "\n",
       "    .dataframe thead th {\n",
       "        text-align: right;\n",
       "    }\n",
       "</style>\n",
       "<table border=\"1\" class=\"dataframe\">\n",
       "  <thead>\n",
       "    <tr style=\"text-align: right;\">\n",
       "      <th></th>\n",
       "      <th>value</th>\n",
       "    </tr>\n",
       "    <tr>\n",
       "      <th>datetime</th>\n",
       "      <th></th>\n",
       "    </tr>\n",
       "  </thead>\n",
       "  <tbody>\n",
       "    <tr>\n",
       "      <th>2018-07-31 00:00:00+00:00</th>\n",
       "      <td>2272300.0</td>\n",
       "    </tr>\n",
       "    <tr>\n",
       "      <th>2018-08-01 00:00:00+00:00</th>\n",
       "      <td>1546730.0</td>\n",
       "    </tr>\n",
       "    <tr>\n",
       "      <th>2018-08-02 00:00:00+00:00</th>\n",
       "      <td>1954190.0</td>\n",
       "    </tr>\n",
       "    <tr>\n",
       "      <th>2018-08-03 00:00:00+00:00</th>\n",
       "      <td>1460135.0</td>\n",
       "    </tr>\n",
       "    <tr>\n",
       "      <th>2018-08-04 00:00:00+00:00</th>\n",
       "      <td>1284510.0</td>\n",
       "    </tr>\n",
       "  </tbody>\n",
       "</table>\n",
       "</div>"
      ],
      "text/plain": [
       "                               value\n",
       "datetime                            \n",
       "2018-07-31 00:00:00+00:00  2272300.0\n",
       "2018-08-01 00:00:00+00:00  1546730.0\n",
       "2018-08-02 00:00:00+00:00  1954190.0\n",
       "2018-08-03 00:00:00+00:00  1460135.0\n",
       "2018-08-04 00:00:00+00:00  1284510.0"
      ]
     },
     "execution_count": 27,
     "metadata": {},
     "output_type": "execute_result"
    }
   ],
   "source": [
    "from_date = '2018-07-31'\n",
    "to_date = '2020-07-30'\n",
    "asset = 'chainlink'\n",
    "interval = '1d'\n",
    "\n",
    "trade = san.get(\n",
    "    f'daily_trading_volume_usd/{asset}',\n",
    "    from_date=from_date,\n",
    "    to_date=to_date,\n",
    "    interval=interval    \n",
    ")\n",
    "\n",
    "trade.head()"
   ]
  },
  {
   "cell_type": "code",
   "execution_count": 28,
   "metadata": {},
   "outputs": [
    {
     "data": {
      "text/html": [
       "<div>\n",
       "<style scoped>\n",
       "    .dataframe tbody tr th:only-of-type {\n",
       "        vertical-align: middle;\n",
       "    }\n",
       "\n",
       "    .dataframe tbody tr th {\n",
       "        vertical-align: top;\n",
       "    }\n",
       "\n",
       "    .dataframe thead th {\n",
       "        text-align: right;\n",
       "    }\n",
       "</style>\n",
       "<table border=\"1\" class=\"dataframe\">\n",
       "  <thead>\n",
       "    <tr style=\"text-align: right;\">\n",
       "      <th></th>\n",
       "      <th>value</th>\n",
       "    </tr>\n",
       "    <tr>\n",
       "      <th>datetime</th>\n",
       "      <th></th>\n",
       "    </tr>\n",
       "  </thead>\n",
       "  <tbody>\n",
       "    <tr>\n",
       "      <th>2020-05-23 00:00:00+00:00</th>\n",
       "      <td>242.0</td>\n",
       "    </tr>\n",
       "    <tr>\n",
       "      <th>2020-05-24 00:00:00+00:00</th>\n",
       "      <td>244.0</td>\n",
       "    </tr>\n",
       "    <tr>\n",
       "      <th>2020-05-25 00:00:00+00:00</th>\n",
       "      <td>230.0</td>\n",
       "    </tr>\n",
       "    <tr>\n",
       "      <th>2020-05-26 00:00:00+00:00</th>\n",
       "      <td>236.0</td>\n",
       "    </tr>\n",
       "    <tr>\n",
       "      <th>2020-05-27 00:00:00+00:00</th>\n",
       "      <td>210.0</td>\n",
       "    </tr>\n",
       "  </tbody>\n",
       "</table>\n",
       "</div>"
      ],
      "text/plain": [
       "                           value\n",
       "datetime                        \n",
       "2020-05-23 00:00:00+00:00  242.0\n",
       "2020-05-24 00:00:00+00:00  244.0\n",
       "2020-05-25 00:00:00+00:00  230.0\n",
       "2020-05-26 00:00:00+00:00  236.0\n",
       "2020-05-27 00:00:00+00:00  210.0"
      ]
     },
     "execution_count": 28,
     "metadata": {},
     "output_type": "execute_result"
    }
   ],
   "source": [
    "from_date = '2018-07-31'\n",
    "to_date = '2020-07-30'\n",
    "asset = 'chainlink'\n",
    "interval = '1d'\n",
    "\n",
    "trans = san.get(\n",
    "    f'active_deposits/{asset}',\n",
    "    from_date=from_date,\n",
    "    to_date=to_date,\n",
    "    interval=interval    \n",
    ")\n",
    "\n",
    "trans.head()"
   ]
  },
  {
   "cell_type": "code",
   "execution_count": 29,
   "metadata": {},
   "outputs": [
    {
     "data": {
      "text/plain": [
       "(69, 1)"
      ]
     },
     "execution_count": 29,
     "metadata": {},
     "output_type": "execute_result"
    }
   ],
   "source": [
    "trans.shape"
   ]
  },
  {
   "cell_type": "code",
   "execution_count": 30,
   "metadata": {},
   "outputs": [
    {
     "data": {
      "text/plain": [
       "<AxesSubplot:xlabel='datetime'>"
      ]
     },
     "execution_count": 30,
     "metadata": {},
     "output_type": "execute_result"
    },
    {
     "data": {
      "image/png": "[encoded data removed]",
      "text/plain": [
       "<Figure size 1080x504 with 1 Axes>"
      ]
     },
     "metadata": {
      "needs_background": "light"
     },
     "output_type": "display_data"
    }
   ],
   "source": [
    "trans['value'].plot(figsize=(15,7))"
   ]
  },
  {
   "cell_type": "code",
   "execution_count": 31,
   "metadata": {},
   "outputs": [
    {
     "ename": "KeyError",
     "evalue": "'transactionVol'",
     "output_type": "error",
     "traceback": [
      "\u001b[0;31m---------------------------------------------------------------------------\u001b[0m",
      "\u001b[0;31mKeyError\u001b[0m                                  Traceback (most recent call last)",
      "\u001b[0;32m/Library/Frameworks/Python.framework/Versions/3.7/lib/python3.7/site-packages/pandas/core/indexes/base.py\u001b[0m in \u001b[0;36mget_loc\u001b[0;34m(self, key, method, tolerance)\u001b[0m\n\u001b[1;32m   2888\u001b[0m             \u001b[0;32mtry\u001b[0m\u001b[0;34m:\u001b[0m\u001b[0;34m\u001b[0m\u001b[0;34m\u001b[0m\u001b[0m\n\u001b[0;32m-> 2889\u001b[0;31m                 \u001b[0;32mreturn\u001b[0m \u001b[0mself\u001b[0m\u001b[0;34m.\u001b[0m\u001b[0m_engine\u001b[0m\u001b[0;34m.\u001b[0m\u001b[0mget_loc\u001b[0m\u001b[0;34m(\u001b[0m\u001b[0mcasted_key\u001b[0m\u001b[0;34m)\u001b[0m\u001b[0;34m\u001b[0m\u001b[0;34m\u001b[0m\u001b[0m\n\u001b[0m\u001b[1;32m   2890\u001b[0m             \u001b[0;32mexcept\u001b[0m \u001b[0mKeyError\u001b[0m \u001b[0;32mas\u001b[0m \u001b[0merr\u001b[0m\u001b[0;34m:\u001b[0m\u001b[0;34m\u001b[0m\u001b[0;34m\u001b[0m\u001b[0m\n",
      "\u001b[0;32mpandas/_libs/index.pyx\u001b[0m in \u001b[0;36mpandas._libs.index.IndexEngine.get_loc\u001b[0;34m()\u001b[0m\n",
      "\u001b[0;32mpandas/_libs/index.pyx\u001b[0m in \u001b[0;36mpandas._libs.index.IndexEngine.get_loc\u001b[0;34m()\u001b[0m\n",
      "\u001b[0;32mpandas/_libs/hashtable_class_helper.pxi\u001b[0m in \u001b[0;36mpandas._libs.hashtable.PyObjectHashTable.get_item\u001b[0;34m()\u001b[0m\n",
      "\u001b[0;32mpandas/_libs/hashtable_class_helper.pxi\u001b[0m in \u001b[0;36mpandas._libs.hashtable.PyObjectHashTable.get_item\u001b[0;34m()\u001b[0m\n",
      "\u001b[0;31mKeyError\u001b[0m: 'transactionVol'",
      "\nThe above exception was the direct cause of the following exception:\n",
      "\u001b[0;31mKeyError\u001b[0m                                  Traceback (most recent call last)",
      "\u001b[0;32m<ipython-input-31-0ba7119100fb>\u001b[0m in \u001b[0;36m<module>\u001b[0;34m\u001b[0m\n\u001b[0;32m----> 1\u001b[0;31m \u001b[0mdata\u001b[0m\u001b[0;34m[\u001b[0m\u001b[0;34m'transactionVol'\u001b[0m\u001b[0;34m]\u001b[0m\u001b[0;34m.\u001b[0m\u001b[0mtail\u001b[0m\u001b[0;34m(\u001b[0m\u001b[0;34m)\u001b[0m\u001b[0;34m\u001b[0m\u001b[0;34m\u001b[0m\u001b[0m\n\u001b[0m",
      "\u001b[0;32m/Library/Frameworks/Python.framework/Versions/3.7/lib/python3.7/site-packages/pandas/core/frame.py\u001b[0m in \u001b[0;36m__getitem__\u001b[0;34m(self, key)\u001b[0m\n\u001b[1;32m   2897\u001b[0m             \u001b[0;32mif\u001b[0m \u001b[0mself\u001b[0m\u001b[0;34m.\u001b[0m\u001b[0mcolumns\u001b[0m\u001b[0;34m.\u001b[0m\u001b[0mnlevels\u001b[0m \u001b[0;34m>\u001b[0m \u001b[0;36m1\u001b[0m\u001b[0;34m:\u001b[0m\u001b[0;34m\u001b[0m\u001b[0;34m\u001b[0m\u001b[0m\n\u001b[1;32m   2898\u001b[0m                 \u001b[0;32mreturn\u001b[0m \u001b[0mself\u001b[0m\u001b[0;34m.\u001b[0m\u001b[0m_getitem_multilevel\u001b[0m\u001b[0;34m(\u001b[0m\u001b[0mkey\u001b[0m\u001b[0;34m)\u001b[0m\u001b[0;34m\u001b[0m\u001b[0;34m\u001b[0m\u001b[0m\n\u001b[0;32m-> 2899\u001b[0;31m             \u001b[0mindexer\u001b[0m \u001b[0;34m=\u001b[0m \u001b[0mself\u001b[0m\u001b[0;34m.\u001b[0m\u001b[0mcolumns\u001b[0m\u001b[0;34m.\u001b[0m\u001b[0mget_loc\u001b[0m\u001b[0;34m(\u001b[0m\u001b[0mkey\u001b[0m\u001b[0;34m)\u001b[0m\u001b[0;34m\u001b[0m\u001b[0;34m\u001b[0m\u001b[0m\n\u001b[0m\u001b[1;32m   2900\u001b[0m             \u001b[0;32mif\u001b[0m \u001b[0mis_integer\u001b[0m\u001b[0;34m(\u001b[0m\u001b[0mindexer\u001b[0m\u001b[0;34m)\u001b[0m\u001b[0;34m:\u001b[0m\u001b[0;34m\u001b[0m\u001b[0;34m\u001b[0m\u001b[0m\n\u001b[1;32m   2901\u001b[0m                 \u001b[0mindexer\u001b[0m \u001b[0;34m=\u001b[0m \u001b[0;34m[\u001b[0m\u001b[0mindexer\u001b[0m\u001b[0;34m]\u001b[0m\u001b[0;34m\u001b[0m\u001b[0;34m\u001b[0m\u001b[0m\n",
      "\u001b[0;32m/Library/Frameworks/Python.framework/Versions/3.7/lib/python3.7/site-packages/pandas/core/indexes/base.py\u001b[0m in \u001b[0;36mget_loc\u001b[0;34m(self, key, method, tolerance)\u001b[0m\n\u001b[1;32m   2889\u001b[0m                 \u001b[0;32mreturn\u001b[0m \u001b[0mself\u001b[0m\u001b[0;34m.\u001b[0m\u001b[0m_engine\u001b[0m\u001b[0;34m.\u001b[0m\u001b[0mget_loc\u001b[0m\u001b[0;34m(\u001b[0m\u001b[0mcasted_key\u001b[0m\u001b[0;34m)\u001b[0m\u001b[0;34m\u001b[0m\u001b[0;34m\u001b[0m\u001b[0m\n\u001b[1;32m   2890\u001b[0m             \u001b[0;32mexcept\u001b[0m \u001b[0mKeyError\u001b[0m \u001b[0;32mas\u001b[0m \u001b[0merr\u001b[0m\u001b[0;34m:\u001b[0m\u001b[0;34m\u001b[0m\u001b[0;34m\u001b[0m\u001b[0m\n\u001b[0;32m-> 2891\u001b[0;31m                 \u001b[0;32mraise\u001b[0m \u001b[0mKeyError\u001b[0m\u001b[0;34m(\u001b[0m\u001b[0mkey\u001b[0m\u001b[0;34m)\u001b[0m \u001b[0;32mfrom\u001b[0m \u001b[0merr\u001b[0m\u001b[0;34m\u001b[0m\u001b[0;34m\u001b[0m\u001b[0m\n\u001b[0m\u001b[1;32m   2892\u001b[0m \u001b[0;34m\u001b[0m\u001b[0m\n\u001b[1;32m   2893\u001b[0m         \u001b[0;32mif\u001b[0m \u001b[0mtolerance\u001b[0m \u001b[0;32mis\u001b[0m \u001b[0;32mnot\u001b[0m \u001b[0;32mNone\u001b[0m\u001b[0;34m:\u001b[0m\u001b[0;34m\u001b[0m\u001b[0;34m\u001b[0m\u001b[0m\n",
      "\u001b[0;31mKeyError\u001b[0m: 'transactionVol'"
     ]
    }
   ],
   "source": [
    "data['transactionVol'].tail()"
   ]
  },
  {
   "cell_type": "code",
   "execution_count": 32,
   "metadata": {},
   "outputs": [
    {
     "data": {
      "text/plain": [
       "chainlink_activeAddresses             0\n",
       "chainlink_activeDepositAddresses    662\n",
       "priceUsd                              0\n",
       "volume                                0\n",
       "dtype: int64"
      ]
     },
     "execution_count": 32,
     "metadata": {},
     "output_type": "execute_result"
    }
   ],
   "source": [
    "pd.isnull(data).sum()"
   ]
  },
  {
   "cell_type": "code",
   "execution_count": 33,
   "metadata": {},
   "outputs": [
    {
     "data": {
      "text/html": [
       "<div>\n",
       "<style scoped>\n",
       "    .dataframe tbody tr th:only-of-type {\n",
       "        vertical-align: middle;\n",
       "    }\n",
       "\n",
       "    .dataframe tbody tr th {\n",
       "        vertical-align: top;\n",
       "    }\n",
       "\n",
       "    .dataframe thead th {\n",
       "        text-align: right;\n",
       "    }\n",
       "</style>\n",
       "<table border=\"1\" class=\"dataframe\">\n",
       "  <thead>\n",
       "    <tr style=\"text-align: right;\">\n",
       "      <th></th>\n",
       "      <th>chainlink_activeAddresses</th>\n",
       "      <th>chainlink_activeDepositAddresses</th>\n",
       "      <th>priceUsd</th>\n",
       "      <th>volume</th>\n",
       "    </tr>\n",
       "  </thead>\n",
       "  <tbody>\n",
       "    <tr>\n",
       "      <th>count</th>\n",
       "      <td>731.000000</td>\n",
       "      <td>69.000000</td>\n",
       "      <td>731.000000</td>\n",
       "      <td>7.310000e+02</td>\n",
       "    </tr>\n",
       "    <tr>\n",
       "      <th>mean</th>\n",
       "      <td>1543.406293</td>\n",
       "      <td>375.623188</td>\n",
       "      <td>1.966422</td>\n",
       "      <td>1.516085e+08</td>\n",
       "    </tr>\n",
       "    <tr>\n",
       "      <th>std</th>\n",
       "      <td>1829.012944</td>\n",
       "      <td>224.320812</td>\n",
       "      <td>1.683669</td>\n",
       "      <td>2.049057e+08</td>\n",
       "    </tr>\n",
       "    <tr>\n",
       "      <th>min</th>\n",
       "      <td>63.000000</td>\n",
       "      <td>183.000000</td>\n",
       "      <td>0.202932</td>\n",
       "      <td>4.300080e+05</td>\n",
       "    </tr>\n",
       "    <tr>\n",
       "      <th>25%</th>\n",
       "      <td>186.000000</td>\n",
       "      <td>225.000000</td>\n",
       "      <td>0.452108</td>\n",
       "      <td>5.099016e+06</td>\n",
       "    </tr>\n",
       "    <tr>\n",
       "      <th>50%</th>\n",
       "      <td>1085.000000</td>\n",
       "      <td>270.000000</td>\n",
       "      <td>1.838879</td>\n",
       "      <td>7.109971e+07</td>\n",
       "    </tr>\n",
       "    <tr>\n",
       "      <th>75%</th>\n",
       "      <td>2139.000000</td>\n",
       "      <td>446.000000</td>\n",
       "      <td>2.779406</td>\n",
       "      <td>2.195484e+08</td>\n",
       "    </tr>\n",
       "    <tr>\n",
       "      <th>max</th>\n",
       "      <td>14253.000000</td>\n",
       "      <td>1345.000000</td>\n",
       "      <td>8.643123</td>\n",
       "      <td>1.478593e+09</td>\n",
       "    </tr>\n",
       "  </tbody>\n",
       "</table>\n",
       "</div>"
      ],
      "text/plain": [
       "       chainlink_activeAddresses  chainlink_activeDepositAddresses  \\\n",
       "count                 731.000000                         69.000000   \n",
       "mean                 1543.406293                        375.623188   \n",
       "std                  1829.012944                        224.320812   \n",
       "min                    63.000000                        183.000000   \n",
       "25%                   186.000000                        225.000000   \n",
       "50%                  1085.000000                        270.000000   \n",
       "75%                  2139.000000                        446.000000   \n",
       "max                 14253.000000                       1345.000000   \n",
       "\n",
       "         priceUsd        volume  \n",
       "count  731.000000  7.310000e+02  \n",
       "mean     1.966422  1.516085e+08  \n",
       "std      1.683669  2.049057e+08  \n",
       "min      0.202932  4.300080e+05  \n",
       "25%      0.452108  5.099016e+06  \n",
       "50%      1.838879  7.109971e+07  \n",
       "75%      2.779406  2.195484e+08  \n",
       "max      8.643123  1.478593e+09  "
      ]
     },
     "execution_count": 33,
     "metadata": {},
     "output_type": "execute_result"
    }
   ],
   "source": [
    "data.describe()"
   ]
  },
  {
   "cell_type": "code",
   "execution_count": 34,
   "metadata": {},
   "outputs": [
    {
     "data": {
      "text/html": [
       "<div>\n",
       "<style scoped>\n",
       "    .dataframe tbody tr th:only-of-type {\n",
       "        vertical-align: middle;\n",
       "    }\n",
       "\n",
       "    .dataframe tbody tr th {\n",
       "        vertical-align: top;\n",
       "    }\n",
       "\n",
       "    .dataframe thead th {\n",
       "        text-align: right;\n",
       "    }\n",
       "</style>\n",
       "<table border=\"1\" class=\"dataframe\">\n",
       "  <thead>\n",
       "    <tr style=\"text-align: right;\">\n",
       "      <th></th>\n",
       "      <th>chainlink_activeAddresses</th>\n",
       "      <th>chainlink_activeDepositAddresses</th>\n",
       "      <th>priceUsd</th>\n",
       "      <th>volume</th>\n",
       "    </tr>\n",
       "  </thead>\n",
       "  <tbody>\n",
       "    <tr>\n",
       "      <th>chainlink_activeAddresses</th>\n",
       "      <td>1.000000</td>\n",
       "      <td>0.885067</td>\n",
       "      <td>0.901723</td>\n",
       "      <td>0.931611</td>\n",
       "    </tr>\n",
       "    <tr>\n",
       "      <th>chainlink_activeDepositAddresses</th>\n",
       "      <td>0.885067</td>\n",
       "      <td>1.000000</td>\n",
       "      <td>0.794955</td>\n",
       "      <td>0.965833</td>\n",
       "    </tr>\n",
       "    <tr>\n",
       "      <th>priceUsd</th>\n",
       "      <td>0.901723</td>\n",
       "      <td>0.794955</td>\n",
       "      <td>1.000000</td>\n",
       "      <td>0.864920</td>\n",
       "    </tr>\n",
       "    <tr>\n",
       "      <th>volume</th>\n",
       "      <td>0.931611</td>\n",
       "      <td>0.965833</td>\n",
       "      <td>0.864920</td>\n",
       "      <td>1.000000</td>\n",
       "    </tr>\n",
       "  </tbody>\n",
       "</table>\n",
       "</div>"
      ],
      "text/plain": [
       "                                  chainlink_activeAddresses  \\\n",
       "chainlink_activeAddresses                          1.000000   \n",
       "chainlink_activeDepositAddresses                   0.885067   \n",
       "priceUsd                                           0.901723   \n",
       "volume                                             0.931611   \n",
       "\n",
       "                                  chainlink_activeDepositAddresses  priceUsd  \\\n",
       "chainlink_activeAddresses                                 0.885067  0.901723   \n",
       "chainlink_activeDepositAddresses                          1.000000  0.794955   \n",
       "priceUsd                                                  0.794955  1.000000   \n",
       "volume                                                    0.965833  0.864920   \n",
       "\n",
       "                                    volume  \n",
       "chainlink_activeAddresses         0.931611  \n",
       "chainlink_activeDepositAddresses  0.965833  \n",
       "priceUsd                          0.864920  \n",
       "volume                            1.000000  "
      ]
     },
     "execution_count": 34,
     "metadata": {},
     "output_type": "execute_result"
    }
   ],
   "source": [
    "data.corr()"
   ]
  },
  {
   "cell_type": "code",
   "execution_count": null,
   "metadata": {},
   "outputs": [],
   "source": [
    "#data.activeAddresses.rolling(3).mean().head()"
   ]
  },
  {
   "cell_type": "markdown",
   "metadata": {},
   "source": [
    "---\n",
    "\n",
    "## ANALYSING DATA"
   ]
  },
  {
   "cell_type": "code",
   "execution_count": 35,
   "metadata": {},
   "outputs": [
    {
     "ename": "AttributeError",
     "evalue": "'DataFrame' object has no attribute 'activeAddresses'",
     "output_type": "error",
     "traceback": [
      "\u001b[0;31m---------------------------------------------------------------------------\u001b[0m",
      "\u001b[0;31mAttributeError\u001b[0m                            Traceback (most recent call last)",
      "\u001b[0;32m<ipython-input-35-04dc928f84d3>\u001b[0m in \u001b[0;36m<module>\u001b[0;34m\u001b[0m\n\u001b[1;32m      5\u001b[0m \u001b[0mfig\u001b[0m\u001b[0;34m,\u001b[0m\u001b[0max\u001b[0m \u001b[0;34m=\u001b[0m \u001b[0mplt\u001b[0m\u001b[0;34m.\u001b[0m\u001b[0msubplots\u001b[0m\u001b[0;34m(\u001b[0m\u001b[0mfigsize\u001b[0m\u001b[0;34m=\u001b[0m\u001b[0;34m(\u001b[0m\u001b[0;36m15\u001b[0m\u001b[0;34m,\u001b[0m \u001b[0;36m10\u001b[0m\u001b[0;34m)\u001b[0m\u001b[0;34m)\u001b[0m\u001b[0;34m\u001b[0m\u001b[0;34m\u001b[0m\u001b[0m\n\u001b[1;32m      6\u001b[0m \u001b[0;31m# make a plot with activeadd obj\u001b[0m\u001b[0;34m\u001b[0m\u001b[0;34m\u001b[0m\u001b[0;34m\u001b[0m\u001b[0m\n\u001b[0;32m----> 7\u001b[0;31m \u001b[0max\u001b[0m\u001b[0;34m.\u001b[0m\u001b[0mplot\u001b[0m\u001b[0;34m(\u001b[0m\u001b[0mdata\u001b[0m\u001b[0;34m.\u001b[0m\u001b[0mindex\u001b[0m\u001b[0;34m,\u001b[0m \u001b[0mdata\u001b[0m\u001b[0;34m.\u001b[0m\u001b[0mactiveAddresses\u001b[0m\u001b[0;34m,\u001b[0m \u001b[0mcolor\u001b[0m\u001b[0;34m=\u001b[0m\u001b[0;34m\"red\"\u001b[0m\u001b[0;34m)\u001b[0m\u001b[0;34m\u001b[0m\u001b[0;34m\u001b[0m\u001b[0m\n\u001b[0m\u001b[1;32m      8\u001b[0m \u001b[0;31m# set x-axis label\u001b[0m\u001b[0;34m\u001b[0m\u001b[0;34m\u001b[0m\u001b[0;34m\u001b[0m\u001b[0m\n\u001b[1;32m      9\u001b[0m \u001b[0max\u001b[0m\u001b[0;34m.\u001b[0m\u001b[0mset_xlabel\u001b[0m\u001b[0;34m(\u001b[0m\u001b[0;34m\"datetime\"\u001b[0m\u001b[0;34m,\u001b[0m\u001b[0mfontsize\u001b[0m\u001b[0;34m=\u001b[0m\u001b[0;36m10\u001b[0m\u001b[0;34m)\u001b[0m\u001b[0;34m\u001b[0m\u001b[0;34m\u001b[0m\u001b[0m\n",
      "\u001b[0;32m/Library/Frameworks/Python.framework/Versions/3.7/lib/python3.7/site-packages/pandas/core/generic.py\u001b[0m in \u001b[0;36m__getattr__\u001b[0;34m(self, name)\u001b[0m\n\u001b[1;32m   5128\u001b[0m             \u001b[0;32mif\u001b[0m \u001b[0mself\u001b[0m\u001b[0;34m.\u001b[0m\u001b[0m_info_axis\u001b[0m\u001b[0;34m.\u001b[0m\u001b[0m_can_hold_identifiers_and_holds_name\u001b[0m\u001b[0;34m(\u001b[0m\u001b[0mname\u001b[0m\u001b[0;34m)\u001b[0m\u001b[0;34m:\u001b[0m\u001b[0;34m\u001b[0m\u001b[0;34m\u001b[0m\u001b[0m\n\u001b[1;32m   5129\u001b[0m                 \u001b[0;32mreturn\u001b[0m \u001b[0mself\u001b[0m\u001b[0;34m[\u001b[0m\u001b[0mname\u001b[0m\u001b[0;34m]\u001b[0m\u001b[0;34m\u001b[0m\u001b[0;34m\u001b[0m\u001b[0m\n\u001b[0;32m-> 5130\u001b[0;31m             \u001b[0;32mreturn\u001b[0m \u001b[0mobject\u001b[0m\u001b[0;34m.\u001b[0m\u001b[0m__getattribute__\u001b[0m\u001b[0;34m(\u001b[0m\u001b[0mself\u001b[0m\u001b[0;34m,\u001b[0m \u001b[0mname\u001b[0m\u001b[0;34m)\u001b[0m\u001b[0;34m\u001b[0m\u001b[0;34m\u001b[0m\u001b[0m\n\u001b[0m\u001b[1;32m   5131\u001b[0m \u001b[0;34m\u001b[0m\u001b[0m\n\u001b[1;32m   5132\u001b[0m     \u001b[0;32mdef\u001b[0m \u001b[0m__setattr__\u001b[0m\u001b[0;34m(\u001b[0m\u001b[0mself\u001b[0m\u001b[0;34m,\u001b[0m \u001b[0mname\u001b[0m\u001b[0;34m:\u001b[0m \u001b[0mstr\u001b[0m\u001b[0;34m,\u001b[0m \u001b[0mvalue\u001b[0m\u001b[0;34m)\u001b[0m \u001b[0;34m->\u001b[0m \u001b[0;32mNone\u001b[0m\u001b[0;34m:\u001b[0m\u001b[0;34m\u001b[0m\u001b[0;34m\u001b[0m\u001b[0m\n",
      "\u001b[0;31mAttributeError\u001b[0m: 'DataFrame' object has no attribute 'activeAddresses'"
     ]
    },
    {
     "data": {
      "image/png": "[encoded data removed]",
      "text/plain": [
       "<Figure size 1080x720 with 1 Axes>"
      ]
     },
     "metadata": {
      "needs_background": "light"
     },
     "output_type": "display_data"
    }
   ],
   "source": [
    "# OPTION\n",
    "# y-axis can also use data.column.rolling().mean() to smooth out peaks\n",
    "\n",
    "# create figure and axis objects with subplots()\n",
    "fig,ax = plt.subplots(figsize=(15, 10))\n",
    "# make a plot with activeadd obj\n",
    "ax.plot(data.index, data.activeAddresses, color=\"red\")\n",
    "# set x-axis label\n",
    "ax.set_xlabel(\"datetime\",fontsize=10)\n",
    "# set y-axis label\n",
    "ax.set_ylabel(\"active addresses\",color=\"red\",fontsize=15)\n",
    "ax.legend(loc='upper left')\n",
    "\n",
    "# twin object for two different y-axis on the sample plot\n",
    "ax2=ax.twinx()\n",
    "# make a plot with different y-axis using price obj\n",
    "ax2.plot(data.index, data.priceUsd,color=\"blue\")\n",
    "ax2.set_ylabel(\"price USD\",color=\"blue\",fontsize=15)\n",
    "ax2.legend(loc='upper right')\n",
    "plt.show()"
   ]
  },
  {
   "cell_type": "code",
   "execution_count": 38,
   "metadata": {},
   "outputs": [
    {
     "data": {
      "text/plain": [
       "chainlink_activeAddresses           float64\n",
       "chainlink_activeDepositAddresses    float64\n",
       "priceUsd                            float64\n",
       "volume                              float64\n",
       "dtype: object"
      ]
     },
     "execution_count": 38,
     "metadata": {},
     "output_type": "execute_result"
    }
   ],
   "source": [
    "data.dtypes"
   ]
  },
  {
   "cell_type": "code",
   "execution_count": 36,
   "metadata": {},
   "outputs": [
    {
     "data": {
      "text/plain": [
       "array([0.00083007, 0.68529163])"
      ]
     },
     "execution_count": 36,
     "metadata": {},
     "output_type": "execute_result"
    }
   ],
   "source": [
    "import numpy as np\n",
    "\n",
    "x = data['chainlink_activeAddresses']\n",
    "y = data['priceUsd']\n",
    "\n",
    "# polynomial fit\n",
    "# returns the polynomial coefficients that minimize the square error \n",
    "fit = np.polyfit(x,y,1)\n",
    "fit"
   ]
  },
  {
   "cell_type": "code",
   "execution_count": 37,
   "metadata": {},
   "outputs": [
    {
     "data": {
      "image/png": "[encoded data removed]",
      "text/plain": [
       "<Figure size 432x288 with 1 Axes>"
      ]
     },
     "metadata": {
      "needs_background": "light"
     },
     "output_type": "display_data"
    }
   ],
   "source": [
    "# scatter plot of addresses to price\n",
    "\n",
    "import numpy as np\n",
    "\n",
    "x = data['chainlink_activeAddresses']\n",
    "y = data['priceUsd']\n",
    "\n",
    "plt.scatter(x, y, alpha=0.5)\n",
    "plt.xlabel('activeaddresses')\n",
    "plt.ylabel('priceusd')\n",
    "\n",
    "# plot trendline/regression fit line of variable relationship\n",
    "z = np.polyfit(x, y, 1)\n",
    "p = np.poly1d(z)\n",
    "plt.plot(x,p(x),\"r--\")\n",
    "\n",
    "plt.show()"
   ]
  },
  {
   "cell_type": "code",
   "execution_count": null,
   "metadata": {},
   "outputs": [],
   "source": [
    "# get r squared of variables\n",
    "\n",
    "from sklearn.metrics import r2_score\n",
    "\n",
    "plt.plot(x,y,\"+\", ms=10, mec=\"k\")\n",
    "plt.xlabel('activeaddresses')\n",
    "plt.ylabel('priceusd')\n",
    "z = np.polyfit(x, y, 1)\n",
    "p = np.poly1d(z)(x)\n",
    "\n",
    "plt.plot(x, p, \"r--\")\n",
    "text = f\"$y={z[0]:0.3f}\\;x{z[1]:+0.3f}$\\n$R^2 = {r2_score(y,y_hat):0.3f}$\"\n",
    "plt.gca().text(0.05, 0.95, text,transform=plt.gca().transAxes,\n",
    "     fontsize=14, verticalalignment='top')"
   ]
  },
  {
   "cell_type": "code",
   "execution_count": 39,
   "metadata": {
    "tags": []
   },
   "outputs": [
    {
     "name": "stdout",
     "output_type": "stream",
     "text": [
      "slope: 0.0008300667299334836 \n",
      "intercept: 0.6852916337985098 \n",
      "r squared: 0.8131037321429317 \n",
      "p_value: 1.0319227987241769e-267 \n",
      "st_error: 1.4739290558667605e-05 \n",
      "RMSE 0.0038391783702593977\n"
     ]
    }
   ],
   "source": [
    "# in other words, above model defined as\n",
    "\n",
    "from scipy import stats\n",
    "from numpy import sqrt\n",
    "\n",
    "x = data['chainlink_activeAddresses']\n",
    "y = data['priceUsd']\n",
    "\n",
    "slope, intercept, r_value, p_value, std_err = stats.linregress(x, y)\n",
    "\n",
    "print(\"slope:\", slope,\n",
    "      \"\\nintercept:\", intercept,\n",
    "      \"\\nr squared:\", r_value**2,\n",
    "      \"\\np_value:\", p_value,\n",
    "      \"\\nst_error:\", std_err,      \n",
    "      \"\\nRMSE\", sqrt(std_err))\n",
    "\n",
    "#R squared of .81: This tells us that the linear regression model explains 81% of the variablility found in the data.\n"
   ]
  },
  {
   "cell_type": "code",
   "execution_count": 40,
   "metadata": {},
   "outputs": [
    {
     "data": {
      "text/plain": [
       "<matplotlib.legend.Legend at 0x1179ac0b8>"
      ]
     },
     "execution_count": 40,
     "metadata": {},
     "output_type": "execute_result"
    },
    {
     "data": {
      "image/png": "[encoded data removed]",
      "text/plain": [
       "<Figure size 720x720 with 1 Axes>"
      ]
     },
     "metadata": {
      "needs_background": "light"
     },
     "output_type": "display_data"
    }
   ],
   "source": [
    "# Compare with perfect 1:1 fit\n",
    "\n",
    "# Create scatter plot\n",
    "fig, ax = plt.subplots(figsize=(10, 10))\n",
    "\n",
    "m = slope.astype(float)\n",
    "\n",
    "data.plot('chainlink_activeAddresses', 'priceUsd',\n",
    "                          kind='scatter', color=\"purple\",\n",
    "                          s=60, ax=ax, label=\"Data\")\n",
    "\n",
    "# Add a diagonal line\n",
    "ax.set(xlim=[0, 14000], ylim=[0, 12])\n",
    "ax.plot((0, 1), (0, 1), 'y-', transform=ax.transAxes, label=\"1:1 line\")\n",
    "ax.plot(x, m*x + intercept, 'grey', label='regression fitted line')\n",
    "\n",
    "ax.set(xlabel=\"Active addresses\",\n",
    "       ylabel=\"price USD\", title=\"active addresses vs price usd for LINK\")\n",
    "plt.legend()"
   ]
  },
  {
   "cell_type": "code",
   "execution_count": null,
   "metadata": {},
   "outputs": [],
   "source": [
    "import matplotlib\n",
    "matplotlib.axes.Axes.scatter\n",
    "matplotlib.pyplot.scatter"
   ]
  },
  {
   "cell_type": "code",
   "execution_count": null,
   "metadata": {},
   "outputs": [],
   "source": [
    "plt.plot?"
   ]
  },
  {
   "cell_type": "code",
   "execution_count": null,
   "metadata": {},
   "outputs": [],
   "source": [
    "plt.scatter?"
   ]
  },
  {
   "cell_type": "code",
   "execution_count": null,
   "metadata": {},
   "outputs": [],
   "source": [
    "matplotlib.markers?"
   ]
  },
  {
   "cell_type": "code",
   "execution_count": null,
   "metadata": {},
   "outputs": [],
   "source": []
  }
 ],
 "metadata": {
  "kernelspec": {
   "display_name": "Python 3",
   "language": "python",
   "name": "python3"
  },
  "language_info": {
   "codemirror_mode": {
    "name": "ipython",
    "version": 3
   },
   "file_extension": ".py",
   "mimetype": "text/x-python",
   "name": "python",
   "nbconvert_exporter": "python",
   "pygments_lexer": "ipython3",
   "version": "3.7.2"
  }
 },
 "nbformat": 4,
 "nbformat_minor": 4
}
