{
 "metadata": {
  "language_info": {
   "codemirror_mode": {
    "name": "ipython",
    "version": 3
   },
   "file_extension": ".py",
   "mimetype": "text/x-python",
   "name": "python",
   "nbconvert_exporter": "python",
   "pygments_lexer": "ipython3",
   "version": 3
  },
  "orig_nbformat": 2,
  "kernelspec": {
   "name": "python_defaultSpec_1596327601911",
   "display_name": "Python 3.7.2 64-bit ('base': conda)"
  }
 },
 "nbformat": 4,
 "nbformat_minor": 2,
 "cells": [
  {
   "cell_type": "code",
   "execution_count": null,
   "metadata": {},
   "outputs": [],
   "source": [
    "import pandas as pd\n",
    "import numpy as np\n",
    "import datetime\n",
    "import matplotlib.pyplot as plt\n",
    "import san\n",
    "%matplotlib inline\n",
    "\n",
    "import warnings\n",
    "warnings.filterwarnings('ignore')"
   ]
  },
  {
   "cell_type": "code",
   "execution_count": null,
   "metadata": {},
   "outputs": [],
   "source": [
    "# not using this at this time\n",
    "from keys import KEY\n",
    "san.ApiConfig.api_key = KEY"
   ]
  },
  {
   "cell_type": "markdown",
   "metadata": {},
   "source": [
    "---\n",
    "\n",
    "# IMPORTANT GET THE DATA"
   ]
  },
  {
   "cell_type": "code",
   "execution_count": null,
   "metadata": {
    "tags": []
   },
   "outputs": [],
   "source": [
    "import san\n",
    "san.ApiConfig.api_key = 'xauqgnp4uvwk4u7c_a5x7oyk6zj5bcyzn'"
   ]
  },
  {
   "cell_type": "code",
   "execution_count": 111,
   "metadata": {
    "tags": []
   },
   "outputs": [],
   "source": [
    "# search for available metric in api, given slug (aka token) and search term\n",
    "def search_metric(slug,search_term):\n",
    "    metric_list = []\n",
    "    santiment = san.available_metrics_for_slug(slug)\n",
    "    for i in santiment:\n",
    "        if search_term in i:\n",
    "            metric_list.append(i)\n",
    "    return metric_list"
   ]
  },
  {
   "cell_type": "code",
   "execution_count": 122,
   "metadata": {
    "tags": []
   },
   "outputs": [
    {
     "output_type": "execute_result",
     "data": {
      "text/plain": "['daily_avg_price_usd',\n 'daily_closing_price_usd',\n 'daily_high_price_usd',\n 'daily_low_price_usd',\n 'daily_opening_price_usd',\n 'mean_realized_price_usd',\n 'mean_realized_price_usd_10y',\n 'mean_realized_price_usd_180d',\n 'mean_realized_price_usd_1d',\n 'mean_realized_price_usd_2y',\n 'mean_realized_price_usd_30d',\n 'mean_realized_price_usd_365d',\n 'mean_realized_price_usd_3y',\n 'mean_realized_price_usd_5y',\n 'mean_realized_price_usd_60d',\n 'mean_realized_price_usd_7d',\n 'mean_realized_price_usd_90d',\n 'price_btc',\n 'price_eth',\n 'price_usd',\n 'price_usd_5m',\n 'price_usd_change_1d',\n 'price_usd_change_30d',\n 'price_usd_change_7d']"
     },
     "metadata": {},
     "execution_count": 122
    }
   ],
   "source": [
    "# Running as single func (project, term)\n",
    "search_metric('chainlink','price')"
   ]
  },
  {
   "cell_type": "code",
   "execution_count": null,
   "metadata": {},
   "outputs": [],
   "source": [
    "san.available_metric_for_slug_since(metric='active_deposits', slug='chainlink')"
   ]
  },
  {
   "cell_type": "code",
   "execution_count": 143,
   "metadata": {},
   "outputs": [],
   "source": [
    "def get_metric_complexity(request, from_date='2018-07-31', to_date='2020-07-30',interval='1h'):\n",
    "    df = san.metric_complexity(\n",
    "        f'{request}',\n",
    "        from_date=from_date,\n",
    "        to_date=to_date,\n",
    "        interval=interval\n",
    "    )\n",
    "    print(f'complexity score: {df}')\n",
    "    return f'Too complex for free plan: {df > 20000}' "
   ]
  },
  {
   "cell_type": "code",
   "execution_count": 131,
   "metadata": {},
   "outputs": [
    {
     "output_type": "execute_result",
     "data": {
      "text/plain": "10526"
     },
     "metadata": {},
     "execution_count": 131
    }
   ],
   "source": [
    "san.metric_complexity(\n",
    "    metric='daily_closing_price_usd',\n",
    "    from_date='2018-07-31',\n",
    "    to_date='2020-07-30',\n",
    "    interval='1h'\n",
    ")"
   ]
  },
  {
   "cell_type": "code",
   "execution_count": 144,
   "metadata": {
    "tags": []
   },
   "outputs": [
    {
     "output_type": "stream",
     "name": "stdout",
     "text": "complexity score: 58694\n"
    },
    {
     "output_type": "execute_result",
     "data": {
      "text/plain": "'Too complex for free plan: True'"
     },
     "metadata": {},
     "execution_count": 144
    }
   ],
   "source": [
    "get_metric_complexity('daily_closing_price_usd',from_date='2015-01-01')"
   ]
  },
  {
   "cell_type": "code",
   "execution_count": null,
   "metadata": {},
   "outputs": [],
   "source": [
    "# This allows to create a ts df for a given metric\n",
    "def get_metric_timeseries(request, asset,from_date='2018-07-31', to_date='2020-07-30',interval='1d'):\n",
    "    df = san.get(\n",
    "        f'{request}/{asset}',\n",
    "        from_date=from_date,\n",
    "        to_date=to_date,\n",
    "        interval=interval\n",
    "    )\n",
    "    # if no col named value, renaming ignored\n",
    "    df = df.rename(columns={'value':f'{asset}_{request}'})\n",
    "    return df"
   ]
  },
  {
   "cell_type": "code",
   "execution_count": null,
   "metadata": {},
   "outputs": [],
   "source": [
    "# This can be improved to include more df (*args)\n",
    "# This allows to .join timeseries dfs on common index (datetime)\n",
    "def aggregate_timeseries_df(df,df1,d2):\n",
    "    # join df on indexes (datetime)\n",
    "    df = df.join(df1).join(df2)\n",
    "    return df"
   ]
  },
  {
   "cell_type": "code",
   "execution_count": null,
   "metadata": {},
   "outputs": [],
   "source": [
    "# FUNCTION FOR NON TIMESERIES REQUESTS\n",
    "def get_nonts_metric(request='projects',requestgroup='all'):\n",
    "    df = san.get(\n",
    "        f'{request}/{requestgroup}'\n",
    "    )\n",
    "    return df"
   ]
  },
  {
   "cell_type": "code",
   "execution_count": null,
   "metadata": {},
   "outputs": [],
   "source": [
    "# FUNCTION TO AGG NON TIMESERIES\n",
    "# This can be improved to include more df (*args)\n",
    "# This allows to .join timeseries dfs on common index (datetime)\n",
    "def aggregate_nonts_df(df,df1):\n",
    "    # join df on indexes (datetime)\n",
    "    df = df.join(df1, lsuffix='left')\n",
    "    return df"
   ]
  },
  {
   "cell_type": "code",
   "execution_count": 106,
   "metadata": {},
   "outputs": [
    {
     "output_type": "execute_result",
     "data": {
      "text/plain": "                             marketcap  priceBtc  priceUsd     volume\ndatetime                                                             \n2018-07-31 00:00:00+00:00  102876899.0  0.000038  0.293934  2272300.0\n2018-08-01 00:00:00+00:00  100548000.0  0.000038  0.287280  1546730.0\n2018-08-02 00:00:00+00:00  108353000.0  0.000041  0.309580  1954190.0\n2018-08-03 00:00:00+00:00   99707928.0  0.000038  0.284880  1460135.0\n2018-08-04 00:00:00+00:00   90296150.0  0.000037  0.257989  1284510.0",
      "text/html": "<div>\n<style scoped>\n    .dataframe tbody tr th:only-of-type {\n        vertical-align: middle;\n    }\n\n    .dataframe tbody tr th {\n        vertical-align: top;\n    }\n\n    .dataframe thead th {\n        text-align: right;\n    }\n</style>\n<table border=\"1\" class=\"dataframe\">\n  <thead>\n    <tr style=\"text-align: right;\">\n      <th></th>\n      <th>marketcap</th>\n      <th>priceBtc</th>\n      <th>priceUsd</th>\n      <th>volume</th>\n    </tr>\n    <tr>\n      <th>datetime</th>\n      <th></th>\n      <th></th>\n      <th></th>\n      <th></th>\n    </tr>\n  </thead>\n  <tbody>\n    <tr>\n      <th>2018-07-31 00:00:00+00:00</th>\n      <td>102876899.0</td>\n      <td>0.000038</td>\n      <td>0.293934</td>\n      <td>2272300.0</td>\n    </tr>\n    <tr>\n      <th>2018-08-01 00:00:00+00:00</th>\n      <td>100548000.0</td>\n      <td>0.000038</td>\n      <td>0.287280</td>\n      <td>1546730.0</td>\n    </tr>\n    <tr>\n      <th>2018-08-02 00:00:00+00:00</th>\n      <td>108353000.0</td>\n      <td>0.000041</td>\n      <td>0.309580</td>\n      <td>1954190.0</td>\n    </tr>\n    <tr>\n      <th>2018-08-03 00:00:00+00:00</th>\n      <td>99707928.0</td>\n      <td>0.000038</td>\n      <td>0.284880</td>\n      <td>1460135.0</td>\n    </tr>\n    <tr>\n      <th>2018-08-04 00:00:00+00:00</th>\n      <td>90296150.0</td>\n      <td>0.000037</td>\n      <td>0.257989</td>\n      <td>1284510.0</td>\n    </tr>\n  </tbody>\n</table>\n</div>"
     },
     "metadata": {},
     "execution_count": 106
    }
   ],
   "source": [
    "df = get_metric_timeseries('prices','chainlink')\n",
    "df.head()"
   ]
  },
  {
   "cell_type": "code",
   "execution_count": null,
   "metadata": {},
   "outputs": [],
   "source": [
    "df = get_nontimeseries_metric()\n",
    "df1 = get_nontimeseries_metric(requestgroup='erc20')\n",
    "#df2 = get_nontimeseries_metric(requestgroup='erc20')\n",
    "\n",
    "dfs = aggregate_timeseries_df(df,df1)\n",
    "dfs.head()"
   ]
  },
  {
   "cell_type": "code",
   "execution_count": null,
   "metadata": {},
   "outputs": [],
   "source": [
    "# GETTING DATAFRAMES AND JOINING THEM\n",
    "df = get_metric_timeseries('prices', 'chainlink')\n",
    "df1 = get_metric_timeseries('daily_active_addresses', 'chainlink')\n",
    "df2 = get_metric_timeseries('active_deposits', 'chainlink')\n",
    "df_agg = aggregate_timeseries_df(df,df1,df2)\n",
    "df_agg.describe()"
   ]
  },
  {
   "cell_type": "code",
   "execution_count": null,
   "metadata": {},
   "outputs": [],
   "source": [
    "df = get_metric_timeseries('prices', 'chainlink', interval='1h')"
   ]
  },
  {
   "cell_type": "markdown",
   "metadata": {},
   "source": [
    "## Data cleaning/manipulating"
   ]
  },
  {
   "cell_type": "code",
   "execution_count": null,
   "metadata": {},
   "outputs": [],
   "source": [
    "df_agg['price_volume'] = df_agg.priceUsd/df_agg.volume\n",
    "df_agg.head()"
   ]
  },
  {
   "cell_type": "code",
   "execution_count": null,
   "metadata": {},
   "outputs": [],
   "source": [
    "#df_agg.drop(columns='price_volume', inplace=True)\n",
    "df_agg.head()"
   ]
  },
  {
   "cell_type": "code",
   "execution_count": null,
   "metadata": {},
   "outputs": [],
   "source": [
    "df_agg.dtypes"
   ]
  },
  {
   "cell_type": "code",
   "execution_count": null,
   "metadata": {
    "tags": []
   },
   "outputs": [],
   "source": [
    "# OLD\n",
    "# BETTER ACHIEVED IN DF SERIES get_metric_timeseries() CALL\n",
    "\n",
    "from_date = '2018-07-31'\n",
    "to_date = '2020-07-30'\n",
    "asset = 'chainlink'\n",
    "interval = '1d'\n",
    "\n",
    "# get unique active addresses on-chain\n",
    "# https://academy.santiment.net/sansheets/functions/#san_active_addresses \n",
    "daa = san.get(\n",
    "    f'daily_active_addresses/{asset}',\n",
    "    from_date=from_date,\n",
    "    to_date=to_date,\n",
    "    interval=interval\n",
    ")\n",
    "\n",
    "price = san.get(\n",
    "    f'prices/{asset}',\n",
    "    from_date=from_date,\n",
    "    to_date=to_date,\n",
    "    interval=interval\n",
    ")\n",
    "\n",
    "# trans = san.get(\n",
    "#     f'transaction_volume/{asset}',\n",
    "#     from_date=from_date,\n",
    "#     to_date=to_date,\n",
    "#     interval=interval    \n",
    "# )\n",
    "\n",
    "dep = san.get(\n",
    "    f'active_deposits/{asset}',\n",
    "    from_date=from_date,\n",
    "    to_date=to_date,\n",
    "    interval=interval    \n",
    ")\n",
    "\n",
    "# execute the request\n",
    "#[daa, dad, price] = batch.execute()\n",
    "\n",
    "# merge dataframes\n",
    "data = daa.rename(columns={'value':f'{asset}_activeAddresses'}).join(dep.rename(columns={'value':f'{asset}_activeDepositAddresses'})).join(price[['priceUsd','volume']])\n",
    "\n",
    "# take a look\n",
    "data.tail()"
   ]
  },
  {
   "cell_type": "code",
   "execution_count": null,
   "metadata": {},
   "outputs": [],
   "source": [
    "pd.isnull(data).sum()"
   ]
  },
  {
   "cell_type": "code",
   "execution_count": null,
   "metadata": {},
   "outputs": [],
   "source": [
    "data.shape"
   ]
  },
  {
   "cell_type": "code",
   "execution_count": null,
   "metadata": {},
   "outputs": [],
   "source": [
    "data.dtypes"
   ]
  },
  {
   "cell_type": "code",
   "execution_count": null,
   "metadata": {},
   "outputs": [],
   "source": [
    "from_date = '2018-07-31'\n",
    "to_date = '2020-07-30'\n",
    "asset = 'chainlink'\n",
    "interval = '1d'\n",
    "\n",
    "trade = san.get(\n",
    "    f'daily_trading_volume_usd/{asset}',\n",
    "    from_date=from_date,\n",
    "    to_date=to_date,\n",
    "    interval=interval    \n",
    ")\n",
    "\n",
    "trade.head()"
   ]
  },
  {
   "cell_type": "code",
   "execution_count": null,
   "metadata": {},
   "outputs": [],
   "source": [
    "from_date = '2018-07-31'\n",
    "to_date = '2020-07-30'\n",
    "asset = 'chainlink'\n",
    "interval = '1d'\n",
    "\n",
    "trans = san.get(\n",
    "    f'active_deposits/{asset}',\n",
    "    from_date=from_date,\n",
    "    to_date=to_date,\n",
    "    interval=interval    \n",
    ")\n",
    "\n",
    "trans.head()"
   ]
  },
  {
   "cell_type": "code",
   "execution_count": null,
   "metadata": {},
   "outputs": [],
   "source": [
    "trans.shape"
   ]
  },
  {
   "cell_type": "code",
   "execution_count": null,
   "metadata": {},
   "outputs": [],
   "source": [
    "trans['value'].plot(figsize=(15,7))"
   ]
  },
  {
   "cell_type": "code",
   "execution_count": null,
   "metadata": {},
   "outputs": [],
   "source": [
    "data['transactionVol'].tail()"
   ]
  },
  {
   "cell_type": "code",
   "execution_count": null,
   "metadata": {},
   "outputs": [],
   "source": [
    "pd.isnull(data).sum()"
   ]
  },
  {
   "cell_type": "code",
   "execution_count": null,
   "metadata": {},
   "outputs": [],
   "source": [
    "data.describe()"
   ]
  },
  {
   "cell_type": "code",
   "execution_count": null,
   "metadata": {},
   "outputs": [],
   "source": [
    "data.corr()"
   ]
  },
  {
   "cell_type": "code",
   "execution_count": null,
   "metadata": {},
   "outputs": [],
   "source": [
    "#data.activeAddresses.rolling(3).mean().head()"
   ]
  },
  {
   "cell_type": "markdown",
   "metadata": {},
   "source": [
    "---\n",
    "\n",
    "## ANALYSING DATA"
   ]
  },
  {
   "cell_type": "code",
   "execution_count": null,
   "metadata": {},
   "outputs": [],
   "source": [
    "# OPTION\n",
    "# y-axis can also use data.column.rolling().mean() to smooth out peaks\n",
    "\n",
    "# create figure and axis objects with subplots()\n",
    "fig,ax = plt.subplots(figsize=(15, 10))\n",
    "# make a plot with activeadd obj\n",
    "ax.plot(data.index, data.activeAddresses, color=\"red\")\n",
    "# set x-axis label\n",
    "ax.set_xlabel(\"datetime\",fontsize=10)\n",
    "# set y-axis label\n",
    "ax.set_ylabel(\"active addresses\",color=\"red\",fontsize=15)\n",
    "ax.legend(loc='upper left')\n",
    "\n",
    "# twin object for two different y-axis on the sample plot\n",
    "ax2=ax.twinx()\n",
    "# make a plot with different y-axis using price obj\n",
    "ax2.plot(data.index, data.priceUsd,color=\"blue\")\n",
    "ax2.set_ylabel(\"price USD\",color=\"blue\",fontsize=15)\n",
    "ax2.legend(loc='upper right')\n",
    "plt.show()"
   ]
  },
  {
   "cell_type": "code",
   "execution_count": null,
   "metadata": {},
   "outputs": [],
   "source": [
    "import numpy as np\n",
    "\n",
    "x = data['chainlink_activeAddresses']\n",
    "y = data['priceUsd']\n",
    "\n",
    "# polynomial fit\n",
    "# returns the polynomial coefficients that minimize the square error \n",
    "fit = np.polyfit(x,y,1)\n",
    "fit"
   ]
  },
  {
   "cell_type": "code",
   "execution_count": null,
   "metadata": {},
   "outputs": [],
   "source": [
    "# scatter plot of addresses to price\n",
    "\n",
    "import numpy as np\n",
    "\n",
    "x = data['chainlink_activeAddresses']\n",
    "y = data['priceUsd']\n",
    "\n",
    "plt.scatter(x, y, alpha=0.5)\n",
    "plt.xlabel('activeaddresses')\n",
    "plt.ylabel('priceusd')\n",
    "\n",
    "# plot trendline/regression fit line of variable relationship\n",
    "z = np.polyfit(x, y, 1)\n",
    "p = np.poly1d(z)\n",
    "plt.plot(x,p(x),\"r--\")\n",
    "\n",
    "plt.show()"
   ]
  },
  {
   "cell_type": "code",
   "execution_count": null,
   "metadata": {},
   "outputs": [],
   "source": [
    "# get r squared of variables\n",
    "\n",
    "from sklearn.metrics import r2_score\n",
    "\n",
    "plt.plot(x,y,\"+\", ms=10, mec=\"k\")\n",
    "plt.xlabel('activeaddresses')\n",
    "plt.ylabel('priceusd')\n",
    "z = np.polyfit(x, y, 1)\n",
    "p = np.poly1d(z)(x)\n",
    "\n",
    "plt.plot(x, p, \"r--\")\n",
    "text = f\"$y={z[0]:0.3f}\\;x{z[1]:+0.3f}$\\n$R^2 = {r2_score(y,y_hat):0.3f}$\"\n",
    "plt.gca().text(0.05, 0.95, text,transform=plt.gca().transAxes,\n",
    "     fontsize=14, verticalalignment='top')"
   ]
  },
  {
   "cell_type": "code",
   "execution_count": null,
   "metadata": {
    "tags": []
   },
   "outputs": [],
   "source": [
    "# in other words, above model defined as\n",
    "\n",
    "from scipy import stats\n",
    "from numpy import sqrt\n",
    "\n",
    "x = data['chainlink_activeAddresses']\n",
    "y = data['priceUsd']\n",
    "\n",
    "slope, intercept, r_value, p_value, std_err = stats.linregress(x, y)\n",
    "\n",
    "print(\"slope:\", slope,\n",
    "      \"\\nintercept:\", intercept,\n",
    "      \"\\nr squared:\", r_value**2,\n",
    "      \"\\np_value:\", p_value,\n",
    "      \"\\nst_error:\", std_err,      \n",
    "      \"\\nRMSE\", sqrt(std_err))\n",
    "\n",
    "#R squared of .81: This tells us that the linear regression model explains 81% of the variablility found in the data.\n"
   ]
  },
  {
   "cell_type": "code",
   "execution_count": null,
   "metadata": {},
   "outputs": [],
   "source": [
    "# Compare with perfect 1:1 fit\n",
    "\n",
    "# Create scatter plot\n",
    "fig, ax = plt.subplots(figsize=(10, 10))\n",
    "\n",
    "m = slope.astype(float)\n",
    "\n",
    "data.plot('chainlink_activeAddresses', 'priceUsd',\n",
    "                          kind='scatter', color=\"purple\",\n",
    "                          s=60, ax=ax, label=\"Data\")\n",
    "\n",
    "# Add a diagonal line\n",
    "ax.set(xlim=[0, 14000], ylim=[0, 12])\n",
    "ax.plot((0, 1), (0, 1), 'y-', transform=ax.transAxes, label=\"1:1 line\")\n",
    "ax.plot(x, m*x + intercept, 'grey', label='regression fitted line')\n",
    "\n",
    "ax.set(xlabel=\"Active addresses\",\n",
    "       ylabel=\"price USD\", title=\"active addresses vs price usd for LINK\")\n",
    "plt.legend()"
   ]
  },
  {
   "cell_type": "code",
   "execution_count": null,
   "metadata": {},
   "outputs": [],
   "source": [
    "import matplotlib\n",
    "matplotlib.axes.Axes.scatter\n",
    "matplotlib.pyplot.scatter"
   ]
  },
  {
   "cell_type": "code",
   "execution_count": null,
   "metadata": {},
   "outputs": [],
   "source": [
    "plt.plot?"
   ]
  },
  {
   "cell_type": "code",
   "execution_count": null,
   "metadata": {},
   "outputs": [],
   "source": [
    "plt.scatter?"
   ]
  },
  {
   "cell_type": "code",
   "execution_count": null,
   "metadata": {},
   "outputs": [],
   "source": [
    "matplotlib.markers?"
   ]
  },
  {
   "cell_type": "code",
   "execution_count": null,
   "metadata": {},
   "outputs": [],
   "source": []
  }
 ]
}