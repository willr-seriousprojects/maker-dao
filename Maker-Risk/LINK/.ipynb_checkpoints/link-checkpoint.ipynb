{
 "metadata": {
  "language_info": {
   "codemirror_mode": {
    "name": "ipython",
    "version": 3
   },
   "file_extension": ".py",
   "mimetype": "text/x-python",
   "name": "python",
   "nbconvert_exporter": "python",
   "pygments_lexer": "ipython3",
   "version": 3
  },
  "orig_nbformat": 2,
  "kernelspec": {
   "name": "python_defaultSpec_1595995850769",
   "display_name": "Python 3.7.2 64-bit ('base': conda)"
  }
 },
 "nbformat": 4,
 "nbformat_minor": 2,
 "cells": [
  {
   "cell_type": "code",
   "execution_count": null,
   "metadata": {
    "tags": [
     "outputPrepend"
    ]
   },
   "outputs": [],
   "source": [
    "import requests\n",
    "\n",
    "def main():\n",
    "    resp = requests.get(\"https://api.cryptowat.ch/markets/kraken/btcusd/orderbook\")\n",
    "    orderbook = resp.json()['result']\n",
    "    print (orderbook)\n",
    "\n",
    "if __name__ == '__main__':\n",
    "    main()"
   ]
  },
  {
   "cell_type": "code",
   "execution_count": null,
   "metadata": {
    "tags": []
   },
   "outputs": [],
   "source": [
    "pd.DataFrame()"
   ]
  },
  {
   "cell_type": "code",
   "execution_count": null,
   "metadata": {
    "tags": []
   },
   "outputs": [],
   "source": [
    "import requests\n",
    "import pandas as pd\n",
    "\n",
    "def main():\n",
    "    resp = requests.get(\"https://api.coingecko.com/api/v3/coins/link/market_chart/range?vs_currency=usd&from=1575158400&to=1575244800\")\n",
    "    data = resp.json()\n",
    "    df = pd.DataFrame(data, columns=['Time','Open', 'High','Low','Close'])\n",
    "    df['Time'] = pd.to_datetime(df['Time'],infer_datetime_format=True)\n",
    "    df.set_index('Time', inplace=True)\n",
    "    return df\n",
    "\n",
    "if __name__ == '__main__':\n",
    "    main()\n"
   ]
  },
  {
   "cell_type": "code",
   "execution_count": null,
   "metadata": {},
   "outputs": [],
   "source": [
    "main()"
   ]
  },
  {
   "cell_type": "code",
   "execution_count": null,
   "metadata": {},
   "outputs": [],
   "source": [
    "resp = requests.get(\"https://api.coingecko.com/api/v3/coins/link/market_chart/range?vs_currency=usd&from=1575158400&to=1575244800\")\n",
    "data = resp.json()['prices'][0]\n",
    "df = pd.DataFrame(data)\n",
    "df"
   ]
  },
  {
   "cell_type": "code",
   "execution_count": null,
   "metadata": {},
   "outputs": [],
   "source": [
    "import json\n",
    "\n",
    "url = 'https://api.cryptowat.ch/markets/binance/btceur/ohlc'\n",
    "resp = requests.get(url)\n",
    "resp.raise_for_status()\n",
    "data = json.loads(resp.content)\n",
    "data\n",
    "#df = pd.DataFrame(data['result']['3600'])\n",
    "#df.head()\n"
   ]
  },
  {
   "cell_type": "code",
   "execution_count": null,
   "metadata": {},
   "outputs": [],
   "source": [
    "import requests\n",
    "from pandas.io.json import json_normalize\n",
    "import pandas as pd \n",
    "\n",
    "url = \"https://api.coingecko.com/api/v3/coins/link/market_chart/range?vs_currency=usd&from=1575158400&to=1575244800\"\n",
    "#url = 'https://api.coingecko.com/api/v3/coins/link/market_chart?vs_currency=usd&days=200'\n",
    "resp = requests.get(url)\n",
    "resp.json()"
   ]
  },
  {
   "cell_type": "code",
   "execution_count": null,
   "metadata": {},
   "outputs": [],
   "source": [
    "https://api.coingecko.com/api/v3/coins/link/ohlc?vs_currency=usd&days=1"
   ]
  },
  {
   "cell_type": "code",
   "execution_count": null,
   "metadata": {
    "tags": []
   },
   "outputs": [],
   "source": [
    "url = \"https://api.coingecko.com/api/v3/coins/list\"\n",
    "    # get data from endpoint and load json content\n",
    "resp = requests.get(url)\n",
    "    # parse json into py dict\n",
    "resp.json()\n",
    "#resp = json.loads(r.content)\n",
    "\n"
   ]
  },
  {
   "cell_type": "code",
   "execution_count": null,
   "metadata": {},
   "outputs": [],
   "source": [
    "    url = \"https://api.coingecko.com/api/v3/coins/link/market_chart/range?vs_currency=usd&from=1532995200&to=1596067200\"\n",
    "    # get data from endpoint and load json content\n",
    "    resp = requests.get(url)\n",
    "    resp.raise_for_status()\n",
    "    # parse json into py dict\n",
    "    resp = json.loads(resp.content)\n",
    "    type(resp)"
   ]
  },
  {
   "cell_type": "code",
   "execution_count": null,
   "metadata": {
    "tags": []
   },
   "outputs": [],
   "source": [
    "import requests\n",
    "\n",
    "def main():\n",
    "    resp = requests.get(\"https://api.cryptowat.ch/markets/kraken/btcusd/ohlc\")\n",
    "    orderbook = resp.json()['result']\n",
    "    print (orderbook)\n",
    "\n",
    "if __name__ == '__main__':\n",
    "    main()\n"
   ]
  },
  {
   "cell_type": "markdown",
   "metadata": {},
   "source": [
    "---\n",
    "\n",
    "# FUNCTIONS TO FETCH DATA\n",
    "\n",
    "## Coingecko"
   ]
  },
  {
   "cell_type": "code",
   "execution_count": 313,
   "metadata": {
    "tags": []
   },
   "outputs": [],
   "source": [
    "# Coingecko\n",
    "# Get full list of coins\n",
    "\n",
    "def get_coinlist():\n",
    "    url = \"https://api.coingecko.com/api/v3/coins/list\"\n",
    "        # get data from endpoint and load json content\n",
    "    resp = requests.get(url)\n",
    "    resp.raise_for_status()\n",
    "        # parse json into py dict\n",
    "        # this is a list\n",
    "    resp = json.loads(resp.content)\n",
    "    # df expects list\n",
    "    df = pd.DataFrame(resp)\n",
    "    return df"
   ]
  },
  {
   "cell_type": "code",
   "execution_count": null,
   "metadata": {
    "tags": []
   },
   "outputs": [],
   "source": [
    "# THIS IS GOOD!\n",
    "# TRANSFORM INTO FUNCTION!\n",
    "# COINGECKO API\n",
    "# No need for apikeys \n",
    "\n",
    "import requests\n",
    "from pandas.io.json import json_normalize\n",
    "import pandas as pd \n",
    "import json\n",
    "\n",
    "def get_hist_price(symbol, currency='usd', start='1532995200', end='1596067200'):\n",
    "\n",
    "    # api url formatted\n",
    "    # symbol are {id} \n",
    "    url = \"https://api.coingecko.com/api/v3/coins/{symbol}/market_chart/range?vs_currency={currency}&from={start}&to={end}\".format(symbol=symbol,currency=currency,start=start, end=end)\n",
    "    # get data from endpoint and load json content\n",
    "    resp = requests.get(url)\n",
    "    resp.raise_for_status()\n",
    "    # parse json into py dict\n",
    "    resp = json.loads(resp.content)\n",
    "\n",
    "    # set df from json dict\n",
    "    # use list comprehension to iterate over dict\n",
    "    df = pd.DataFrame({\n",
    "        'dates':[x[0] for x in resp['prices']],\n",
    "        'prices': [x[1] for x in resp['prices']],\n",
    "        'market_caps': [x[1] for x in resp['market_caps']],\n",
    "        'total_volumes': [x[1] for x in resp['total_volumes']]\n",
    "    })\n",
    "    # change date format\n",
    "    df['dates'] = pd.to_datetime(df['dates'], unit='ms')\n",
    "    # set df index to date\n",
    "    df.set_index('dates', inplace=True)\n",
    "    return df"
   ]
  },
  {
   "cell_type": "code",
   "execution_count": 320,
   "metadata": {},
   "outputs": [
    {
     "output_type": "execute_result",
     "data": {
      "text/plain": "            id      name symbol\n2707  ethereum  Ethereum    eth",
      "text/html": "<div>\n<style scoped>\n    .dataframe tbody tr th:only-of-type {\n        vertical-align: middle;\n    }\n\n    .dataframe tbody tr th {\n        vertical-align: top;\n    }\n\n    .dataframe thead th {\n        text-align: right;\n    }\n</style>\n<table border=\"1\" class=\"dataframe\">\n  <thead>\n    <tr style=\"text-align: right;\">\n      <th></th>\n      <th>id</th>\n      <th>name</th>\n      <th>symbol</th>\n    </tr>\n  </thead>\n  <tbody>\n    <tr>\n      <th>2707</th>\n      <td>ethereum</td>\n      <td>Ethereum</td>\n      <td>eth</td>\n    </tr>\n  </tbody>\n</table>\n</div>"
     },
     "metadata": {},
     "execution_count": 320
    }
   ],
   "source": [
    "# df = get_coinlist()\n",
    "# df.loc[df['id'] == 'ethereum']"
   ]
  },
  {
   "cell_type": "code",
   "execution_count": null,
   "metadata": {
    "tags": []
   },
   "outputs": [],
   "source": [
    "# note: bitcoin not btc, ethereum not eth\n",
    "df = get_hist_price('ethereum')"
   ]
  },
  {
   "cell_type": "code",
   "execution_count": null,
   "metadata": {
    "tags": []
   },
   "outputs": [],
   "source": [
    "df.shape"
   ]
  },
  {
   "cell_type": "code",
   "execution_count": null,
   "metadata": {},
   "outputs": [],
   "source": [
    "df['prices'].head()"
   ]
  },
  {
   "cell_type": "code",
   "execution_count": null,
   "metadata": {},
   "outputs": [],
   "source": [
    "df['prices'].plot(figsize=(15,7))"
   ]
  },
  {
   "cell_type": "code",
   "execution_count": null,
   "metadata": {
    "tags": []
   },
   "outputs": [],
   "source": [
    "two_years = (pd.Timestamp.now() - pd.offsets.Day(730))\n",
    "print(two_years)\n",
    "print(pd.Timestamp.now())"
   ]
  },
  {
   "cell_type": "code",
   "execution_count": null,
   "metadata": {
    "tags": []
   },
   "outputs": [],
   "source": [
    "before = '2018-07-31'\n",
    "after = '2020-07-30'\n",
    "\n",
    "print(str(int(pd.Timestamp(before).timestamp())))\n",
    "print(str(int(pd.Timestamp(after).timestamp())))"
   ]
  },
  {
   "cell_type": "code",
   "execution_count": null,
   "metadata": {},
   "outputs": [],
   "source": [
    "main().head()"
   ]
  },
  {
   "cell_type": "code",
   "execution_count": null,
   "metadata": {},
   "outputs": [],
   "source": [
    "def get_historic_price(symbol, exchange='bitfinex', after='2018-09-01'):\n",
    "    url = 'https://api.cryptowat.ch/markets/{exchange}/{symbol}usd/ohlc'.format(\n",
    "        symbol=symbol, exchange=exchange)\n",
    "    resp = requests.get(url, params={\n",
    "        'periods': '3600',\n",
    "        'after': str(int(pd.Timestamp(after).timestamp()))\n",
    "    })\n",
    "    resp.raise_for_status()\n",
    "    data = resp.json()\n",
    "    df = pd.DataFrame(data['result']['3600'], columns=[\n",
    "        'CloseTime', 'OpenPrice', 'HighPrice', 'LowPrice', 'ClosePrice', 'Volume', 'NA'\n",
    "    ])\n",
    "    df['CloseTime'] = pd.to_datetime(df['CloseTime'], unit='s')\n",
    "    df.set_index('CloseTime', inplace=True)\n",
    "    return df"
   ]
  },
  {
   "cell_type": "markdown",
   "metadata": {},
   "source": [
    "---\n",
    "# STARTS HERE \n",
    "\n",
    "Datasets that need to be sourced: \n",
    "\n",
    "- asset price data \n",
    "- asset trading volume\n",
    "    - CEX exchanges \n",
    "    - DEX exchanges    \n",
    "- liquidity "
   ]
  },
  {
   "cell_type": "markdown",
   "metadata": {},
   "source": [
    "## Get the data\n",
    "\n",
    "- pricing\n",
    "- trading volumes"
   ]
  },
  {
   "cell_type": "code",
   "execution_count": null,
   "metadata": {},
   "outputs": [],
   "source": [
    "import requests\n",
    "import pandas as pd\n",
    "import matplotlib.pyplot as plt\n",
    "\n",
    "%matplotlib inline"
   ]
  },
  {
   "cell_type": "code",
   "execution_count": null,
   "metadata": {},
   "outputs": [],
   "source": [
    "def get_ohlc_price(symbol, ): \n",
    "    url = https://api.coingecko.com/api/v3/coins/link/ohlc?vs_currency=usd&days=1\n"
   ]
  },
  {
   "cell_type": "code",
   "execution_count": null,
   "metadata": {},
   "outputs": [],
   "source": [
    "def get_historic_price(symbol, exchange='bitfinex', after='2018-09-01'):\n",
    "    url = 'https://api.cryptowat.ch/markets/{exchange}/{symbol}eur/ohlc'.format(\n",
    "        symbol=symbol, exchange=exchange)\n",
    "    resp = requests.get(url, params={\n",
    "        'periods': '3600',\n",
    "        'after': str(int(pd.Timestamp(after).timestamp()))\n",
    "    })\n",
    "    resp.raise_for_status()\n",
    "    data = resp.json()\n",
    "    df = pd.DataFrame(data['result']['3600'], columns=[\n",
    "        'CloseTime', 'OpenPrice', 'HighPrice', 'LowPrice', 'ClosePrice', 'Volume', 'NA'\n",
    "    ])\n",
    "    df['CloseTime'] = pd.to_datetime(df['CloseTime'], unit='s')\n",
    "    df.set_index('CloseTime', inplace=True)\n",
    "    return df"
   ]
  },
  {
   "cell_type": "code",
   "execution_count": null,
   "metadata": {},
   "outputs": [],
   "source": [
    "two_years = (pd.Timestamp.now() - pd.offsets.Day(730))\n",
    "two_years"
   ]
  },
  {
   "cell_type": "code",
   "execution_count": null,
   "metadata": {
    "tags": []
   },
   "outputs": [],
   "source": [
    "link = get_historic_price('link', 'kraken', after=two_years)\n",
    "link.head()"
   ]
  },
  {
   "cell_type": "code",
   "execution_count": null,
   "metadata": {},
   "outputs": [],
   "source": [
    "link.describe()"
   ]
  },
  {
   "cell_type": "code",
   "execution_count": null,
   "metadata": {},
   "outputs": [],
   "source": [
    "link['ClosePrice'].plot(figsize=(15,7))"
   ]
  },
  {
   "cell_type": "code",
   "execution_count": null,
   "metadata": {},
   "outputs": [],
   "source": [
    "link['ClosePrice'].plot(kind='box', vert=False, figsize=(14,6))"
   ]
  },
  {
   "cell_type": "code",
   "execution_count": null,
   "metadata": {},
   "outputs": [],
   "source": [
    "# \n",
    "axy = link['ClosePrice'].plot(kind='density', figsize=(14,6))\n",
    "axy.axvline(link['ClosePrice'].mean(), color='red')\n",
    "axy.axvline(link['ClosePrice'].median(), color='green')"
   ]
  },
  {
   "cell_type": "code",
   "execution_count": null,
   "metadata": {},
   "outputs": [],
   "source": [
    "# Distribution since 2020-04\n",
    "link.loc[link.index > '2020-04-01 01:00:00']['ClosePrice'].plot(kind='density', figsize=(14,6))"
   ]
  },
  {
   "cell_type": "code",
   "execution_count": null,
   "metadata": {},
   "outputs": [],
   "source": [
    "corr = link[['OpenPrice','Volume','ClosePrice']].corr()\n",
    "corr"
   ]
  },
  {
   "cell_type": "code",
   "execution_count": null,
   "metadata": {},
   "outputs": [],
   "source": [
    "fig = plt.figure(figsize=(8,8))\n",
    "plt.matshow(corr, cmap='RdBu', fignum=fig.number)\n",
    "plt.xticks(range(len(corr.columns)), corr.columns, rotation='vertical');\n",
    "plt.yticks(range(len(corr.columns)), corr.columns);"
   ]
  },
  {
   "cell_type": "code",
   "execution_count": null,
   "metadata": {},
   "outputs": [],
   "source": [
    "requests.get?"
   ]
  },
  {
   "cell_type": "code",
   "execution_count": null,
   "metadata": {},
   "outputs": [],
   "source": []
  }
 ]
}